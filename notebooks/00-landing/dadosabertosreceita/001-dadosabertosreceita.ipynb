{
 "cells": [
  {
   "cell_type": "markdown",
   "id": "6ed9dce1-f3e8-4330-8ed3-c1ee1d81ca07",
   "metadata": {},
   "source": [
    "# Importação das bibliotecas necessárias"
   ]
  },
  {
   "cell_type": "code",
   "execution_count": 1,
   "id": "dab8b8dc-67ba-4ca1-8775-61b08adb510f",
   "metadata": {},
   "outputs": [],
   "source": [
    "import sys\n",
    "import os\n",
    "sys.path.append('/home/jovyan/work')\n",
    "\n",
    "from utils.AlinharETL import AlinharETL"
   ]
  },
  {
   "cell_type": "markdown",
   "id": "14ccc8b9-0248-4207-b809-2021a485ec53",
   "metadata": {},
   "source": [
    "# Crie uma instância da classe AlinharETL"
   ]
  },
  {
   "cell_type": "code",
   "execution_count": 2,
   "id": "2163db01-79e7-4bab-86d0-686ea5dae3e9",
   "metadata": {},
   "outputs": [
    {
     "name": "stderr",
     "output_type": "stream",
     "text": [
      "2024-10-15 10:11:55,884 - INFO - Iniciando Sessão Spark.\n"
     ]
    }
   ],
   "source": [
    "bucket = \"landing\"\n",
    "datamart = \"dadosabertosreceita\"\n",
    "extrator_bronze = AlinharETL(bucket,datamart)"
   ]
  },
  {
   "cell_type": "markdown",
   "id": "08c7b057-5f56-4d5d-8c3b-fbd8bd52ebe6",
   "metadata": {},
   "source": [
    "# Realiza extração e gravação no datalake"
   ]
  },
  {
   "cell_type": "code",
   "execution_count": 4,
   "id": "5278750e-1f01-4157-ac6f-63a2ca7a9b96",
   "metadata": {},
   "outputs": [
    {
     "name": "stderr",
     "output_type": "stream",
     "text": [
      "2024-10-15 10:12:00,310 - INFO - Lista de yaml carregada com sucesso\n",
      "2024-10-15 10:12:00,465 - INFO - Sessão Spark finalizada.\n"
     ]
    },
    {
     "name": "stdout",
     "output_type": "stream",
     "text": [
      "Iniciando download dos arquivos de Receita Federal Empresas\n",
      "Último diretório: 2024-09\n",
      "Processando termo: empresas\n",
      "Todos os arquivos para o termo 'empresas' já existem no MinIO. Ignorando download e processamento.\n",
      "Iniciando download dos arquivos de Receita Federal Estabelecimentos\n",
      "Último diretório: 2024-09\n",
      "Processando termo: estabelecimentos\n",
      "Todos os arquivos para o termo 'estabelecimentos' já existem no MinIO. Ignorando download e processamento.\n",
      "Iniciando download dos arquivos de Receita Federal Inicial\n",
      "Último diretório: 2024-09\n",
      "Processando termo: cnaes\n",
      "Todos os arquivos para o termo 'cnaes' já existem no MinIO. Ignorando download e processamento.\n",
      "Processando termo: motivos\n",
      "Todos os arquivos para o termo 'motivos' já existem no MinIO. Ignorando download e processamento.\n",
      "Processando termo: municipios\n",
      "Todos os arquivos para o termo 'municipios' já existem no MinIO. Ignorando download e processamento.\n",
      "Processando termo: paises\n"
     ]
    },
    {
     "name": "stderr",
     "output_type": "stream",
     "text": [
      "2024-10-15 10:12:04,905 - INFO - extrair_dados_bronze com sucesso\n"
     ]
    },
    {
     "name": "stdout",
     "output_type": "stream",
     "text": [
      "Todos os arquivos para o termo 'paises' já existem no MinIO. Ignorando download e processamento.\n"
     ]
    }
   ],
   "source": [
    "extrator_bronze.extrair_dados_landing_compliance()"
   ]
  }
 ],
 "metadata": {
  "kernelspec": {
   "display_name": "Python 3 (ipykernel)",
   "language": "python",
   "name": "python3"
  },
  "language_info": {
   "codemirror_mode": {
    "name": "ipython",
    "version": 3
   },
   "file_extension": ".py",
   "mimetype": "text/x-python",
   "name": "python",
   "nbconvert_exporter": "python",
   "pygments_lexer": "ipython3",
   "version": "3.11.9"
  }
 },
 "nbformat": 4,
 "nbformat_minor": 5
}
