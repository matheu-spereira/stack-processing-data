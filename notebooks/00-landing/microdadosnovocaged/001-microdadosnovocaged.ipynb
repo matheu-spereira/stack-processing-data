{
 "cells": [
  {
   "cell_type": "markdown",
   "id": "79e400ff-c8e9-49f5-a641-b80d7b11dc5f",
   "metadata": {},
   "source": [
    "# Importação das bibliotecas necessárias"
   ]
  },
  {
   "cell_type": "code",
   "execution_count": 1,
   "id": "dab8b8dc-67ba-4ca1-8775-61b08adb510f",
   "metadata": {},
   "outputs": [],
   "source": [
    "import sys\n",
    "import os\n",
    "sys.path.append('/home/jovyan/work')\n",
    "\n",
    "from utils.AlinharETL import AlinharETL"
   ]
  },
  {
   "cell_type": "markdown",
   "id": "db5505a0-dd55-4641-ab26-4e2bea743f21",
   "metadata": {},
   "source": [
    "# Crie uma instância da classe AlinharETL"
   ]
  },
  {
   "cell_type": "code",
   "execution_count": 2,
   "id": "2163db01-79e7-4bab-86d0-686ea5dae3e9",
   "metadata": {},
   "outputs": [
    {
     "name": "stderr",
     "output_type": "stream",
     "text": [
      "2024-10-29 14:59:58,451 - INFO - Iniciando Sessão Spark.\n"
     ]
    }
   ],
   "source": [
    "bucket = \"landing\"\n",
    "datamart = \"microdadosnovocaged\"\n",
    "extrator_bronze = AlinharETL(bucket,datamart)"
   ]
  },
  {
   "cell_type": "markdown",
   "id": "4f2d1d3f-6376-43fc-a97f-08ce284dedad",
   "metadata": {},
   "source": [
    "# Realiza extração e gravação no datalake"
   ]
  },
  {
   "cell_type": "code",
   "execution_count": 3,
   "id": "5278750e-1f01-4157-ac6f-63a2ca7a9b96",
   "metadata": {},
   "outputs": [
    {
     "name": "stderr",
     "output_type": "stream",
     "text": [
      "2024-10-29 15:00:01,499 - INFO - Lista de yaml carregada com sucesso\n",
      "2024-10-29 15:00:01,800 - INFO - Sessão Spark finalizada.\n"
     ]
    },
    {
     "name": "stdout",
     "output_type": "stream",
     "text": [
      "Iniciando download dos arquivos de CAGED\n",
      "----- 2023 -----\n",
      "2023 202301 CAGEDMOV202301.7z\n",
      "2023 202302 CAGEDMOV202302.7z\n",
      "2023 202303 CAGEDMOV202303.7z\n",
      "2023 202304 CAGEDMOV202304.7z\n",
      "2023 202305 CAGEDMOV202305.7z\n",
      "2023 202306 CAGEDMOV202306.7z\n",
      "2023 202307 CAGEDMOV202307.7z\n",
      "2023 202308 CAGEDMOV202308.7z\n",
      "2023 202309 CAGEDMOV202309.7z\n",
      "2023 202310 CAGEDMOV202310.7z\n",
      "2023 202311 CAGEDMOV202311.7z\n",
      "2023 202312 CAGEDMOV202312.7z\n",
      "----- 2024 -----\n",
      "2024 202401 CAGEDMOV202401.7z\n",
      "2024 202402 CAGEDMOV202402.7z\n",
      "2024 202403 CAGEDMOV202403.7z\n",
      "2024 202404 CAGEDMOV202404.7z\n",
      "2024 202405 CAGEDMOV202405.7z\n",
      "2024 202406 CAGEDMOV202406.7z\n",
      "2024 202407 CAGEDMOV202407.7z\n",
      "2024 202408 CAGEDMOV202408.7z\n",
      "Preparando para download: CAGEDMOV202301.7z\n",
      "Baixando /pdet/microdados/NOVO CAGED/2023/202301/CAGEDMOV202301.7z...\n",
      "Upload realizado com sucesso: novocaged/microdadosnovocaged/CAGEDMOV202301.txt\n",
      "Arquivo extraído enviado: novocaged/microdadosnovocaged/CAGEDMOV202301.txt\n",
      "Arquivo processado: CAGEDMOV202301.7z\n",
      "Preparando para download: CAGEDMOV202302.7z\n",
      "Baixando /pdet/microdados/NOVO CAGED/2023/202302/CAGEDMOV202302.7z...\n",
      "Erro na extração: Corrupt input data\n",
      "Arquivo processado: CAGEDMOV202302.7z\n",
      "Preparando para download: CAGEDMOV202303.7z\n",
      "Baixando /pdet/microdados/NOVO CAGED/2023/202303/CAGEDMOV202303.7z...\n",
      "Upload realizado com sucesso: novocaged/microdadosnovocaged/CAGEDMOV202303.txt\n",
      "Arquivo extraído enviado: novocaged/microdadosnovocaged/CAGEDMOV202303.txt\n",
      "Upload realizado com sucesso: novocaged/microdadosnovocaged/CAGEDMOV202302.txt\n",
      "Arquivo extraído enviado: novocaged/microdadosnovocaged/CAGEDMOV202302.txt\n",
      "Arquivo processado: CAGEDMOV202303.7z\n",
      "Preparando para download: CAGEDMOV202304.7z\n",
      "Baixando /pdet/microdados/NOVO CAGED/2023/202304/CAGEDMOV202304.7z...\n"
     ]
    },
    {
     "name": "stderr",
     "output_type": "stream",
     "text": [
      "2024-10-29 15:03:01,536 - ERROR - Erro ao extrair_dados_bronze: 550 The specified network name is no longer available. \n",
      "2024-10-29 15:03:01,540 - INFO - Sessão Spark finalizada.\n"
     ]
    },
    {
     "ename": "error_perm",
     "evalue": "550 The specified network name is no longer available. ",
     "output_type": "error",
     "traceback": [
      "\u001b[0;31m---------------------------------------------------------------------------\u001b[0m",
      "\u001b[0;31mKeyboardInterrupt\u001b[0m                         Traceback (most recent call last)",
      "File \u001b[0;32m~/work/utils/UtilsCaged.py:183\u001b[0m, in \u001b[0;36mCagedFileProcessor.process_files\u001b[0;34m(self)\u001b[0m\n\u001b[1;32m    182\u001b[0m file_path \u001b[38;5;241m=\u001b[39m os\u001b[38;5;241m.\u001b[39mpath\u001b[38;5;241m.\u001b[39mjoin(\u001b[38;5;28mself\u001b[39m\u001b[38;5;241m.\u001b[39mcaged_cwd, year, month, filename)\n\u001b[0;32m--> 183\u001b[0m downloaded_file_path \u001b[38;5;241m=\u001b[39m \u001b[38;5;28;43mself\u001b[39;49m\u001b[38;5;241;43m.\u001b[39;49m\u001b[43mdownload_ftp_file\u001b[49m\u001b[43m(\u001b[49m\u001b[43mftp\u001b[49m\u001b[43m,\u001b[49m\u001b[43m \u001b[49m\u001b[43mfile_path\u001b[49m\u001b[43m,\u001b[49m\u001b[43m \u001b[49m\u001b[43mtemp_dir\u001b[49m\u001b[43m)\u001b[49m\n\u001b[1;32m    185\u001b[0m \u001b[38;5;66;03m# Extrai e faz o upload dos arquivos extraídos\u001b[39;00m\n",
      "File \u001b[0;32m~/work/utils/UtilsCaged.py:70\u001b[0m, in \u001b[0;36mCagedFileProcessor.download_ftp_file\u001b[0;34m(self, ftp, file_path, temp_dir)\u001b[0m\n\u001b[1;32m     69\u001b[0m \u001b[38;5;28;01mwith\u001b[39;00m \u001b[38;5;28mopen\u001b[39m(file_path_out, \u001b[38;5;124m\"\u001b[39m\u001b[38;5;124mwb\u001b[39m\u001b[38;5;124m\"\u001b[39m) \u001b[38;5;28;01mas\u001b[39;00m fp:\n\u001b[0;32m---> 70\u001b[0m     \u001b[43mftp\u001b[49m\u001b[38;5;241;43m.\u001b[39;49m\u001b[43mretrbinary\u001b[49m\u001b[43m(\u001b[49m\u001b[38;5;124;43mf\u001b[39;49m\u001b[38;5;124;43m\"\u001b[39;49m\u001b[38;5;124;43mRETR \u001b[39;49m\u001b[38;5;132;43;01m{\u001b[39;49;00m\u001b[43mfile_path\u001b[49m\u001b[38;5;132;43;01m}\u001b[39;49;00m\u001b[38;5;124;43m\"\u001b[39;49m\u001b[43m,\u001b[49m\u001b[43m \u001b[49m\u001b[43mfp\u001b[49m\u001b[38;5;241;43m.\u001b[39;49m\u001b[43mwrite\u001b[49m\u001b[43m)\u001b[49m\n\u001b[1;32m     71\u001b[0m \u001b[38;5;28;01mreturn\u001b[39;00m file_path_out\n",
      "File \u001b[0;32m/opt/conda/lib/python3.11/ftplib.py:438\u001b[0m, in \u001b[0;36mFTP.retrbinary\u001b[0;34m(self, cmd, callback, blocksize, rest)\u001b[0m\n\u001b[1;32m    437\u001b[0m \u001b[38;5;28;01mwhile\u001b[39;00m \u001b[38;5;241m1\u001b[39m:\n\u001b[0;32m--> 438\u001b[0m     data \u001b[38;5;241m=\u001b[39m \u001b[43mconn\u001b[49m\u001b[38;5;241;43m.\u001b[39;49m\u001b[43mrecv\u001b[49m\u001b[43m(\u001b[49m\u001b[43mblocksize\u001b[49m\u001b[43m)\u001b[49m\n\u001b[1;32m    439\u001b[0m     \u001b[38;5;28;01mif\u001b[39;00m \u001b[38;5;129;01mnot\u001b[39;00m data:\n",
      "\u001b[0;31mKeyboardInterrupt\u001b[0m: ",
      "\nDuring handling of the above exception, another exception occurred:\n",
      "\u001b[0;31merror_perm\u001b[0m                                Traceback (most recent call last)",
      "Cell \u001b[0;32mIn[3], line 1\u001b[0m\n\u001b[0;32m----> 1\u001b[0m \u001b[43mextrator_bronze\u001b[49m\u001b[38;5;241;43m.\u001b[39;49m\u001b[43mextrair_dados_landing_compliance\u001b[49m\u001b[43m(\u001b[49m\u001b[43m)\u001b[49m\n",
      "File \u001b[0;32m~/work/utils/AlinharETL.py:478\u001b[0m, in \u001b[0;36mAlinharETL.extrair_dados_landing_compliance\u001b[0;34m(self)\u001b[0m\n\u001b[1;32m    471\u001b[0m                 \u001b[38;5;28mprint\u001b[39m(\u001b[38;5;124m'\u001b[39m\u001b[38;5;124mIniciando download dos arquivos de CAGED\u001b[39m\u001b[38;5;124m'\u001b[39m) \n\u001b[1;32m    472\u001b[0m                 processor \u001b[38;5;241m=\u001b[39m CagedFileProcessor(\n\u001b[1;32m    473\u001b[0m                     ftp_host\u001b[38;5;241m=\u001b[39m\u001b[38;5;28mself\u001b[39m\u001b[38;5;241m.\u001b[39murl_arquivo,\n\u001b[1;32m    474\u001b[0m                     bucket_name\u001b[38;5;241m=\u001b[39m\u001b[38;5;28mself\u001b[39m\u001b[38;5;241m.\u001b[39mlakehouse,\n\u001b[1;32m    475\u001b[0m                     business_area\u001b[38;5;241m=\u001b[39m\u001b[38;5;28mself\u001b[39m\u001b[38;5;241m.\u001b[39mdatalakepath,\n\u001b[1;32m    476\u001b[0m                     caged_cwd\u001b[38;5;241m=\u001b[39m\u001b[38;5;28mself\u001b[39m\u001b[38;5;241m.\u001b[39mdirectory_arquivo\n\u001b[1;32m    477\u001b[0m                 )\n\u001b[0;32m--> 478\u001b[0m                 \u001b[43mprocessor\u001b[49m\u001b[38;5;241;43m.\u001b[39;49m\u001b[43mprocess_files\u001b[49m\u001b[43m(\u001b[49m\u001b[43m)\u001b[49m\n\u001b[1;32m    479\u001b[0m     \u001b[38;5;28mself\u001b[39m\u001b[38;5;241m.\u001b[39mlogger\u001b[38;5;241m.\u001b[39minfo(\u001b[38;5;124mf\u001b[39m\u001b[38;5;124m\"\u001b[39m\u001b[38;5;124mextrair_dados_bronze com sucesso\u001b[39m\u001b[38;5;124m\"\u001b[39m)\n\u001b[1;32m    480\u001b[0m \u001b[38;5;28;01mexcept\u001b[39;00m \u001b[38;5;167;01mException\u001b[39;00m \u001b[38;5;28;01mas\u001b[39;00m e:\n",
      "File \u001b[0;32m~/work/utils/UtilsCaged.py:180\u001b[0m, in \u001b[0;36mCagedFileProcessor.process_files\u001b[0;34m(self)\u001b[0m\n\u001b[1;32m    178\u001b[0m \u001b[38;5;66;03m# Mostra qual arquivo está prestes a ser baixado\u001b[39;00m\n\u001b[1;32m    179\u001b[0m \u001b[38;5;28mprint\u001b[39m(\u001b[38;5;124mf\u001b[39m\u001b[38;5;124m\"\u001b[39m\u001b[38;5;124mPreparando para download: \u001b[39m\u001b[38;5;132;01m{\u001b[39;00mfilename\u001b[38;5;132;01m}\u001b[39;00m\u001b[38;5;124m\"\u001b[39m)\n\u001b[0;32m--> 180\u001b[0m \u001b[43m\u001b[49m\u001b[38;5;28;43;01mwith\u001b[39;49;00m\u001b[43m \u001b[49m\u001b[43mFTP\u001b[49m\u001b[43m(\u001b[49m\u001b[38;5;28;43mself\u001b[39;49m\u001b[38;5;241;43m.\u001b[39;49m\u001b[43mftp_host\u001b[49m\u001b[43m,\u001b[49m\u001b[43m \u001b[49m\u001b[43mencoding\u001b[49m\u001b[38;5;241;43m=\u001b[39;49m\u001b[38;5;124;43m\"\u001b[39;49m\u001b[38;5;124;43miso-8859-1\u001b[39;49m\u001b[38;5;124;43m\"\u001b[39;49m\u001b[43m)\u001b[49m\u001b[43m \u001b[49m\u001b[38;5;28;43;01mas\u001b[39;49;00m\u001b[43m \u001b[49m\u001b[43mftp\u001b[49m\u001b[43m:\u001b[49m\n\u001b[1;32m    181\u001b[0m \u001b[43m    \u001b[49m\u001b[43mftp\u001b[49m\u001b[38;5;241;43m.\u001b[39;49m\u001b[43mlogin\u001b[49m\u001b[43m(\u001b[49m\u001b[43m)\u001b[49m\n\u001b[1;32m    182\u001b[0m \u001b[43m    \u001b[49m\u001b[43mfile_path\u001b[49m\u001b[43m \u001b[49m\u001b[38;5;241;43m=\u001b[39;49m\u001b[43m \u001b[49m\u001b[43mos\u001b[49m\u001b[38;5;241;43m.\u001b[39;49m\u001b[43mpath\u001b[49m\u001b[38;5;241;43m.\u001b[39;49m\u001b[43mjoin\u001b[49m\u001b[43m(\u001b[49m\u001b[38;5;28;43mself\u001b[39;49m\u001b[38;5;241;43m.\u001b[39;49m\u001b[43mcaged_cwd\u001b[49m\u001b[43m,\u001b[49m\u001b[43m \u001b[49m\u001b[43myear\u001b[49m\u001b[43m,\u001b[49m\u001b[43m \u001b[49m\u001b[43mmonth\u001b[49m\u001b[43m,\u001b[49m\u001b[43m \u001b[49m\u001b[43mfilename\u001b[49m\u001b[43m)\u001b[49m\n",
      "File \u001b[0;32m/opt/conda/lib/python3.11/ftplib.py:132\u001b[0m, in \u001b[0;36mFTP.__exit__\u001b[0;34m(self, *args)\u001b[0m\n\u001b[1;32m    130\u001b[0m \u001b[38;5;28;01mif\u001b[39;00m \u001b[38;5;28mself\u001b[39m\u001b[38;5;241m.\u001b[39msock \u001b[38;5;129;01mis\u001b[39;00m \u001b[38;5;129;01mnot\u001b[39;00m \u001b[38;5;28;01mNone\u001b[39;00m:\n\u001b[1;32m    131\u001b[0m     \u001b[38;5;28;01mtry\u001b[39;00m:\n\u001b[0;32m--> 132\u001b[0m         \u001b[38;5;28;43mself\u001b[39;49m\u001b[38;5;241;43m.\u001b[39;49m\u001b[43mquit\u001b[49m\u001b[43m(\u001b[49m\u001b[43m)\u001b[49m\n\u001b[1;32m    133\u001b[0m     \u001b[38;5;28;01mexcept\u001b[39;00m (\u001b[38;5;167;01mOSError\u001b[39;00m, \u001b[38;5;167;01mEOFError\u001b[39;00m):\n\u001b[1;32m    134\u001b[0m         \u001b[38;5;28;01mpass\u001b[39;00m\n",
      "File \u001b[0;32m/opt/conda/lib/python3.11/ftplib.py:659\u001b[0m, in \u001b[0;36mFTP.quit\u001b[0;34m(self)\u001b[0m\n\u001b[1;32m    657\u001b[0m \u001b[38;5;28;01mdef\u001b[39;00m \u001b[38;5;21mquit\u001b[39m(\u001b[38;5;28mself\u001b[39m):\n\u001b[1;32m    658\u001b[0m \u001b[38;5;250m    \u001b[39m\u001b[38;5;124;03m'''Quit, and close the connection.'''\u001b[39;00m\n\u001b[0;32m--> 659\u001b[0m     resp \u001b[38;5;241m=\u001b[39m \u001b[38;5;28;43mself\u001b[39;49m\u001b[38;5;241;43m.\u001b[39;49m\u001b[43mvoidcmd\u001b[49m\u001b[43m(\u001b[49m\u001b[38;5;124;43m'\u001b[39;49m\u001b[38;5;124;43mQUIT\u001b[39;49m\u001b[38;5;124;43m'\u001b[39;49m\u001b[43m)\u001b[49m\n\u001b[1;32m    660\u001b[0m     \u001b[38;5;28mself\u001b[39m\u001b[38;5;241m.\u001b[39mclose()\n\u001b[1;32m    661\u001b[0m     \u001b[38;5;28;01mreturn\u001b[39;00m resp\n",
      "File \u001b[0;32m/opt/conda/lib/python3.11/ftplib.py:286\u001b[0m, in \u001b[0;36mFTP.voidcmd\u001b[0;34m(self, cmd)\u001b[0m\n\u001b[1;32m    284\u001b[0m \u001b[38;5;250m\u001b[39m\u001b[38;5;124;03m\"\"\"Send a command and expect a response beginning with '2'.\"\"\"\u001b[39;00m\n\u001b[1;32m    285\u001b[0m \u001b[38;5;28mself\u001b[39m\u001b[38;5;241m.\u001b[39mputcmd(cmd)\n\u001b[0;32m--> 286\u001b[0m \u001b[38;5;28;01mreturn\u001b[39;00m \u001b[38;5;28;43mself\u001b[39;49m\u001b[38;5;241;43m.\u001b[39;49m\u001b[43mvoidresp\u001b[49m\u001b[43m(\u001b[49m\u001b[43m)\u001b[49m\n",
      "File \u001b[0;32m/opt/conda/lib/python3.11/ftplib.py:259\u001b[0m, in \u001b[0;36mFTP.voidresp\u001b[0;34m(self)\u001b[0m\n\u001b[1;32m    257\u001b[0m \u001b[38;5;28;01mdef\u001b[39;00m \u001b[38;5;21mvoidresp\u001b[39m(\u001b[38;5;28mself\u001b[39m):\n\u001b[1;32m    258\u001b[0m \u001b[38;5;250m    \u001b[39m\u001b[38;5;124;03m\"\"\"Expect a response beginning with '2'.\"\"\"\u001b[39;00m\n\u001b[0;32m--> 259\u001b[0m     resp \u001b[38;5;241m=\u001b[39m \u001b[38;5;28;43mself\u001b[39;49m\u001b[38;5;241;43m.\u001b[39;49m\u001b[43mgetresp\u001b[49m\u001b[43m(\u001b[49m\u001b[43m)\u001b[49m\n\u001b[1;32m    260\u001b[0m     \u001b[38;5;28;01mif\u001b[39;00m resp[:\u001b[38;5;241m1\u001b[39m] \u001b[38;5;241m!=\u001b[39m \u001b[38;5;124m'\u001b[39m\u001b[38;5;124m2\u001b[39m\u001b[38;5;124m'\u001b[39m:\n\u001b[1;32m    261\u001b[0m         \u001b[38;5;28;01mraise\u001b[39;00m error_reply(resp)\n",
      "File \u001b[0;32m/opt/conda/lib/python3.11/ftplib.py:254\u001b[0m, in \u001b[0;36mFTP.getresp\u001b[0;34m(self)\u001b[0m\n\u001b[1;32m    252\u001b[0m     \u001b[38;5;28;01mraise\u001b[39;00m error_temp(resp)\n\u001b[1;32m    253\u001b[0m \u001b[38;5;28;01mif\u001b[39;00m c \u001b[38;5;241m==\u001b[39m \u001b[38;5;124m'\u001b[39m\u001b[38;5;124m5\u001b[39m\u001b[38;5;124m'\u001b[39m:\n\u001b[0;32m--> 254\u001b[0m     \u001b[38;5;28;01mraise\u001b[39;00m error_perm(resp)\n\u001b[1;32m    255\u001b[0m \u001b[38;5;28;01mraise\u001b[39;00m error_proto(resp)\n",
      "\u001b[0;31merror_perm\u001b[0m: 550 The specified network name is no longer available. "
     ]
    }
   ],
   "source": [
    "extrator_bronze.extrair_dados_landing_compliance()"
   ]
  }
 ],
 "metadata": {
  "kernelspec": {
   "display_name": "Python 3 (ipykernel)",
   "language": "python",
   "name": "python3"
  },
  "language_info": {
   "codemirror_mode": {
    "name": "ipython",
    "version": 3
   },
   "file_extension": ".py",
   "mimetype": "text/x-python",
   "name": "python",
   "nbconvert_exporter": "python",
   "pygments_lexer": "ipython3",
   "version": "3.11.9"
  }
 },
 "nbformat": 4,
 "nbformat_minor": 5
}
