{
 "cells": [
  {
   "cell_type": "markdown",
   "id": "b23e9969-b7af-44eb-926a-ea02ab1eb1b2",
   "metadata": {},
   "source": [
    "# Importação das bibliotecas necessárias"
   ]
  },
  {
   "cell_type": "code",
   "execution_count": 1,
   "id": "dab8b8dc-67ba-4ca1-8775-61b08adb510f",
   "metadata": {},
   "outputs": [],
   "source": [
    "import sys\n",
    "import os\n",
    "sys.path.append('/home/jovyan/work')\n",
    "\n",
    "from utils.AlinharETL import AlinharETL"
   ]
  },
  {
   "cell_type": "markdown",
   "id": "a8bdeaf7-c76f-43aa-ae8c-e95e9a6269c9",
   "metadata": {},
   "source": [
    "# Crie uma instância da classe AlinharETL"
   ]
  },
  {
   "cell_type": "code",
   "execution_count": 2,
   "id": "2163db01-79e7-4bab-86d0-686ea5dae3e9",
   "metadata": {},
   "outputs": [
    {
     "name": "stderr",
     "output_type": "stream",
     "text": [
      "2024-10-25 10:38:58,463 - INFO - Iniciando Sessão Spark.\n"
     ]
    }
   ],
   "source": [
    "bucket = \"landing\"\n",
    "datamart = \"mtecbo\"\n",
    "extrator_bronze = AlinharETL(bucket,datamart)"
   ]
  },
  {
   "cell_type": "markdown",
   "id": "2fde1e49-f6fd-4e02-93d5-e5bede6d2395",
   "metadata": {},
   "source": [
    "# Realiza extração e gravação no datalake"
   ]
  },
  {
   "cell_type": "code",
   "execution_count": 3,
   "id": "5278750e-1f01-4157-ac6f-63a2ca7a9b96",
   "metadata": {},
   "outputs": [
    {
     "name": "stderr",
     "output_type": "stream",
     "text": [
      "2024-10-25 10:39:00,398 - INFO - Lista de yaml carregada com sucesso\n",
      "2024-10-25 10:39:00,770 - INFO - Sessão Spark finalizada.\n"
     ]
    },
    {
     "name": "stdout",
     "output_type": "stream",
     "text": [
      "Iniciando download dos arquivos de CBO\n"
     ]
    },
    {
     "name": "stderr",
     "output_type": "stream",
     "text": [
      "2024-10-25 10:39:01,560 - INFO - extrair_dados_bronze com sucesso\n"
     ]
    },
    {
     "name": "stdout",
     "output_type": "stream",
     "text": [
      "Upload bem-sucedido: mte/cbo/2024-10/CBO2002 - Ocupacao.csv\n",
      "Upload bem-sucedido: mte/cbo/2024-10/CBO2002 - Familia.csv\n",
      "Upload bem-sucedido: mte/cbo/2024-10/CBO2002 - SubGrupo Principal.csv\n",
      "Upload bem-sucedido: mte/cbo/2024-10/CBO2002 - Grande Grupo.csv\n",
      "Upload bem-sucedido: mte/cbo/2024-10/CBO2002 - Sinonimo.csv\n",
      "Upload bem-sucedido: mte/cbo/2024-10/CBO2002 - PerfilOcupacional.csv\n",
      "Upload bem-sucedido: mte/cbo/2024-10/estrutura-cbo.zip\n",
      "Upload bem-sucedido: mte/cbo/2024-10/CBO2002 - SubGrupo.csv\n"
     ]
    }
   ],
   "source": [
    "extrator_bronze.extrair_dados_landing_compliance()"
   ]
  }
 ],
 "metadata": {
  "kernelspec": {
   "display_name": "Python 3 (ipykernel)",
   "language": "python",
   "name": "python3"
  },
  "language_info": {
   "codemirror_mode": {
    "name": "ipython",
    "version": 3
   },
   "file_extension": ".py",
   "mimetype": "text/x-python",
   "name": "python",
   "nbconvert_exporter": "python",
   "pygments_lexer": "ipython3",
   "version": "3.11.9"
  }
 },
 "nbformat": 4,
 "nbformat_minor": 5
}
