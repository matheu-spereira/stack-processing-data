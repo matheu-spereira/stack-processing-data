{
 "cells": [
  {
   "cell_type": "markdown",
   "id": "189d51fd-f29f-4274-ba5b-c32748a52e8d",
   "metadata": {},
   "source": [
    "# Importação das bibliotecas necessárias"
   ]
  },
  {
   "cell_type": "code",
   "execution_count": 1,
   "id": "dab8b8dc-67ba-4ca1-8775-61b08adb510f",
   "metadata": {},
   "outputs": [],
   "source": [
    "import sys\n",
    "import os\n",
    "sys.path.append('/home/jovyan/work')\n",
    "\n",
    "from utils.AlinharETL import AlinharETL"
   ]
  },
  {
   "cell_type": "markdown",
   "id": "a74b42e5-38fb-43fb-8ed2-ca950fcfdcf7",
   "metadata": {},
   "source": [
    "# Crie uma instância da classe AlinharETL"
   ]
  },
  {
   "cell_type": "code",
   "execution_count": 2,
   "id": "2163db01-79e7-4bab-86d0-686ea5dae3e9",
   "metadata": {},
   "outputs": [
    {
     "name": "stderr",
     "output_type": "stream",
     "text": [
      "2024-10-15 10:14:10,305 - INFO - Iniciando Sessão Spark.\n"
     ]
    }
   ],
   "source": [
    "bucket = \"landing\"\n",
    "datamart = \"tcuacordaos\"\n",
    "extrator_bronze = AlinharETL(bucket,datamart)"
   ]
  },
  {
   "cell_type": "markdown",
   "id": "85c88369-b0b4-4570-b77f-e13df58b2176",
   "metadata": {},
   "source": [
    "# Realiza extração e gravação no datalake"
   ]
  },
  {
   "cell_type": "code",
   "execution_count": 3,
   "id": "5278750e-1f01-4157-ac6f-63a2ca7a9b96",
   "metadata": {},
   "outputs": [
    {
     "name": "stderr",
     "output_type": "stream",
     "text": [
      "2024-10-15 10:14:18,619 - INFO - Lista de yaml carregada com sucesso\n",
      "2024-10-15 10:14:18,840 - INFO - Sessão Spark finalizada.\n"
     ]
    },
    {
     "name": "stdout",
     "output_type": "stream",
     "text": [
      "Iniciando download dos arquivos de TCU Acordaos\n",
      "Arquivo /tmp/tmpayewb1y6/acordao-completo-2024.csv baixado com sucesso.\n"
     ]
    },
    {
     "name": "stderr",
     "output_type": "stream",
     "text": [
      "2024-10-15 10:15:08,836 - INFO - extrair_dados_bronze com sucesso\n"
     ]
    },
    {
     "name": "stdout",
     "output_type": "stream",
     "text": [
      "Upload bem-sucedido: tcu/acordaos/2024-10/acordao-completo-2024.csv\n"
     ]
    }
   ],
   "source": [
    "extrator_bronze.extrair_dados_landing_compliance()"
   ]
  }
 ],
 "metadata": {
  "kernelspec": {
   "display_name": "Python 3 (ipykernel)",
   "language": "python",
   "name": "python3"
  },
  "language_info": {
   "codemirror_mode": {
    "name": "ipython",
    "version": 3
   },
   "file_extension": ".py",
   "mimetype": "text/x-python",
   "name": "python",
   "nbconvert_exporter": "python",
   "pygments_lexer": "ipython3",
   "version": "3.11.9"
  }
 },
 "nbformat": 4,
 "nbformat_minor": 5
}
