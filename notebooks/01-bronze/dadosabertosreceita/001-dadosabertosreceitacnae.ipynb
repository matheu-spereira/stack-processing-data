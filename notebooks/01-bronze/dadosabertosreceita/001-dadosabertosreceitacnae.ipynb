{
 "cells": [
  {
   "cell_type": "markdown",
   "id": "2dfce816-6a39-4d68-a694-8db4b9a220ec",
   "metadata": {},
   "source": [
    "# Importação das bibliotecas necessárias"
   ]
  },
  {
   "cell_type": "code",
   "execution_count": 1,
   "id": "dab8b8dc-67ba-4ca1-8775-61b08adb510f",
   "metadata": {},
   "outputs": [],
   "source": [
    "import sys\n",
    "import os\n",
    "sys.path.append('/home/jovyan/work')\n",
    "\n",
    "from utils.AlinharETL import AlinharETL\n",
    "from pyspark.sql import types as T"
   ]
  },
  {
   "cell_type": "markdown",
   "id": "047fa8b1-3faf-4056-8f85-ef98cd567b18",
   "metadata": {},
   "source": [
    "# Crie uma instância da classe AlinharETL"
   ]
  },
  {
   "cell_type": "code",
   "execution_count": 2,
   "id": "2163db01-79e7-4bab-86d0-686ea5dae3e9",
   "metadata": {},
   "outputs": [
    {
     "name": "stderr",
     "output_type": "stream",
     "text": [
      "2024-10-15 07:36:39,121 - INFO - Iniciando Sessão Spark.\n"
     ]
    }
   ],
   "source": [
    "# Crie uma instância da classe\n",
    "bucket = \"bronze\"\n",
    "datamart = \"dadosabertosreceita\"\n",
    "extrator_bronze = AlinharETL(bucket,datamart)"
   ]
  },
  {
   "cell_type": "markdown",
   "id": "94a9b666-4481-4841-bf7c-b62adbf73b25",
   "metadata": {},
   "source": [
    "# Parâmetros para leitura do arquivo"
   ]
  },
  {
   "cell_type": "code",
   "execution_count": 3,
   "id": "adf0a5a1-e012-4e17-a6d3-c063880c841a",
   "metadata": {},
   "outputs": [],
   "source": [
    "schema = T.StructType([\n",
    "    T.StructField(\"codigo\", T.StringType(), True),\n",
    "    T.StructField(\"descricao\", T.StringType(), True),\n",
    "])"
   ]
  },
  {
   "cell_type": "code",
   "execution_count": 4,
   "id": "661669c5-5b33-4d21-99b0-e9df95410fa2",
   "metadata": {},
   "outputs": [],
   "source": [
    "ano_mes = extrator_bronze.encontrar_ano_mes(\"dadosabertosreceita\")\n",
    "local = f\"s3a://landing/dadosabertosreceita/{ano_mes}/cnaes/*.csv\""
   ]
  },
  {
   "cell_type": "code",
   "execution_count": 5,
   "id": "03078dcc-8cc9-4e34-81a1-d0604850dfcc",
   "metadata": {},
   "outputs": [],
   "source": [
    "config_adicional = {\n",
    "    'sep': ';',\n",
    "    'encoding': 'latin1'\n",
    "}"
   ]
  },
  {
   "cell_type": "markdown",
   "id": "b0f1353e-36e3-4353-8ecd-924b12031b50",
   "metadata": {},
   "source": [
    "# Leitura do arquivo"
   ]
  },
  {
   "cell_type": "code",
   "execution_count": 6,
   "id": "eb2a856a-cd4f-4d99-93e5-b957403470d5",
   "metadata": {},
   "outputs": [
    {
     "name": "stderr",
     "output_type": "stream",
     "text": [
      "2024-10-15 07:36:46,379 - INFO - Lista de yaml carregada com sucesso\n",
      "2024-10-15 07:36:51,019 - INFO - Criando view temporaria.\n"
     ]
    }
   ],
   "source": [
    "df_compliance_receita_cnae = extrator_bronze.criar_view_temporaria_arquivo(local, 'compliance_cnae',schema,**config_adicional)"
   ]
  },
  {
   "cell_type": "markdown",
   "id": "d4314fab-8728-49b8-bfe5-8143109d4959",
   "metadata": {},
   "source": [
    "# Gravação no datalake"
   ]
  },
  {
   "cell_type": "code",
   "execution_count": 7,
   "id": "4ee559f7-5ec9-463f-affe-8c65af8d03ff",
   "metadata": {},
   "outputs": [],
   "source": [
    "extrator_bronze.caminho_tabela_delta = 's3a://bronze/dadosabertosreceita/cnae'"
   ]
  },
  {
   "cell_type": "code",
   "execution_count": 8,
   "id": "afb20946-6a0e-4cb7-9a99-940375d68089",
   "metadata": {},
   "outputs": [
    {
     "name": "stderr",
     "output_type": "stream",
     "text": [
      "2024-10-15 07:36:51,065 - INFO - Aguarde... Persistindo dados (overwrite)\n",
      "2024-10-15 07:37:02,446 - INFO - Dados persistidos com sucesso\n",
      "2024-10-15 07:37:02,448 - INFO - s3a://bronze/dadosabertosreceita/cnae\n",
      "2024-10-15 07:37:02,448 - INFO - Aguarde... Realizando optimize\n",
      "2024-10-15 07:37:10,285 - INFO - Optimize executado com sucesso.\n",
      "2024-10-15 07:37:10,287 - INFO - Aguarde... Realizando vacuum\n",
      "2024-10-15 07:37:31,552 - INFO - Vacuum executado com sucesso.\n"
     ]
    }
   ],
   "source": [
    "extrator_bronze.salvar_delta(df_compliance_receita_cnae, 'overwrite')"
   ]
  },
  {
   "cell_type": "markdown",
   "id": "ac8c83f8-dba1-4356-8af3-bec506eac5a6",
   "metadata": {},
   "source": [
    "# Encerra sessão spark"
   ]
  },
  {
   "cell_type": "code",
   "execution_count": 9,
   "id": "eb909129-dd70-46da-a2eb-0eb681aa0c21",
   "metadata": {},
   "outputs": [
    {
     "name": "stderr",
     "output_type": "stream",
     "text": [
      "2024-10-15 07:37:32,223 - INFO - Sessão Spark finalizada.\n"
     ]
    }
   ],
   "source": [
    "extrator_bronze.parar_sessao()"
   ]
  }
 ],
 "metadata": {
  "kernelspec": {
   "display_name": "Python 3 (ipykernel)",
   "language": "python",
   "name": "python3"
  },
  "language_info": {
   "codemirror_mode": {
    "name": "ipython",
    "version": 3
   },
   "file_extension": ".py",
   "mimetype": "text/x-python",
   "name": "python",
   "nbconvert_exporter": "python",
   "pygments_lexer": "ipython3",
   "version": "3.11.9"
  }
 },
 "nbformat": 4,
 "nbformat_minor": 5
}
