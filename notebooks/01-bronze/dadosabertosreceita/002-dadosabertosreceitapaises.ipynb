{
 "cells": [
  {
   "cell_type": "markdown",
   "id": "ff371d11-a7d4-446f-a344-0ebb52919f26",
   "metadata": {},
   "source": [
    "# Importação das bibliotecas necessárias"
   ]
  },
  {
   "cell_type": "code",
   "execution_count": 1,
   "id": "dab8b8dc-67ba-4ca1-8775-61b08adb510f",
   "metadata": {},
   "outputs": [],
   "source": [
    "import sys\n",
    "import os\n",
    "sys.path.append('/home/jovyan/work')\n",
    "\n",
    "from utils.AlinharETL import AlinharETL\n",
    "from pyspark.sql import types as T"
   ]
  },
  {
   "cell_type": "markdown",
   "id": "952b36df-264d-4207-b2ee-12ca7e05d2a2",
   "metadata": {},
   "source": [
    "# Crie uma instância da classe AlinharETL"
   ]
  },
  {
   "cell_type": "code",
   "execution_count": 2,
   "id": "2163db01-79e7-4bab-86d0-686ea5dae3e9",
   "metadata": {},
   "outputs": [
    {
     "name": "stderr",
     "output_type": "stream",
     "text": [
      "2024-10-15 07:35:46,186 - INFO - Iniciando Sessão Spark.\n"
     ]
    }
   ],
   "source": [
    "# Crie uma instância da classe\n",
    "bucket = \"bronze\"\n",
    "datamart = \"dadosabertosreceita\"\n",
    "extrator_bronze = AlinharETL(bucket,datamart)"
   ]
  },
  {
   "cell_type": "markdown",
   "id": "198976de-be22-41a9-ac7d-920831369700",
   "metadata": {},
   "source": [
    "# Parâmetros para leitura do arquivo"
   ]
  },
  {
   "cell_type": "code",
   "execution_count": 3,
   "id": "adf0a5a1-e012-4e17-a6d3-c063880c841a",
   "metadata": {},
   "outputs": [],
   "source": [
    "schema = T.StructType([\n",
    "    T.StructField(\"codigo\", T.StringType(), True),\n",
    "    T.StructField(\"descricao\", T.StringType(), True),\n",
    "])"
   ]
  },
  {
   "cell_type": "code",
   "execution_count": 4,
   "id": "1f7b7306-a7fe-49a0-9b02-e961095d12cf",
   "metadata": {},
   "outputs": [],
   "source": [
    "ano_mes = extrator_bronze.encontrar_ano_mes(\"dadosabertosreceita\")\n",
    "local = f\"s3a://landing/dadosabertosreceita/{ano_mes}/paises/*.csv\""
   ]
  },
  {
   "cell_type": "code",
   "execution_count": 5,
   "id": "2d43e321-3c91-4c2b-acad-fbe010e50304",
   "metadata": {},
   "outputs": [],
   "source": [
    "config_adicional = {\n",
    "    'sep': ';',\n",
    "    'encoding': 'latin1'\n",
    "}"
   ]
  },
  {
   "cell_type": "markdown",
   "id": "1d2ab944-b17b-4db9-a501-e771f23aa471",
   "metadata": {},
   "source": [
    "# Leitura do arquivo"
   ]
  },
  {
   "cell_type": "code",
   "execution_count": 6,
   "id": "eb2a856a-cd4f-4d99-93e5-b957403470d5",
   "metadata": {},
   "outputs": [
    {
     "name": "stderr",
     "output_type": "stream",
     "text": [
      "2024-10-15 07:35:51,250 - INFO - Lista de yaml carregada com sucesso\n",
      "2024-10-15 07:35:56,130 - INFO - Criando view temporaria.\n"
     ]
    }
   ],
   "source": [
    "df_compliance_receita_paises  = extrator_bronze.criar_view_temporaria_arquivo(local, 'compliance_paises',schema,**config_adicional)"
   ]
  },
  {
   "cell_type": "markdown",
   "id": "0cbb595e-77ff-499a-b3b1-1ac1f1469922",
   "metadata": {},
   "source": [
    "# Gravação no datalake"
   ]
  },
  {
   "cell_type": "code",
   "execution_count": 7,
   "id": "4ee559f7-5ec9-463f-affe-8c65af8d03ff",
   "metadata": {},
   "outputs": [],
   "source": [
    "extrator_bronze.caminho_tabela_delta = 's3a://bronze/dadosabertosreceita/paises'"
   ]
  },
  {
   "cell_type": "code",
   "execution_count": 8,
   "id": "afb20946-6a0e-4cb7-9a99-940375d68089",
   "metadata": {},
   "outputs": [
    {
     "name": "stderr",
     "output_type": "stream",
     "text": [
      "2024-10-15 07:35:56,144 - INFO - Aguarde... Persistindo dados (overwrite)\n",
      "2024-10-15 07:36:14,426 - INFO - Dados persistidos com sucesso\n",
      "2024-10-15 07:36:14,428 - INFO - s3a://bronze/dadosabertosreceita/paises\n",
      "2024-10-15 07:36:14,429 - INFO - Aguarde... Realizando optimize\n",
      "2024-10-15 07:36:25,974 - INFO - Optimize executado com sucesso.\n",
      "2024-10-15 07:36:25,976 - INFO - Aguarde... Realizando vacuum\n",
      "2024-10-15 07:36:49,635 - INFO - Vacuum executado com sucesso.\n"
     ]
    }
   ],
   "source": [
    "extrator_bronze.salvar_delta(df_compliance_receita_paises, 'overwrite')"
   ]
  },
  {
   "cell_type": "markdown",
   "id": "727ec383-0b30-457f-ada1-4e56d376c7af",
   "metadata": {},
   "source": [
    "# Encerra sessão spark"
   ]
  },
  {
   "cell_type": "code",
   "execution_count": 9,
   "id": "eb909129-dd70-46da-a2eb-0eb681aa0c21",
   "metadata": {},
   "outputs": [
    {
     "name": "stderr",
     "output_type": "stream",
     "text": [
      "2024-10-15 07:36:50,025 - INFO - Sessão Spark finalizada.\n"
     ]
    }
   ],
   "source": [
    "extrator_bronze.parar_sessao()"
   ]
  }
 ],
 "metadata": {
  "kernelspec": {
   "display_name": "Python 3 (ipykernel)",
   "language": "python",
   "name": "python3"
  },
  "language_info": {
   "codemirror_mode": {
    "name": "ipython",
    "version": 3
   },
   "file_extension": ".py",
   "mimetype": "text/x-python",
   "name": "python",
   "nbconvert_exporter": "python",
   "pygments_lexer": "ipython3",
   "version": "3.11.9"
  }
 },
 "nbformat": 4,
 "nbformat_minor": 5
}
