{
 "cells": [
  {
   "cell_type": "markdown",
   "id": "d0829b3a-e7ff-40cd-b442-02096d2a3104",
   "metadata": {},
   "source": [
    "# Importação das bibliotecas necessárias"
   ]
  },
  {
   "cell_type": "code",
   "execution_count": 1,
   "id": "dab8b8dc-67ba-4ca1-8775-61b08adb510f",
   "metadata": {},
   "outputs": [],
   "source": [
    "import sys\n",
    "import os\n",
    "sys.path.append('/home/jovyan/work')\n",
    "\n",
    "from utils.AlinharETL import AlinharETL\n",
    "from pyspark.sql import types as T"
   ]
  },
  {
   "cell_type": "markdown",
   "id": "ff1c2490-c08f-4b0e-bde1-5540d0580bad",
   "metadata": {},
   "source": [
    "# Crie uma instância da classe AlinharETL"
   ]
  },
  {
   "cell_type": "code",
   "execution_count": 2,
   "id": "2163db01-79e7-4bab-86d0-686ea5dae3e9",
   "metadata": {},
   "outputs": [
    {
     "name": "stderr",
     "output_type": "stream",
     "text": [
      "2024-10-15 10:17:09,276 - INFO - Iniciando Sessão Spark.\n"
     ]
    }
   ],
   "source": [
    "bucket = \"bronze\"\n",
    "datamart = \"dadosabertosreceita\"\n",
    "extrator_bronze = AlinharETL(bucket,datamart)"
   ]
  },
  {
   "cell_type": "markdown",
   "id": "4a4e17be-33e2-4e3f-a3a3-0005b16b8741",
   "metadata": {},
   "source": [
    "# Parâmetros para leitura do arquivo"
   ]
  },
  {
   "cell_type": "code",
   "execution_count": 3,
   "id": "adf0a5a1-e012-4e17-a6d3-c063880c841a",
   "metadata": {},
   "outputs": [],
   "source": [
    "schema = T.StructType([\n",
    "    T.StructField(\"codigo\", T.StringType(), True),\n",
    "    T.StructField(\"descricao\", T.StringType(), True),\n",
    "])"
   ]
  },
  {
   "cell_type": "code",
   "execution_count": 4,
   "id": "d32bc8e4-2c8a-4571-aa1a-106f183d2489",
   "metadata": {},
   "outputs": [],
   "source": [
    "ano_mes = extrator_bronze.encontrar_ano_mes(\"dadosabertosreceita\")\n",
    "local = f\"s3a://landing/dadosabertosreceita/{ano_mes}/motivos/*.csv\""
   ]
  },
  {
   "cell_type": "code",
   "execution_count": 5,
   "id": "87c4bdde-113e-4af8-8f67-03325001aaf9",
   "metadata": {},
   "outputs": [],
   "source": [
    "config_adicional = {\n",
    "    'sep': ';',\n",
    "    'encoding': 'latin1'\n",
    "}"
   ]
  },
  {
   "cell_type": "markdown",
   "id": "7c30d623-fa90-44e0-b9ce-a945ac46fc5c",
   "metadata": {},
   "source": [
    "# Leitura do arquivo"
   ]
  },
  {
   "cell_type": "code",
   "execution_count": 6,
   "id": "eb2a856a-cd4f-4d99-93e5-b957403470d5",
   "metadata": {},
   "outputs": [
    {
     "name": "stderr",
     "output_type": "stream",
     "text": [
      "2024-10-15 10:17:14,103 - INFO - Lista de yaml carregada com sucesso\n",
      "2024-10-15 10:17:17,611 - INFO - Criando view temporaria.\n"
     ]
    }
   ],
   "source": [
    "df_compliance_receita_motivos = extrator_bronze.criar_view_temporaria_arquivo(local, 'compliance_motivos',schema,**config_adicional)"
   ]
  },
  {
   "cell_type": "markdown",
   "id": "5b7f6489-cb6a-4e4b-91d6-0038b612ff62",
   "metadata": {},
   "source": [
    "# Gravação no datalake"
   ]
  },
  {
   "cell_type": "code",
   "execution_count": 7,
   "id": "4ee559f7-5ec9-463f-affe-8c65af8d03ff",
   "metadata": {},
   "outputs": [],
   "source": [
    "extrator_bronze.caminho_tabela_delta = 's3a://bronze/dadosabertosreceita/motivos'"
   ]
  },
  {
   "cell_type": "code",
   "execution_count": 8,
   "id": "afb20946-6a0e-4cb7-9a99-940375d68089",
   "metadata": {},
   "outputs": [
    {
     "name": "stderr",
     "output_type": "stream",
     "text": [
      "2024-10-15 10:17:17,623 - INFO - Aguarde... Persistindo dados (overwrite)\n",
      "2024-10-15 10:17:36,998 - INFO - Dados persistidos com sucesso\n",
      "2024-10-15 10:17:37,000 - INFO - s3a://bronze/dadosabertosreceita/motivos\n",
      "2024-10-15 10:17:37,000 - INFO - Aguarde... Realizando optimize\n",
      "2024-10-15 10:17:47,520 - INFO - Optimize executado com sucesso.\n",
      "2024-10-15 10:17:47,521 - INFO - Aguarde... Realizando vacuum\n",
      "2024-10-15 10:18:06,959 - INFO - Vacuum executado com sucesso.\n"
     ]
    }
   ],
   "source": [
    "extrator_bronze.salvar_delta(df_compliance_receita_motivos, 'overwrite')"
   ]
  },
  {
   "cell_type": "markdown",
   "id": "7dda676b-8d06-48ba-8ac8-3fffda757394",
   "metadata": {},
   "source": [
    "# Encerra sessão spark"
   ]
  },
  {
   "cell_type": "code",
   "execution_count": 9,
   "id": "eb909129-dd70-46da-a2eb-0eb681aa0c21",
   "metadata": {},
   "outputs": [
    {
     "name": "stderr",
     "output_type": "stream",
     "text": [
      "2024-10-15 10:18:07,433 - INFO - Sessão Spark finalizada.\n"
     ]
    }
   ],
   "source": [
    "extrator_bronze.parar_sessao()"
   ]
  }
 ],
 "metadata": {
  "kernelspec": {
   "display_name": "Python 3 (ipykernel)",
   "language": "python",
   "name": "python3"
  },
  "language_info": {
   "codemirror_mode": {
    "name": "ipython",
    "version": 3
   },
   "file_extension": ".py",
   "mimetype": "text/x-python",
   "name": "python",
   "nbconvert_exporter": "python",
   "pygments_lexer": "ipython3",
   "version": "3.11.9"
  }
 },
 "nbformat": 4,
 "nbformat_minor": 5
}
