{
 "cells": [
  {
   "cell_type": "markdown",
   "id": "44459e01-8710-4b42-9a10-11c5ab8ff19c",
   "metadata": {},
   "source": [
    "# Importação das bibliotecas necessárias"
   ]
  },
  {
   "cell_type": "code",
   "execution_count": 1,
   "id": "dab8b8dc-67ba-4ca1-8775-61b08adb510f",
   "metadata": {},
   "outputs": [],
   "source": [
    "import sys\n",
    "import os\n",
    "sys.path.append('/home/jovyan/work')\n",
    "\n",
    "from utils.AlinharETL import AlinharETL\n",
    "from pyspark.sql import types as T"
   ]
  },
  {
   "cell_type": "markdown",
   "id": "38e8f5f6-2f80-4b26-9fd8-0b7af48e40f1",
   "metadata": {},
   "source": [
    "# Crie uma instância da classe AlinharETL"
   ]
  },
  {
   "cell_type": "code",
   "execution_count": 2,
   "id": "2163db01-79e7-4bab-86d0-686ea5dae3e9",
   "metadata": {},
   "outputs": [
    {
     "name": "stderr",
     "output_type": "stream",
     "text": [
      "2024-10-15 07:38:23,032 - INFO - Iniciando Sessão Spark.\n"
     ]
    }
   ],
   "source": [
    "# Crie uma instância da classe\n",
    "bucket = \"bronze\"\n",
    "datamart = \"dadosabertosreceita\"\n",
    "extrator_bronze = AlinharETL(bucket,datamart)"
   ]
  },
  {
   "cell_type": "markdown",
   "id": "567bb3d4-a135-48e4-baab-510eb212452a",
   "metadata": {},
   "source": [
    "# Parâmetros para leitura do arquivo"
   ]
  },
  {
   "cell_type": "code",
   "execution_count": 3,
   "id": "adf0a5a1-e012-4e17-a6d3-c063880c841a",
   "metadata": {},
   "outputs": [],
   "source": [
    "schema = T.StructType([\n",
    "    T.StructField(\"cnpj_basico\", T.StringType(), True),\n",
    "    T.StructField(\"razao_social\", T.StringType(), True),\n",
    "    T.StructField(\"natureza_juridica\", T.StringType(), True),\n",
    "    T.StructField(\"qualificacao_responsavel\", T.StringType(), True),\n",
    "    T.StructField(\"capital_social\", T.StringType(), True),\n",
    "    T.StructField(\"porte_empresa\", T.StringType(), True),\n",
    "    T.StructField(\"ente_federativo_responsavel\", T.StringType(), True),\n",
    "])"
   ]
  },
  {
   "cell_type": "code",
   "execution_count": 4,
   "id": "64d10d01-6e38-49c6-90d4-1be8da5aa2a7",
   "metadata": {},
   "outputs": [],
   "source": [
    "ano_mes = extrator_bronze.encontrar_ano_mes(\"dadosabertosreceita\")\n",
    "local = f\"s3a://landing/dadosabertosreceita/{ano_mes}/empresas/*.csv\""
   ]
  },
  {
   "cell_type": "code",
   "execution_count": 5,
   "id": "2c637d90-6649-494c-838d-1dd7334cad02",
   "metadata": {},
   "outputs": [],
   "source": [
    "config_adicional = {\n",
    "    'sep': ';',\n",
    "    'encoding': 'latin1'\n",
    "}"
   ]
  },
  {
   "cell_type": "markdown",
   "id": "ad191c74-4bc4-4459-9b37-01a67ef2ddef",
   "metadata": {},
   "source": [
    "# Leitura do arquivo"
   ]
  },
  {
   "cell_type": "code",
   "execution_count": 6,
   "id": "eb2a856a-cd4f-4d99-93e5-b957403470d5",
   "metadata": {},
   "outputs": [
    {
     "name": "stderr",
     "output_type": "stream",
     "text": [
      "2024-10-15 07:38:26,791 - INFO - Lista de yaml carregada com sucesso\n",
      "2024-10-15 07:38:30,176 - INFO - Criando view temporaria.\n"
     ]
    }
   ],
   "source": [
    "df_compliance_receita_empresas  = extrator_bronze.criar_view_temporaria_arquivo(local,'compliance_empresas', schema,**config_adicional)"
   ]
  },
  {
   "cell_type": "markdown",
   "id": "287354f6-e59e-439e-b2f2-5c51465027c8",
   "metadata": {},
   "source": [
    "# Gravação no datalake"
   ]
  },
  {
   "cell_type": "code",
   "execution_count": 7,
   "id": "4ee559f7-5ec9-463f-affe-8c65af8d03ff",
   "metadata": {},
   "outputs": [],
   "source": [
    "extrator_bronze.caminho_tabela_delta = 's3a://bronze/dadosabertosreceita/empresas'"
   ]
  },
  {
   "cell_type": "code",
   "execution_count": 8,
   "id": "afb20946-6a0e-4cb7-9a99-940375d68089",
   "metadata": {},
   "outputs": [
    {
     "name": "stderr",
     "output_type": "stream",
     "text": [
      "2024-10-15 07:38:30,187 - INFO - Aguarde... Persistindo dados (overwrite)\n",
      "2024-10-15 07:39:20,889 - INFO - Dados persistidos com sucesso\n",
      "2024-10-15 07:39:20,890 - INFO - s3a://bronze/dadosabertosreceita/empresas\n",
      "2024-10-15 07:39:20,890 - INFO - Aguarde... Realizando optimize\n",
      "2024-10-15 07:41:27,138 - INFO - Optimize executado com sucesso.\n",
      "2024-10-15 07:41:27,140 - INFO - Aguarde... Realizando vacuum\n",
      "2024-10-15 07:41:45,814 - INFO - Vacuum executado com sucesso.\n"
     ]
    }
   ],
   "source": [
    "extrator_bronze.salvar_delta(df_compliance_receita_empresas, 'overwrite')"
   ]
  },
  {
   "cell_type": "markdown",
   "id": "204fc38e-d97f-4ba5-8d98-c1ffcd07dc7f",
   "metadata": {},
   "source": [
    "# Encerra sessão spark"
   ]
  },
  {
   "cell_type": "code",
   "execution_count": 9,
   "id": "eb909129-dd70-46da-a2eb-0eb681aa0c21",
   "metadata": {},
   "outputs": [
    {
     "name": "stderr",
     "output_type": "stream",
     "text": [
      "2024-10-15 07:41:46,273 - INFO - Sessão Spark finalizada.\n"
     ]
    }
   ],
   "source": [
    "extrator_bronze.parar_sessao()"
   ]
  }
 ],
 "metadata": {
  "kernelspec": {
   "display_name": "Python 3 (ipykernel)",
   "language": "python",
   "name": "python3"
  },
  "language_info": {
   "codemirror_mode": {
    "name": "ipython",
    "version": 3
   },
   "file_extension": ".py",
   "mimetype": "text/x-python",
   "name": "python",
   "nbconvert_exporter": "python",
   "pygments_lexer": "ipython3",
   "version": "3.11.9"
  }
 },
 "nbformat": 4,
 "nbformat_minor": 5
}
