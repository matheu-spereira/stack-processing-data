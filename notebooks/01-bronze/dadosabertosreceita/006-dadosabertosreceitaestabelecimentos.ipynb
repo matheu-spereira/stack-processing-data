{
 "cells": [
  {
   "cell_type": "markdown",
   "id": "30ce4023-ff29-4de6-9f65-529748a9e076",
   "metadata": {},
   "source": [
    "# Importação das bibliotecas necessárias"
   ]
  },
  {
   "cell_type": "code",
   "execution_count": 1,
   "id": "dab8b8dc-67ba-4ca1-8775-61b08adb510f",
   "metadata": {},
   "outputs": [],
   "source": [
    "import sys\n",
    "import os\n",
    "sys.path.append('/home/jovyan/work')\n",
    "\n",
    "from utils.AlinharETL import AlinharETL\n",
    "from pyspark.sql import types as T"
   ]
  },
  {
   "cell_type": "markdown",
   "id": "4e681a58-78e0-4cfc-8083-2a83d76ba32d",
   "metadata": {},
   "source": [
    "# Crie uma instância da classe AlinharETL"
   ]
  },
  {
   "cell_type": "code",
   "execution_count": 2,
   "id": "2163db01-79e7-4bab-86d0-686ea5dae3e9",
   "metadata": {},
   "outputs": [
    {
     "name": "stderr",
     "output_type": "stream",
     "text": [
      "2024-10-15 07:42:08,472 - INFO - Iniciando Sessão Spark.\n"
     ]
    }
   ],
   "source": [
    "# Crie uma instância da classe\n",
    "bucket = \"bronze\"\n",
    "datamart = \"dadosabertosreceita\"\n",
    "extrator_bronze = AlinharETL(bucket,datamart)"
   ]
  },
  {
   "cell_type": "markdown",
   "id": "a35bb54e-c74e-48ed-ab09-46f4060b75d8",
   "metadata": {},
   "source": [
    "# Parâmetros para leitura do arquivo"
   ]
  },
  {
   "cell_type": "code",
   "execution_count": 3,
   "id": "adf0a5a1-e012-4e17-a6d3-c063880c841a",
   "metadata": {},
   "outputs": [],
   "source": [
    "schema = T.StructType([\n",
    "    T.StructField(\"cnpj_basico\", T.StringType(), True),\n",
    "    T.StructField(\"cnpj_ordem\", T.StringType(), True),\n",
    "    T.StructField(\"cnpj_dv\", T.StringType(), True),\n",
    "    T.StructField(\"id_matriz_filial\", T.StringType(), True),\n",
    "    T.StructField(\"nome_fantasia\", T.StringType(), True),\n",
    "    T.StructField(\"situacao_cadastral\", T.StringType(), True),\n",
    "    T.StructField(\"data_situacao_cadastral\", T.StringType(), True),\n",
    "    T.StructField(\"motivo_situacao_cadastral\", T.StringType(), True),\n",
    "    T.StructField(\"nome_cidade_exterior\", T.StringType(), True),\n",
    "    T.StructField(\"pais\", T.StringType(), True),\n",
    "    T.StructField(\"data_inicio_atividade\", T.StringType(), True),\n",
    "    T.StructField(\"cnae_fiscal_principal\", T.StringType(), True),\n",
    "    T.StructField(\"cnae_fiscal_secundaria\", T.StringType(), True),\n",
    "    T.StructField(\"tipo_logradouro\", T.StringType(), True),\n",
    "    T.StructField(\"logradouro\", T.StringType(), True),\n",
    "    T.StructField(\"numero\", T.StringType(), True),\n",
    "    T.StructField(\"complemento\", T.StringType(), True),\n",
    "    T.StructField(\"bairro\", T.StringType(), True),\n",
    "    T.StructField(\"cep\", T.StringType(), True),\n",
    "    T.StructField(\"uf\", T.StringType(), True),\n",
    "    T.StructField(\"municipio\", T.StringType(), True),\n",
    "    T.StructField(\"ddd_1\", T.StringType(), True),\n",
    "    T.StructField(\"telefone_1\", T.StringType(), True),\n",
    "    T.StructField(\"ddd_2\", T.StringType(), True),\n",
    "    T.StructField(\"telefone_2\", T.StringType(), True),\n",
    "    T.StructField(\"ddd_fax\", T.StringType(), True),\n",
    "    T.StructField(\"fax\", T.StringType(), True),\n",
    "    T.StructField(\"correio_eletronico\", T.StringType(), True),\n",
    "    T.StructField(\"situacao_especial\", T.StringType(), True),\n",
    "    T.StructField(\"data_situacao_especial\", T.StringType(), True),\n",
    "])"
   ]
  },
  {
   "cell_type": "code",
   "execution_count": 4,
   "id": "8f095588-91e4-4179-907e-33f2718bf379",
   "metadata": {},
   "outputs": [],
   "source": [
    "ano_mes = extrator_bronze.encontrar_ano_mes(\"dadosabertosreceita\")\n",
    "local = f\"s3a://landing/dadosabertosreceita/{ano_mes}/estabelecimentos/*.csv\""
   ]
  },
  {
   "cell_type": "code",
   "execution_count": 5,
   "id": "4b00857e-fd0b-4195-ae22-f55033ce3cfb",
   "metadata": {},
   "outputs": [],
   "source": [
    "config_adicional = {\n",
    "    'sep': ';',\n",
    "    'encoding': 'latin1'\n",
    "}"
   ]
  },
  {
   "cell_type": "markdown",
   "id": "4f594fa8-8f57-4115-ba1b-212893085aa5",
   "metadata": {},
   "source": [
    "# Leitura do arquivo"
   ]
  },
  {
   "cell_type": "code",
   "execution_count": 6,
   "id": "eb2a856a-cd4f-4d99-93e5-b957403470d5",
   "metadata": {},
   "outputs": [
    {
     "name": "stderr",
     "output_type": "stream",
     "text": [
      "2024-10-15 07:42:12,647 - INFO - Lista de yaml carregada com sucesso\n",
      "2024-10-15 07:42:16,254 - INFO - Criando view temporaria.\n"
     ]
    }
   ],
   "source": [
    "df_compliance_receita_estabelecimentos  = extrator_bronze.criar_view_temporaria_arquivo(local, 'compliance_estabelecimentos',schema,**config_adicional)"
   ]
  },
  {
   "cell_type": "markdown",
   "id": "0d3b81b6-4dba-4d6a-a563-af5cd04707c1",
   "metadata": {},
   "source": [
    "# Gravação no datalake"
   ]
  },
  {
   "cell_type": "code",
   "execution_count": 7,
   "id": "4ee559f7-5ec9-463f-affe-8c65af8d03ff",
   "metadata": {},
   "outputs": [],
   "source": [
    "extrator_bronze.caminho_tabela_delta = 's3a://bronze/dadosabertosreceita/estabelecimentos'"
   ]
  },
  {
   "cell_type": "code",
   "execution_count": 8,
   "id": "afb20946-6a0e-4cb7-9a99-940375d68089",
   "metadata": {},
   "outputs": [
    {
     "name": "stderr",
     "output_type": "stream",
     "text": [
      "2024-10-15 07:42:16,267 - INFO - Aguarde... Persistindo dados (overwrite)\n",
      "2024-10-15 07:44:16,278 - INFO - Dados persistidos com sucesso\n",
      "2024-10-15 07:44:16,280 - INFO - s3a://bronze/dadosabertosreceita/estabelecimentos\n",
      "2024-10-15 07:44:16,281 - INFO - Aguarde... Realizando optimize\n",
      "2024-10-15 07:48:39,587 - INFO - Optimize executado com sucesso.\n",
      "2024-10-15 07:48:39,590 - INFO - Aguarde... Realizando vacuum\n",
      "2024-10-15 07:48:57,987 - INFO - Vacuum executado com sucesso.\n"
     ]
    }
   ],
   "source": [
    "extrator_bronze.salvar_delta(df_compliance_receita_estabelecimentos, 'overwrite')"
   ]
  },
  {
   "cell_type": "markdown",
   "id": "c9baaaac-5df2-43dc-a6ec-e2a0bf7f8e6f",
   "metadata": {},
   "source": [
    "# Encerra sessão spark"
   ]
  },
  {
   "cell_type": "code",
   "execution_count": 9,
   "id": "eb909129-dd70-46da-a2eb-0eb681aa0c21",
   "metadata": {},
   "outputs": [
    {
     "name": "stderr",
     "output_type": "stream",
     "text": [
      "2024-10-15 07:48:58,352 - INFO - Sessão Spark finalizada.\n"
     ]
    }
   ],
   "source": [
    "extrator_bronze.parar_sessao()"
   ]
  }
 ],
 "metadata": {
  "kernelspec": {
   "display_name": "Python 3 (ipykernel)",
   "language": "python",
   "name": "python3"
  },
  "language_info": {
   "codemirror_mode": {
    "name": "ipython",
    "version": 3
   },
   "file_extension": ".py",
   "mimetype": "text/x-python",
   "name": "python",
   "nbconvert_exporter": "python",
   "pygments_lexer": "ipython3",
   "version": "3.11.9"
  }
 },
 "nbformat": 4,
 "nbformat_minor": 5
}
