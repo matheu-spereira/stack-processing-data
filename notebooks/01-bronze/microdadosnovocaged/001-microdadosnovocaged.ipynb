{
 "cells": [
  {
   "cell_type": "markdown",
   "id": "aef43258-19dc-49d3-af3f-0ebba8b53e1f",
   "metadata": {},
   "source": [
    "# Importação das bibliotecas necessárias"
   ]
  },
  {
   "cell_type": "code",
   "execution_count": 1,
   "id": "dab8b8dc-67ba-4ca1-8775-61b08adb510f",
   "metadata": {},
   "outputs": [],
   "source": [
    "import sys\n",
    "import os\n",
    "sys.path.append('/home/jovyan/work')\n",
    "\n",
    "from utils.AlinharETL import AlinharETL\n",
    "from pyspark.sql import types as T"
   ]
  },
  {
   "cell_type": "markdown",
   "id": "6e1d6f61-2b66-4875-aac4-9485397fc2db",
   "metadata": {},
   "source": [
    "# Crie uma instância da classe AlinharETL"
   ]
  },
  {
   "cell_type": "code",
   "execution_count": 2,
   "id": "2163db01-79e7-4bab-86d0-686ea5dae3e9",
   "metadata": {},
   "outputs": [
    {
     "name": "stderr",
     "output_type": "stream",
     "text": [
      "2024-10-15 07:49:48,974 - INFO - Iniciando Sessão Spark.\n"
     ]
    }
   ],
   "source": [
    "# Crie uma instância da classe\n",
    "bucket = \"bronze\"\n",
    "datamart = \"microdadosnovocaged\"\n",
    "extrator_bronze = AlinharETL(bucket,datamart)"
   ]
  },
  {
   "cell_type": "markdown",
   "id": "28eb9187-a025-417f-92ef-71bd6f249b8c",
   "metadata": {},
   "source": [
    "# Parâmetros para leitura do arquivo"
   ]
  },
  {
   "cell_type": "code",
   "execution_count": 3,
   "id": "d663d43b-75d3-4b01-9951-602574f6b767",
   "metadata": {},
   "outputs": [],
   "source": [
    "schema = T.StructType([\n",
    "    T.StructField(\"competenciamov\", T.StringType(), True),\n",
    "    T.StructField(\"regiao\", T.StringType(), True),\n",
    "    T.StructField(\"uf\", T.StringType(), True),\n",
    "    T.StructField(\"municipio\", T.StringType(), True),\n",
    "    T.StructField(\"secao\", T.StringType(), True),\n",
    "    T.StructField(\"subclasse\", T.StringType(), True),\n",
    "    T.StructField(\"saldomovimentacao\", T.StringType(), True),\n",
    "    T.StructField(\"cbo2002ocupacao\", T.StringType(), True),\n",
    "    T.StructField(\"categoria\", T.StringType(), True),\n",
    "    T.StructField(\"graudeinstrucao\", T.StringType(), True),\n",
    "    T.StructField(\"idade\", T.StringType(), True),\n",
    "    T.StructField(\"horascontratuais\", T.StringType(), True),\n",
    "    T.StructField(\"racacor\", T.StringType(), True),\n",
    "    T.StructField(\"sexo\", T.StringType(), True),\n",
    "    T.StructField(\"tipoempregador\", T.StringType(), True),\n",
    "    T.StructField(\"tipoestabelecimento\", T.StringType(), True),\n",
    "    T.StructField(\"tipomovimentacao\", T.StringType(), True),\n",
    "    T.StructField(\"tipodedeficiencia\", T.StringType(), True),\n",
    "    T.StructField(\"indtrabintermitente\", T.StringType(), True),\n",
    "    T.StructField(\"indtrabparcial\", T.StringType(), True),\n",
    "    T.StructField(\"salario\", T.StringType(), True),\n",
    "    T.StructField(\"tamestabjan\", T.StringType(), True),\n",
    "    T.StructField(\"indicadoraprendiz\", T.StringType(), True),\n",
    "    T.StructField(\"origemdainformacao\", T.StringType(), True),\n",
    "    T.StructField(\"competenciadec\", T.StringType(), True),\n",
    "    T.StructField(\"indicadordeforadoprazo\", T.StringType(), True),\n",
    "    T.StructField(\"unidadesalariocodigo\", T.StringType(), True),\n",
    "    T.StructField(\"valorsalariofixo\", T.StringType(), True),\n",
    "])"
   ]
  },
  {
   "cell_type": "code",
   "execution_count": 4,
   "id": "aca9b6c6-ee24-4e33-8c24-44466bc062fd",
   "metadata": {},
   "outputs": [],
   "source": [
    "local = f\"s3a://landing/novocaged/microdadosnovocaged/*.txt\""
   ]
  },
  {
   "cell_type": "code",
   "execution_count": 5,
   "id": "74c1becb-4fa1-4785-8f28-417e2e93d52d",
   "metadata": {},
   "outputs": [],
   "source": [
    "config_adicional = {\n",
    "    'header': True,\n",
    "    'sep': ';'\n",
    "}"
   ]
  },
  {
   "cell_type": "markdown",
   "id": "dcfbd8ad-2ea0-42f3-8796-8e2b46a8b0d5",
   "metadata": {},
   "source": [
    "# Leitura do arquivo"
   ]
  },
  {
   "cell_type": "code",
   "execution_count": 6,
   "id": "e68387aa-11c4-4722-8965-f8d58d954888",
   "metadata": {},
   "outputs": [
    {
     "name": "stderr",
     "output_type": "stream",
     "text": [
      "2024-10-15 07:49:53,242 - INFO - Lista de yaml carregada com sucesso\n",
      "2024-10-15 07:49:56,946 - INFO - Criando view temporaria.\n"
     ]
    }
   ],
   "source": [
    "df_compliance_caged = extrator_bronze.criar_view_temporaria_arquivo(local, 'compliance_caged', schema, **config_adicional)"
   ]
  },
  {
   "cell_type": "markdown",
   "id": "17fe4991-ca7b-4d8e-bd43-3453aaf15814",
   "metadata": {},
   "source": [
    "# Gravação no datalake"
   ]
  },
  {
   "cell_type": "code",
   "execution_count": 7,
   "id": "4ee559f7-5ec9-463f-affe-8c65af8d03ff",
   "metadata": {},
   "outputs": [],
   "source": [
    "extrator_bronze.caminho_tabela_delta = 's3a://bronze/novocaged/microdadosnovocaged'"
   ]
  },
  {
   "cell_type": "code",
   "execution_count": 8,
   "id": "afb20946-6a0e-4cb7-9a99-940375d68089",
   "metadata": {},
   "outputs": [
    {
     "name": "stderr",
     "output_type": "stream",
     "text": [
      "2024-10-15 07:49:56,956 - INFO - Aguarde... Persistindo dados (overwrite)\n",
      "2024-10-15 07:51:31,132 - INFO - Dados persistidos com sucesso\n",
      "2024-10-15 07:51:31,133 - INFO - s3a://bronze/novocaged/microdadosnovocaged\n",
      "2024-10-15 07:51:31,134 - INFO - Aguarde... Realizando optimize\n",
      "2024-10-15 08:03:51,588 - INFO - Optimize executado com sucesso.\n",
      "2024-10-15 08:03:51,594 - INFO - Aguarde... Realizando vacuum\n",
      "2024-10-15 08:04:13,340 - INFO - Vacuum executado com sucesso.\n"
     ]
    }
   ],
   "source": [
    "extrator_bronze.salvar_delta(df_compliance_caged, 'overwrite')"
   ]
  },
  {
   "cell_type": "markdown",
   "id": "63697169-5451-4971-aee8-a832eab0438f",
   "metadata": {},
   "source": [
    "# Encerra sessão spark"
   ]
  },
  {
   "cell_type": "code",
   "execution_count": 9,
   "id": "eb909129-dd70-46da-a2eb-0eb681aa0c21",
   "metadata": {},
   "outputs": [
    {
     "name": "stderr",
     "output_type": "stream",
     "text": [
      "2024-10-15 08:04:13,494 - INFO - Sessão Spark finalizada.\n"
     ]
    }
   ],
   "source": [
    "extrator_bronze.parar_sessao()"
   ]
  }
 ],
 "metadata": {
  "kernelspec": {
   "display_name": "Python 3 (ipykernel)",
   "language": "python",
   "name": "python3"
  },
  "language_info": {
   "codemirror_mode": {
    "name": "ipython",
    "version": 3
   },
   "file_extension": ".py",
   "mimetype": "text/x-python",
   "name": "python",
   "nbconvert_exporter": "python",
   "pygments_lexer": "ipython3",
   "version": "3.11.9"
  }
 },
 "nbformat": 4,
 "nbformat_minor": 5
}
