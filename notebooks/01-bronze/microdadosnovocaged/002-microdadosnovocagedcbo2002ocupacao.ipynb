{
 "cells": [
  {
   "cell_type": "markdown",
   "id": "03b3606a-183a-4c7f-8775-48906100f804",
   "metadata": {},
   "source": [
    "# Importação das bibliotecas necessárias"
   ]
  },
  {
   "cell_type": "code",
   "execution_count": 1,
   "id": "dab8b8dc-67ba-4ca1-8775-61b08adb510f",
   "metadata": {},
   "outputs": [],
   "source": [
    "import sys\n",
    "import os\n",
    "sys.path.append('/home/jovyan/work')\n",
    "\n",
    "from utils.AlinharETL import AlinharETL"
   ]
  },
  {
   "cell_type": "markdown",
   "id": "d89644f7-5780-468e-94b3-a6df858db37a",
   "metadata": {},
   "source": [
    "# Crie uma instância da classe AlinharETL"
   ]
  },
  {
   "cell_type": "code",
   "execution_count": 2,
   "id": "07968d90-16d2-4f4f-b3a7-b39345ea047c",
   "metadata": {},
   "outputs": [
    {
     "name": "stderr",
     "output_type": "stream",
     "text": [
      "2024-10-15 10:04:58,517 - INFO - Iniciando Sessão Spark.\n"
     ]
    }
   ],
   "source": [
    "# Crie uma instância da classe\n",
    "bucket = \"bronze\"\n",
    "datamart = \"microdadosnovocaged\"\n",
    "extrator_bronze = AlinharETL(bucket,f\"{datamart}/layout\")"
   ]
  },
  {
   "cell_type": "markdown",
   "id": "8c9e3dd2-ff04-4b65-ab6d-cc712d7f44c5",
   "metadata": {},
   "source": [
    "# Parâmetros para leitura do arquivo"
   ]
  },
  {
   "cell_type": "code",
   "execution_count": 3,
   "id": "f2670664-ca43-4367-8e4e-065bfa69e977",
   "metadata": {},
   "outputs": [],
   "source": [
    "local = f\"s3a://landing/novocaged/microdadosnovocagedlayout/Layout Não-identificado Novo Caged Movimentação.xlsx\""
   ]
  },
  {
   "cell_type": "code",
   "execution_count": 4,
   "id": "1cec959d-79cf-4ad5-8d79-bb35aef21b93",
   "metadata": {},
   "outputs": [],
   "source": [
    "config_adicional = {\n",
    "    'header': True,\n",
    "    'inferSchema': 'true'\n",
    "}"
   ]
  },
  {
   "cell_type": "markdown",
   "id": "021cd876-f38f-4da0-b65a-d1f2f326ce63",
   "metadata": {},
   "source": [
    "# Leitura do arquivo"
   ]
  },
  {
   "cell_type": "code",
   "execution_count": 5,
   "id": "91dcd805-16f5-4afb-8cf6-5d55a7e88551",
   "metadata": {},
   "outputs": [
    {
     "name": "stderr",
     "output_type": "stream",
     "text": [
      "2024-10-15 10:05:02,522 - INFO - Lista de yaml carregada com sucesso\n",
      "2024-10-15 10:05:08,242 - INFO - Criando view temporaria.\n"
     ]
    }
   ],
   "source": [
    "df = extrator_bronze.criar_view_temporaria_arquivo(local, 'compliance_caged_cbo2002ocupacao', schema=None, aba='cbo2002ocupação',**config_adicional)"
   ]
  },
  {
   "cell_type": "markdown",
   "id": "96252ed4-79a4-4504-883f-f7693926a9f4",
   "metadata": {},
   "source": [
    "# Gravação no datalake"
   ]
  },
  {
   "cell_type": "code",
   "execution_count": 6,
   "id": "4565a57e-8bb0-47bb-b2c4-4870dad84b97",
   "metadata": {},
   "outputs": [],
   "source": [
    "extrator_bronze.caminho_tabela_delta = 's3a://bronze/novocaged/microdadosnovocagedcbo2002ocupacao'"
   ]
  },
  {
   "cell_type": "code",
   "execution_count": 7,
   "id": "a2ed5596-97d9-4dc3-9b2c-4d0e1e2ff35f",
   "metadata": {},
   "outputs": [
    {
     "name": "stderr",
     "output_type": "stream",
     "text": [
      "2024-10-15 10:05:08,254 - INFO - Aguarde... Persistindo dados (overwrite)\n",
      "2024-10-15 10:05:18,599 - INFO - Dados persistidos com sucesso\n",
      "2024-10-15 10:05:18,600 - INFO - s3a://bronze/novocaged/microdadosnovocagedcbo2002ocupacao\n",
      "2024-10-15 10:05:18,600 - INFO - Aguarde... Realizando optimize\n",
      "2024-10-15 10:05:30,944 - INFO - Optimize executado com sucesso.\n",
      "2024-10-15 10:05:30,945 - INFO - Aguarde... Realizando vacuum\n",
      "2024-10-15 10:05:59,338 - INFO - Vacuum executado com sucesso.\n"
     ]
    }
   ],
   "source": [
    "extrator_bronze.salvar_delta(df, 'overwrite')"
   ]
  },
  {
   "cell_type": "markdown",
   "id": "623ad032-62b8-4652-8567-9f40b27393c7",
   "metadata": {},
   "source": [
    "# Encerra sessão spark"
   ]
  },
  {
   "cell_type": "code",
   "execution_count": 8,
   "id": "1c2b1a72-308e-43e3-a05e-468ca56795c0",
   "metadata": {},
   "outputs": [
    {
     "name": "stderr",
     "output_type": "stream",
     "text": [
      "2024-10-15 10:05:59,439 - INFO - Sessão Spark finalizada.\n"
     ]
    }
   ],
   "source": [
    "extrator_bronze.parar_sessao()"
   ]
  }
 ],
 "metadata": {
  "kernelspec": {
   "display_name": "Python 3 (ipykernel)",
   "language": "python",
   "name": "python3"
  },
  "language_info": {
   "codemirror_mode": {
    "name": "ipython",
    "version": 3
   },
   "file_extension": ".py",
   "mimetype": "text/x-python",
   "name": "python",
   "nbconvert_exporter": "python",
   "pygments_lexer": "ipython3",
   "version": "3.11.9"
  }
 },
 "nbformat": 4,
 "nbformat_minor": 5
}
