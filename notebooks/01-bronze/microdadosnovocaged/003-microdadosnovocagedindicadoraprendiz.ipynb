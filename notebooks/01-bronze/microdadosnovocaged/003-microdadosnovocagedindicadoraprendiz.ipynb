{
 "cells": [
  {
   "cell_type": "markdown",
   "id": "2a159c00-9d9d-40a1-adcc-e260f6a37f63",
   "metadata": {},
   "source": [
    "# Importação das bibliotecas necessárias"
   ]
  },
  {
   "cell_type": "code",
   "execution_count": 1,
   "id": "dab8b8dc-67ba-4ca1-8775-61b08adb510f",
   "metadata": {},
   "outputs": [],
   "source": [
    "import sys\n",
    "import os\n",
    "sys.path.append('/home/jovyan/work')\n",
    "\n",
    "from utils.AlinharETL import AlinharETL"
   ]
  },
  {
   "cell_type": "markdown",
   "id": "b21c929d-a7a4-4a82-b0d7-a4b78c12ac48",
   "metadata": {},
   "source": [
    "# Crie uma instância da classe AlinharETL"
   ]
  },
  {
   "cell_type": "code",
   "execution_count": 2,
   "id": "07968d90-16d2-4f4f-b3a7-b39345ea047c",
   "metadata": {},
   "outputs": [
    {
     "name": "stderr",
     "output_type": "stream",
     "text": [
      "2024-10-15 10:06:13,868 - INFO - Iniciando Sessão Spark.\n"
     ]
    }
   ],
   "source": [
    "# Crie uma instância da classe\n",
    "bucket = \"bronze\"\n",
    "datamart = \"microdadosnovocaged\"\n",
    "extrator_bronze = AlinharETL(bucket,f\"{datamart}/layout\")"
   ]
  },
  {
   "cell_type": "markdown",
   "id": "8ed3e835-bbe9-4a74-883b-0a60e9d3e115",
   "metadata": {},
   "source": [
    "# Parâmetros para leitura do arquivo"
   ]
  },
  {
   "cell_type": "code",
   "execution_count": 3,
   "id": "432dd6f9-08ae-4545-a5f0-7559e16de1a3",
   "metadata": {},
   "outputs": [],
   "source": [
    "local = f\"s3a://landing/novocaged/microdadosnovocagedlayout/Layout Não-identificado Novo Caged Movimentação.xlsx\""
   ]
  },
  {
   "cell_type": "code",
   "execution_count": 4,
   "id": "4486aefd-27e0-4ace-be02-3af5bdbb087c",
   "metadata": {},
   "outputs": [],
   "source": [
    "config_adicional = {\n",
    "    'header': True,\n",
    "    'inferSchema': 'true'\n",
    "}"
   ]
  },
  {
   "cell_type": "markdown",
   "id": "fa0b2460-b8da-479c-bfef-57162c7d35a3",
   "metadata": {},
   "source": [
    "# Leitura do arquivo"
   ]
  },
  {
   "cell_type": "code",
   "execution_count": 5,
   "id": "91dcd805-16f5-4afb-8cf6-5d55a7e88551",
   "metadata": {},
   "outputs": [
    {
     "name": "stderr",
     "output_type": "stream",
     "text": [
      "2024-10-15 10:06:20,944 - INFO - Lista de yaml carregada com sucesso\n",
      "2024-10-15 10:07:57,128 - INFO - Criando view temporaria.\n"
     ]
    }
   ],
   "source": [
    "df = extrator_bronze.criar_view_temporaria_arquivo(local, 'compliance_caged_indicadoraprendiz', schema=None, aba='indicadoraprendiz',**config_adicional)"
   ]
  },
  {
   "cell_type": "markdown",
   "id": "0a1b33f5-6b10-40bc-913e-8117f5e7d68c",
   "metadata": {},
   "source": [
    "# Gravação no datalake"
   ]
  },
  {
   "cell_type": "code",
   "execution_count": 6,
   "id": "4565a57e-8bb0-47bb-b2c4-4870dad84b97",
   "metadata": {},
   "outputs": [],
   "source": [
    "extrator_bronze.caminho_tabela_delta = 's3a://bronze/novocaged/microdadosnovocagedindicadoraprendiz'"
   ]
  },
  {
   "cell_type": "code",
   "execution_count": 7,
   "id": "a2ed5596-97d9-4dc3-9b2c-4d0e1e2ff35f",
   "metadata": {},
   "outputs": [
    {
     "name": "stderr",
     "output_type": "stream",
     "text": [
      "2024-10-15 10:07:57,139 - INFO - Aguarde... Persistindo dados (overwrite)\n",
      "2024-10-15 10:08:07,645 - INFO - Dados persistidos com sucesso\n",
      "2024-10-15 10:08:07,646 - INFO - s3a://bronze/novocaged/microdadosnovocagedindicadoraprendiz\n",
      "2024-10-15 10:08:07,647 - INFO - Aguarde... Realizando optimize\n",
      "2024-10-15 10:08:15,350 - INFO - Optimize executado com sucesso.\n",
      "2024-10-15 10:08:15,352 - INFO - Aguarde... Realizando vacuum\n",
      "2024-10-15 10:08:40,814 - INFO - Vacuum executado com sucesso.\n"
     ]
    }
   ],
   "source": [
    "extrator_bronze.salvar_delta(df, 'overwrite')"
   ]
  },
  {
   "cell_type": "markdown",
   "id": "e8011da8-345d-4351-9ea7-aad2a0e48958",
   "metadata": {},
   "source": [
    "# Encerra sessão spark"
   ]
  },
  {
   "cell_type": "code",
   "execution_count": 8,
   "id": "1c2b1a72-308e-43e3-a05e-468ca56795c0",
   "metadata": {},
   "outputs": [
    {
     "name": "stderr",
     "output_type": "stream",
     "text": [
      "2024-10-15 10:08:41,311 - INFO - Sessão Spark finalizada.\n"
     ]
    }
   ],
   "source": [
    "extrator_bronze.parar_sessao()"
   ]
  }
 ],
 "metadata": {
  "kernelspec": {
   "display_name": "Python 3 (ipykernel)",
   "language": "python",
   "name": "python3"
  },
  "language_info": {
   "codemirror_mode": {
    "name": "ipython",
    "version": 3
   },
   "file_extension": ".py",
   "mimetype": "text/x-python",
   "name": "python",
   "nbconvert_exporter": "python",
   "pygments_lexer": "ipython3",
   "version": "3.11.9"
  }
 },
 "nbformat": 4,
 "nbformat_minor": 5
}
