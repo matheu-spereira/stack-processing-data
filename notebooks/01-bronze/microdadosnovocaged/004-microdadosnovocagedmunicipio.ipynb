{
 "cells": [
  {
   "cell_type": "markdown",
   "id": "0644da38-9539-4379-8ee9-ecda3b00aab2",
   "metadata": {},
   "source": [
    "# Importação das bibliotecas necessárias"
   ]
  },
  {
   "cell_type": "code",
   "execution_count": 1,
   "id": "dab8b8dc-67ba-4ca1-8775-61b08adb510f",
   "metadata": {},
   "outputs": [],
   "source": [
    "import sys\n",
    "import os\n",
    "sys.path.append('/home/jovyan/work')\n",
    "\n",
    "from utils.AlinharETL import AlinharETL"
   ]
  },
  {
   "cell_type": "markdown",
   "id": "842c422e-66cd-4d8f-b56d-a654e798ee04",
   "metadata": {},
   "source": [
    "# Crie uma instância da classe AlinharETL"
   ]
  },
  {
   "cell_type": "code",
   "execution_count": 2,
   "id": "07968d90-16d2-4f4f-b3a7-b39345ea047c",
   "metadata": {},
   "outputs": [
    {
     "name": "stderr",
     "output_type": "stream",
     "text": [
      "2024-10-15 10:02:31,388 - INFO - Iniciando Sessão Spark.\n"
     ]
    }
   ],
   "source": [
    "# Crie uma instância da classe\n",
    "bucket = \"bronze\"\n",
    "datamart = \"microdadosnovocaged\"\n",
    "extrator_bronze = AlinharETL(bucket,f\"{datamart}/layout\")"
   ]
  },
  {
   "cell_type": "markdown",
   "id": "fce1e593-69c1-426f-9f83-a870bd426175",
   "metadata": {},
   "source": [
    "# Parâmetros para leitura do arquivo"
   ]
  },
  {
   "cell_type": "code",
   "execution_count": 3,
   "id": "16c7d5d8-9388-4950-bfff-9725da409b0d",
   "metadata": {},
   "outputs": [],
   "source": [
    "local = f\"s3a://landing/novocaged/microdadosnovocagedlayout/Layout Não-identificado Novo Caged Movimentação.xlsx\""
   ]
  },
  {
   "cell_type": "code",
   "execution_count": 4,
   "id": "ed159449-60fe-4eef-abd0-fbfd6bd1eff4",
   "metadata": {},
   "outputs": [],
   "source": [
    "config_adicional = {\n",
    "    'header': True,\n",
    "    'inferSchema': 'true',\n",
    "}"
   ]
  },
  {
   "cell_type": "markdown",
   "id": "f59de75c-868f-4365-a0ca-e4b42d3a8990",
   "metadata": {},
   "source": [
    "# Leitura do arquivo"
   ]
  },
  {
   "cell_type": "code",
   "execution_count": 5,
   "id": "dc574cbd-37dd-499b-8e9f-cbaac1ebb395",
   "metadata": {},
   "outputs": [
    {
     "name": "stderr",
     "output_type": "stream",
     "text": [
      "2024-10-15 10:02:35,537 - INFO - Lista de yaml carregada com sucesso\n",
      "2024-10-15 10:02:41,338 - INFO - Criando view temporaria.\n"
     ]
    }
   ],
   "source": [
    "df = extrator_bronze.criar_view_temporaria_arquivo(local, 'compliance_caged_municipio', schema=None, aba='município', **config_adicional)"
   ]
  },
  {
   "cell_type": "markdown",
   "id": "a03722c5-f65f-4a42-a66b-5710d9714a42",
   "metadata": {},
   "source": [
    "# Gravação no datalake"
   ]
  },
  {
   "cell_type": "code",
   "execution_count": 6,
   "id": "4565a57e-8bb0-47bb-b2c4-4870dad84b97",
   "metadata": {},
   "outputs": [],
   "source": [
    "extrator_bronze.caminho_tabela_delta = 's3a://bronze/novocaged/microdadosnovocagedmunicio'"
   ]
  },
  {
   "cell_type": "code",
   "execution_count": 7,
   "id": "a2ed5596-97d9-4dc3-9b2c-4d0e1e2ff35f",
   "metadata": {},
   "outputs": [
    {
     "name": "stderr",
     "output_type": "stream",
     "text": [
      "2024-10-15 10:02:41,353 - INFO - Aguarde... Persistindo dados (overwrite)\n",
      "2024-10-15 10:03:06,199 - INFO - Dados persistidos com sucesso\n",
      "2024-10-15 10:03:06,200 - INFO - s3a://bronze/novocaged/microdadosnovocagedmunicio\n",
      "2024-10-15 10:03:06,201 - INFO - Aguarde... Realizando optimize\n",
      "2024-10-15 10:03:16,734 - INFO - Optimize executado com sucesso.\n",
      "2024-10-15 10:03:16,735 - INFO - Aguarde... Realizando vacuum\n",
      "2024-10-15 10:03:35,528 - INFO - Vacuum executado com sucesso.\n"
     ]
    }
   ],
   "source": [
    "extrator_bronze.salvar_delta(df, 'overwrite')"
   ]
  },
  {
   "cell_type": "markdown",
   "id": "1cc9bc70-5cbd-4b4c-9e30-c28180470bf7",
   "metadata": {},
   "source": [
    "# Encerra sessão spark"
   ]
  },
  {
   "cell_type": "code",
   "execution_count": 8,
   "id": "1c2b1a72-308e-43e3-a05e-468ca56795c0",
   "metadata": {},
   "outputs": [
    {
     "name": "stderr",
     "output_type": "stream",
     "text": [
      "2024-10-15 10:03:35,915 - INFO - Sessão Spark finalizada.\n"
     ]
    }
   ],
   "source": [
    "extrator_bronze.parar_sessao()"
   ]
  }
 ],
 "metadata": {
  "kernelspec": {
   "display_name": "Python 3 (ipykernel)",
   "language": "python",
   "name": "python3"
  },
  "language_info": {
   "codemirror_mode": {
    "name": "ipython",
    "version": 3
   },
   "file_extension": ".py",
   "mimetype": "text/x-python",
   "name": "python",
   "nbconvert_exporter": "python",
   "pygments_lexer": "ipython3",
   "version": "3.11.9"
  }
 },
 "nbformat": 4,
 "nbformat_minor": 5
}
