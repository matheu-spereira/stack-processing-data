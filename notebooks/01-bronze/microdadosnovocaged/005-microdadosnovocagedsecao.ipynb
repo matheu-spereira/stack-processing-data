{
 "cells": [
  {
   "cell_type": "markdown",
   "id": "7fdbe09a-81c6-4ac1-aec2-4e99e51bbf28",
   "metadata": {},
   "source": [
    "# Importação das bibliotecas necessárias"
   ]
  },
  {
   "cell_type": "code",
   "execution_count": 1,
   "id": "dab8b8dc-67ba-4ca1-8775-61b08adb510f",
   "metadata": {},
   "outputs": [],
   "source": [
    "import sys\n",
    "import os\n",
    "sys.path.append('/home/jovyan/work')\n",
    "\n",
    "from utils.AlinharETL import AlinharETL"
   ]
  },
  {
   "cell_type": "markdown",
   "id": "117f359d-084c-4559-a7bc-dd6143171ec3",
   "metadata": {},
   "source": [
    "# Crie uma instância da classe AlinharETL"
   ]
  },
  {
   "cell_type": "code",
   "execution_count": 2,
   "id": "07968d90-16d2-4f4f-b3a7-b39345ea047c",
   "metadata": {},
   "outputs": [
    {
     "name": "stderr",
     "output_type": "stream",
     "text": [
      "2024-10-15 08:13:55,743 - INFO - Iniciando Sessão Spark.\n"
     ]
    }
   ],
   "source": [
    "# Crie uma instância da classe\n",
    "bucket = \"bronze\"\n",
    "datamart = \"microdadosnovocaged\"\n",
    "extrator_bronze = AlinharETL(bucket,f\"{datamart}/layout\")"
   ]
  },
  {
   "cell_type": "markdown",
   "id": "9b46d8f3-3700-45a2-822c-fc60eb69ccf1",
   "metadata": {},
   "source": [
    "# Parâmetros para leitura do arquivo"
   ]
  },
  {
   "cell_type": "code",
   "execution_count": 3,
   "id": "9057866a-1521-4323-aa52-d3b3d7a0f072",
   "metadata": {},
   "outputs": [],
   "source": [
    "local = f\"s3a://landing/novocaged/microdadosnovocagedlayout/Layout Não-identificado Novo Caged Movimentação.xlsx\""
   ]
  },
  {
   "cell_type": "code",
   "execution_count": 4,
   "id": "790602ea-360a-421b-b647-c6e22e9fb155",
   "metadata": {},
   "outputs": [],
   "source": [
    "config_adicional = {\n",
    "    'header': True,\n",
    "    'inferSchema': 'true'\n",
    "}"
   ]
  },
  {
   "cell_type": "markdown",
   "id": "f4a777ba-ee6e-4bbc-baa2-360f89afce83",
   "metadata": {},
   "source": [
    "# Leitura do arquivo"
   ]
  },
  {
   "cell_type": "code",
   "execution_count": 5,
   "id": "91dcd805-16f5-4afb-8cf6-5d55a7e88551",
   "metadata": {},
   "outputs": [
    {
     "name": "stderr",
     "output_type": "stream",
     "text": [
      "2024-10-15 08:14:07,585 - INFO - Lista de yaml carregada com sucesso\n",
      "2024-10-15 08:18:21,312 - INFO - Criando view temporaria.\n"
     ]
    }
   ],
   "source": [
    "df = extrator_bronze.criar_view_temporaria_arquivo(local, 'compliance_caged_secao', schema=None, aba='seção',**config_adicional)"
   ]
  },
  {
   "cell_type": "markdown",
   "id": "949dde5c-1910-439b-9abd-c8b384977908",
   "metadata": {},
   "source": [
    "# Gravação no datalake"
   ]
  },
  {
   "cell_type": "code",
   "execution_count": 6,
   "id": "4565a57e-8bb0-47bb-b2c4-4870dad84b97",
   "metadata": {},
   "outputs": [],
   "source": [
    "extrator_bronze.caminho_tabela_delta = 's3a://bronze/novocaged/microdadosnovocagedsecao'"
   ]
  },
  {
   "cell_type": "code",
   "execution_count": 7,
   "id": "a2ed5596-97d9-4dc3-9b2c-4d0e1e2ff35f",
   "metadata": {},
   "outputs": [
    {
     "name": "stderr",
     "output_type": "stream",
     "text": [
      "2024-10-15 08:18:21,349 - INFO - Aguarde... Persistindo dados (overwrite)\n",
      "2024-10-15 08:18:37,135 - INFO - Dados persistidos com sucesso\n",
      "2024-10-15 08:18:37,137 - INFO - s3a://bronze/novocaged/microdadosnovocagedsecao\n",
      "2024-10-15 08:18:37,138 - INFO - Aguarde... Realizando optimize\n",
      "2024-10-15 08:18:46,695 - INFO - Optimize executado com sucesso.\n",
      "2024-10-15 08:18:46,696 - INFO - Aguarde... Realizando vacuum\n",
      "2024-10-15 08:19:13,980 - INFO - Vacuum executado com sucesso.\n"
     ]
    }
   ],
   "source": [
    "extrator_bronze.salvar_delta(df, 'overwrite')"
   ]
  },
  {
   "cell_type": "markdown",
   "id": "e18e7398-cb01-40d8-a613-c9a9b6b6e50b",
   "metadata": {},
   "source": [
    "# Encerra sessão spark"
   ]
  },
  {
   "cell_type": "code",
   "execution_count": 8,
   "id": "1c2b1a72-308e-43e3-a05e-468ca56795c0",
   "metadata": {},
   "outputs": [
    {
     "name": "stderr",
     "output_type": "stream",
     "text": [
      "2024-10-15 08:19:14,295 - INFO - Sessão Spark finalizada.\n"
     ]
    }
   ],
   "source": [
    "extrator_bronze.parar_sessao()"
   ]
  }
 ],
 "metadata": {
  "kernelspec": {
   "display_name": "Python 3 (ipykernel)",
   "language": "python",
   "name": "python3"
  },
  "language_info": {
   "codemirror_mode": {
    "name": "ipython",
    "version": 3
   },
   "file_extension": ".py",
   "mimetype": "text/x-python",
   "name": "python",
   "nbconvert_exporter": "python",
   "pygments_lexer": "ipython3",
   "version": "3.11.9"
  }
 },
 "nbformat": 4,
 "nbformat_minor": 5
}
