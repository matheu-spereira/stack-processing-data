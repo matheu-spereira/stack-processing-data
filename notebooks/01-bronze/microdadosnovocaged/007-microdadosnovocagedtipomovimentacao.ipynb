{
 "cells": [
  {
   "cell_type": "markdown",
   "id": "0a8c6356-b708-4d3c-baf8-e50bff78dd79",
   "metadata": {},
   "source": [
    "# Importação das bibliotecas necessárias"
   ]
  },
  {
   "cell_type": "code",
   "execution_count": 1,
   "id": "dab8b8dc-67ba-4ca1-8775-61b08adb510f",
   "metadata": {},
   "outputs": [],
   "source": [
    "import sys\n",
    "import os\n",
    "sys.path.append('/home/jovyan/work')\n",
    "\n",
    "from utils.AlinharETL import AlinharETL"
   ]
  },
  {
   "cell_type": "markdown",
   "id": "4dd367af-e134-4a5e-859a-bb90fb5f4f81",
   "metadata": {},
   "source": [
    "# Crie uma instância da classe AlinharETL"
   ]
  },
  {
   "cell_type": "code",
   "execution_count": 2,
   "id": "07968d90-16d2-4f4f-b3a7-b39345ea047c",
   "metadata": {},
   "outputs": [
    {
     "name": "stderr",
     "output_type": "stream",
     "text": [
      "2024-10-15 10:10:44,524 - INFO - Iniciando Sessão Spark.\n"
     ]
    }
   ],
   "source": [
    "# Crie uma instância da classe\n",
    "bucket = \"bronze\"\n",
    "datamart = \"microdadosnovocaged\"\n",
    "extrator_bronze = AlinharETL(bucket,f\"{datamart}/layout\")"
   ]
  },
  {
   "cell_type": "markdown",
   "id": "47f5240c-81d7-4993-a517-c4f8ea58d5d4",
   "metadata": {},
   "source": [
    "# Parâmetros para leitura do arquivo"
   ]
  },
  {
   "cell_type": "code",
   "execution_count": 3,
   "id": "24ab8a7d-99fb-49e8-a336-59c27acbeb0d",
   "metadata": {},
   "outputs": [],
   "source": [
    "local = f\"s3a://landing/novocaged/microdadosnovocagedlayout/Layout Não-identificado Novo Caged Movimentação.xlsx\""
   ]
  },
  {
   "cell_type": "code",
   "execution_count": 4,
   "id": "03e76991-d716-424d-95e9-8ab610c85886",
   "metadata": {},
   "outputs": [],
   "source": [
    "config_adicional = {\n",
    "    'header': True,\n",
    "    'inferSchema': 'true'\n",
    "}"
   ]
  },
  {
   "cell_type": "markdown",
   "id": "8b147b83-9226-4317-b6d0-e6923d0490d8",
   "metadata": {},
   "source": [
    "# Leitura do arquivo"
   ]
  },
  {
   "cell_type": "code",
   "execution_count": 5,
   "id": "91dcd805-16f5-4afb-8cf6-5d55a7e88551",
   "metadata": {},
   "outputs": [
    {
     "name": "stderr",
     "output_type": "stream",
     "text": [
      "2024-10-15 10:10:48,664 - INFO - Lista de yaml carregada com sucesso\n",
      "2024-10-15 10:10:54,266 - INFO - Criando view temporaria.\n"
     ]
    }
   ],
   "source": [
    "df = extrator_bronze.criar_view_temporaria_arquivo(local, 'compliance_caged_tipomovimentacao', schema=None, aba='tipomovimentação',**config_adicional)"
   ]
  },
  {
   "cell_type": "markdown",
   "id": "c489f9f3-1e77-4afe-bca8-c650d4cb86bb",
   "metadata": {},
   "source": [
    "# Gravação no datalake"
   ]
  },
  {
   "cell_type": "code",
   "execution_count": 6,
   "id": "4565a57e-8bb0-47bb-b2c4-4870dad84b97",
   "metadata": {},
   "outputs": [],
   "source": [
    "extrator_bronze.caminho_tabela_delta = 's3a://bronze/novocaged/microdadosnovocagedtipomovimentacao'"
   ]
  },
  {
   "cell_type": "code",
   "execution_count": 7,
   "id": "a2ed5596-97d9-4dc3-9b2c-4d0e1e2ff35f",
   "metadata": {},
   "outputs": [
    {
     "name": "stderr",
     "output_type": "stream",
     "text": [
      "2024-10-15 10:10:54,279 - INFO - Aguarde... Persistindo dados (overwrite)\n",
      "2024-10-15 10:11:04,247 - INFO - Dados persistidos com sucesso\n",
      "2024-10-15 10:11:04,248 - INFO - s3a://bronze/novocaged/microdadosnovocagedtipomovimentacao\n",
      "2024-10-15 10:11:04,249 - INFO - Aguarde... Realizando optimize\n",
      "2024-10-15 10:11:12,075 - INFO - Optimize executado com sucesso.\n",
      "2024-10-15 10:11:12,076 - INFO - Aguarde... Realizando vacuum\n",
      "2024-10-15 10:11:40,421 - INFO - Vacuum executado com sucesso.\n"
     ]
    }
   ],
   "source": [
    "extrator_bronze.salvar_delta(df, 'overwrite')"
   ]
  },
  {
   "cell_type": "markdown",
   "id": "e7e1dc65-a162-457b-8f59-47767d0311e3",
   "metadata": {},
   "source": [
    "# Encerra sessão spark"
   ]
  },
  {
   "cell_type": "code",
   "execution_count": 8,
   "id": "1c2b1a72-308e-43e3-a05e-468ca56795c0",
   "metadata": {},
   "outputs": [
    {
     "name": "stderr",
     "output_type": "stream",
     "text": [
      "2024-10-15 10:11:40,989 - INFO - Sessão Spark finalizada.\n"
     ]
    }
   ],
   "source": [
    "extrator_bronze.parar_sessao()"
   ]
  }
 ],
 "metadata": {
  "kernelspec": {
   "display_name": "Python 3 (ipykernel)",
   "language": "python",
   "name": "python3"
  },
  "language_info": {
   "codemirror_mode": {
    "name": "ipython",
    "version": 3
   },
   "file_extension": ".py",
   "mimetype": "text/x-python",
   "name": "python",
   "nbconvert_exporter": "python",
   "pygments_lexer": "ipython3",
   "version": "3.11.9"
  }
 },
 "nbformat": 4,
 "nbformat_minor": 5
}
