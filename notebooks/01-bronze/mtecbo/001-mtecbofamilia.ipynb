{
 "cells": [
  {
   "cell_type": "markdown",
   "id": "e246012c-8d38-49cf-bb01-5135df7b379a",
   "metadata": {},
   "source": [
    "# Importação das bibliotecas necessárias"
   ]
  },
  {
   "cell_type": "code",
   "execution_count": 1,
   "id": "dab8b8dc-67ba-4ca1-8775-61b08adb510f",
   "metadata": {},
   "outputs": [],
   "source": [
    "import sys\n",
    "import os\n",
    "sys.path.append('/home/jovyan/work')\n",
    "\n",
    "from utils.AlinharETL import AlinharETL\n",
    "from pyspark.sql import types as T"
   ]
  },
  {
   "cell_type": "markdown",
   "id": "45a0d01f-a401-4e4d-b89b-52275c9fc94f",
   "metadata": {},
   "source": [
    "# Crie uma instância da classe AlinharETL"
   ]
  },
  {
   "cell_type": "code",
   "execution_count": 2,
   "id": "2163db01-79e7-4bab-86d0-686ea5dae3e9",
   "metadata": {},
   "outputs": [
    {
     "name": "stderr",
     "output_type": "stream",
     "text": [
      "2024-10-25 10:26:47,333 - INFO - Iniciando Sessão Spark.\n"
     ]
    }
   ],
   "source": [
    "# Crie uma instância da classe\n",
    "bucket = \"bronze\"\n",
    "datamart = \"mtecbo\"\n",
    "extrator_bronze = AlinharETL(bucket,datamart)"
   ]
  },
  {
   "cell_type": "markdown",
   "id": "e045b22f-bf3b-4b31-988f-87929e7f324b",
   "metadata": {},
   "source": [
    "# Parâmetros para leitura do arquivo"
   ]
  },
  {
   "cell_type": "code",
   "execution_count": 3,
   "id": "d663d43b-75d3-4b01-9951-602574f6b767",
   "metadata": {},
   "outputs": [],
   "source": [
    "schema = T.StructType([\n",
    "    T.StructField(\"CODIGO\", T.StringType(), True),\n",
    "    T.StructField(\"TITULO\", T.StringType(), True)\n",
    "])"
   ]
  },
  {
   "cell_type": "code",
   "execution_count": 4,
   "id": "8451d413-e0bb-4e90-94e0-9b8c07489a09",
   "metadata": {},
   "outputs": [],
   "source": [
    "ano_mes = extrator_bronze.encontrar_ano_mes(\"mte/cbo\")\n",
    "local = f\"s3a://landing/mte/cbo/{ano_mes}/CBO2002 - Familia.csv\""
   ]
  },
  {
   "cell_type": "code",
   "execution_count": 5,
   "id": "fb6b6840-165c-480a-acda-baaea45f5aab",
   "metadata": {},
   "outputs": [],
   "source": [
    "config_adicional = {\n",
    "    'header': True,\n",
    "    'sep': ';',\n",
    "    'encoding': 'iso-8859-1'\n",
    "}"
   ]
  },
  {
   "cell_type": "markdown",
   "id": "7e0fcc86-2f1a-454d-8a8b-0a74890bded6",
   "metadata": {},
   "source": [
    "# Leitura do arquivo"
   ]
  },
  {
   "cell_type": "code",
   "execution_count": 6,
   "id": "eb2a856a-cd4f-4d99-93e5-b957403470d5",
   "metadata": {},
   "outputs": [
    {
     "name": "stderr",
     "output_type": "stream",
     "text": [
      "2024-10-25 10:26:49,276 - INFO - Lista de yaml carregada com sucesso\n",
      "2024-10-25 10:26:51,158 - INFO - Criando view temporaria.\n"
     ]
    }
   ],
   "source": [
    "df_compliance_cbo_familia = extrator_bronze.criar_view_temporaria_arquivo(local,'compliance_cbo_familia', schema,**config_adicional)"
   ]
  },
  {
   "cell_type": "code",
   "execution_count": 7,
   "id": "13a03e83-5aa3-4cbb-93a7-932891452a1c",
   "metadata": {},
   "outputs": [],
   "source": [
    "sql_query = \"\"\"\n",
    "    SELECT *,\n",
    "           substring(codigo, 1, 3) AS cd_subgrupo\n",
    "    FROM compliance_cbo_familia\n",
    "\"\"\""
   ]
  },
  {
   "cell_type": "code",
   "execution_count": 8,
   "id": "257d76df-4a03-4439-99b7-8932040dbc39",
   "metadata": {},
   "outputs": [
    {
     "name": "stderr",
     "output_type": "stream",
     "text": [
      "2024-10-25 10:26:51,180 - INFO - Aguarde... Executando Query (Delta)\n",
      "2024-10-25 10:26:51,180 - INFO - \n",
      "    SELECT *,\n",
      "           substring(codigo, 1, 3) AS cd_subgrupo\n",
      "    FROM compliance_cbo_familia\n",
      "\n",
      "2024-10-25 10:26:51,353 - INFO - Query (Delta) executada com sucesso\n"
     ]
    }
   ],
   "source": [
    "df_compliance_cbo_sub_grupo = extrator_bronze.carregar_dados_delta(sql_query)"
   ]
  },
  {
   "cell_type": "markdown",
   "id": "27536c7d-0c94-4ed6-a988-bdbb83c22e3a",
   "metadata": {},
   "source": [
    "# Gravação no datalake"
   ]
  },
  {
   "cell_type": "code",
   "execution_count": 9,
   "id": "4ee559f7-5ec9-463f-affe-8c65af8d03ff",
   "metadata": {},
   "outputs": [],
   "source": [
    "extrator_bronze.caminho_tabela_delta = 's3a://bronze/mte/cbofamilia'"
   ]
  },
  {
   "cell_type": "code",
   "execution_count": 10,
   "id": "afb20946-6a0e-4cb7-9a99-940375d68089",
   "metadata": {},
   "outputs": [
    {
     "name": "stderr",
     "output_type": "stream",
     "text": [
      "2024-10-25 10:26:51,366 - INFO - Aguarde... Persistindo dados (overwrite)\n",
      "2024-10-25 10:26:57,946 - INFO - Dados persistidos com sucesso\n",
      "2024-10-25 10:26:57,947 - INFO - s3a://bronze/mte/cbofamilia\n",
      "2024-10-25 10:26:57,948 - INFO - Aguarde... Realizando optimize\n",
      "2024-10-25 10:27:02,579 - INFO - Optimize executado com sucesso.\n",
      "2024-10-25 10:27:02,581 - INFO - Aguarde... Realizando vacuum\n",
      "2024-10-25 10:27:18,437 - INFO - Vacuum executado com sucesso.\n"
     ]
    }
   ],
   "source": [
    "extrator_bronze.salvar_delta(df_compliance_cbo_sub_grupo, 'overwrite')"
   ]
  },
  {
   "cell_type": "markdown",
   "id": "f6cd7407-77b1-46d6-9d3a-ba299ae7238d",
   "metadata": {},
   "source": [
    "# Encerra sessão spark"
   ]
  },
  {
   "cell_type": "code",
   "execution_count": 11,
   "id": "eb909129-dd70-46da-a2eb-0eb681aa0c21",
   "metadata": {},
   "outputs": [
    {
     "name": "stderr",
     "output_type": "stream",
     "text": [
      "2024-10-25 10:27:18,660 - INFO - Sessão Spark finalizada.\n"
     ]
    }
   ],
   "source": [
    "extrator_bronze.parar_sessao()"
   ]
  }
 ],
 "metadata": {
  "kernelspec": {
   "display_name": "Python 3 (ipykernel)",
   "language": "python",
   "name": "python3"
  },
  "language_info": {
   "codemirror_mode": {
    "name": "ipython",
    "version": 3
   },
   "file_extension": ".py",
   "mimetype": "text/x-python",
   "name": "python",
   "nbconvert_exporter": "python",
   "pygments_lexer": "ipython3",
   "version": "3.11.9"
  }
 },
 "nbformat": 4,
 "nbformat_minor": 5
}
