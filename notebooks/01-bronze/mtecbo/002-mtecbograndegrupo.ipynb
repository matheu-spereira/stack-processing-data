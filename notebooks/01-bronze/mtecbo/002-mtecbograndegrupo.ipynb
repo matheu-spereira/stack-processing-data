{
 "cells": [
  {
   "cell_type": "markdown",
   "id": "5a2a1492-c50b-4390-b663-2d79094573b4",
   "metadata": {},
   "source": [
    "# Importação das bibliotecas necessárias"
   ]
  },
  {
   "cell_type": "code",
   "execution_count": 1,
   "id": "dab8b8dc-67ba-4ca1-8775-61b08adb510f",
   "metadata": {},
   "outputs": [],
   "source": [
    "import sys\n",
    "import os\n",
    "sys.path.append('/home/jovyan/work')\n",
    "\n",
    "from utils.AlinharETL import AlinharETL\n",
    "from pyspark.sql import types as T"
   ]
  },
  {
   "cell_type": "markdown",
   "id": "59be747b-68b0-4e87-9938-32934ace1af2",
   "metadata": {},
   "source": [
    "# Crie uma instância da classe AlinharETL"
   ]
  },
  {
   "cell_type": "code",
   "execution_count": 2,
   "id": "2163db01-79e7-4bab-86d0-686ea5dae3e9",
   "metadata": {},
   "outputs": [
    {
     "name": "stderr",
     "output_type": "stream",
     "text": [
      "2024-10-15 10:26:25,522 - INFO - Iniciando Sessão Spark.\n"
     ]
    }
   ],
   "source": [
    "# Crie uma instância da classe\n",
    "bucket = \"bronze\"\n",
    "datamart = \"mtecbo\"\n",
    "extrator_bronze = AlinharETL(bucket,datamart)"
   ]
  },
  {
   "cell_type": "markdown",
   "id": "5e06cd28-9d35-47ee-b2a8-6b26b15a6cdc",
   "metadata": {},
   "source": [
    "# Parâmetros para leitura do arquivo"
   ]
  },
  {
   "cell_type": "code",
   "execution_count": 3,
   "id": "d663d43b-75d3-4b01-9951-602574f6b767",
   "metadata": {},
   "outputs": [],
   "source": [
    "schema = T.StructType([\n",
    "    T.StructField(\"CODIGO\", T.StringType(), True),\n",
    "    T.StructField(\"TITULO\", T.StringType(), True)\n",
    "])"
   ]
  },
  {
   "cell_type": "code",
   "execution_count": 4,
   "id": "4441c3b3-22af-47df-bdf8-d4b70c19a9b0",
   "metadata": {},
   "outputs": [],
   "source": [
    "ano_mes = extrator_bronze.encontrar_ano_mes(\"mte/cbo\")\n",
    "local = f\"s3a://landing/mte/cbo/{ano_mes}/CBO2002 - Grande Grupo.csv\""
   ]
  },
  {
   "cell_type": "code",
   "execution_count": 5,
   "id": "cd12fa92-0fb4-4fd7-a2a3-4a6a64f5c642",
   "metadata": {},
   "outputs": [],
   "source": [
    "config_adicional = {\n",
    "    'header': True,\n",
    "    'sep': ';',\n",
    "    'encoding': 'iso-8859-1'\n",
    "}"
   ]
  },
  {
   "cell_type": "markdown",
   "id": "9a3e769a-8731-4c53-80d5-c815db9e5a2f",
   "metadata": {},
   "source": [
    "# Leitura do arquivo"
   ]
  },
  {
   "cell_type": "code",
   "execution_count": 6,
   "id": "f280dd37-9345-4e48-93b7-7771aa24181c",
   "metadata": {},
   "outputs": [
    {
     "name": "stderr",
     "output_type": "stream",
     "text": [
      "2024-10-15 10:26:29,656 - INFO - Lista de yaml carregada com sucesso\n",
      "2024-10-15 10:26:32,871 - INFO - Criando view temporaria.\n"
     ]
    }
   ],
   "source": [
    "df_compliance_cbo_grande_grupo = extrator_bronze.criar_view_temporaria_arquivo(local, 'compliance_cbo_grande_grupo',schema,**config_adicional)"
   ]
  },
  {
   "cell_type": "code",
   "execution_count": 7,
   "id": "8e388920-8b82-4555-9a33-79fa34f2696a",
   "metadata": {},
   "outputs": [],
   "source": [
    "sql_query = \"\"\"\n",
    "    SELECT\n",
    "        CODIGO AS cd,\n",
    "        '' AS demanda_formacao,\n",
    "        TITULO AS grande_grupo,\n",
    "        '' AS subgrupo_principal,\n",
    "        '' AS subgrupo,\n",
    "        '' AS familia,\n",
    "        '' AS ocupacao,\n",
    "        'GRANDE GRUPO' AS nivel,\n",
    "        '' AS industrial_uniepro\n",
    "    FROM compliance_cbo_grande_grupo \n",
    "\"\"\""
   ]
  },
  {
   "cell_type": "code",
   "execution_count": 8,
   "id": "42324bc3-d2bc-44cf-94d7-b572037ea6d0",
   "metadata": {},
   "outputs": [
    {
     "name": "stderr",
     "output_type": "stream",
     "text": [
      "2024-10-15 10:26:32,883 - INFO - Aguarde... Executando Query (Delta)\n",
      "2024-10-15 10:26:32,884 - INFO - \n",
      "    SELECT\n",
      "        CODIGO AS cd,\n",
      "        '' AS demanda_formacao,\n",
      "        TITULO AS grande_grupo,\n",
      "        '' AS subgrupo_principal,\n",
      "        '' AS subgrupo,\n",
      "        '' AS familia,\n",
      "        '' AS ocupacao,\n",
      "        'GRANDE GRUPO' AS nivel,\n",
      "        '' AS industrial_uniepro\n",
      "    FROM compliance_cbo_grande_grupo \n",
      "\n",
      "2024-10-15 10:26:33,045 - INFO - Query (Delta) executada com sucesso\n"
     ]
    }
   ],
   "source": [
    "df_compliance_cbo_grande_grupo = extrator_bronze.carregar_dados_delta(sql_query)"
   ]
  },
  {
   "cell_type": "markdown",
   "id": "be310d74-9c9d-4d8c-bdbe-eb6175f41cf8",
   "metadata": {},
   "source": [
    "# Gravação no datalake"
   ]
  },
  {
   "cell_type": "code",
   "execution_count": 9,
   "id": "4ee559f7-5ec9-463f-affe-8c65af8d03ff",
   "metadata": {},
   "outputs": [],
   "source": [
    "extrator_bronze.caminho_tabela_delta = 's3a://bronze/mte/cbograndegrupo'"
   ]
  },
  {
   "cell_type": "code",
   "execution_count": 10,
   "id": "afb20946-6a0e-4cb7-9a99-940375d68089",
   "metadata": {},
   "outputs": [
    {
     "name": "stderr",
     "output_type": "stream",
     "text": [
      "2024-10-15 10:26:33,056 - INFO - Aguarde... Persistindo dados (overwrite)\n",
      "2024-10-15 10:26:44,636 - INFO - Dados persistidos com sucesso\n",
      "2024-10-15 10:26:44,637 - INFO - s3a://bronze/mte/cbograndegrupo\n",
      "2024-10-15 10:26:44,638 - INFO - Aguarde... Realizando optimize\n",
      "2024-10-15 10:26:51,440 - INFO - Optimize executado com sucesso.\n",
      "2024-10-15 10:26:51,441 - INFO - Aguarde... Realizando vacuum\n",
      "2024-10-15 10:27:15,933 - INFO - Vacuum executado com sucesso.\n"
     ]
    }
   ],
   "source": [
    "extrator_bronze.salvar_delta(df_compliance_cbo_grande_grupo, 'overwrite')"
   ]
  },
  {
   "cell_type": "markdown",
   "id": "930bf8b0-8fdc-4830-b672-fcd8fb706414",
   "metadata": {},
   "source": [
    "# Encerra sessão spark"
   ]
  },
  {
   "cell_type": "code",
   "execution_count": 11,
   "id": "eb909129-dd70-46da-a2eb-0eb681aa0c21",
   "metadata": {},
   "outputs": [
    {
     "name": "stderr",
     "output_type": "stream",
     "text": [
      "2024-10-15 10:27:16,484 - INFO - Sessão Spark finalizada.\n"
     ]
    }
   ],
   "source": [
    "extrator_bronze.parar_sessao()"
   ]
  }
 ],
 "metadata": {
  "kernelspec": {
   "display_name": "Python 3 (ipykernel)",
   "language": "python",
   "name": "python3"
  },
  "language_info": {
   "codemirror_mode": {
    "name": "ipython",
    "version": 3
   },
   "file_extension": ".py",
   "mimetype": "text/x-python",
   "name": "python",
   "nbconvert_exporter": "python",
   "pygments_lexer": "ipython3",
   "version": "3.11.9"
  }
 },
 "nbformat": 4,
 "nbformat_minor": 5
}
