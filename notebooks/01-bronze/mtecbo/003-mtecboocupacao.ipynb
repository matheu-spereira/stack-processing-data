{
 "cells": [
  {
   "cell_type": "markdown",
   "id": "ac39b186-c8e6-4dc0-b42c-bdc8e1f6709e",
   "metadata": {},
   "source": [
    "# Importação das bibliotecas necessárias"
   ]
  },
  {
   "cell_type": "code",
   "execution_count": 1,
   "id": "dab8b8dc-67ba-4ca1-8775-61b08adb510f",
   "metadata": {},
   "outputs": [],
   "source": [
    "import sys\n",
    "import os\n",
    "sys.path.append('/home/jovyan/work')\n",
    "\n",
    "from utils.AlinharETL import AlinharETL\n",
    "from pyspark.sql import types as T"
   ]
  },
  {
   "cell_type": "markdown",
   "id": "1fa0808f-94b5-424f-81b2-fbd7a425e44a",
   "metadata": {},
   "source": [
    "# Crie uma instância da classe AlinharETL"
   ]
  },
  {
   "cell_type": "code",
   "execution_count": 2,
   "id": "2163db01-79e7-4bab-86d0-686ea5dae3e9",
   "metadata": {},
   "outputs": [
    {
     "name": "stderr",
     "output_type": "stream",
     "text": [
      "2024-10-15 10:26:50,819 - INFO - Iniciando Sessão Spark.\n"
     ]
    }
   ],
   "source": [
    "# Crie uma instância da classe\n",
    "bucket = \"bronze\"\n",
    "datamart = \"mtecbo\"\n",
    "extrator_bronze = AlinharETL(bucket,datamart)"
   ]
  },
  {
   "cell_type": "markdown",
   "id": "ad698222-16a6-4e2d-90ea-6fc1f8c094fc",
   "metadata": {},
   "source": [
    "# Parâmetros para leitura do arquivo"
   ]
  },
  {
   "cell_type": "code",
   "execution_count": 3,
   "id": "d663d43b-75d3-4b01-9951-602574f6b767",
   "metadata": {},
   "outputs": [],
   "source": [
    "schema = T.StructType([\n",
    "    T.StructField(\"CODIGO\", T.StringType(), True),\n",
    "    T.StructField(\"TITULO\", T.StringType(), True)\n",
    "])"
   ]
  },
  {
   "cell_type": "code",
   "execution_count": 4,
   "id": "2a7d432a-76cf-4633-961e-48310c061dfe",
   "metadata": {},
   "outputs": [],
   "source": [
    "ano_mes = extrator_bronze.encontrar_ano_mes(\"mte/cbo\")\n",
    "local = f\"s3a://landing/mte/cbo/{ano_mes}/CBO2002 - Ocupacao.csv\""
   ]
  },
  {
   "cell_type": "code",
   "execution_count": 5,
   "id": "51bcb543-bd6a-4972-8a32-d4f6c0c945d8",
   "metadata": {},
   "outputs": [],
   "source": [
    "config_adicional = {\n",
    "    'header': True,\n",
    "    'sep': ';',\n",
    "    'encoding': 'iso-8859-1'\n",
    "}"
   ]
  },
  {
   "cell_type": "markdown",
   "id": "74c42001-d032-460b-97e4-21cfeb5b130a",
   "metadata": {},
   "source": [
    "# Leitura do arquivo"
   ]
  },
  {
   "cell_type": "code",
   "execution_count": 6,
   "id": "eb2a856a-cd4f-4d99-93e5-b957403470d5",
   "metadata": {},
   "outputs": [
    {
     "name": "stderr",
     "output_type": "stream",
     "text": [
      "2024-10-15 10:26:58,632 - INFO - Lista de yaml carregada com sucesso\n",
      "2024-10-15 10:27:05,750 - INFO - Criando view temporaria.\n"
     ]
    }
   ],
   "source": [
    "df_compliance_cbo_ocupacao = extrator_bronze.criar_view_temporaria_arquivo(local, 'compliance_cbo_ocupacao',schema,**config_adicional)"
   ]
  },
  {
   "cell_type": "code",
   "execution_count": 7,
   "id": "abf3153d-715a-4029-90ed-e7b44c69b8a7",
   "metadata": {},
   "outputs": [],
   "source": [
    "sql_query = \"\"\"\n",
    "    SELECT\n",
    "        *,\n",
    "        SUBSTRING(codigo, 1, 4) AS cd_familia\n",
    "    FROM\n",
    "        compliance_cbo_ocupacao\n",
    "\"\"\""
   ]
  },
  {
   "cell_type": "code",
   "execution_count": 8,
   "id": "46b4d4e8-91e3-4f7f-ae53-d402789e4526",
   "metadata": {},
   "outputs": [
    {
     "name": "stderr",
     "output_type": "stream",
     "text": [
      "2024-10-15 10:27:05,804 - INFO - Aguarde... Executando Query (Delta)\n",
      "2024-10-15 10:27:05,806 - INFO - \n",
      "    SELECT\n",
      "        *,\n",
      "        SUBSTRING(codigo, 1, 4) AS cd_familia\n",
      "    FROM\n",
      "        compliance_cbo_ocupacao\n",
      "\n",
      "2024-10-15 10:27:06,362 - INFO - Query (Delta) executada com sucesso\n"
     ]
    }
   ],
   "source": [
    "df_compliance_cbo_ocupacao = extrator_bronze.carregar_dados_delta(sql_query)"
   ]
  },
  {
   "cell_type": "markdown",
   "id": "20139f30-173a-4957-9788-fa0e4524f30a",
   "metadata": {},
   "source": [
    "# Gravação no datalake"
   ]
  },
  {
   "cell_type": "code",
   "execution_count": 9,
   "id": "4ee559f7-5ec9-463f-affe-8c65af8d03ff",
   "metadata": {},
   "outputs": [],
   "source": [
    "extrator_bronze.caminho_tabela_delta = 's3a://bronze/mte/cboocupacao'"
   ]
  },
  {
   "cell_type": "code",
   "execution_count": 10,
   "id": "afb20946-6a0e-4cb7-9a99-940375d68089",
   "metadata": {},
   "outputs": [
    {
     "name": "stderr",
     "output_type": "stream",
     "text": [
      "2024-10-15 10:27:06,431 - INFO - Aguarde... Persistindo dados (overwrite)\n",
      "2024-10-15 10:27:28,353 - INFO - Dados persistidos com sucesso\n",
      "2024-10-15 10:27:28,355 - INFO - s3a://bronze/mte/cboocupacao\n",
      "2024-10-15 10:27:28,355 - INFO - Aguarde... Realizando optimize\n",
      "2024-10-15 10:27:34,828 - INFO - Optimize executado com sucesso.\n",
      "2024-10-15 10:27:34,829 - INFO - Aguarde... Realizando vacuum\n",
      "2024-10-15 10:27:54,919 - INFO - Vacuum executado com sucesso.\n"
     ]
    }
   ],
   "source": [
    "extrator_bronze.salvar_delta(df_compliance_cbo_ocupacao, 'overwrite')"
   ]
  },
  {
   "cell_type": "markdown",
   "id": "006b54b9-e981-4e20-aadc-063e4a06e209",
   "metadata": {},
   "source": [
    "# Encerra sessão spark"
   ]
  },
  {
   "cell_type": "code",
   "execution_count": 11,
   "id": "eb909129-dd70-46da-a2eb-0eb681aa0c21",
   "metadata": {},
   "outputs": [
    {
     "name": "stderr",
     "output_type": "stream",
     "text": [
      "2024-10-15 10:27:55,218 - INFO - Sessão Spark finalizada.\n"
     ]
    }
   ],
   "source": [
    "extrator_bronze.parar_sessao()"
   ]
  }
 ],
 "metadata": {
  "kernelspec": {
   "display_name": "Python 3 (ipykernel)",
   "language": "python",
   "name": "python3"
  },
  "language_info": {
   "codemirror_mode": {
    "name": "ipython",
    "version": 3
   },
   "file_extension": ".py",
   "mimetype": "text/x-python",
   "name": "python",
   "nbconvert_exporter": "python",
   "pygments_lexer": "ipython3",
   "version": "3.11.9"
  }
 },
 "nbformat": 4,
 "nbformat_minor": 5
}
