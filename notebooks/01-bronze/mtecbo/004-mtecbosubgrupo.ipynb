{
 "cells": [
  {
   "cell_type": "markdown",
   "id": "dd907f6e-0198-4582-a0ca-b7464861a7ee",
   "metadata": {},
   "source": [
    "# Importação das bibliotecas necessárias"
   ]
  },
  {
   "cell_type": "code",
   "execution_count": 1,
   "id": "dab8b8dc-67ba-4ca1-8775-61b08adb510f",
   "metadata": {},
   "outputs": [],
   "source": [
    "import sys\n",
    "import os\n",
    "sys.path.append('/home/jovyan/work')\n",
    "\n",
    "from utils.AlinharETL import AlinharETL\n",
    "from pyspark.sql import types as T"
   ]
  },
  {
   "cell_type": "markdown",
   "id": "b85b9a20-832d-4e8b-9936-94519145c7c5",
   "metadata": {},
   "source": [
    "# Crie uma instância da classe AlinharETL"
   ]
  },
  {
   "cell_type": "code",
   "execution_count": 2,
   "id": "2163db01-79e7-4bab-86d0-686ea5dae3e9",
   "metadata": {},
   "outputs": [
    {
     "name": "stderr",
     "output_type": "stream",
     "text": [
      "2024-10-15 10:27:58,461 - INFO - Iniciando Sessão Spark.\n"
     ]
    }
   ],
   "source": [
    "bucket = \"bronze\"\n",
    "datamart = \"mtecbo\"\n",
    "extrator_bronze = AlinharETL(bucket,datamart)"
   ]
  },
  {
   "cell_type": "code",
   "execution_count": 3,
   "id": "d663d43b-75d3-4b01-9951-602574f6b767",
   "metadata": {},
   "outputs": [],
   "source": [
    "schema = T.StructType([\n",
    "    T.StructField(\"CODIGO\", T.StringType(), True),\n",
    "    T.StructField(\"TITULO\", T.StringType(), True)\n",
    "])"
   ]
  },
  {
   "cell_type": "markdown",
   "id": "f7a9c565-7972-41cb-9d41-a464a069c438",
   "metadata": {},
   "source": [
    "# Parâmetros para leitura do arquivo"
   ]
  },
  {
   "cell_type": "code",
   "execution_count": 4,
   "id": "5c72c26b-6037-42f7-8dd9-e382a2083da5",
   "metadata": {},
   "outputs": [],
   "source": [
    "ano_mes = extrator_bronze.encontrar_ano_mes(\"mte/cbo\")\n",
    "local = f\"s3a://landing/mte/cbo/{ano_mes}/CBO2002 - SubGrupo.csv\""
   ]
  },
  {
   "cell_type": "code",
   "execution_count": 5,
   "id": "3c06f492-cd65-4938-894c-d49840a251d0",
   "metadata": {},
   "outputs": [],
   "source": [
    "config_adicional = {\n",
    "    'header': True,\n",
    "    'sep': ';',\n",
    "    'encoding': 'iso-8859-1'\n",
    "}"
   ]
  },
  {
   "cell_type": "markdown",
   "id": "5d7931c6-6c17-4b76-af16-3e0e71fd5fe9",
   "metadata": {},
   "source": [
    "# Leitura do arquivo"
   ]
  },
  {
   "cell_type": "code",
   "execution_count": 6,
   "id": "eb2a856a-cd4f-4d99-93e5-b957403470d5",
   "metadata": {},
   "outputs": [
    {
     "name": "stderr",
     "output_type": "stream",
     "text": [
      "2024-10-15 10:28:02,650 - INFO - Lista de yaml carregada com sucesso\n",
      "2024-10-15 10:28:06,016 - INFO - Criando view temporaria.\n"
     ]
    }
   ],
   "source": [
    "df_compliance_cbo_sub_grupo = extrator_bronze.criar_view_temporaria_arquivo(local, 'compliance_cbo_sub_grupo', schema,**config_adicional)"
   ]
  },
  {
   "cell_type": "code",
   "execution_count": 7,
   "id": "74768800-1672-4ac7-81ea-65a79c42bff5",
   "metadata": {},
   "outputs": [],
   "source": [
    "sql_query = \"\"\"\n",
    "    SELECT\n",
    "        CODIGO AS cd,\n",
    "        TITULO,\n",
    "        SUBSTRING(codigo, 1, 2) AS cd_subgrupo_principal\n",
    "    FROM compliance_cbo_sub_grupo\n",
    "\"\"\""
   ]
  },
  {
   "cell_type": "code",
   "execution_count": 8,
   "id": "28528aec-ef3d-4ef1-b782-51f0d9ccd736",
   "metadata": {},
   "outputs": [
    {
     "name": "stderr",
     "output_type": "stream",
     "text": [
      "2024-10-15 10:28:06,026 - INFO - Aguarde... Executando Query (Delta)\n",
      "2024-10-15 10:28:06,027 - INFO - \n",
      "    SELECT\n",
      "        CODIGO AS cd,\n",
      "        TITULO,\n",
      "        SUBSTRING(codigo, 1, 2) AS cd_subgrupo_principal\n",
      "    FROM compliance_cbo_sub_grupo\n",
      "\n",
      "2024-10-15 10:28:06,239 - INFO - Query (Delta) executada com sucesso\n"
     ]
    }
   ],
   "source": [
    "df_compliance_cbo_sub_grupo = extrator_bronze.carregar_dados_delta(sql_query)"
   ]
  },
  {
   "cell_type": "markdown",
   "id": "2497fdaf-61c7-49fd-9be1-d447398c95c4",
   "metadata": {},
   "source": [
    "# Gravação no datalake"
   ]
  },
  {
   "cell_type": "code",
   "execution_count": 9,
   "id": "4ee559f7-5ec9-463f-affe-8c65af8d03ff",
   "metadata": {},
   "outputs": [],
   "source": [
    "extrator_bronze.caminho_tabela_delta = 's3a://bronze/mte/cbosubgrupo'"
   ]
  },
  {
   "cell_type": "code",
   "execution_count": 10,
   "id": "afb20946-6a0e-4cb7-9a99-940375d68089",
   "metadata": {},
   "outputs": [
    {
     "name": "stderr",
     "output_type": "stream",
     "text": [
      "2024-10-15 10:28:06,250 - INFO - Aguarde... Persistindo dados (overwrite)\n",
      "2024-10-15 10:28:19,447 - INFO - Dados persistidos com sucesso\n",
      "2024-10-15 10:28:19,448 - INFO - s3a://bronze/mte/cbosubgrupo\n",
      "2024-10-15 10:28:19,449 - INFO - Aguarde... Realizando optimize\n",
      "2024-10-15 10:28:27,478 - INFO - Optimize executado com sucesso.\n",
      "2024-10-15 10:28:27,479 - INFO - Aguarde... Realizando vacuum\n",
      "2024-10-15 10:28:51,149 - INFO - Vacuum executado com sucesso.\n"
     ]
    }
   ],
   "source": [
    "extrator_bronze.salvar_delta(df_compliance_cbo_sub_grupo, 'overwrite')"
   ]
  },
  {
   "cell_type": "markdown",
   "id": "50d68619-a617-4331-88e0-76842a784e96",
   "metadata": {},
   "source": [
    "# Encerra sessão spark"
   ]
  },
  {
   "cell_type": "code",
   "execution_count": 11,
   "id": "eb909129-dd70-46da-a2eb-0eb681aa0c21",
   "metadata": {},
   "outputs": [
    {
     "name": "stderr",
     "output_type": "stream",
     "text": [
      "2024-10-15 10:28:51,536 - INFO - Sessão Spark finalizada.\n"
     ]
    }
   ],
   "source": [
    "extrator_bronze.parar_sessao()"
   ]
  }
 ],
 "metadata": {
  "kernelspec": {
   "display_name": "Python 3 (ipykernel)",
   "language": "python",
   "name": "python3"
  },
  "language_info": {
   "codemirror_mode": {
    "name": "ipython",
    "version": 3
   },
   "file_extension": ".py",
   "mimetype": "text/x-python",
   "name": "python",
   "nbconvert_exporter": "python",
   "pygments_lexer": "ipython3",
   "version": "3.11.9"
  }
 },
 "nbformat": 4,
 "nbformat_minor": 5
}
