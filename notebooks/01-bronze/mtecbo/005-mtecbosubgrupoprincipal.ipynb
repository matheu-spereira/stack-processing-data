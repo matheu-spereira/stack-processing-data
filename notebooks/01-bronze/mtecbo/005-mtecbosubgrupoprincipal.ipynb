{
 "cells": [
  {
   "cell_type": "markdown",
   "id": "f88f4006-ae67-4494-8531-72248d42c6f1",
   "metadata": {},
   "source": [
    "# Importação das bibliotecas necessárias"
   ]
  },
  {
   "cell_type": "code",
   "execution_count": 1,
   "id": "dab8b8dc-67ba-4ca1-8775-61b08adb510f",
   "metadata": {},
   "outputs": [],
   "source": [
    "import sys\n",
    "import os\n",
    "sys.path.append('/home/jovyan/work')\n",
    "\n",
    "from utils.AlinharETL import AlinharETL\n",
    "from pyspark.sql import types as T"
   ]
  },
  {
   "cell_type": "markdown",
   "id": "ccb618ef-8932-4d2a-bee8-6dc91b9f92e6",
   "metadata": {},
   "source": [
    "# Crie uma instância da classe AlinharETL"
   ]
  },
  {
   "cell_type": "code",
   "execution_count": 2,
   "id": "2163db01-79e7-4bab-86d0-686ea5dae3e9",
   "metadata": {},
   "outputs": [
    {
     "name": "stderr",
     "output_type": "stream",
     "text": [
      "2024-10-15 10:28:13,667 - INFO - Iniciando Sessão Spark.\n"
     ]
    }
   ],
   "source": [
    "# Crie uma instância da classe\n",
    "bucket = \"bronze\"\n",
    "datamart = \"mtecbo\"\n",
    "extrator_bronze = AlinharETL(bucket,datamart)"
   ]
  },
  {
   "cell_type": "markdown",
   "id": "c257f449-e223-4578-b6a3-67c74bc46ebc",
   "metadata": {},
   "source": [
    "# Parâmetros para leitura do arquivo"
   ]
  },
  {
   "cell_type": "code",
   "execution_count": 3,
   "id": "d663d43b-75d3-4b01-9951-602574f6b767",
   "metadata": {},
   "outputs": [],
   "source": [
    "schema = T.StructType([\n",
    "    T.StructField(\"CODIGO\", T.StringType(), True),\n",
    "    T.StructField(\"TITULO\", T.StringType(), True)\n",
    "])"
   ]
  },
  {
   "cell_type": "code",
   "execution_count": 4,
   "id": "dbd8e44e-9281-431a-8811-c9a6db7a9088",
   "metadata": {},
   "outputs": [],
   "source": [
    "ano_mes = extrator_bronze.encontrar_ano_mes(\"mte/cbo\")\n",
    "local = f\"s3a://landing/mte/cbo/{ano_mes}/CBO2002 - SubGrupo Principal.csv\""
   ]
  },
  {
   "cell_type": "code",
   "execution_count": 5,
   "id": "071aa81d-ceb4-4f65-9fd9-c92346b5b50c",
   "metadata": {},
   "outputs": [],
   "source": [
    "config_adicional = {\n",
    "    'header': True,\n",
    "    'sep': ';',\n",
    "    'encoding': 'iso-8859-1'\n",
    "}"
   ]
  },
  {
   "cell_type": "markdown",
   "id": "9e4a2840-72f4-44f4-9e4a-9ae2d7f69e34",
   "metadata": {},
   "source": [
    "# Leitura do arquivo"
   ]
  },
  {
   "cell_type": "code",
   "execution_count": 6,
   "id": "eb2a856a-cd4f-4d99-93e5-b957403470d5",
   "metadata": {},
   "outputs": [
    {
     "name": "stderr",
     "output_type": "stream",
     "text": [
      "2024-10-15 10:28:19,225 - INFO - Lista de yaml carregada com sucesso\n",
      "2024-10-15 10:28:23,999 - INFO - Criando view temporaria.\n"
     ]
    }
   ],
   "source": [
    "df_compliance_cbo_sub_grupo_principal = extrator_bronze.criar_view_temporaria_arquivo(local,'compliance_cbo_sub_grupo_principal',schema,**config_adicional)"
   ]
  },
  {
   "cell_type": "code",
   "execution_count": 7,
   "id": "4d56fe00-43fa-47fc-a49a-c50ceb0e4cd0",
   "metadata": {},
   "outputs": [],
   "source": [
    "sql_query = \"\"\"\n",
    "    SELECT CODIGO as cd,\n",
    "           TITULO,\n",
    "           SUBSTRING(codigo, 1, 1) AS cd_grande_grupo\n",
    "    FROM compliance_cbo_sub_grupo_principal\n",
    "\"\"\""
   ]
  },
  {
   "cell_type": "code",
   "execution_count": 8,
   "id": "c3ce8cba-c2d9-421c-94e8-b3fe28d03ca1",
   "metadata": {},
   "outputs": [
    {
     "name": "stderr",
     "output_type": "stream",
     "text": [
      "2024-10-15 10:28:24,013 - INFO - Aguarde... Executando Query (Delta)\n",
      "2024-10-15 10:28:24,014 - INFO - \n",
      "    SELECT CODIGO as cd,\n",
      "           TITULO,\n",
      "           SUBSTRING(codigo, 1, 1) AS cd_grande_grupo\n",
      "    FROM compliance_cbo_sub_grupo_principal\n",
      "\n",
      "2024-10-15 10:28:24,242 - INFO - Query (Delta) executada com sucesso\n"
     ]
    }
   ],
   "source": [
    "df_compliance_cbo_sub_grupo_principal = extrator_bronze.carregar_dados_delta(sql_query)"
   ]
  },
  {
   "cell_type": "markdown",
   "id": "bfe0baa1-6ef5-447d-aadd-1e8174673081",
   "metadata": {},
   "source": [
    "# Gravação no datalake"
   ]
  },
  {
   "cell_type": "code",
   "execution_count": 9,
   "id": "4ee559f7-5ec9-463f-affe-8c65af8d03ff",
   "metadata": {},
   "outputs": [],
   "source": [
    "extrator_bronze.caminho_tabela_delta = 's3a://bronze/mte/cbosubgrupoprincipal'"
   ]
  },
  {
   "cell_type": "code",
   "execution_count": 10,
   "id": "afb20946-6a0e-4cb7-9a99-940375d68089",
   "metadata": {},
   "outputs": [
    {
     "name": "stderr",
     "output_type": "stream",
     "text": [
      "2024-10-15 10:28:24,253 - INFO - Aguarde... Persistindo dados (overwrite)\n",
      "2024-10-15 10:28:45,662 - INFO - Dados persistidos com sucesso\n",
      "2024-10-15 10:28:45,663 - INFO - s3a://bronze/mte/cbosubgrupoprincipal\n",
      "2024-10-15 10:28:45,664 - INFO - Aguarde... Realizando optimize\n",
      "2024-10-15 10:28:55,366 - INFO - Optimize executado com sucesso.\n",
      "2024-10-15 10:28:55,368 - INFO - Aguarde... Realizando vacuum\n",
      "2024-10-15 10:29:14,920 - INFO - Vacuum executado com sucesso.\n"
     ]
    }
   ],
   "source": [
    "extrator_bronze.salvar_delta(df_compliance_cbo_sub_grupo_principal, 'overwrite')"
   ]
  },
  {
   "cell_type": "markdown",
   "id": "6bcfb3b2-c464-4a4a-ba86-8c15fd0983db",
   "metadata": {},
   "source": [
    "# Encerra sessão spark"
   ]
  },
  {
   "cell_type": "code",
   "execution_count": 11,
   "id": "eb909129-dd70-46da-a2eb-0eb681aa0c21",
   "metadata": {},
   "outputs": [
    {
     "name": "stderr",
     "output_type": "stream",
     "text": [
      "2024-10-15 10:29:15,384 - INFO - Sessão Spark finalizada.\n"
     ]
    }
   ],
   "source": [
    "extrator_bronze.parar_sessao()"
   ]
  }
 ],
 "metadata": {
  "kernelspec": {
   "display_name": "Python 3 (ipykernel)",
   "language": "python",
   "name": "python3"
  },
  "language_info": {
   "codemirror_mode": {
    "name": "ipython",
    "version": 3
   },
   "file_extension": ".py",
   "mimetype": "text/x-python",
   "name": "python",
   "nbconvert_exporter": "python",
   "pygments_lexer": "ipython3",
   "version": "3.11.9"
  }
 },
 "nbformat": 4,
 "nbformat_minor": 5
}
