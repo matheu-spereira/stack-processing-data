{
 "cells": [
  {
   "cell_type": "markdown",
   "id": "d27220ec-06f3-4677-9b5d-915c97bcc314",
   "metadata": {},
   "source": [
    "# Importação das bibliotecas necessárias"
   ]
  },
  {
   "cell_type": "code",
   "execution_count": 1,
   "id": "9ee8885a-7da4-4a48-a4b9-c54a8aa2013c",
   "metadata": {},
   "outputs": [],
   "source": [
    "import sys\n",
    "import os\n",
    "sys.path.append('/home/jovyan/work')\n",
    "\n",
    "from utils.AlinharETL import AlinharETL"
   ]
  },
  {
   "cell_type": "markdown",
   "id": "dcb23eac-498c-493f-bb4f-78af85915b48",
   "metadata": {},
   "source": [
    "# Crie uma instância da classe AlinharETL"
   ]
  },
  {
   "cell_type": "code",
   "execution_count": 2,
   "id": "b1bceb50-5cbf-4243-8adb-ab96ff3d87d6",
   "metadata": {},
   "outputs": [
    {
     "name": "stderr",
     "output_type": "stream",
     "text": [
      "2025-01-12 14:56:24,279 - INFO - Iniciando Sessão Spark.\n"
     ]
    }
   ],
   "source": [
    "# Crie uma instância da classe\n",
    "bucket = \"bronze\"\n",
    "datamart = \"apiservicodadosibge\"\n",
    "extrator_bronze = AlinharETL(bucket,datamart)"
   ]
  },
  {
   "cell_type": "markdown",
   "id": "710c7e64-1b0a-4d1d-85f0-4db68ed1a4f8",
   "metadata": {},
   "source": [
    "# Extração e gravação no datalake"
   ]
  },
  {
   "cell_type": "code",
   "execution_count": 3,
   "id": "2107e621-56b5-4ad2-b204-072b66f1bb6f",
   "metadata": {
    "scrolled": true
   },
   "outputs": [
    {
     "name": "stderr",
     "output_type": "stream",
     "text": [
      "2025-01-12 14:56:26,366 - INFO - Aguarde... Iniciando extração de dados camada Bronze\n",
      "2025-01-12 14:56:26,368 - INFO - Lista de yaml carregada com sucesso\n",
      "2025-01-12 14:56:26,369 - INFO -  \n"
     ]
    },
    {
     "name": "stdout",
     "output_type": "stream",
     "text": [
      "Extraindo dados api\n"
     ]
    },
    {
     "name": "stderr",
     "output_type": "stream",
     "text": [
      "2025-01-12 14:56:30,596 - INFO - Aguarde... Persistindo dados (overwrite)\n",
      "2025-01-12 14:56:36,396 - INFO - Dados persistidos com sucesso\n",
      "2025-01-12 14:56:36,397 - INFO - s3a://bronze/servicodadosibge/cnaeclasses\n",
      "2025-01-12 14:56:36,398 - INFO - Aguarde... Realizando optimize\n",
      "2025-01-12 14:56:41,064 - INFO - Optimize executado com sucesso.\n",
      "2025-01-12 14:56:41,065 - INFO - Aguarde... Realizando vacuum\n",
      "2025-01-12 14:56:58,197 - INFO - Vacuum executado com sucesso.\n",
      "2025-01-12 14:56:58,198 - INFO - Extração concluída com sucesso\n",
      "2025-01-12 14:56:58,199 - INFO -  \n"
     ]
    },
    {
     "name": "stdout",
     "output_type": "stream",
     "text": [
      "Extraindo dados api\n"
     ]
    },
    {
     "name": "stderr",
     "output_type": "stream",
     "text": [
      "2025-01-12 14:56:59,287 - INFO - Aguarde... Persistindo dados (overwrite)\n",
      "2025-01-12 14:57:00,838 - INFO - Dados persistidos com sucesso\n",
      "2025-01-12 14:57:00,839 - INFO - s3a://bronze/servicodadosibge/cnaedivisoes\n",
      "2025-01-12 14:57:00,839 - INFO - Aguarde... Realizando optimize\n",
      "2025-01-12 14:57:02,342 - INFO - Optimize executado com sucesso.\n",
      "2025-01-12 14:57:02,342 - INFO - Aguarde... Realizando vacuum\n",
      "2025-01-12 14:57:12,387 - INFO - Vacuum executado com sucesso.\n",
      "2025-01-12 14:57:12,388 - INFO - Extração concluída com sucesso\n",
      "2025-01-12 14:57:12,389 - INFO -  \n"
     ]
    },
    {
     "name": "stdout",
     "output_type": "stream",
     "text": [
      "Extraindo dados api\n"
     ]
    },
    {
     "name": "stderr",
     "output_type": "stream",
     "text": [
      "2025-01-12 14:57:13,117 - INFO - Aguarde... Persistindo dados (overwrite)\n",
      "2025-01-12 14:57:13,622 - INFO - Dados persistidos com sucesso\n",
      "2025-01-12 14:57:13,623 - INFO - s3a://bronze/servicodadosibge/cnaegrupos\n",
      "2025-01-12 14:57:13,624 - INFO - Aguarde... Realizando optimize\n",
      "2025-01-12 14:57:14,849 - INFO - Optimize executado com sucesso.\n",
      "2025-01-12 14:57:14,850 - INFO - Aguarde... Realizando vacuum\n",
      "2025-01-12 14:57:23,700 - INFO - Vacuum executado com sucesso.\n",
      "2025-01-12 14:57:23,701 - INFO - Extração concluída com sucesso\n",
      "2025-01-12 14:57:23,702 - INFO -  \n"
     ]
    },
    {
     "name": "stdout",
     "output_type": "stream",
     "text": [
      "Extraindo dados api\n"
     ]
    },
    {
     "name": "stderr",
     "output_type": "stream",
     "text": [
      "2025-01-12 14:57:24,288 - INFO - Aguarde... Persistindo dados (overwrite)\n",
      "2025-01-12 14:57:24,672 - INFO - Dados persistidos com sucesso\n",
      "2025-01-12 14:57:24,673 - INFO - s3a://bronze/servicodadosibge/cnaesecoes\n",
      "2025-01-12 14:57:24,673 - INFO - Aguarde... Realizando optimize\n",
      "2025-01-12 14:57:25,834 - INFO - Optimize executado com sucesso.\n",
      "2025-01-12 14:57:25,835 - INFO - Aguarde... Realizando vacuum\n",
      "2025-01-12 14:57:35,466 - INFO - Vacuum executado com sucesso.\n",
      "2025-01-12 14:57:35,467 - INFO - Extração concluída com sucesso\n",
      "2025-01-12 14:57:35,467 - INFO -  \n"
     ]
    },
    {
     "name": "stdout",
     "output_type": "stream",
     "text": [
      "Extraindo dados api\n"
     ]
    },
    {
     "name": "stderr",
     "output_type": "stream",
     "text": [
      "2025-01-12 14:57:44,857 - INFO - Aguarde... Persistindo dados (overwrite)\n",
      "2025-01-12 14:57:45,882 - INFO - Dados persistidos com sucesso\n",
      "2025-01-12 14:57:45,882 - INFO - s3a://bronze/servicodadosibge/cnaesubclasses\n",
      "2025-01-12 14:57:45,883 - INFO - Aguarde... Realizando optimize\n",
      "2025-01-12 14:57:47,302 - INFO - Optimize executado com sucesso.\n",
      "2025-01-12 14:57:47,303 - INFO - Aguarde... Realizando vacuum\n",
      "2025-01-12 14:57:55,251 - INFO - Vacuum executado com sucesso.\n",
      "2025-01-12 14:57:55,252 - INFO - Extração concluída com sucesso\n",
      "2025-01-12 14:57:55,252 - INFO - Extração de dados camada bronze concluida com sucesso\n",
      "2025-01-12 14:57:55,694 - INFO - Sessão Spark finalizada.\n"
     ]
    }
   ],
   "source": [
    "extrator_bronze.extrair_dados_bronze()"
   ]
  }
 ],
 "metadata": {
  "kernelspec": {
   "display_name": "Python 3 (ipykernel)",
   "language": "python",
   "name": "python3"
  },
  "language_info": {
   "codemirror_mode": {
    "name": "ipython",
    "version": 3
   },
   "file_extension": ".py",
   "mimetype": "text/x-python",
   "name": "python",
   "nbconvert_exporter": "python",
   "pygments_lexer": "ipython3",
   "version": "3.11.9"
  }
 },
 "nbformat": 4,
 "nbformat_minor": 5
}
