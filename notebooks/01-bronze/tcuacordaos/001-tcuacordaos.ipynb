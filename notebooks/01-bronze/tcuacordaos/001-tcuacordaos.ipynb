{
 "cells": [
  {
   "cell_type": "markdown",
   "id": "5c4167aa-e480-4db6-9d12-132eaa99b8e3",
   "metadata": {},
   "source": [
    "# Importação das bibliotecas necessárias"
   ]
  },
  {
   "cell_type": "code",
   "execution_count": 1,
   "id": "dab8b8dc-67ba-4ca1-8775-61b08adb510f",
   "metadata": {},
   "outputs": [],
   "source": [
    "import sys\n",
    "import os\n",
    "sys.path.append('/home/jovyan/work')\n",
    "\n",
    "from utils.AlinharETL import AlinharETL\n",
    "from pyspark.sql import types as T"
   ]
  },
  {
   "cell_type": "markdown",
   "id": "b832ec95-1cb2-4a4a-894d-5204a5593fb5",
   "metadata": {},
   "source": [
    "# Crie uma instância da classe AlinharETL"
   ]
  },
  {
   "cell_type": "code",
   "execution_count": 2,
   "id": "2163db01-79e7-4bab-86d0-686ea5dae3e9",
   "metadata": {},
   "outputs": [
    {
     "name": "stderr",
     "output_type": "stream",
     "text": [
      "2024-10-15 10:33:01,501 - INFO - Iniciando Sessão Spark.\n"
     ]
    }
   ],
   "source": [
    "# Crie uma instância da classe\n",
    "bucket = \"bronze\"\n",
    "datamart = \"tcuacordaos\"\n",
    "extrator_bronze = AlinharETL(bucket,datamart)"
   ]
  },
  {
   "cell_type": "markdown",
   "id": "f1a4bdda-3f09-4a56-b0ba-c941933405a4",
   "metadata": {},
   "source": [
    "# Parâmetros para leitura do arquivo"
   ]
  },
  {
   "cell_type": "code",
   "execution_count": 3,
   "id": "d990b91f-d0b4-4f96-b72c-a8635e310c21",
   "metadata": {},
   "outputs": [],
   "source": [
    "ano_mes = extrator_bronze.encontrar_ano_mes(\"tcu/acordaos\")\n",
    "local = f\"s3a://landing/tcu/acordaos/{ano_mes}/*.csv\""
   ]
  },
  {
   "cell_type": "code",
   "execution_count": 4,
   "id": "ccb971c9-0aab-4b4b-b5d3-fb9b32ecf118",
   "metadata": {},
   "outputs": [],
   "source": [
    "config_adicional = {\n",
    "    'header': True,\n",
    "    'sep': '|'\n",
    "}"
   ]
  },
  {
   "cell_type": "markdown",
   "id": "dd48d17b-d008-4d83-8057-609729f65301",
   "metadata": {},
   "source": [
    "# Leitura do arquivo"
   ]
  },
  {
   "cell_type": "code",
   "execution_count": 5,
   "id": "284b02d0-ac42-466c-a0bd-a23d8ad7c912",
   "metadata": {},
   "outputs": [
    {
     "name": "stderr",
     "output_type": "stream",
     "text": [
      "2024-10-15 10:33:05,451 - INFO - Lista de yaml carregada com sucesso\n",
      "2024-10-15 10:33:17,503 - INFO - Criando view temporaria.\n"
     ]
    }
   ],
   "source": [
    "df_compliance_tcu = extrator_bronze.criar_view_temporaria_arquivo(local, 'compliance_tcu', **config_adicional)"
   ]
  },
  {
   "cell_type": "markdown",
   "id": "c209d7cc-e066-4b82-a99a-05e24b58be12",
   "metadata": {},
   "source": [
    "# Gravação no datalake"
   ]
  },
  {
   "cell_type": "code",
   "execution_count": 6,
   "id": "4ee559f7-5ec9-463f-affe-8c65af8d03ff",
   "metadata": {},
   "outputs": [],
   "source": [
    "extrator_bronze.caminho_tabela_delta = 's3a://bronze/tcu/acordaos'"
   ]
  },
  {
   "cell_type": "code",
   "execution_count": 7,
   "id": "afb20946-6a0e-4cb7-9a99-940375d68089",
   "metadata": {},
   "outputs": [
    {
     "name": "stderr",
     "output_type": "stream",
     "text": [
      "2024-10-15 10:33:17,514 - INFO - Aguarde... Persistindo dados (overwrite)\n",
      "2024-10-15 10:34:23,791 - INFO - Dados persistidos com sucesso\n",
      "2024-10-15 10:34:23,792 - INFO - s3a://bronze/tcu/acordaos\n",
      "2024-10-15 10:34:23,793 - INFO - Aguarde... Realizando optimize\n",
      "2024-10-15 10:35:27,158 - INFO - Optimize executado com sucesso.\n",
      "2024-10-15 10:35:27,159 - INFO - Aguarde... Realizando vacuum\n",
      "2024-10-15 10:35:41,981 - INFO - Vacuum executado com sucesso.\n"
     ]
    }
   ],
   "source": [
    "extrator_bronze.salvar_delta(df_compliance_tcu, 'overwrite')"
   ]
  },
  {
   "cell_type": "markdown",
   "id": "c15587e0-330e-4530-affb-21b3585124ae",
   "metadata": {},
   "source": [
    "# Encerra sessão spark"
   ]
  },
  {
   "cell_type": "code",
   "execution_count": 8,
   "id": "eb909129-dd70-46da-a2eb-0eb681aa0c21",
   "metadata": {},
   "outputs": [
    {
     "name": "stderr",
     "output_type": "stream",
     "text": [
      "2024-10-15 10:35:42,401 - INFO - Sessão Spark finalizada.\n"
     ]
    }
   ],
   "source": [
    "extrator_bronze.parar_sessao()"
   ]
  }
 ],
 "metadata": {
  "kernelspec": {
   "display_name": "Python 3 (ipykernel)",
   "language": "python",
   "name": "python3"
  },
  "language_info": {
   "codemirror_mode": {
    "name": "ipython",
    "version": 3
   },
   "file_extension": ".py",
   "mimetype": "text/x-python",
   "name": "python",
   "nbconvert_exporter": "python",
   "pygments_lexer": "ipython3",
   "version": "3.11.9"
  }
 },
 "nbformat": 4,
 "nbformat_minor": 5
}
