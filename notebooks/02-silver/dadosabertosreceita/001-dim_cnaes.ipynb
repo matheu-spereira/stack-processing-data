{
 "cells": [
  {
   "cell_type": "markdown",
   "id": "73db1ef7-d430-4cd0-a1e6-1ddbbfb82af7",
   "metadata": {},
   "source": [
    "# Importação das bibliotecas necessárias"
   ]
  },
  {
   "cell_type": "code",
   "execution_count": 1,
   "id": "dab8b8dc-67ba-4ca1-8775-61b08adb510f",
   "metadata": {},
   "outputs": [],
   "source": [
    "import sys\n",
    "import os\n",
    "sys.path.append('/home/jovyan/work')\n",
    "\n",
    "from utils.AlinharETL import AlinharETL"
   ]
  },
  {
   "cell_type": "markdown",
   "id": "7b9ec63f-e36e-482f-97c8-17401b10ae55",
   "metadata": {},
   "source": [
    "# Crie uma instância da classe AlinharETL"
   ]
  },
  {
   "cell_type": "code",
   "execution_count": 2,
   "id": "2163db01-79e7-4bab-86d0-686ea5dae3e9",
   "metadata": {},
   "outputs": [
    {
     "name": "stderr",
     "output_type": "stream",
     "text": [
      "2024-10-15 11:00:46,580 - INFO - Iniciando Sessão Spark.\n"
     ]
    }
   ],
   "source": [
    "# Crie uma instância da classe\n",
    "bucket = \"silver\"\n",
    "datamart = \"dadosabertosreceita\"\n",
    "extrator_bronze = AlinharETL(bucket,datamart)"
   ]
  },
  {
   "cell_type": "markdown",
   "id": "56fd0bdb-1219-4d1b-9fc9-d48849000cd3",
   "metadata": {},
   "source": [
    "# Gravação no datalake"
   ]
  },
  {
   "cell_type": "code",
   "execution_count": 3,
   "id": "4ee559f7-5ec9-463f-affe-8c65af8d03ff",
   "metadata": {},
   "outputs": [
    {
     "name": "stderr",
     "output_type": "stream",
     "text": [
      "2024-10-15 11:00:51,017 - INFO - Aguarde... Atualizando tabela (Delta)\n",
      "2024-10-15 11:00:51,018 - INFO - Arquivo yaml carregada com sucesso\n",
      "2024-10-15 11:00:51,018 - INFO - ['/home/jovyan/work/yaml/silver/dadosabertosreceita/dim_cnaes.yaml']\n",
      "2024-10-15 11:00:51,029 - INFO - Aguarde... Preparando tabela (Delta)\n",
      "2024-10-15 11:00:51,030 - INFO - Arquivo yaml carregada com sucesso\n",
      "2024-10-15 11:00:51,030 - INFO - ['/home/jovyan/work/yaml/silver/dadosabertosreceita/dim_cnaes.yaml']\n",
      "2024-10-15 11:00:51,035 - INFO - Aguarde... Criando View (bronze/dadosabertosreceita/cnae)\n",
      "2024-10-15 11:01:00,526 - INFO - View criada com sucesso\n",
      "2024-10-15 11:01:00,527 - INFO - Aguarde... Executando Query (Delta)\n",
      "2024-10-15 11:01:00,528 - INFO - SELECT *\n",
      "FROM compliance_receita_cnaes\n",
      " \n",
      "2024-10-15 11:01:00,619 - INFO - Query (Delta) executada com sucesso\n",
      "2024-10-15 11:01:00,620 - INFO - Tabela (Delta) preparada com sucesso.\n",
      "2024-10-15 11:01:00,621 - INFO - Aguarde... Persistindo dados (overwrite)\n",
      "2024-10-15 11:01:14,656 - INFO - Dados persistidos com sucesso\n",
      "2024-10-15 11:01:14,658 - INFO - s3a://silver/dadosabertosreceita/dim_cnaes\n",
      "2024-10-15 11:01:14,658 - INFO - Aguarde... Realizando optimize\n",
      "2024-10-15 11:01:25,794 - INFO - Optimize executado com sucesso.\n",
      "2024-10-15 11:01:25,795 - INFO - Aguarde... Realizando vacuum\n",
      "2024-10-15 11:01:42,869 - INFO - Vacuum executado com sucesso.\n",
      "2024-10-15 11:01:42,870 - INFO - Tabela (Delta) atualizado com sucesso\n"
     ]
    }
   ],
   "source": [
    "extrator_bronze.atualizar_tabela_delta('dim_cnaes')"
   ]
  },
  {
   "cell_type": "markdown",
   "id": "af134fce-99d9-40a0-ad32-d4db66a2ce46",
   "metadata": {},
   "source": [
    "# Encerra sessão spark"
   ]
  },
  {
   "cell_type": "code",
   "execution_count": 4,
   "id": "eb909129-dd70-46da-a2eb-0eb681aa0c21",
   "metadata": {},
   "outputs": [
    {
     "name": "stderr",
     "output_type": "stream",
     "text": [
      "2024-10-15 11:01:43,280 - INFO - Sessão Spark finalizada.\n"
     ]
    }
   ],
   "source": [
    "extrator_bronze.parar_sessao()"
   ]
  }
 ],
 "metadata": {
  "kernelspec": {
   "display_name": "Python 3 (ipykernel)",
   "language": "python",
   "name": "python3"
  },
  "language_info": {
   "codemirror_mode": {
    "name": "ipython",
    "version": 3
   },
   "file_extension": ".py",
   "mimetype": "text/x-python",
   "name": "python",
   "nbconvert_exporter": "python",
   "pygments_lexer": "ipython3",
   "version": "3.11.9"
  }
 },
 "nbformat": 4,
 "nbformat_minor": 5
}
