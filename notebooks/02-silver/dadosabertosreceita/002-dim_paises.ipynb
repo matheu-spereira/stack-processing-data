{
 "cells": [
  {
   "cell_type": "markdown",
   "id": "49eb1f31-a973-49bc-83fd-f7c00760ba83",
   "metadata": {},
   "source": [
    "# Importação das bibliotecas necessárias"
   ]
  },
  {
   "cell_type": "code",
   "execution_count": 1,
   "id": "dab8b8dc-67ba-4ca1-8775-61b08adb510f",
   "metadata": {},
   "outputs": [],
   "source": [
    "import sys\n",
    "import os\n",
    "sys.path.append('/home/jovyan/work')\n",
    "\n",
    "from utils.AlinharETL import AlinharETL"
   ]
  },
  {
   "cell_type": "markdown",
   "id": "44ce5c5e-eb65-4f9b-9784-6256342e04b7",
   "metadata": {},
   "source": [
    "# Crie uma instância da classe AlinharETL"
   ]
  },
  {
   "cell_type": "code",
   "execution_count": 2,
   "id": "2163db01-79e7-4bab-86d0-686ea5dae3e9",
   "metadata": {},
   "outputs": [
    {
     "name": "stderr",
     "output_type": "stream",
     "text": [
      "2024-10-15 11:07:07,501 - INFO - Iniciando Sessão Spark.\n"
     ]
    }
   ],
   "source": [
    "# Crie uma instância da classe\n",
    "bucket = \"silver\"\n",
    "datamart = \"dadosabertosreceita\"\n",
    "extrator_bronze = AlinharETL(bucket,datamart)"
   ]
  },
  {
   "cell_type": "code",
   "execution_count": 3,
   "id": "afb20946-6a0e-4cb7-9a99-940375d68089",
   "metadata": {},
   "outputs": [
    {
     "name": "stderr",
     "output_type": "stream",
     "text": [
      "2024-10-15 11:07:11,418 - INFO - Aguarde... Atualizando tabela (Delta)\n",
      "2024-10-15 11:07:11,420 - INFO - Arquivo yaml carregada com sucesso\n",
      "2024-10-15 11:07:11,420 - INFO - ['/home/jovyan/work/yaml/silver/dadosabertosreceita/dim_paises.yaml']\n",
      "2024-10-15 11:07:11,431 - INFO - Aguarde... Preparando tabela (Delta)\n",
      "2024-10-15 11:07:11,432 - INFO - Arquivo yaml carregada com sucesso\n",
      "2024-10-15 11:07:11,432 - INFO - ['/home/jovyan/work/yaml/silver/dadosabertosreceita/dim_paises.yaml']\n",
      "2024-10-15 11:07:11,437 - INFO - Aguarde... Criando View (bronze/dadosabertosreceita/paises)\n",
      "2024-10-15 11:07:20,699 - INFO - View criada com sucesso\n",
      "2024-10-15 11:07:20,700 - INFO - Aguarde... Executando Query (Delta)\n",
      "2024-10-15 11:07:20,701 - INFO - SELECT *\n",
      "FROM compliance_receita_paises\n",
      " \n",
      "2024-10-15 11:07:20,794 - INFO - Query (Delta) executada com sucesso\n",
      "2024-10-15 11:07:20,795 - INFO - Tabela (Delta) preparada com sucesso.\n",
      "2024-10-15 11:07:20,795 - INFO - Aguarde... Persistindo dados (overwrite)\n",
      "2024-10-15 11:07:34,223 - INFO - Dados persistidos com sucesso\n",
      "2024-10-15 11:07:34,224 - INFO - s3a://silver/dadosabertosreceita/dim_paises\n",
      "2024-10-15 11:07:34,225 - INFO - Aguarde... Realizando optimize\n",
      "2024-10-15 11:07:45,956 - INFO - Optimize executado com sucesso.\n",
      "2024-10-15 11:07:45,957 - INFO - Aguarde... Realizando vacuum\n",
      "2024-10-15 11:08:03,037 - INFO - Vacuum executado com sucesso.\n",
      "2024-10-15 11:08:03,039 - INFO - Tabela (Delta) atualizado com sucesso\n"
     ]
    }
   ],
   "source": [
    "extrator_bronze.atualizar_tabela_delta('dim_paises')"
   ]
  },
  {
   "cell_type": "markdown",
   "id": "138b1bf5-d5eb-4d40-b978-2527b6d8504c",
   "metadata": {},
   "source": [
    "# Encerra sessão spark"
   ]
  },
  {
   "cell_type": "code",
   "execution_count": 4,
   "id": "eb909129-dd70-46da-a2eb-0eb681aa0c21",
   "metadata": {},
   "outputs": [
    {
     "name": "stderr",
     "output_type": "stream",
     "text": [
      "2024-10-15 11:08:03,269 - INFO - Sessão Spark finalizada.\n"
     ]
    }
   ],
   "source": [
    "extrator_bronze.parar_sessao()"
   ]
  }
 ],
 "metadata": {
  "kernelspec": {
   "display_name": "Python 3 (ipykernel)",
   "language": "python",
   "name": "python3"
  },
  "language_info": {
   "codemirror_mode": {
    "name": "ipython",
    "version": 3
   },
   "file_extension": ".py",
   "mimetype": "text/x-python",
   "name": "python",
   "nbconvert_exporter": "python",
   "pygments_lexer": "ipython3",
   "version": "3.11.9"
  }
 },
 "nbformat": 4,
 "nbformat_minor": 5
}
