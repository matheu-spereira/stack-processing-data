{
 "cells": [
  {
   "cell_type": "markdown",
   "id": "b67b86cb-f46a-4ca2-aa47-8628c943423a",
   "metadata": {},
   "source": [
    "# Importação das bibliotecas necessárias"
   ]
  },
  {
   "cell_type": "code",
   "execution_count": 1,
   "id": "dab8b8dc-67ba-4ca1-8775-61b08adb510f",
   "metadata": {},
   "outputs": [],
   "source": [
    "import sys\n",
    "import os\n",
    "sys.path.append('/home/jovyan/work')\n",
    "\n",
    "from utils.AlinharETL import AlinharETL"
   ]
  },
  {
   "cell_type": "markdown",
   "id": "399f4116-e99c-48cf-902e-37c96cfcd621",
   "metadata": {},
   "source": [
    "# Crie uma instância da classe AlinharETL"
   ]
  },
  {
   "cell_type": "code",
   "execution_count": 2,
   "id": "2163db01-79e7-4bab-86d0-686ea5dae3e9",
   "metadata": {},
   "outputs": [
    {
     "name": "stderr",
     "output_type": "stream",
     "text": [
      "2024-10-15 11:04:50,286 - INFO - Iniciando Sessão Spark.\n"
     ]
    }
   ],
   "source": [
    "# Crie uma instância da classe\n",
    "bucket = \"silver\"\n",
    "datamart = \"dadosabertosreceita\"\n",
    "extrator_bronze = AlinharETL(bucket,datamart)"
   ]
  },
  {
   "cell_type": "markdown",
   "id": "3772fff5-b7f8-43f6-a61a-0dd86effd3ac",
   "metadata": {},
   "source": [
    "# Gravação no datalake"
   ]
  },
  {
   "cell_type": "code",
   "execution_count": 3,
   "id": "afb20946-6a0e-4cb7-9a99-940375d68089",
   "metadata": {},
   "outputs": [
    {
     "name": "stderr",
     "output_type": "stream",
     "text": [
      "2024-10-15 11:04:54,196 - INFO - Aguarde... Atualizando tabela (Delta)\n",
      "2024-10-15 11:04:54,198 - INFO - Arquivo yaml carregada com sucesso\n",
      "2024-10-15 11:04:54,199 - INFO - ['/home/jovyan/work/yaml/silver/dadosabertosreceita/dim_motivos.yaml']\n",
      "2024-10-15 11:04:54,208 - INFO - Aguarde... Preparando tabela (Delta)\n",
      "2024-10-15 11:04:54,209 - INFO - Arquivo yaml carregada com sucesso\n",
      "2024-10-15 11:04:54,210 - INFO - ['/home/jovyan/work/yaml/silver/dadosabertosreceita/dim_motivos.yaml']\n",
      "2024-10-15 11:04:54,214 - INFO - Aguarde... Criando View (bronze/dadosabertosreceita/motivos)\n",
      "2024-10-15 11:05:03,656 - INFO - View criada com sucesso\n",
      "2024-10-15 11:05:03,657 - INFO - Aguarde... Executando Query (Delta)\n",
      "2024-10-15 11:05:03,658 - INFO - SELECT \n",
      "codigo,\n",
      "INITCAP(descricao) AS descricao\n",
      "FROM compliance_receita_motivos\n",
      " \n",
      "2024-10-15 11:05:03,780 - INFO - Query (Delta) executada com sucesso\n",
      "2024-10-15 11:05:03,781 - INFO - Tabela (Delta) preparada com sucesso.\n",
      "2024-10-15 11:05:03,782 - INFO - Aguarde... Persistindo dados (overwrite)\n",
      "2024-10-15 11:05:15,134 - INFO - Dados persistidos com sucesso\n",
      "2024-10-15 11:05:15,135 - INFO - s3a://silver/dadosabertosreceita/dim_motivos\n",
      "2024-10-15 11:05:15,135 - INFO - Aguarde... Realizando optimize\n",
      "2024-10-15 11:05:28,027 - INFO - Optimize executado com sucesso.\n",
      "2024-10-15 11:05:28,028 - INFO - Aguarde... Realizando vacuum\n",
      "2024-10-15 11:05:45,353 - INFO - Vacuum executado com sucesso.\n",
      "2024-10-15 11:05:45,354 - INFO - Tabela (Delta) atualizado com sucesso\n"
     ]
    }
   ],
   "source": [
    "extrator_bronze.atualizar_tabela_delta('dim_motivos')"
   ]
  },
  {
   "cell_type": "markdown",
   "id": "0b01b414-db9e-48de-89a0-d131cf447fb0",
   "metadata": {},
   "source": [
    "# Encerra sessão spark"
   ]
  },
  {
   "cell_type": "code",
   "execution_count": 4,
   "id": "eb909129-dd70-46da-a2eb-0eb681aa0c21",
   "metadata": {},
   "outputs": [
    {
     "name": "stderr",
     "output_type": "stream",
     "text": [
      "2024-10-15 11:05:45,543 - INFO - Sessão Spark finalizada.\n"
     ]
    }
   ],
   "source": [
    "extrator_bronze.parar_sessao()"
   ]
  }
 ],
 "metadata": {
  "kernelspec": {
   "display_name": "Python 3 (ipykernel)",
   "language": "python",
   "name": "python3"
  },
  "language_info": {
   "codemirror_mode": {
    "name": "ipython",
    "version": 3
   },
   "file_extension": ".py",
   "mimetype": "text/x-python",
   "name": "python",
   "nbconvert_exporter": "python",
   "pygments_lexer": "ipython3",
   "version": "3.11.9"
  }
 },
 "nbformat": 4,
 "nbformat_minor": 5
}
