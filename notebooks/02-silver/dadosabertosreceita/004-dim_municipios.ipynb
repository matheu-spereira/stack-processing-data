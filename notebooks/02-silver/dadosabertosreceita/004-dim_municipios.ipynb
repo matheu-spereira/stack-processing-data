{
 "cells": [
  {
   "cell_type": "markdown",
   "id": "229d458e-2125-40d4-9da6-bcb4c6d2947b",
   "metadata": {},
   "source": [
    "# Importação das bibliotecas necessárias"
   ]
  },
  {
   "cell_type": "code",
   "execution_count": 1,
   "id": "dab8b8dc-67ba-4ca1-8775-61b08adb510f",
   "metadata": {},
   "outputs": [],
   "source": [
    "import sys\n",
    "import os\n",
    "sys.path.append('/home/jovyan/work')\n",
    "\n",
    "from utils.AlinharETL import AlinharETL"
   ]
  },
  {
   "cell_type": "markdown",
   "id": "46df85bc-4f76-4571-a712-a09563dbf2b0",
   "metadata": {},
   "source": [
    "# Crie uma instância da classe AlinharETL"
   ]
  },
  {
   "cell_type": "code",
   "execution_count": 2,
   "id": "2163db01-79e7-4bab-86d0-686ea5dae3e9",
   "metadata": {},
   "outputs": [
    {
     "name": "stderr",
     "output_type": "stream",
     "text": [
      "2024-10-15 11:06:00,258 - INFO - Iniciando Sessão Spark.\n"
     ]
    }
   ],
   "source": [
    "# Crie uma instância da classe\n",
    "bucket = \"silver\"\n",
    "datamart = \"dadosabertosreceita\"\n",
    "extrator_bronze = AlinharETL(bucket,datamart)"
   ]
  },
  {
   "cell_type": "markdown",
   "id": "760d698c-6ce6-44a9-90d7-ffc3d713174d",
   "metadata": {},
   "source": [
    "# Gravação no datalake"
   ]
  },
  {
   "cell_type": "code",
   "execution_count": 3,
   "id": "afb20946-6a0e-4cb7-9a99-940375d68089",
   "metadata": {},
   "outputs": [
    {
     "name": "stderr",
     "output_type": "stream",
     "text": [
      "2024-10-15 11:06:04,108 - INFO - Aguarde... Atualizando tabela (Delta)\n",
      "2024-10-15 11:06:04,110 - INFO - Arquivo yaml carregada com sucesso\n",
      "2024-10-15 11:06:04,111 - INFO - ['/home/jovyan/work/yaml/silver/dadosabertosreceita/dim_municipios.yaml']\n",
      "2024-10-15 11:06:04,120 - INFO - Aguarde... Preparando tabela (Delta)\n",
      "2024-10-15 11:06:04,121 - INFO - Arquivo yaml carregada com sucesso\n",
      "2024-10-15 11:06:04,121 - INFO - ['/home/jovyan/work/yaml/silver/dadosabertosreceita/dim_municipios.yaml']\n",
      "2024-10-15 11:06:04,126 - INFO - Aguarde... Criando View (bronze/dadosabertosreceita/municios)\n",
      "2024-10-15 11:06:13,254 - INFO - View criada com sucesso\n",
      "2024-10-15 11:06:13,255 - INFO - Aguarde... Executando Query (Delta)\n",
      "2024-10-15 11:06:13,256 - INFO - SELECT \n",
      "codigo,\n",
      "INITCAP(descricao) AS descricao\n",
      "FROM compliance_receita_municipios\n",
      " \n",
      "2024-10-15 11:06:13,367 - INFO - Query (Delta) executada com sucesso\n",
      "2024-10-15 11:06:13,368 - INFO - Tabela (Delta) preparada com sucesso.\n",
      "2024-10-15 11:06:13,369 - INFO - Aguarde... Persistindo dados (overwrite)\n",
      "2024-10-15 11:06:26,301 - INFO - Dados persistidos com sucesso\n",
      "2024-10-15 11:06:26,302 - INFO - s3a://silver/dadosabertosreceita/dim_municipios\n",
      "2024-10-15 11:06:26,303 - INFO - Aguarde... Realizando optimize\n",
      "2024-10-15 11:06:37,979 - INFO - Optimize executado com sucesso.\n",
      "2024-10-15 11:06:37,980 - INFO - Aguarde... Realizando vacuum\n",
      "2024-10-15 11:06:54,656 - INFO - Vacuum executado com sucesso.\n",
      "2024-10-15 11:06:54,658 - INFO - Tabela (Delta) atualizado com sucesso\n"
     ]
    }
   ],
   "source": [
    "extrator_bronze.atualizar_tabela_delta('dim_municipios')"
   ]
  },
  {
   "cell_type": "markdown",
   "id": "e41707a2-8566-42b3-932b-b8b5e27cc2b4",
   "metadata": {},
   "source": [
    "# Encerra sessão spark"
   ]
  },
  {
   "cell_type": "code",
   "execution_count": 4,
   "id": "eb909129-dd70-46da-a2eb-0eb681aa0c21",
   "metadata": {},
   "outputs": [
    {
     "name": "stderr",
     "output_type": "stream",
     "text": [
      "2024-10-15 11:06:54,951 - INFO - Sessão Spark finalizada.\n"
     ]
    }
   ],
   "source": [
    "extrator_bronze.parar_sessao()"
   ]
  }
 ],
 "metadata": {
  "kernelspec": {
   "display_name": "Python 3 (ipykernel)",
   "language": "python",
   "name": "python3"
  },
  "language_info": {
   "codemirror_mode": {
    "name": "ipython",
    "version": 3
   },
   "file_extension": ".py",
   "mimetype": "text/x-python",
   "name": "python",
   "nbconvert_exporter": "python",
   "pygments_lexer": "ipython3",
   "version": "3.11.9"
  }
 },
 "nbformat": 4,
 "nbformat_minor": 5
}
