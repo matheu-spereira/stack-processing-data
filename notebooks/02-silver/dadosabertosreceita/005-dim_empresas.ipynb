{
 "cells": [
  {
   "cell_type": "markdown",
   "id": "56e67e89-9efe-4c06-a5b7-3969dd801041",
   "metadata": {},
   "source": [
    "# Importação das bibliotecas necessárias"
   ]
  },
  {
   "cell_type": "code",
   "execution_count": 1,
   "id": "dab8b8dc-67ba-4ca1-8775-61b08adb510f",
   "metadata": {},
   "outputs": [],
   "source": [
    "import sys\n",
    "import os\n",
    "sys.path.append('/home/jovyan/work')\n",
    "\n",
    "from utils.AlinharETL import AlinharETL"
   ]
  },
  {
   "cell_type": "markdown",
   "id": "89c69029-7030-4604-a476-d96008e88875",
   "metadata": {},
   "source": [
    "# Crie uma instância da classe AlinharETL"
   ]
  },
  {
   "cell_type": "code",
   "execution_count": 2,
   "id": "2163db01-79e7-4bab-86d0-686ea5dae3e9",
   "metadata": {},
   "outputs": [
    {
     "name": "stderr",
     "output_type": "stream",
     "text": [
      "2024-10-15 11:01:52,568 - INFO - Iniciando Sessão Spark.\n"
     ]
    }
   ],
   "source": [
    "# Crie uma instância da classe\n",
    "bucket = \"silver\"\n",
    "datamart = \"dadosabertosreceita\"\n",
    "extrator_bronze = AlinharETL(bucket,datamart)"
   ]
  },
  {
   "cell_type": "markdown",
   "id": "fcf84912-4863-4aa1-a6ca-0656ff563ec7",
   "metadata": {},
   "source": [
    "# Gravação no datalake"
   ]
  },
  {
   "cell_type": "code",
   "execution_count": 3,
   "id": "afb20946-6a0e-4cb7-9a99-940375d68089",
   "metadata": {},
   "outputs": [
    {
     "name": "stderr",
     "output_type": "stream",
     "text": [
      "2024-10-15 11:01:56,456 - INFO - Aguarde... Atualizando tabela (Delta)\n",
      "2024-10-15 11:01:56,457 - INFO - Arquivo yaml carregada com sucesso\n",
      "2024-10-15 11:01:56,458 - INFO - ['/home/jovyan/work/yaml/silver/dadosabertosreceita/dim_empresas.yaml']\n",
      "2024-10-15 11:01:56,469 - INFO - Aguarde... Preparando tabela (Delta)\n",
      "2024-10-15 11:01:56,470 - INFO - Arquivo yaml carregada com sucesso\n",
      "2024-10-15 11:01:56,471 - INFO - ['/home/jovyan/work/yaml/silver/dadosabertosreceita/dim_empresas.yaml']\n",
      "2024-10-15 11:01:56,477 - INFO - Aguarde... Criando View (bronze/dadosabertosreceita/empresas)\n",
      "2024-10-15 11:02:05,812 - INFO - View criada com sucesso\n",
      "2024-10-15 11:02:05,814 - INFO - Aguarde... Executando Query (Delta)\n",
      "2024-10-15 11:02:05,820 - INFO - SELECT\n",
      "    cnpj_basico AS cd_cnpj_basico,\n",
      "    INITCAP(razao_social) AS nm_razao_social,\n",
      "    CASE \n",
      "        WHEN porte_empresa = '00' THEN 'Não Informado'\n",
      "        WHEN porte_empresa = '01' THEN 'Micro Empresa'\n",
      "        WHEN porte_empresa = '03' THEN 'Empresa de Pequeno Porte'\n",
      "        WHEN porte_empresa = '05' THEN 'Demais'\n",
      "        ELSE 'Outros'\n",
      "    END AS dsc_porte_empresa\n",
      "FROM compliance_receita_empresas\n",
      " \n",
      "2024-10-15 11:02:06,004 - INFO - Query (Delta) executada com sucesso\n",
      "2024-10-15 11:02:06,006 - INFO - Tabela (Delta) preparada com sucesso.\n",
      "2024-10-15 11:02:06,006 - INFO - Aguarde... Persistindo dados (overwrite)\n",
      "2024-10-15 11:02:50,405 - INFO - Dados persistidos com sucesso\n",
      "2024-10-15 11:02:50,406 - INFO - s3a://silver/dadosabertosreceita/dim_empresas\n",
      "2024-10-15 11:02:50,407 - INFO - Aguarde... Realizando optimize\n",
      "2024-10-15 11:04:21,156 - INFO - Optimize executado com sucesso.\n",
      "2024-10-15 11:04:21,158 - INFO - Aguarde... Realizando vacuum\n",
      "2024-10-15 11:04:39,128 - INFO - Vacuum executado com sucesso.\n",
      "2024-10-15 11:04:39,129 - INFO - Tabela (Delta) atualizado com sucesso\n"
     ]
    }
   ],
   "source": [
    "extrator_bronze.atualizar_tabela_delta('dim_empresas')"
   ]
  },
  {
   "cell_type": "markdown",
   "id": "9794aa1c-238e-48c9-9059-aea354b8b201",
   "metadata": {},
   "source": [
    "# Encerra sessão spark"
   ]
  },
  {
   "cell_type": "code",
   "execution_count": 4,
   "id": "eb909129-dd70-46da-a2eb-0eb681aa0c21",
   "metadata": {},
   "outputs": [
    {
     "name": "stderr",
     "output_type": "stream",
     "text": [
      "2024-10-15 11:04:39,462 - INFO - Sessão Spark finalizada.\n"
     ]
    }
   ],
   "source": [
    "extrator_bronze.parar_sessao()"
   ]
  }
 ],
 "metadata": {
  "kernelspec": {
   "display_name": "Python 3 (ipykernel)",
   "language": "python",
   "name": "python3"
  },
  "language_info": {
   "codemirror_mode": {
    "name": "ipython",
    "version": 3
   },
   "file_extension": ".py",
   "mimetype": "text/x-python",
   "name": "python",
   "nbconvert_exporter": "python",
   "pygments_lexer": "ipython3",
   "version": "3.11.9"
  }
 },
 "nbformat": 4,
 "nbformat_minor": 5
}
