{
 "cells": [
  {
   "cell_type": "markdown",
   "id": "793a969e-710b-4768-a0f6-d706fd086d3f",
   "metadata": {},
   "source": [
    "# Importação das bibliotecas necessárias"
   ]
  },
  {
   "cell_type": "code",
   "execution_count": 1,
   "id": "dab8b8dc-67ba-4ca1-8775-61b08adb510f",
   "metadata": {},
   "outputs": [],
   "source": [
    "import sys\n",
    "import os\n",
    "sys.path.append('/home/jovyan/work')\n",
    "\n",
    "from utils.AlinharETL import AlinharETL"
   ]
  },
  {
   "cell_type": "markdown",
   "id": "b1ff22f7-c0b2-4717-b526-1be5d87f1c9f",
   "metadata": {},
   "source": [
    "# Crie uma instância da classe AlinharETL"
   ]
  },
  {
   "cell_type": "code",
   "execution_count": 2,
   "id": "2163db01-79e7-4bab-86d0-686ea5dae3e9",
   "metadata": {},
   "outputs": [
    {
     "name": "stderr",
     "output_type": "stream",
     "text": [
      "2024-10-18 06:44:41,619 - INFO - Iniciando Sessão Spark.\n"
     ]
    }
   ],
   "source": [
    "# Crie uma instância da classe\n",
    "bucket = \"silver\"\n",
    "datamart = \"dadosabertosreceita\"\n",
    "extrator_bronze = AlinharETL(bucket,datamart)"
   ]
  },
  {
   "cell_type": "markdown",
   "id": "ca170b00-39ce-4b75-8352-9de52e896c23",
   "metadata": {},
   "source": [
    "# Gravação no datalake"
   ]
  },
  {
   "cell_type": "code",
   "execution_count": 3,
   "id": "afb20946-6a0e-4cb7-9a99-940375d68089",
   "metadata": {},
   "outputs": [
    {
     "name": "stderr",
     "output_type": "stream",
     "text": [
      "2024-10-18 06:44:45,824 - INFO - Aguarde... Atualizando tabela (Delta)\n",
      "2024-10-18 06:44:45,826 - INFO - Arquivo yaml carregada com sucesso\n",
      "2024-10-18 06:44:45,827 - INFO - ['/home/jovyan/work/yaml/silver/dadosabertosreceita/flat_estabelecimentos.yaml']\n",
      "2024-10-18 06:44:45,842 - INFO - Aguarde... Preparando tabela (Delta)\n",
      "2024-10-18 06:44:45,843 - INFO - Arquivo yaml carregada com sucesso\n",
      "2024-10-18 06:44:45,844 - INFO - ['/home/jovyan/work/yaml/silver/dadosabertosreceita/flat_estabelecimentos.yaml']\n",
      "2024-10-18 06:44:45,849 - INFO - Aguarde... Criando View (bronze/dadosabertosreceita/estabelecimentos)\n",
      "2024-10-18 06:44:55,393 - INFO - View criada com sucesso\n",
      "2024-10-18 06:44:55,394 - INFO - Aguarde... Executando Query (Delta)\n",
      "2024-10-18 06:44:55,395 - INFO - SELECT\n",
      "    cnpj_basico AS dsc_cnpj_basico,  \n",
      "    cnpj_ordem AS dsc_cnpj_ordem, \n",
      "    cnpj_dv AS dsc_cnpj_dv, \n",
      "    CASE \n",
      "        WHEN id_matriz_filial = 1 THEN 'Matriz' \n",
      "        ELSE 'Filial' \n",
      "    END AS dsc_matriz_filial, \n",
      "    INITCAP(nome_fantasia) AS nm_fantasia,\n",
      "    CASE \n",
      "        WHEN situacao_cadastral = '01' THEN 'Nulo'\n",
      "        WHEN situacao_cadastral = '02' THEN 'Ativa'\n",
      "        WHEN situacao_cadastral = '03' THEN 'Suspensa'\n",
      "        WHEN situacao_cadastral = '04' THEN 'Inapta'\n",
      "        WHEN situacao_cadastral = '08' THEN 'Baixada'\n",
      "        ELSE 'Outros' \n",
      "    END AS dsc_situacao_cadastral, \n",
      "    motivo_situacao_cadastral AS cd_motivo_situacao_cadastral,\n",
      "    pais AS cd_pais,\n",
      "    cnae_fiscal_principal AS cd_cnae_fiscal_principal, \n",
      "    cnae_fiscal_secundaria AS cd_cnae_fiscal_secundaria, \n",
      "    municipio AS cd_municipio,\n",
      "    telefone_1 AS dsc_telefone_1,\n",
      "    telefone_2 AS dsc_telefone_2,\n",
      "    uf\n",
      "FROM compliance_receita_estabelecimentos\n",
      " \n",
      "2024-10-18 06:44:55,558 - INFO - Query (Delta) executada com sucesso\n",
      "2024-10-18 06:44:55,559 - INFO - Tabela (Delta) preparada com sucesso.\n",
      "2024-10-18 06:44:55,560 - INFO - Aguarde... Persistindo dados (overwrite)\n",
      "2024-10-18 06:45:53,969 - INFO - Dados persistidos com sucesso\n",
      "2024-10-18 06:45:53,970 - INFO - s3a://silver/dadosabertosreceita/flat_estabelecimentos\n",
      "2024-10-18 06:45:53,971 - INFO - Aguarde... Realizando optimize\n",
      "2024-10-18 06:49:55,556 - INFO - Optimize executado com sucesso.\n",
      "2024-10-18 06:49:55,558 - INFO - Aguarde... Realizando vacuum\n",
      "2024-10-18 06:50:14,417 - INFO - Vacuum executado com sucesso.\n",
      "2024-10-18 06:50:14,419 - INFO - Tabela (Delta) atualizado com sucesso\n"
     ]
    }
   ],
   "source": [
    "extrator_bronze.atualizar_tabela_delta('flat_estabelecimentos')"
   ]
  },
  {
   "cell_type": "markdown",
   "id": "c6601b38-2973-444d-94f9-cf7c0fe2cf63",
   "metadata": {},
   "source": [
    "# Encerra sessão spark"
   ]
  },
  {
   "cell_type": "code",
   "execution_count": 4,
   "id": "eb909129-dd70-46da-a2eb-0eb681aa0c21",
   "metadata": {},
   "outputs": [
    {
     "name": "stderr",
     "output_type": "stream",
     "text": [
      "2024-10-18 06:50:14,983 - INFO - Sessão Spark finalizada.\n"
     ]
    }
   ],
   "source": [
    "extrator_bronze.parar_sessao()"
   ]
  }
 ],
 "metadata": {
  "kernelspec": {
   "display_name": "Python 3 (ipykernel)",
   "language": "python",
   "name": "python3"
  },
  "language_info": {
   "codemirror_mode": {
    "name": "ipython",
    "version": 3
   },
   "file_extension": ".py",
   "mimetype": "text/x-python",
   "name": "python",
   "nbconvert_exporter": "python",
   "pygments_lexer": "ipython3",
   "version": "3.11.9"
  }
 },
 "nbformat": 4,
 "nbformat_minor": 5
}
