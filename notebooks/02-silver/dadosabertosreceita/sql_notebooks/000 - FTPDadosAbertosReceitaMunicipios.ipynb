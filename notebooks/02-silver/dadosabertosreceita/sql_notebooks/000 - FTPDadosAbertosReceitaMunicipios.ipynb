{
 "cells": [
  {
   "cell_type": "markdown",
   "id": "229d458e-2125-40d4-9da6-bcb4c6d2947b",
   "metadata": {},
   "source": [
    "# Importação das bibliotecas necessárias"
   ]
  },
  {
   "cell_type": "code",
   "execution_count": 1,
   "id": "dab8b8dc-67ba-4ca1-8775-61b08adb510f",
   "metadata": {},
   "outputs": [],
   "source": [
    "import sys\n",
    "import os\n",
    "sys.path.append('/home/jovyan/work')\n",
    "\n",
    "from utils.AlinharETL import AlinharETL"
   ]
  },
  {
   "cell_type": "markdown",
   "id": "46df85bc-4f76-4571-a712-a09563dbf2b0",
   "metadata": {},
   "source": [
    "# Crie uma instância da classe AlinharETL"
   ]
  },
  {
   "cell_type": "code",
   "execution_count": 2,
   "id": "2163db01-79e7-4bab-86d0-686ea5dae3e9",
   "metadata": {},
   "outputs": [
    {
     "name": "stderr",
     "output_type": "stream",
     "text": [
      "2024-09-25 18:53:42,203 - INFO - Iniciando Sessão Spark.\n"
     ]
    }
   ],
   "source": [
    "# Crie uma instância da classe\n",
    "bucket = \"bronze\"\n",
    "datamart = \"FTPDadosAbertosReceita\"\n",
    "extrator_bronze = AlinharETL(bucket,datamart)"
   ]
  },
  {
   "cell_type": "markdown",
   "id": "ef1a5802-322d-4e8f-8556-730daa23d3f2",
   "metadata": {},
   "source": [
    "# Leitura da tabela"
   ]
  },
  {
   "cell_type": "code",
   "execution_count": 3,
   "id": "72f43dc8-f3e5-4fa7-9a4b-726f2d5dc7f7",
   "metadata": {},
   "outputs": [
    {
     "name": "stderr",
     "output_type": "stream",
     "text": [
      "2024-09-25 18:53:45,509 - INFO - Aguarde... Criando View (bronze/DadosAbertosReceita/DadosAbertosReceitaMunicios)\n",
      "2024-09-25 18:53:51,679 - INFO - View criada com sucesso\n"
     ]
    }
   ],
   "source": [
    "df_compliance_municipios = extrator_bronze.criar_view_temporaria('bronze/DadosAbertosReceita/DadosAbertosReceitaMunicios','compliance_receita_municipios')"
   ]
  },
  {
   "cell_type": "markdown",
   "id": "760d698c-6ce6-44a9-90d7-ffc3d713174d",
   "metadata": {},
   "source": [
    "# Gravação no datalake"
   ]
  },
  {
   "cell_type": "code",
   "execution_count": 4,
   "id": "4ee559f7-5ec9-463f-affe-8c65af8d03ff",
   "metadata": {},
   "outputs": [],
   "source": [
    "extrator_bronze.caminho_tabela_delta = 's3a://silver/DadosAbertosReceita/DadosAbertosReceitaMunicios'"
   ]
  },
  {
   "cell_type": "code",
   "execution_count": 5,
   "id": "afb20946-6a0e-4cb7-9a99-940375d68089",
   "metadata": {},
   "outputs": [
    {
     "name": "stderr",
     "output_type": "stream",
     "text": [
      "2024-09-25 18:53:51,692 - INFO - Aguarde... Persistindo dados (overwrite)\n",
      "2024-09-25 18:54:03,319 - INFO - Dados persistidos com sucesso\n",
      "2024-09-25 18:54:03,320 - INFO - s3a://silver/DadosAbertosReceita/DadosAbertosReceitaMunicios\n",
      "2024-09-25 18:54:03,322 - INFO - Aguarde... Realizando optimize\n",
      "2024-09-25 18:54:10,841 - INFO - Optimize executado com sucesso.\n",
      "2024-09-25 18:54:10,842 - INFO - Aguarde... Realizando vacuum\n",
      "2024-09-25 18:54:35,460 - INFO - Vacuum executado com sucesso.\n"
     ]
    }
   ],
   "source": [
    "extrator_bronze.salvar_delta(df_compliance_municipios, 'overwrite')"
   ]
  },
  {
   "cell_type": "markdown",
   "id": "e41707a2-8566-42b3-932b-b8b5e27cc2b4",
   "metadata": {},
   "source": [
    "# Encerra sessão spark"
   ]
  },
  {
   "cell_type": "code",
   "execution_count": 6,
   "id": "eb909129-dd70-46da-a2eb-0eb681aa0c21",
   "metadata": {},
   "outputs": [
    {
     "name": "stderr",
     "output_type": "stream",
     "text": [
      "2024-09-25 18:54:35,914 - INFO - Sessão Spark finalizada.\n"
     ]
    }
   ],
   "source": [
    "extrator_bronze.parar_sessao()"
   ]
  }
 ],
 "metadata": {
  "kernelspec": {
   "display_name": "Python 3 (ipykernel)",
   "language": "python",
   "name": "python3"
  },
  "language_info": {
   "codemirror_mode": {
    "name": "ipython",
    "version": 3
   },
   "file_extension": ".py",
   "mimetype": "text/x-python",
   "name": "python",
   "nbconvert_exporter": "python",
   "pygments_lexer": "ipython3",
   "version": "3.11.10"
  }
 },
 "nbformat": 4,
 "nbformat_minor": 5
}
