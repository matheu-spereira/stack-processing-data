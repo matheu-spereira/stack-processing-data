{
 "cells": [
  {
   "cell_type": "markdown",
   "id": "73db1ef7-d430-4cd0-a1e6-1ddbbfb82af7",
   "metadata": {},
   "source": [
    "# Importação das bibliotecas necessárias"
   ]
  },
  {
   "cell_type": "code",
   "execution_count": 1,
   "id": "dab8b8dc-67ba-4ca1-8775-61b08adb510f",
   "metadata": {},
   "outputs": [],
   "source": [
    "import sys\n",
    "import os\n",
    "sys.path.append('/home/jovyan/work')\n",
    "\n",
    "from utils.AlinharETL import AlinharETL"
   ]
  },
  {
   "cell_type": "markdown",
   "id": "7b9ec63f-e36e-482f-97c8-17401b10ae55",
   "metadata": {},
   "source": [
    "# Crie uma instância da classe AlinharETL"
   ]
  },
  {
   "cell_type": "code",
   "execution_count": 2,
   "id": "2163db01-79e7-4bab-86d0-686ea5dae3e9",
   "metadata": {},
   "outputs": [
    {
     "name": "stderr",
     "output_type": "stream",
     "text": [
      "2024-09-25 18:54:08,581 - INFO - Iniciando Sessão Spark.\n"
     ]
    }
   ],
   "source": [
    "# Crie uma instância da classe\n",
    "bucket = \"bronze\"\n",
    "datamart = \"FTPDadosAbertosReceita\"\n",
    "extrator_bronze = AlinharETL(bucket,datamart)"
   ]
  },
  {
   "cell_type": "markdown",
   "id": "ef1a5802-322d-4e8f-8556-730daa23d3f2",
   "metadata": {},
   "source": [
    "# Leitura da tabela"
   ]
  },
  {
   "cell_type": "code",
   "execution_count": 3,
   "id": "72f43dc8-f3e5-4fa7-9a4b-726f2d5dc7f7",
   "metadata": {},
   "outputs": [
    {
     "name": "stderr",
     "output_type": "stream",
     "text": [
      "2024-09-25 18:54:18,800 - INFO - Aguarde... Criando View (bronze/DadosAbertosReceita/DadosAbertosReceitaCnae)\n",
      "2024-09-25 18:54:50,611 - INFO - View criada com sucesso\n"
     ]
    }
   ],
   "source": [
    "df_compliance_cnaes = extrator_bronze.criar_view_temporaria('bronze/DadosAbertosReceita/DadosAbertosReceitaCnae','compliance_receita_cnaes')"
   ]
  },
  {
   "cell_type": "markdown",
   "id": "56fd0bdb-1219-4d1b-9fc9-d48849000cd3",
   "metadata": {},
   "source": [
    "# Gravação no datalake"
   ]
  },
  {
   "cell_type": "code",
   "execution_count": 4,
   "id": "4ee559f7-5ec9-463f-affe-8c65af8d03ff",
   "metadata": {},
   "outputs": [],
   "source": [
    "extrator_bronze.caminho_tabela_delta = 's3a://silver/DadosAbertosReceita/DadosAbertosReceitaCnae'"
   ]
  },
  {
   "cell_type": "code",
   "execution_count": 5,
   "id": "afb20946-6a0e-4cb7-9a99-940375d68089",
   "metadata": {},
   "outputs": [
    {
     "name": "stderr",
     "output_type": "stream",
     "text": [
      "2024-09-25 18:54:50,625 - INFO - Aguarde... Persistindo dados (overwrite)\n",
      "2024-09-25 18:55:05,408 - INFO - Dados persistidos com sucesso\n",
      "2024-09-25 18:55:05,409 - INFO - s3a://silver/DadosAbertosReceita/DadosAbertosReceitaCnae\n",
      "2024-09-25 18:55:05,410 - INFO - Aguarde... Realizando optimize\n",
      "2024-09-25 18:55:08,709 - INFO - Optimize executado com sucesso.\n",
      "2024-09-25 18:55:08,711 - INFO - Aguarde... Realizando vacuum\n",
      "2024-09-25 18:55:40,782 - INFO - Vacuum executado com sucesso.\n"
     ]
    }
   ],
   "source": [
    "extrator_bronze.salvar_delta(df_compliance_cnaes, 'overwrite')"
   ]
  },
  {
   "cell_type": "markdown",
   "id": "af134fce-99d9-40a0-ad32-d4db66a2ce46",
   "metadata": {},
   "source": [
    "# Encerra sessão spark"
   ]
  },
  {
   "cell_type": "code",
   "execution_count": 6,
   "id": "eb909129-dd70-46da-a2eb-0eb681aa0c21",
   "metadata": {},
   "outputs": [
    {
     "name": "stderr",
     "output_type": "stream",
     "text": [
      "2024-09-25 18:55:41,173 - INFO - Sessão Spark finalizada.\n"
     ]
    }
   ],
   "source": [
    "extrator_bronze.parar_sessao()"
   ]
  }
 ],
 "metadata": {
  "kernelspec": {
   "display_name": "Python 3 (ipykernel)",
   "language": "python",
   "name": "python3"
  },
  "language_info": {
   "codemirror_mode": {
    "name": "ipython",
    "version": 3
   },
   "file_extension": ".py",
   "mimetype": "text/x-python",
   "name": "python",
   "nbconvert_exporter": "python",
   "pygments_lexer": "ipython3",
   "version": "3.11.10"
  }
 },
 "nbformat": 4,
 "nbformat_minor": 5
}
