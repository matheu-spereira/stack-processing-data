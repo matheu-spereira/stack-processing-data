{
 "cells": [
  {
   "cell_type": "markdown",
   "id": "56e67e89-9efe-4c06-a5b7-3969dd801041",
   "metadata": {},
   "source": [
    "# Importação das bibliotecas necessárias"
   ]
  },
  {
   "cell_type": "code",
   "execution_count": 5,
   "id": "dab8b8dc-67ba-4ca1-8775-61b08adb510f",
   "metadata": {},
   "outputs": [],
   "source": [
    "import sys\n",
    "import os\n",
    "sys.path.append('/home/jovyan/work')\n",
    "\n",
    "from utils.AlinharETL import AlinharETL"
   ]
  },
  {
   "cell_type": "markdown",
   "id": "89c69029-7030-4604-a476-d96008e88875",
   "metadata": {},
   "source": [
    "# Crie uma instância da classe AlinharETL"
   ]
  },
  {
   "cell_type": "code",
   "execution_count": 6,
   "id": "2163db01-79e7-4bab-86d0-686ea5dae3e9",
   "metadata": {},
   "outputs": [
    {
     "name": "stderr",
     "output_type": "stream",
     "text": [
      "2024-10-17 10:01:28,265 - INFO - Iniciando Sessão Spark.\n"
     ]
    }
   ],
   "source": [
    "# Crie uma instância da classe\n",
    "bucket = \"bronze\"\n",
    "datamart = \"FTPDadosAbertosReceita\"\n",
    "extrator_bronze = AlinharETL(bucket,datamart)"
   ]
  },
  {
   "cell_type": "markdown",
   "id": "49db5df2-b267-456d-b916-1485a15b4be7",
   "metadata": {},
   "source": [
    "# Leitura da tabela"
   ]
  },
  {
   "cell_type": "code",
   "execution_count": 7,
   "id": "2b9eb5ac-3070-4971-965c-8113f4c93447",
   "metadata": {},
   "outputs": [
    {
     "name": "stderr",
     "output_type": "stream",
     "text": [
      "2024-10-17 10:01:28,964 - INFO - Aguarde... Criando View (bronze/dadosabertosreceita/empresas)\n",
      "2024-10-17 10:01:34,740 - INFO - View criada com sucesso\n"
     ]
    }
   ],
   "source": [
    "df_compliance_empresas  = extrator_bronze.criar_view_temporaria('bronze/dadosabertosreceita/empresas','compliance_receita_empresas')"
   ]
  },
  {
   "cell_type": "code",
   "execution_count": 14,
   "id": "0aa29da0-4813-4f73-a65e-2f96afad3236",
   "metadata": {},
   "outputs": [
    {
     "name": "stdout",
     "output_type": "stream",
     "text": [
      "+-----------+--------------------+-----------------+------------------------+--------------+-------------+---------------------------+\n",
      "|cnpj_basico|        razao_social|natureza_juridica|qualificacao_responsavel|capital_social|porte_empresa|ente_federativo_responsavel|\n",
      "+-----------+--------------------+-----------------+------------------------+--------------+-------------+---------------------------+\n",
      "|   19092936|FIONOBRE DIAMOND ...|             2062|                      49|     500000,00|           03|                       NULL|\n",
      "+-----------+--------------------+-----------------+------------------------+--------------+-------------+---------------------------+\n",
      "\n"
     ]
    }
   ],
   "source": [
    "from pyspark.sql.functions import col\n",
    "df_compliance_empresas.select('*').where(col('cnpj_basico') == '19092936').show()"
   ]
  },
  {
   "cell_type": "markdown",
   "id": "8ade4485-92c2-4d02-b4e0-45bedaecb802",
   "metadata": {},
   "source": [
    "# Tratamentos na tabela "
   ]
  },
  {
   "cell_type": "code",
   "execution_count": 4,
   "id": "9eb4e666-b4d7-4f63-975c-ceb211c3c222",
   "metadata": {},
   "outputs": [
    {
     "name": "stderr",
     "output_type": "stream",
     "text": [
      "2024-09-25 18:57:13,374 - INFO - Aguarde... Executando Query (Delta)\n",
      "2024-09-25 18:57:13,375 - INFO - \n",
      "SELECT\n",
      "    cnpj_basico AS cd_cnpj_basico,\n",
      "    razao_social AS nm_razao_social,\n",
      "    CASE \n",
      "        WHEN porte_empresa = '00' THEN 'NÃO INFORMADO'\n",
      "        WHEN porte_empresa = '01' THEN 'MICRO EMPRESA'\n",
      "        WHEN porte_empresa = '03' THEN 'EMPRESA DE PEQUENO PORTE'\n",
      "        WHEN porte_empresa = '05' THEN 'DEMAIS'\n",
      "        ELSE 'Outros'\n",
      "    END AS dsc_porte_empresa\n",
      "FROM compliance_receita_empresas\n",
      "\n",
      "2024-09-25 18:57:13,477 - INFO - Query (Delta) executada com sucesso\n"
     ]
    }
   ],
   "source": [
    "sql_query = \"\"\"\n",
    "SELECT\n",
    "    cnpj_basico AS cd_cnpj_basico,\n",
    "    razao_social AS nm_razao_social,\n",
    "    CASE \n",
    "        WHEN porte_empresa = '00' THEN 'NÃO INFORMADO'\n",
    "        WHEN porte_empresa = '01' THEN 'MICRO EMPRESA'\n",
    "        WHEN porte_empresa = '03' THEN 'EMPRESA DE PEQUENO PORTE'\n",
    "        WHEN porte_empresa = '05' THEN 'DEMAIS'\n",
    "        ELSE 'Outros'\n",
    "    END AS dsc_porte_empresa\n",
    "FROM compliance_receita_empresas\n",
    "\"\"\"\n",
    "\n",
    "df_compliance_empresas  = extrator_bronze.carregar_dados_delta(sql_query)"
   ]
  },
  {
   "cell_type": "markdown",
   "id": "fcf84912-4863-4aa1-a6ca-0656ff563ec7",
   "metadata": {},
   "source": [
    "# Gravação no datalake"
   ]
  },
  {
   "cell_type": "code",
   "execution_count": 5,
   "id": "4ee559f7-5ec9-463f-affe-8c65af8d03ff",
   "metadata": {},
   "outputs": [],
   "source": [
    "extrator_bronze.caminho_tabela_delta = 's3a://silver/DadosAbertosReceita/DadosAbertosReceitaEmpresas'"
   ]
  },
  {
   "cell_type": "code",
   "execution_count": 6,
   "id": "afb20946-6a0e-4cb7-9a99-940375d68089",
   "metadata": {},
   "outputs": [
    {
     "name": "stderr",
     "output_type": "stream",
     "text": [
      "2024-09-25 18:57:13,492 - INFO - Aguarde... Persistindo dados (overwrite)\n",
      "2024-09-25 18:57:48,981 - INFO - Dados persistidos com sucesso\n",
      "2024-09-25 18:57:48,981 - INFO - s3a://silver/DadosAbertosReceita/DadosAbertosReceitaEmpresas\n",
      "2024-09-25 18:57:48,982 - INFO - Aguarde... Realizando optimize\n",
      "2024-09-25 18:59:05,347 - INFO - Optimize executado com sucesso.\n",
      "2024-09-25 18:59:05,347 - INFO - Aguarde... Realizando vacuum\n",
      "2024-09-25 18:59:21,714 - INFO - Vacuum executado com sucesso.\n"
     ]
    }
   ],
   "source": [
    "extrator_bronze.salvar_delta(df_compliance_empresas, 'overwrite')"
   ]
  },
  {
   "cell_type": "markdown",
   "id": "9794aa1c-238e-48c9-9059-aea354b8b201",
   "metadata": {},
   "source": [
    "# Encerra sessão spark"
   ]
  },
  {
   "cell_type": "code",
   "execution_count": 7,
   "id": "eb909129-dd70-46da-a2eb-0eb681aa0c21",
   "metadata": {},
   "outputs": [
    {
     "name": "stderr",
     "output_type": "stream",
     "text": [
      "2024-09-25 18:59:22,265 - INFO - Sessão Spark finalizada.\n"
     ]
    }
   ],
   "source": [
    "extrator_bronze.parar_sessao()"
   ]
  }
 ],
 "metadata": {
  "kernelspec": {
   "display_name": "Python 3 (ipykernel)",
   "language": "python",
   "name": "python3"
  },
  "language_info": {
   "codemirror_mode": {
    "name": "ipython",
    "version": 3
   },
   "file_extension": ".py",
   "mimetype": "text/x-python",
   "name": "python",
   "nbconvert_exporter": "python",
   "pygments_lexer": "ipython3",
   "version": "3.11.9"
  }
 },
 "nbformat": 4,
 "nbformat_minor": 5
}
