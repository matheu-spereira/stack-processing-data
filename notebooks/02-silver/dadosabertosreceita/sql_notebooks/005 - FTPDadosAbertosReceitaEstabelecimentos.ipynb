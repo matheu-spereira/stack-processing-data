{
 "cells": [
  {
   "cell_type": "markdown",
   "id": "793a969e-710b-4768-a0f6-d706fd086d3f",
   "metadata": {},
   "source": [
    "# Importação das bibliotecas necessárias"
   ]
  },
  {
   "cell_type": "code",
   "execution_count": 1,
   "id": "dab8b8dc-67ba-4ca1-8775-61b08adb510f",
   "metadata": {},
   "outputs": [],
   "source": [
    "import sys\n",
    "import os\n",
    "sys.path.append('/home/jovyan/work')\n",
    "\n",
    "from utils.AlinharETL import AlinharETL"
   ]
  },
  {
   "cell_type": "markdown",
   "id": "b1ff22f7-c0b2-4717-b526-1be5d87f1c9f",
   "metadata": {},
   "source": [
    "# Crie uma instância da classe AlinharETL"
   ]
  },
  {
   "cell_type": "code",
   "execution_count": 2,
   "id": "2163db01-79e7-4bab-86d0-686ea5dae3e9",
   "metadata": {},
   "outputs": [
    {
     "name": "stderr",
     "output_type": "stream",
     "text": [
      "2024-09-25 18:59:37,252 - INFO - Iniciando Sessão Spark.\n"
     ]
    }
   ],
   "source": [
    "# Crie uma instância da classe\n",
    "bucket = \"bronze\"\n",
    "datamart = \"FTPDadosAbertosReceita\"\n",
    "extrator_bronze = AlinharETL(bucket,datamart)"
   ]
  },
  {
   "cell_type": "markdown",
   "id": "659349f6-89d7-4f0f-8917-f287ac6b1707",
   "metadata": {},
   "source": [
    "# Leitura da tabela"
   ]
  },
  {
   "cell_type": "code",
   "execution_count": 3,
   "id": "0f799cb5-ae2d-4606-9cba-d171eaca9ce9",
   "metadata": {},
   "outputs": [
    {
     "name": "stderr",
     "output_type": "stream",
     "text": [
      "2024-09-25 18:59:40,610 - INFO - Aguarde... Criando View (bronze/DadosAbertosReceita/DadosAbertosReceitaEstabelecimentos)\n",
      "2024-09-25 18:59:47,589 - INFO - View criada com sucesso\n"
     ]
    }
   ],
   "source": [
    "df_compliance_estabelecimentos  = extrator_bronze.criar_view_temporaria('bronze/DadosAbertosReceita/DadosAbertosReceitaEstabelecimentos','compliance_receita_estabelecimentos')"
   ]
  },
  {
   "cell_type": "markdown",
   "id": "57dc6983-c2f7-4503-ae1c-9ce8fca8d225",
   "metadata": {},
   "source": [
    "# Tratamentos na tabela "
   ]
  },
  {
   "cell_type": "code",
   "execution_count": 4,
   "id": "8e388920-8b82-4555-9a33-79fa34f2696a",
   "metadata": {},
   "outputs": [
    {
     "name": "stderr",
     "output_type": "stream",
     "text": [
      "2024-09-25 18:59:47,594 - INFO - Aguarde... Executando Query (Delta)\n",
      "2024-09-25 18:59:47,595 - INFO - \n",
      "SELECT\n",
      "    cnpj_basico AS dsc_cnpj_basico,  \n",
      "    cnpj_ordem AS dsc_cnpj_ordem, \n",
      "    cnpj_dv AS dsc_cnpj_dv, \n",
      "    CASE \n",
      "        WHEN id_matriz_filial = 1 THEN 'Matriz' \n",
      "        ELSE 'Filial' \n",
      "    END AS dsc_matriz_filial, \n",
      "    nome_fantasia AS nm_fantasia, \n",
      "    CASE \n",
      "        WHEN situacao_cadastral = '01' THEN 'Nulo'\n",
      "        WHEN situacao_cadastral = '02' THEN 'Ativa'\n",
      "        WHEN situacao_cadastral = '03' THEN 'Suspensa'\n",
      "        WHEN situacao_cadastral = '04' THEN 'Inapta'\n",
      "        WHEN situacao_cadastral = '08' THEN 'Baixada'\n",
      "        ELSE 'Outros' \n",
      "    END AS dsc_situacao_cadastral, \n",
      "    motivo_situacao_cadastral AS cd_motivo_situacao_cadastral,\n",
      "    pais AS cd_pais,\n",
      "    cnae_fiscal_principal AS cd_cnae_fiscal_principal, \n",
      "    cnae_fiscal_secundaria AS cd_cnae_fiscal_secundaria, \n",
      "    municipio AS cd_municipio,\n",
      "    telefone_1 AS dsc_telefone_1,\n",
      "    telefone_2 AS dsc_telefone_2\n",
      "FROM compliance_receita_estabelecimentos\n",
      "WHERE uf = 'MT'\n",
      "\n",
      "2024-09-25 18:59:47,731 - INFO - Query (Delta) executada com sucesso\n"
     ]
    }
   ],
   "source": [
    "sql_query = \"\"\"\n",
    "SELECT\n",
    "    cnpj_basico AS dsc_cnpj_basico,  \n",
    "    cnpj_ordem AS dsc_cnpj_ordem, \n",
    "    cnpj_dv AS dsc_cnpj_dv, \n",
    "    CASE \n",
    "        WHEN id_matriz_filial = 1 THEN 'Matriz' \n",
    "        ELSE 'Filial' \n",
    "    END AS dsc_matriz_filial, \n",
    "    nome_fantasia AS nm_fantasia, \n",
    "    CASE \n",
    "        WHEN situacao_cadastral = '01' THEN 'Nulo'\n",
    "        WHEN situacao_cadastral = '02' THEN 'Ativa'\n",
    "        WHEN situacao_cadastral = '03' THEN 'Suspensa'\n",
    "        WHEN situacao_cadastral = '04' THEN 'Inapta'\n",
    "        WHEN situacao_cadastral = '08' THEN 'Baixada'\n",
    "        ELSE 'Outros' \n",
    "    END AS dsc_situacao_cadastral, \n",
    "    motivo_situacao_cadastral AS cd_motivo_situacao_cadastral,\n",
    "    pais AS cd_pais,\n",
    "    cnae_fiscal_principal AS cd_cnae_fiscal_principal, \n",
    "    cnae_fiscal_secundaria AS cd_cnae_fiscal_secundaria, \n",
    "    municipio AS cd_municipio,\n",
    "    telefone_1 AS dsc_telefone_1,\n",
    "    telefone_2 AS dsc_telefone_2\n",
    "FROM compliance_receita_estabelecimentos\n",
    "WHERE uf = 'ES'\n",
    "\"\"\"\n",
    "df_compliance_estabelecimentos  = extrator_bronze.carregar_dados_delta(sql_query)"
   ]
  },
  {
   "cell_type": "markdown",
   "id": "ca170b00-39ce-4b75-8352-9de52e896c23",
   "metadata": {},
   "source": [
    "# Gravação no datalake"
   ]
  },
  {
   "cell_type": "code",
   "execution_count": 5,
   "id": "4ee559f7-5ec9-463f-affe-8c65af8d03ff",
   "metadata": {},
   "outputs": [],
   "source": [
    "extrator_bronze.caminho_tabela_delta = 's3a://silver/DadosAbertosReceita/DadosAbertosReceitaEstabelecimentos'"
   ]
  },
  {
   "cell_type": "code",
   "execution_count": 6,
   "id": "afb20946-6a0e-4cb7-9a99-940375d68089",
   "metadata": {},
   "outputs": [
    {
     "name": "stderr",
     "output_type": "stream",
     "text": [
      "2024-09-25 18:59:47,745 - INFO - Aguarde... Persistindo dados (overwrite)\n",
      "2024-09-25 19:00:09,453 - INFO - Dados persistidos com sucesso\n",
      "2024-09-25 19:00:09,454 - INFO - s3a://silver/DadosAbertosReceita/DadosAbertosReceitaEstabelecimentos\n",
      "2024-09-25 19:00:09,455 - INFO - Aguarde... Realizando optimize\n",
      "2024-09-25 19:00:18,904 - INFO - Optimize executado com sucesso.\n",
      "2024-09-25 19:00:18,904 - INFO - Aguarde... Realizando vacuum\n",
      "2024-09-25 19:00:37,681 - INFO - Vacuum executado com sucesso.\n"
     ]
    }
   ],
   "source": [
    "extrator_bronze.salvar_delta(df_compliance_estabelecimentos, 'overwrite')"
   ]
  },
  {
   "cell_type": "markdown",
   "id": "c6601b38-2973-444d-94f9-cf7c0fe2cf63",
   "metadata": {},
   "source": [
    "# Encerra sessão spark"
   ]
  },
  {
   "cell_type": "code",
   "execution_count": 7,
   "id": "eb909129-dd70-46da-a2eb-0eb681aa0c21",
   "metadata": {},
   "outputs": [
    {
     "name": "stderr",
     "output_type": "stream",
     "text": [
      "2024-09-25 19:00:37,971 - INFO - Sessão Spark finalizada.\n"
     ]
    }
   ],
   "source": [
    "extrator_bronze.parar_sessao()"
   ]
  }
 ],
 "metadata": {
  "kernelspec": {
   "display_name": "Python 3 (ipykernel)",
   "language": "python",
   "name": "python3"
  },
  "language_info": {
   "codemirror_mode": {
    "name": "ipython",
    "version": 3
   },
   "file_extension": ".py",
   "mimetype": "text/x-python",
   "name": "python",
   "nbconvert_exporter": "python",
   "pygments_lexer": "ipython3",
   "version": "3.11.10"
  }
 },
 "nbformat": 4,
 "nbformat_minor": 5
}
