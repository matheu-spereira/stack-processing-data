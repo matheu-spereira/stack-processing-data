{
 "cells": [
  {
   "cell_type": "markdown",
   "id": "d88a463a-a8be-4403-a897-8a7f5e343c75",
   "metadata": {},
   "source": [
    "# Importação das bibliotecas necessárias"
   ]
  },
  {
   "cell_type": "code",
   "execution_count": 1,
   "id": "dab8b8dc-67ba-4ca1-8775-61b08adb510f",
   "metadata": {},
   "outputs": [],
   "source": [
    "import sys\n",
    "import os\n",
    "sys.path.append('/home/jovyan/work')\n",
    "\n",
    "from utils.AlinharETL import AlinharETL"
   ]
  },
  {
   "cell_type": "markdown",
   "id": "bf7483d3-ceb8-44b8-b5fb-40d0366ea89a",
   "metadata": {},
   "source": [
    "# Crie uma instância da classe AlinharETL"
   ]
  },
  {
   "cell_type": "code",
   "execution_count": 2,
   "id": "2163db01-79e7-4bab-86d0-686ea5dae3e9",
   "metadata": {},
   "outputs": [
    {
     "name": "stderr",
     "output_type": "stream",
     "text": [
      "2024-10-15 11:29:34,529 - INFO - Iniciando Sessão Spark.\n"
     ]
    }
   ],
   "source": [
    "# Crie uma instância da classe\n",
    "bucket = \"silver\"\n",
    "datamart = \"microdadosnovocaged\"\n",
    "extrator_bronze = AlinharETL(bucket,datamart)"
   ]
  },
  {
   "cell_type": "markdown",
   "id": "0a754ce2-ee98-4774-88b7-2dbdfe00dc25",
   "metadata": {},
   "source": [
    "# Gravação no datalake"
   ]
  },
  {
   "cell_type": "code",
   "execution_count": 3,
   "id": "afb20946-6a0e-4cb7-9a99-940375d68089",
   "metadata": {},
   "outputs": [
    {
     "name": "stderr",
     "output_type": "stream",
     "text": [
      "2024-10-15 11:29:39,135 - INFO - Aguarde... Atualizando tabela (Delta)\n",
      "2024-10-15 11:29:39,136 - INFO - Arquivo yaml carregada com sucesso\n",
      "2024-10-15 11:29:39,137 - INFO - ['/home/jovyan/work/yaml/silver/microdadosnovocaged/flat_novo_caged.yaml']\n",
      "2024-10-15 11:29:39,150 - INFO - Aguarde... Preparando tabela (Delta)\n",
      "2024-10-15 11:29:39,151 - INFO - Arquivo yaml carregada com sucesso\n",
      "2024-10-15 11:29:39,151 - INFO - ['/home/jovyan/work/yaml/silver/microdadosnovocaged/flat_novo_caged.yaml']\n",
      "2024-10-15 11:29:39,157 - INFO - Aguarde... Criando View (bronze/novocaged/microdadosnovocaged)\n",
      "2024-10-15 11:29:48,813 - INFO - View criada com sucesso\n",
      "2024-10-15 11:29:48,814 - INFO - Aguarde... Executando Query (Delta)\n",
      "2024-10-15 11:29:48,815 - INFO - select distinct\n",
      "    competenciamov AS dsc_competencia_mov,\n",
      "    regiao AS cd_regiao,\n",
      "    uf AS cd_uf,\n",
      "    municipio AS cd_municipio,\n",
      "    secao AS cd_secao,\n",
      "    subclasse AS cd_subclasse,\n",
      "    saldomovimentacao AS dsc_saldo_movimentacao,\n",
      "    cbo2002ocupacao AS cd_cbo_ocupacao,\n",
      "    categoria AS cd_categoria,\n",
      "    graudeinstrucao AS cd_grau_instrucao,\n",
      "    idade AS dsc_idade,\n",
      "    horascontratuais AS vl_horas_contratuais,\n",
      "    racacor AS cd_raca,\n",
      "    sexo AS cd_sexo,\n",
      "    tipoempregador AS cd_tipo_empregador,\n",
      "    tipoestabelecimento AS cd_tipo_estabelecimento,\n",
      "    tipomovimentacao AS cd_tipo_movimentacao,\n",
      "    tipodedeficiencia AS cd_tipo_deficiencia,\n",
      "    indtrabintermitente AS cd_ind_trab_intermitente,\n",
      "    indtrabparcial AS cd_ind_trab_parcial,\n",
      "    salario AS vl_salario,\n",
      "    tamestabjan AS cd_porte,\n",
      "    indicadoraprendiz AS cd_indicador_aprendiz,\n",
      "    origemdainformacao AS cd_fonte_novo_caged,\n",
      "    competenciadec AS dsc_competencia_dec,\n",
      "    indicadordeforadoprazo AS cd_indicador_fora_do_prazo,\n",
      "    unidadesalariocodigo AS cd_unidade_salario_codigo,\n",
      "    valorsalariofixo AS vl_salario_fixo\n",
      "from compliance_caged where uf = '32'\n",
      " \n",
      "2024-10-15 11:29:48,963 - INFO - Query (Delta) executada com sucesso\n",
      "2024-10-15 11:29:48,964 - INFO - Tabela (Delta) preparada com sucesso.\n",
      "2024-10-15 11:29:48,965 - INFO - Aguarde... Persistindo dados (overwrite)\n",
      "2024-10-15 11:30:29,838 - INFO - Dados persistidos com sucesso\n",
      "2024-10-15 11:30:29,840 - INFO - s3a://silver/novocaged/flat_novo_caged\n",
      "2024-10-15 11:30:29,841 - INFO - Aguarde... Realizando optimize\n",
      "2024-10-15 11:31:03,854 - INFO - Optimize executado com sucesso.\n",
      "2024-10-15 11:31:03,856 - INFO - Aguarde... Realizando vacuum\n",
      "2024-10-15 11:31:20,623 - INFO - Vacuum executado com sucesso.\n",
      "2024-10-15 11:31:20,624 - INFO - Tabela (Delta) atualizado com sucesso\n"
     ]
    }
   ],
   "source": [
    "extrator_bronze.atualizar_tabela_delta('flat_novo_caged')"
   ]
  },
  {
   "cell_type": "markdown",
   "id": "e3ac1b56-492b-4e27-9dec-2097e58f35ab",
   "metadata": {},
   "source": [
    "# Encerra sessão spark"
   ]
  },
  {
   "cell_type": "code",
   "execution_count": 4,
   "id": "eb909129-dd70-46da-a2eb-0eb681aa0c21",
   "metadata": {},
   "outputs": [
    {
     "name": "stderr",
     "output_type": "stream",
     "text": [
      "2024-10-15 11:31:21,042 - INFO - Sessão Spark finalizada.\n"
     ]
    }
   ],
   "source": [
    "extrator_bronze.parar_sessao()"
   ]
  }
 ],
 "metadata": {
  "kernelspec": {
   "display_name": "Python 3 (ipykernel)",
   "language": "python",
   "name": "python3"
  },
  "language_info": {
   "codemirror_mode": {
    "name": "ipython",
    "version": 3
   },
   "file_extension": ".py",
   "mimetype": "text/x-python",
   "name": "python",
   "nbconvert_exporter": "python",
   "pygments_lexer": "ipython3",
   "version": "3.11.9"
  }
 },
 "nbformat": 4,
 "nbformat_minor": 5
}
