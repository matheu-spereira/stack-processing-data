{
 "cells": [
  {
   "cell_type": "markdown",
   "id": "c3a081c3-6b02-4b8c-8768-6efc0c49be51",
   "metadata": {},
   "source": [
    "# Importação das bibliotecas necessárias"
   ]
  },
  {
   "cell_type": "code",
   "execution_count": 1,
   "id": "dab8b8dc-67ba-4ca1-8775-61b08adb510f",
   "metadata": {},
   "outputs": [],
   "source": [
    "import sys\n",
    "import os\n",
    "sys.path.append('/home/jovyan/work')\n",
    "\n",
    "from utils.AlinharETL import AlinharETL"
   ]
  },
  {
   "cell_type": "markdown",
   "id": "9a9bfc29-a261-4afb-8625-abfc81a7045f",
   "metadata": {},
   "source": [
    "# Crie uma instância da classe AlinharETL"
   ]
  },
  {
   "cell_type": "code",
   "execution_count": 2,
   "id": "2163db01-79e7-4bab-86d0-686ea5dae3e9",
   "metadata": {},
   "outputs": [
    {
     "name": "stderr",
     "output_type": "stream",
     "text": [
      "2024-10-15 11:23:11,479 - INFO - Iniciando Sessão Spark.\n"
     ]
    }
   ],
   "source": [
    "# Crie uma instância da classe\n",
    "bucket = \"silver\"\n",
    "datamart = \"microdadosnovocaged\"\n",
    "extrator_bronze = AlinharETL(bucket,datamart)"
   ]
  },
  {
   "cell_type": "markdown",
   "id": "d2c81905-c491-4f99-ae1f-31bd728bbcf3",
   "metadata": {},
   "source": [
    "# Gravação no datalake"
   ]
  },
  {
   "cell_type": "code",
   "execution_count": 3,
   "id": "afb20946-6a0e-4cb7-9a99-940375d68089",
   "metadata": {},
   "outputs": [
    {
     "name": "stderr",
     "output_type": "stream",
     "text": [
      "2024-10-15 11:23:15,586 - INFO - Aguarde... Atualizando tabela (Delta)\n",
      "2024-10-15 11:23:15,588 - INFO - Arquivo yaml carregada com sucesso\n",
      "2024-10-15 11:23:15,589 - INFO - ['/home/jovyan/work/yaml/silver/microdadosnovocaged/dim_novo_caged_cbo_2002_ocupacao.yaml']\n",
      "2024-10-15 11:23:15,599 - INFO - Aguarde... Preparando tabela (Delta)\n",
      "2024-10-15 11:23:15,599 - INFO - Arquivo yaml carregada com sucesso\n",
      "2024-10-15 11:23:15,600 - INFO - ['/home/jovyan/work/yaml/silver/microdadosnovocaged/dim_novo_caged_cbo_2002_ocupacao.yaml']\n",
      "2024-10-15 11:23:15,605 - INFO - Aguarde... Criando View (bronze/novocaged/microdadosnovocagedcbo2002ocupacao)\n",
      "2024-10-15 11:23:25,328 - INFO - View criada com sucesso\n",
      "2024-10-15 11:23:25,329 - INFO - Aguarde... Executando Query (Delta)\n",
      "2024-10-15 11:23:25,330 - INFO - SELECT \n",
      "    CAST(`Código` AS INT) AS codigo, \n",
      "    `Descrição` AS descricao \n",
      "FROM compliance_cbo2002ocupacao\n",
      " \n",
      "2024-10-15 11:23:25,429 - INFO - Query (Delta) executada com sucesso\n",
      "2024-10-15 11:23:25,430 - INFO - Tabela (Delta) preparada com sucesso.\n",
      "2024-10-15 11:23:25,430 - INFO - Aguarde... Persistindo dados (overwrite)\n",
      "2024-10-15 11:23:39,486 - INFO - Dados persistidos com sucesso\n",
      "2024-10-15 11:23:39,488 - INFO - s3a://silver/novocaged/dim_novo_caged_cbo_2002_ocupacao\n",
      "2024-10-15 11:23:39,488 - INFO - Aguarde... Realizando optimize\n",
      "2024-10-15 11:23:50,504 - INFO - Optimize executado com sucesso.\n",
      "2024-10-15 11:23:50,506 - INFO - Aguarde... Realizando vacuum\n",
      "2024-10-15 11:24:07,217 - INFO - Vacuum executado com sucesso.\n",
      "2024-10-15 11:24:07,218 - INFO - Tabela (Delta) atualizado com sucesso\n"
     ]
    }
   ],
   "source": [
    "extrator_bronze.atualizar_tabela_delta('dim_novo_caged_cbo_2002_ocupacao')"
   ]
  },
  {
   "cell_type": "markdown",
   "id": "0b395c4a-2aba-4e27-9cb3-ba4c5341531f",
   "metadata": {},
   "source": [
    "# Encerra sessão spark"
   ]
  },
  {
   "cell_type": "code",
   "execution_count": 4,
   "id": "eb909129-dd70-46da-a2eb-0eb681aa0c21",
   "metadata": {},
   "outputs": [
    {
     "name": "stderr",
     "output_type": "stream",
     "text": [
      "2024-10-15 11:24:07,447 - INFO - Sessão Spark finalizada.\n"
     ]
    }
   ],
   "source": [
    "extrator_bronze.parar_sessao()"
   ]
  }
 ],
 "metadata": {
  "kernelspec": {
   "display_name": "Python 3 (ipykernel)",
   "language": "python",
   "name": "python3"
  },
  "language_info": {
   "codemirror_mode": {
    "name": "ipython",
    "version": 3
   },
   "file_extension": ".py",
   "mimetype": "text/x-python",
   "name": "python",
   "nbconvert_exporter": "python",
   "pygments_lexer": "ipython3",
   "version": "3.11.9"
  }
 },
 "nbformat": 4,
 "nbformat_minor": 5
}
