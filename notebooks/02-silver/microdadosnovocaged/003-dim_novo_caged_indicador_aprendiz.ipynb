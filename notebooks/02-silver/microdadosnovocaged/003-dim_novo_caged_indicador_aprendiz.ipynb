{
 "cells": [
  {
   "cell_type": "markdown",
   "id": "f9498cee-3944-4226-85de-8794e40ae959",
   "metadata": {},
   "source": [
    "# Importação das bibliotecas necessárias"
   ]
  },
  {
   "cell_type": "code",
   "execution_count": 1,
   "id": "dab8b8dc-67ba-4ca1-8775-61b08adb510f",
   "metadata": {},
   "outputs": [],
   "source": [
    "import sys\n",
    "import os\n",
    "sys.path.append('/home/jovyan/work')\n",
    "\n",
    "from utils.AlinharETL import AlinharETL"
   ]
  },
  {
   "cell_type": "markdown",
   "id": "25dddbb2-f867-49aa-af8a-dc6b685b436e",
   "metadata": {},
   "source": [
    "# Crie uma instância da classe AlinharETL"
   ]
  },
  {
   "cell_type": "code",
   "execution_count": 2,
   "id": "2163db01-79e7-4bab-86d0-686ea5dae3e9",
   "metadata": {},
   "outputs": [
    {
     "name": "stderr",
     "output_type": "stream",
     "text": [
      "2024-10-15 11:24:29,410 - INFO - Iniciando Sessão Spark.\n"
     ]
    }
   ],
   "source": [
    "# Crie uma instância da classe\n",
    "bucket = \"silver\"\n",
    "datamart = \"microdadosnovocaged\"\n",
    "extrator_bronze = AlinharETL(bucket,datamart)"
   ]
  },
  {
   "cell_type": "markdown",
   "id": "9350dfbf-29af-4fc8-8568-1fbe29ad65e7",
   "metadata": {},
   "source": [
    "# Gravação no datalake"
   ]
  },
  {
   "cell_type": "code",
   "execution_count": 3,
   "id": "afb20946-6a0e-4cb7-9a99-940375d68089",
   "metadata": {},
   "outputs": [
    {
     "name": "stderr",
     "output_type": "stream",
     "text": [
      "2024-10-15 11:24:33,464 - INFO - Aguarde... Atualizando tabela (Delta)\n",
      "2024-10-15 11:24:33,466 - INFO - Arquivo yaml carregada com sucesso\n",
      "2024-10-15 11:24:33,466 - INFO - ['/home/jovyan/work/yaml/silver/microdadosnovocaged/dim_novo_caged_indicador_aprendiz.yaml']\n",
      "2024-10-15 11:24:33,476 - INFO - Aguarde... Preparando tabela (Delta)\n",
      "2024-10-15 11:24:33,477 - INFO - Arquivo yaml carregada com sucesso\n",
      "2024-10-15 11:24:33,477 - INFO - ['/home/jovyan/work/yaml/silver/microdadosnovocaged/dim_novo_caged_indicador_aprendiz.yaml']\n",
      "2024-10-15 11:24:33,482 - INFO - Aguarde... Criando View (bronze/novocaged/microdadosnovocagedindicadoraprendiz)\n",
      "2024-10-15 11:24:43,099 - INFO - View criada com sucesso\n",
      "2024-10-15 11:24:43,100 - INFO - Aguarde... Executando Query (Delta)\n",
      "2024-10-15 11:24:43,101 - INFO - SELECT \n",
      "    CAST(`Código` AS INT) AS codigo, \n",
      "    `Descrição` AS descricao \n",
      "FROM compliance_indicadoraprendiz\n",
      " \n",
      "2024-10-15 11:24:43,198 - INFO - Query (Delta) executada com sucesso\n",
      "2024-10-15 11:24:43,199 - INFO - Tabela (Delta) preparada com sucesso.\n",
      "2024-10-15 11:24:43,199 - INFO - Aguarde... Persistindo dados (overwrite)\n",
      "2024-10-15 11:24:56,581 - INFO - Dados persistidos com sucesso\n",
      "2024-10-15 11:24:56,582 - INFO - s3a://silver/novocaged/dim_novo_caged_indicador_aprendiz\n",
      "2024-10-15 11:24:56,583 - INFO - Aguarde... Realizando optimize\n",
      "2024-10-15 11:25:05,984 - INFO - Optimize executado com sucesso.\n",
      "2024-10-15 11:25:05,985 - INFO - Aguarde... Realizando vacuum\n",
      "2024-10-15 11:25:22,178 - INFO - Vacuum executado com sucesso.\n",
      "2024-10-15 11:25:22,179 - INFO - Tabela (Delta) atualizado com sucesso\n"
     ]
    }
   ],
   "source": [
    "extrator_bronze.atualizar_tabela_delta('dim_novo_caged_indicador_aprendiz')"
   ]
  },
  {
   "cell_type": "markdown",
   "id": "c19ee3cd-3d4c-4fb2-a927-decb0aebc85c",
   "metadata": {},
   "source": [
    "# Encerra sessão spark"
   ]
  },
  {
   "cell_type": "code",
   "execution_count": 4,
   "id": "eb909129-dd70-46da-a2eb-0eb681aa0c21",
   "metadata": {},
   "outputs": [
    {
     "name": "stderr",
     "output_type": "stream",
     "text": [
      "2024-10-15 11:25:22,321 - INFO - Sessão Spark finalizada.\n"
     ]
    }
   ],
   "source": [
    "extrator_bronze.parar_sessao()"
   ]
  }
 ],
 "metadata": {
  "kernelspec": {
   "display_name": "Python 3 (ipykernel)",
   "language": "python",
   "name": "python3"
  },
  "language_info": {
   "codemirror_mode": {
    "name": "ipython",
    "version": 3
   },
   "file_extension": ".py",
   "mimetype": "text/x-python",
   "name": "python",
   "nbconvert_exporter": "python",
   "pygments_lexer": "ipython3",
   "version": "3.11.9"
  }
 },
 "nbformat": 4,
 "nbformat_minor": 5
}
