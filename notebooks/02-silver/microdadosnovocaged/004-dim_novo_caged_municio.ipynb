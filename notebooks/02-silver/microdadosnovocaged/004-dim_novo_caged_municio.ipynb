{
 "cells": [
  {
   "cell_type": "markdown",
   "id": "44c9bf99-b491-44a1-a326-a47ef6ccc6ad",
   "metadata": {},
   "source": [
    "# Importação das bibliotecas necessárias"
   ]
  },
  {
   "cell_type": "code",
   "execution_count": 1,
   "id": "dab8b8dc-67ba-4ca1-8775-61b08adb510f",
   "metadata": {},
   "outputs": [],
   "source": [
    "import sys\n",
    "import os\n",
    "sys.path.append('/home/jovyan/work')\n",
    "\n",
    "from utils.AlinharETL import AlinharETL"
   ]
  },
  {
   "cell_type": "markdown",
   "id": "b85d294e-01c0-4056-9250-3fd5cb5112f8",
   "metadata": {},
   "source": [
    "# Crie uma instância da classe AlinharETL"
   ]
  },
  {
   "cell_type": "code",
   "execution_count": 2,
   "id": "2163db01-79e7-4bab-86d0-686ea5dae3e9",
   "metadata": {},
   "outputs": [
    {
     "name": "stderr",
     "output_type": "stream",
     "text": [
      "2024-10-15 11:25:45,246 - INFO - Iniciando Sessão Spark.\n"
     ]
    }
   ],
   "source": [
    "# Crie uma instância da classe\n",
    "bucket = \"silver\"\n",
    "datamart = \"microdadosnovocaged\"\n",
    "extrator_bronze = AlinharETL(bucket,datamart)"
   ]
  },
  {
   "cell_type": "markdown",
   "id": "2e013f6c-336f-41df-8d69-bb79216e66f1",
   "metadata": {},
   "source": [
    "# Gravação no datalake"
   ]
  },
  {
   "cell_type": "code",
   "execution_count": 3,
   "id": "afb20946-6a0e-4cb7-9a99-940375d68089",
   "metadata": {},
   "outputs": [
    {
     "name": "stderr",
     "output_type": "stream",
     "text": [
      "2024-10-15 11:25:49,158 - INFO - Aguarde... Atualizando tabela (Delta)\n",
      "2024-10-15 11:25:49,159 - INFO - Arquivo yaml carregada com sucesso\n",
      "2024-10-15 11:25:49,160 - INFO - ['/home/jovyan/work/yaml/silver/microdadosnovocaged/dim_novo_caged_municio.yaml']\n",
      "2024-10-15 11:25:49,170 - INFO - Aguarde... Preparando tabela (Delta)\n",
      "2024-10-15 11:25:49,171 - INFO - Arquivo yaml carregada com sucesso\n",
      "2024-10-15 11:25:49,171 - INFO - ['/home/jovyan/work/yaml/silver/microdadosnovocaged/dim_novo_caged_municio.yaml']\n",
      "2024-10-15 11:25:49,176 - INFO - Aguarde... Criando View (bronze/novocaged/microdadosnovocagedmunicio)\n",
      "2024-10-15 11:25:58,622 - INFO - View criada com sucesso\n",
      "2024-10-15 11:25:58,624 - INFO - Aguarde... Executando Query (Delta)\n",
      "2024-10-15 11:25:58,624 - INFO - SELECT \n",
      "    CAST(`Código` AS INT) AS codigo, \n",
      "    `Descrição` AS descricao \n",
      "FROM compliance_municipio\n",
      " \n",
      "2024-10-15 11:25:58,757 - INFO - Query (Delta) executada com sucesso\n",
      "2024-10-15 11:25:58,758 - INFO - Tabela (Delta) preparada com sucesso.\n",
      "2024-10-15 11:25:58,759 - INFO - Aguarde... Persistindo dados (overwrite)\n",
      "2024-10-15 11:26:12,348 - INFO - Dados persistidos com sucesso\n",
      "2024-10-15 11:26:12,349 - INFO - s3a://silver/novocaged/dim_novo_caged_municio\n",
      "2024-10-15 11:26:12,349 - INFO - Aguarde... Realizando optimize\n",
      "2024-10-15 11:26:19,921 - INFO - Optimize executado com sucesso.\n",
      "2024-10-15 11:26:19,922 - INFO - Aguarde... Realizando vacuum\n",
      "2024-10-15 11:26:36,357 - INFO - Vacuum executado com sucesso.\n",
      "2024-10-15 11:26:36,358 - INFO - Tabela (Delta) atualizado com sucesso\n"
     ]
    }
   ],
   "source": [
    "extrator_bronze.atualizar_tabela_delta('dim_novo_caged_municio')"
   ]
  },
  {
   "cell_type": "markdown",
   "id": "622f5577-1566-4764-900c-ddd0c0730a2d",
   "metadata": {},
   "source": [
    "# Encerra sessão spark"
   ]
  },
  {
   "cell_type": "code",
   "execution_count": 4,
   "id": "eb909129-dd70-46da-a2eb-0eb681aa0c21",
   "metadata": {},
   "outputs": [
    {
     "name": "stderr",
     "output_type": "stream",
     "text": [
      "2024-10-15 11:26:36,490 - INFO - Sessão Spark finalizada.\n"
     ]
    }
   ],
   "source": [
    "extrator_bronze.parar_sessao()"
   ]
  }
 ],
 "metadata": {
  "kernelspec": {
   "display_name": "Python 3 (ipykernel)",
   "language": "python",
   "name": "python3"
  },
  "language_info": {
   "codemirror_mode": {
    "name": "ipython",
    "version": 3
   },
   "file_extension": ".py",
   "mimetype": "text/x-python",
   "name": "python",
   "nbconvert_exporter": "python",
   "pygments_lexer": "ipython3",
   "version": "3.11.9"
  }
 },
 "nbformat": 4,
 "nbformat_minor": 5
}
