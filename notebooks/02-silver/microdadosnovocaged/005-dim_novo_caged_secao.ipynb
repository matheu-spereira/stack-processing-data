{
 "cells": [
  {
   "cell_type": "markdown",
   "id": "c0576a2d-9241-4107-ae76-57ad91c4bdd3",
   "metadata": {},
   "source": [
    "# Importação das bibliotecas necessárias"
   ]
  },
  {
   "cell_type": "code",
   "execution_count": 1,
   "id": "dab8b8dc-67ba-4ca1-8775-61b08adb510f",
   "metadata": {},
   "outputs": [],
   "source": [
    "import sys\n",
    "import os\n",
    "sys.path.append('/home/jovyan/work')\n",
    "\n",
    "from utils.AlinharETL import AlinharETL"
   ]
  },
  {
   "cell_type": "markdown",
   "id": "726a9b6c-176f-49e3-b1be-e32d1892aaf5",
   "metadata": {},
   "source": [
    "# Crie uma instância da classe AlinharETL"
   ]
  },
  {
   "cell_type": "code",
   "execution_count": 2,
   "id": "2163db01-79e7-4bab-86d0-686ea5dae3e9",
   "metadata": {},
   "outputs": [
    {
     "name": "stderr",
     "output_type": "stream",
     "text": [
      "2024-10-15 11:26:53,485 - INFO - Iniciando Sessão Spark.\n"
     ]
    }
   ],
   "source": [
    "# Crie uma instância da classe\n",
    "bucket = \"silver\"\n",
    "datamart = \"microdadosnovocaged\"\n",
    "extrator_bronze = AlinharETL(bucket,datamart)"
   ]
  },
  {
   "cell_type": "markdown",
   "id": "adec2b06-5dd3-4953-8db2-83bc6bb15986",
   "metadata": {},
   "source": [
    "# Gravação no datalake"
   ]
  },
  {
   "cell_type": "code",
   "execution_count": 3,
   "id": "afb20946-6a0e-4cb7-9a99-940375d68089",
   "metadata": {},
   "outputs": [
    {
     "name": "stderr",
     "output_type": "stream",
     "text": [
      "2024-10-15 11:26:57,358 - INFO - Aguarde... Atualizando tabela (Delta)\n",
      "2024-10-15 11:26:57,359 - INFO - Arquivo yaml carregada com sucesso\n",
      "2024-10-15 11:26:57,359 - INFO - ['/home/jovyan/work/yaml/silver/microdadosnovocaged/dim_novo_caged_secao.yaml']\n",
      "2024-10-15 11:26:57,369 - INFO - Aguarde... Preparando tabela (Delta)\n",
      "2024-10-15 11:26:57,370 - INFO - Arquivo yaml carregada com sucesso\n",
      "2024-10-15 11:26:57,370 - INFO - ['/home/jovyan/work/yaml/silver/microdadosnovocaged/dim_novo_caged_secao.yaml']\n",
      "2024-10-15 11:26:57,375 - INFO - Aguarde... Criando View (bronze/novocaged/microdadosnovocagedsecao)\n",
      "2024-10-15 11:27:06,387 - INFO - View criada com sucesso\n",
      "2024-10-15 11:27:06,388 - INFO - Aguarde... Executando Query (Delta)\n",
      "2024-10-15 11:27:06,389 - INFO - SELECT \n",
      "    CAST(`Código` AS STRING) AS codigo, \n",
      "    `Descrição` AS descricao \n",
      "FROM compliance_secao\n",
      " \n",
      "2024-10-15 11:27:06,493 - INFO - Query (Delta) executada com sucesso\n",
      "2024-10-15 11:27:06,494 - INFO - Tabela (Delta) preparada com sucesso.\n",
      "2024-10-15 11:27:06,494 - INFO - Aguarde... Persistindo dados (overwrite)\n",
      "2024-10-15 11:27:19,676 - INFO - Dados persistidos com sucesso\n",
      "2024-10-15 11:27:19,677 - INFO - s3a://silver/novocaged/dim_novo_caged_secao\n",
      "2024-10-15 11:27:19,678 - INFO - Aguarde... Realizando optimize\n",
      "2024-10-15 11:27:31,683 - INFO - Optimize executado com sucesso.\n",
      "2024-10-15 11:27:31,684 - INFO - Aguarde... Realizando vacuum\n",
      "2024-10-15 11:27:51,698 - INFO - Vacuum executado com sucesso.\n",
      "2024-10-15 11:27:51,699 - INFO - Tabela (Delta) atualizado com sucesso\n"
     ]
    }
   ],
   "source": [
    "extrator_bronze.atualizar_tabela_delta('dim_novo_caged_secao')"
   ]
  },
  {
   "cell_type": "markdown",
   "id": "1dba45d9-b80e-4380-aef6-9d0d2c1be688",
   "metadata": {},
   "source": [
    "# Encerra sessão spark"
   ]
  },
  {
   "cell_type": "code",
   "execution_count": 4,
   "id": "eb909129-dd70-46da-a2eb-0eb681aa0c21",
   "metadata": {},
   "outputs": [
    {
     "name": "stderr",
     "output_type": "stream",
     "text": [
      "2024-10-15 11:27:52,239 - INFO - Sessão Spark finalizada.\n"
     ]
    }
   ],
   "source": [
    "extrator_bronze.parar_sessao()"
   ]
  }
 ],
 "metadata": {
  "kernelspec": {
   "display_name": "Python 3 (ipykernel)",
   "language": "python",
   "name": "python3"
  },
  "language_info": {
   "codemirror_mode": {
    "name": "ipython",
    "version": 3
   },
   "file_extension": ".py",
   "mimetype": "text/x-python",
   "name": "python",
   "nbconvert_exporter": "python",
   "pygments_lexer": "ipython3",
   "version": "3.11.9"
  }
 },
 "nbformat": 4,
 "nbformat_minor": 5
}
