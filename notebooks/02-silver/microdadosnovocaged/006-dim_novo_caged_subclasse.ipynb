{
 "cells": [
  {
   "cell_type": "markdown",
   "id": "cdf256ce-dc7e-47c4-baec-f078650245ec",
   "metadata": {},
   "source": [
    "# Importação das bibliotecas necessárias"
   ]
  },
  {
   "cell_type": "code",
   "execution_count": 1,
   "id": "dab8b8dc-67ba-4ca1-8775-61b08adb510f",
   "metadata": {},
   "outputs": [],
   "source": [
    "import sys\n",
    "import os\n",
    "sys.path.append('/home/jovyan/work')\n",
    "\n",
    "from utils.AlinharETL import AlinharETL"
   ]
  },
  {
   "cell_type": "markdown",
   "id": "dc220b82-a887-4141-937b-78f12c9a37ed",
   "metadata": {},
   "source": [
    "# Crie uma instância da classe AlinharETL"
   ]
  },
  {
   "cell_type": "code",
   "execution_count": 2,
   "id": "2163db01-79e7-4bab-86d0-686ea5dae3e9",
   "metadata": {},
   "outputs": [
    {
     "name": "stderr",
     "output_type": "stream",
     "text": [
      "2024-10-15 11:27:27,366 - INFO - Iniciando Sessão Spark.\n"
     ]
    }
   ],
   "source": [
    "# Crie uma instância da classe\n",
    "bucket = \"silver\"\n",
    "datamart = \"microdadosnovocaged\"\n",
    "extrator_bronze = AlinharETL(bucket,datamart)"
   ]
  },
  {
   "cell_type": "markdown",
   "id": "4c8ba313-95f6-4318-9342-9efbadd50d65",
   "metadata": {},
   "source": [
    "# Gravação no datalake"
   ]
  },
  {
   "cell_type": "code",
   "execution_count": 3,
   "id": "afb20946-6a0e-4cb7-9a99-940375d68089",
   "metadata": {},
   "outputs": [
    {
     "name": "stderr",
     "output_type": "stream",
     "text": [
      "2024-10-15 11:27:32,424 - INFO - Aguarde... Atualizando tabela (Delta)\n",
      "2024-10-15 11:27:32,426 - INFO - Arquivo yaml carregada com sucesso\n",
      "2024-10-15 11:27:32,426 - INFO - ['/home/jovyan/work/yaml/silver/microdadosnovocaged/dim_novo_caged_subclasse.yaml']\n",
      "2024-10-15 11:27:32,437 - INFO - Aguarde... Preparando tabela (Delta)\n",
      "2024-10-15 11:27:32,437 - INFO - Arquivo yaml carregada com sucesso\n",
      "2024-10-15 11:27:32,438 - INFO - ['/home/jovyan/work/yaml/silver/microdadosnovocaged/dim_novo_caged_subclasse.yaml']\n",
      "2024-10-15 11:27:32,443 - INFO - Aguarde... Criando View (bronze/novocaged/microdadosnovocagedsubclasse)\n",
      "2024-10-15 11:27:52,251 - INFO - View criada com sucesso\n",
      "2024-10-15 11:27:52,252 - INFO - Aguarde... Executando Query (Delta)\n",
      "2024-10-15 11:27:52,253 - INFO - SELECT \n",
      "    CAST(`Código` AS INT) AS codigo, \n",
      "    `Descrição` AS descricao \n",
      "FROM compliance_subclasse\n",
      " \n",
      "2024-10-15 11:27:52,353 - INFO - Query (Delta) executada com sucesso\n",
      "2024-10-15 11:27:52,354 - INFO - Tabela (Delta) preparada com sucesso.\n",
      "2024-10-15 11:27:52,355 - INFO - Aguarde... Persistindo dados (overwrite)\n",
      "2024-10-15 11:28:05,697 - INFO - Dados persistidos com sucesso\n",
      "2024-10-15 11:28:05,698 - INFO - s3a://silver/novocaged/dim_novo_caged_subclasse\n",
      "2024-10-15 11:28:05,699 - INFO - Aguarde... Realizando optimize\n",
      "2024-10-15 11:28:15,201 - INFO - Optimize executado com sucesso.\n",
      "2024-10-15 11:28:15,202 - INFO - Aguarde... Realizando vacuum\n",
      "2024-10-15 11:28:33,185 - INFO - Vacuum executado com sucesso.\n",
      "2024-10-15 11:28:33,186 - INFO - Tabela (Delta) atualizado com sucesso\n"
     ]
    }
   ],
   "source": [
    "extrator_bronze.atualizar_tabela_delta('dim_novo_caged_subclasse')"
   ]
  },
  {
   "cell_type": "markdown",
   "id": "7a3a5967-4076-428e-9cfd-72e0c5a92294",
   "metadata": {},
   "source": [
    "# Encerra sessão spark"
   ]
  },
  {
   "cell_type": "code",
   "execution_count": 4,
   "id": "eb909129-dd70-46da-a2eb-0eb681aa0c21",
   "metadata": {},
   "outputs": [
    {
     "name": "stderr",
     "output_type": "stream",
     "text": [
      "2024-10-15 11:28:33,703 - INFO - Sessão Spark finalizada.\n"
     ]
    }
   ],
   "source": [
    "extrator_bronze.parar_sessao()"
   ]
  }
 ],
 "metadata": {
  "kernelspec": {
   "display_name": "Python 3 (ipykernel)",
   "language": "python",
   "name": "python3"
  },
  "language_info": {
   "codemirror_mode": {
    "name": "ipython",
    "version": 3
   },
   "file_extension": ".py",
   "mimetype": "text/x-python",
   "name": "python",
   "nbconvert_exporter": "python",
   "pygments_lexer": "ipython3",
   "version": "3.11.9"
  }
 },
 "nbformat": 4,
 "nbformat_minor": 5
}
