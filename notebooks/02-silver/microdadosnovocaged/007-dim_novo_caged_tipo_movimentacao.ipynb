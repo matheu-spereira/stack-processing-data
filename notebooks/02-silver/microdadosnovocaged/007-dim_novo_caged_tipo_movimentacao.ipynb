{
 "cells": [
  {
   "cell_type": "markdown",
   "id": "243fb9b8-85e8-47dc-857c-92dc158cd508",
   "metadata": {},
   "source": [
    "# Importação das bibliotecas necessárias"
   ]
  },
  {
   "cell_type": "code",
   "execution_count": 1,
   "id": "efac6011-4a5c-4f9c-abb7-e8b3c3e8c1f7",
   "metadata": {},
   "outputs": [],
   "source": [
    "import sys\n",
    "import os\n",
    "sys.path.append('/home/jovyan/work')\n",
    "\n",
    "from utils.AlinharETL import AlinharETL"
   ]
  },
  {
   "cell_type": "markdown",
   "id": "b062c480-1855-4a03-bc99-912f0b2130c3",
   "metadata": {},
   "source": [
    "# Crie uma instância da classe AlinharETL"
   ]
  },
  {
   "cell_type": "code",
   "execution_count": 2,
   "id": "2163db01-79e7-4bab-86d0-686ea5dae3e9",
   "metadata": {},
   "outputs": [
    {
     "name": "stderr",
     "output_type": "stream",
     "text": [
      "2024-10-15 11:28:24,632 - INFO - Iniciando Sessão Spark.\n"
     ]
    }
   ],
   "source": [
    "# Crie uma instância da classe\n",
    "bucket = \"silver\"\n",
    "datamart = \"microdadosnovocaged\"\n",
    "extrator_bronze = AlinharETL(bucket,datamart)"
   ]
  },
  {
   "cell_type": "markdown",
   "id": "966f6eb0-e39f-4c3d-a496-6bfc164c3f1a",
   "metadata": {},
   "source": [
    "# Gravação no datalake"
   ]
  },
  {
   "cell_type": "code",
   "execution_count": 3,
   "id": "afb20946-6a0e-4cb7-9a99-940375d68089",
   "metadata": {},
   "outputs": [
    {
     "name": "stderr",
     "output_type": "stream",
     "text": [
      "2024-10-15 11:28:32,946 - INFO - Aguarde... Atualizando tabela (Delta)\n",
      "2024-10-15 11:28:32,948 - INFO - Arquivo yaml carregada com sucesso\n",
      "2024-10-15 11:28:32,949 - INFO - ['/home/jovyan/work/yaml/silver/microdadosnovocaged/dim_novo_caged_tipo_movimentacao.yaml']\n",
      "2024-10-15 11:28:32,961 - INFO - Aguarde... Preparando tabela (Delta)\n",
      "2024-10-15 11:28:32,962 - INFO - Arquivo yaml carregada com sucesso\n",
      "2024-10-15 11:28:32,962 - INFO - ['/home/jovyan/work/yaml/silver/microdadosnovocaged/dim_novo_caged_tipo_movimentacao.yaml']\n",
      "2024-10-15 11:28:32,967 - INFO - Aguarde... Criando View (bronze/novocaged/microdadosnovocagedtipomovimentacao)\n",
      "2024-10-15 11:28:43,032 - INFO - View criada com sucesso\n",
      "2024-10-15 11:28:43,033 - INFO - Aguarde... Executando Query (Delta)\n",
      "2024-10-15 11:28:43,033 - INFO - SELECT \n",
      "    CAST(`Código` AS INT) AS codigo, \n",
      "    `Descrição` AS descricao \n",
      "FROM compliance_tipomovimentacao\n",
      " \n",
      "2024-10-15 11:28:43,133 - INFO - Query (Delta) executada com sucesso\n",
      "2024-10-15 11:28:43,134 - INFO - Tabela (Delta) preparada com sucesso.\n",
      "2024-10-15 11:28:43,135 - INFO - Aguarde... Persistindo dados (overwrite)\n",
      "2024-10-15 11:28:56,800 - INFO - Dados persistidos com sucesso\n",
      "2024-10-15 11:28:56,801 - INFO - s3a://silver/novocaged/dim_novo_caged_tipo_movimentacao\n",
      "2024-10-15 11:28:56,802 - INFO - Aguarde... Realizando optimize\n",
      "2024-10-15 11:29:07,298 - INFO - Optimize executado com sucesso.\n",
      "2024-10-15 11:29:07,299 - INFO - Aguarde... Realizando vacuum\n",
      "2024-10-15 11:29:23,955 - INFO - Vacuum executado com sucesso.\n",
      "2024-10-15 11:29:23,956 - INFO - Tabela (Delta) atualizado com sucesso\n"
     ]
    }
   ],
   "source": [
    "extrator_bronze.atualizar_tabela_delta('dim_novo_caged_tipo_movimentacao')"
   ]
  },
  {
   "cell_type": "markdown",
   "id": "0eea719a-5b89-4494-bd3a-689b7b279dad",
   "metadata": {},
   "source": [
    "# Encerra sessão spark"
   ]
  },
  {
   "cell_type": "code",
   "execution_count": 4,
   "id": "eb909129-dd70-46da-a2eb-0eb681aa0c21",
   "metadata": {},
   "outputs": [
    {
     "name": "stderr",
     "output_type": "stream",
     "text": [
      "2024-10-15 11:29:24,077 - INFO - Sessão Spark finalizada.\n"
     ]
    }
   ],
   "source": [
    "extrator_bronze.parar_sessao()"
   ]
  }
 ],
 "metadata": {
  "kernelspec": {
   "display_name": "Python 3 (ipykernel)",
   "language": "python",
   "name": "python3"
  },
  "language_info": {
   "codemirror_mode": {
    "name": "ipython",
    "version": 3
   },
   "file_extension": ".py",
   "mimetype": "text/x-python",
   "name": "python",
   "nbconvert_exporter": "python",
   "pygments_lexer": "ipython3",
   "version": "3.11.9"
  }
 },
 "nbformat": 4,
 "nbformat_minor": 5
}
