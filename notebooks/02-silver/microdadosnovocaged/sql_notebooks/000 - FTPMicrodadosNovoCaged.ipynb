{
 "cells": [
  {
   "cell_type": "markdown",
   "id": "d88a463a-a8be-4403-a897-8a7f5e343c75",
   "metadata": {},
   "source": [
    "# Importação das bibliotecas necessárias"
   ]
  },
  {
   "cell_type": "code",
   "execution_count": 1,
   "id": "dab8b8dc-67ba-4ca1-8775-61b08adb510f",
   "metadata": {},
   "outputs": [],
   "source": [
    "import sys\n",
    "import os\n",
    "sys.path.append('/home/jovyan/work')\n",
    "\n",
    "from utils.AlinharETL import AlinharETL"
   ]
  },
  {
   "cell_type": "markdown",
   "id": "bf7483d3-ceb8-44b8-b5fb-40d0366ea89a",
   "metadata": {},
   "source": [
    "# Crie uma instância da classe AlinharETL"
   ]
  },
  {
   "cell_type": "code",
   "execution_count": 2,
   "id": "2163db01-79e7-4bab-86d0-686ea5dae3e9",
   "metadata": {},
   "outputs": [
    {
     "name": "stderr",
     "output_type": "stream",
     "text": [
      "2024-09-25 19:01:04,020 - INFO - Iniciando Sessão Spark.\n"
     ]
    }
   ],
   "source": [
    "# Crie uma instância da classe\n",
    "bucket = \"bronze\"\n",
    "datamart = \"FTPMicrodadosNovoCaged\"\n",
    "extrator_bronze = AlinharETL(bucket,datamart)"
   ]
  },
  {
   "cell_type": "markdown",
   "id": "fc55b65b-b0f1-42b2-96bd-18751b83912b",
   "metadata": {},
   "source": [
    "# Leitura da tabela"
   ]
  },
  {
   "cell_type": "code",
   "execution_count": 3,
   "id": "eb2a856a-cd4f-4d99-93e5-b957403470d5",
   "metadata": {},
   "outputs": [
    {
     "name": "stderr",
     "output_type": "stream",
     "text": [
      "2024-09-25 19:01:07,270 - INFO - Aguarde... Criando View (bronze/NovoCaged/MicrodadosNovoCaged)\n",
      "2024-09-25 19:01:13,717 - INFO - View criada com sucesso\n"
     ]
    }
   ],
   "source": [
    "df_compliance_caged = extrator_bronze.criar_view_temporaria('bronze/NovoCaged/MicrodadosNovoCaged','compliance_caged')"
   ]
  },
  {
   "cell_type": "markdown",
   "id": "ae341287-3677-4a30-873c-e438987defa1",
   "metadata": {},
   "source": [
    "# Tratamentos na tabela "
   ]
  },
  {
   "cell_type": "code",
   "execution_count": 4,
   "id": "8e388920-8b82-4555-9a33-79fa34f2696a",
   "metadata": {},
   "outputs": [],
   "source": [
    "sql_query = \"\"\"\n",
    "    select distinct\n",
    "        competenciamov AS dsc_competencia_mov,\n",
    "        regiao AS cd_regiao,\n",
    "        uf AS cd_uf,\n",
    "        municipio AS cd_municipio,\n",
    "        secao AS cd_secao,\n",
    "        subclasse AS cd_subclasse,\n",
    "        saldomovimentacao AS dsc_saldo_movimentacao,\n",
    "        cbo2002ocupacao AS cd_cbo_ocupacao,\n",
    "        categoria AS cd_categoria,\n",
    "        graudeinstrucao AS cd_grau_instrucao,\n",
    "        idade AS dsc_idade,\n",
    "        horascontratuais AS vl_horas_contratuais,\n",
    "        racacor AS cd_raca,\n",
    "        sexo AS cd_sexo,\n",
    "        tipoempregador AS cd_tipo_empregador,\n",
    "        tipoestabelecimento AS cd_tipo_estabelecimento,\n",
    "        tipomovimentacao AS cd_tipo_movimentacao,\n",
    "        tipodedeficiencia AS cd_tipo_deficiencia,\n",
    "        indtrabintermitente AS cd_ind_trab_intermitente,\n",
    "        indtrabparcial AS cd_ind_trab_parcial,\n",
    "        salario AS vl_salario,\n",
    "        tamestabjan AS cd_porte,\n",
    "        indicadoraprendiz AS cd_indicador_aprendiz,\n",
    "        origemdainformacao AS cd_fonte_novo_caged,\n",
    "        competenciadec AS dsc_competencia_dec,\n",
    "        indicadordeforadoprazo AS cd_indicador_fora_do_prazo,\n",
    "        unidadesalariocodigo AS cd_unidade_salario_codigo,\n",
    "        valorsalariofixo AS vl_salario_fixo\n",
    "    from compliance_caged where uf = '32'\n",
    "\"\"\""
   ]
  },
  {
   "cell_type": "code",
   "execution_count": 5,
   "id": "42324bc3-d2bc-44cf-94d7-b572037ea6d0",
   "metadata": {},
   "outputs": [
    {
     "name": "stderr",
     "output_type": "stream",
     "text": [
      "2024-09-25 19:01:13,731 - INFO - Aguarde... Executando Query (Delta)\n",
      "2024-09-25 19:01:13,732 - INFO - \n",
      "    select \n",
      "        competenciamov AS dsc_competencia_mov,\n",
      "        regiao AS cd_regiao,\n",
      "        uf AS cd_uf,\n",
      "        municipio AS cd_municipio,\n",
      "        secao AS cd_secao,\n",
      "        subclasse AS cd_subclasse,\n",
      "        saldomovimentacao AS dsc_saldo_movimentacao,\n",
      "        cbo2002ocupacao AS cd_cbo_ocupacao,\n",
      "        categoria AS cd_categoria,\n",
      "        graudeinstrucao AS cd_grau_instrucao,\n",
      "        idade AS dsc_idade,\n",
      "        horascontratuais AS vl_horas_contratuais,\n",
      "        racacor AS cd_raca,\n",
      "        sexo AS cd_sexo,\n",
      "        tipoempregador AS cd_tipo_empregador,\n",
      "        tipoestabelecimento AS cd_tipo_estabelecimento,\n",
      "        tipomovimentacao AS cd_tipo_movimentacao,\n",
      "        tipodedeficiencia AS cd_tipo_deficiencia,\n",
      "        indtrabintermitente AS cd_ind_trab_intermitente,\n",
      "        indtrabparcial AS cd_ind_trab_parcial,\n",
      "        salario AS vl_salario,\n",
      "        tamestabjan AS cd_porte,\n",
      "        indicadoraprendiz AS cd_indicador_aprendiz,\n",
      "        origemdainformacao AS cd_fonte_novo_caged,\n",
      "        competenciadec AS dsc_competencia_dec,\n",
      "        indicadordeforadoprazo AS cd_indicador_fora_do_prazo,\n",
      "        unidadesalariocodigo AS cd_unidade_salario_codigo,\n",
      "        valorsalariofixo AS vl_salario_fixo\n",
      "    from compliance_caged where uf = '51'\n",
      "\n",
      "2024-09-25 19:01:13,837 - INFO - Query (Delta) executada com sucesso\n"
     ]
    }
   ],
   "source": [
    "df_compliance_caged = extrator_bronze.carregar_dados_delta(sql_query)"
   ]
  },
  {
   "cell_type": "markdown",
   "id": "0a754ce2-ee98-4774-88b7-2dbdfe00dc25",
   "metadata": {},
   "source": [
    "# Gravação no datalake"
   ]
  },
  {
   "cell_type": "code",
   "execution_count": 6,
   "id": "4ee559f7-5ec9-463f-affe-8c65af8d03ff",
   "metadata": {},
   "outputs": [],
   "source": [
    "extrator_bronze.caminho_tabela_delta = 's3a://silver/NovoCaged/MicrodadosNovoCaged'"
   ]
  },
  {
   "cell_type": "code",
   "execution_count": 7,
   "id": "afb20946-6a0e-4cb7-9a99-940375d68089",
   "metadata": {},
   "outputs": [
    {
     "name": "stderr",
     "output_type": "stream",
     "text": [
      "2024-09-25 19:01:13,853 - INFO - Aguarde... Persistindo dados (overwrite)\n",
      "2024-09-25 19:01:38,472 - INFO - Dados persistidos com sucesso\n",
      "2024-09-25 19:01:38,472 - INFO - s3a://silver/NovoCaged/MicrodadosNovoCaged\n",
      "2024-09-25 19:01:38,473 - INFO - Aguarde... Realizando optimize\n",
      "2024-09-25 19:01:55,817 - INFO - Optimize executado com sucesso.\n",
      "2024-09-25 19:01:55,825 - INFO - Aguarde... Realizando vacuum\n",
      "2024-09-25 19:02:15,129 - INFO - Vacuum executado com sucesso.\n"
     ]
    }
   ],
   "source": [
    "extrator_bronze.salvar_delta(df_compliance_caged, 'overwrite')"
   ]
  },
  {
   "cell_type": "markdown",
   "id": "e3ac1b56-492b-4e27-9dec-2097e58f35ab",
   "metadata": {},
   "source": [
    "# Encerra sessão spark"
   ]
  },
  {
   "cell_type": "code",
   "execution_count": 8,
   "id": "eb909129-dd70-46da-a2eb-0eb681aa0c21",
   "metadata": {},
   "outputs": [
    {
     "name": "stderr",
     "output_type": "stream",
     "text": [
      "2024-09-25 19:02:15,671 - INFO - Sessão Spark finalizada.\n"
     ]
    }
   ],
   "source": [
    "extrator_bronze.parar_sessao()"
   ]
  }
 ],
 "metadata": {
  "kernelspec": {
   "display_name": "Python 3 (ipykernel)",
   "language": "python",
   "name": "python3"
  },
  "language_info": {
   "codemirror_mode": {
    "name": "ipython",
    "version": 3
   },
   "file_extension": ".py",
   "mimetype": "text/x-python",
   "name": "python",
   "nbconvert_exporter": "python",
   "pygments_lexer": "ipython3",
   "version": "3.11.10"
  }
 },
 "nbformat": 4,
 "nbformat_minor": 5
}
