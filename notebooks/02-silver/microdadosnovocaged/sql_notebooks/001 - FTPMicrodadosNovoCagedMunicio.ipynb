{
 "cells": [
  {
   "cell_type": "markdown",
   "id": "44c9bf99-b491-44a1-a326-a47ef6ccc6ad",
   "metadata": {},
   "source": [
    "# Importação das bibliotecas necessárias"
   ]
  },
  {
   "cell_type": "code",
   "execution_count": 1,
   "id": "dab8b8dc-67ba-4ca1-8775-61b08adb510f",
   "metadata": {},
   "outputs": [],
   "source": [
    "import sys\n",
    "import os\n",
    "sys.path.append('/home/jovyan/work')\n",
    "\n",
    "from utils.AlinharETL import AlinharETL"
   ]
  },
  {
   "cell_type": "markdown",
   "id": "b85d294e-01c0-4056-9250-3fd5cb5112f8",
   "metadata": {},
   "source": [
    "# Crie uma instância da classe AlinharETL"
   ]
  },
  {
   "cell_type": "code",
   "execution_count": 2,
   "id": "2163db01-79e7-4bab-86d0-686ea5dae3e9",
   "metadata": {},
   "outputs": [
    {
     "name": "stderr",
     "output_type": "stream",
     "text": [
      "2024-10-10 15:01:10,942 - INFO - Iniciando Sessão Spark.\n"
     ]
    }
   ],
   "source": [
    "# Crie uma instância da classe\n",
    "bucket = \"bronze\"\n",
    "datamart = \"FTPMicrodadosNovoCaged\"\n",
    "extrator_bronze = AlinharETL(bucket,datamart)"
   ]
  },
  {
   "cell_type": "markdown",
   "id": "fc55b65b-b0f1-42b2-96bd-18751b83912b",
   "metadata": {},
   "source": [
    "# Leitura da tabela"
   ]
  },
  {
   "cell_type": "code",
   "execution_count": 3,
   "id": "eb2a856a-cd4f-4d99-93e5-b957403470d5",
   "metadata": {},
   "outputs": [
    {
     "name": "stderr",
     "output_type": "stream",
     "text": [
      "2024-10-10 15:01:15,668 - INFO - Aguarde... Criando View (bronze/NovoCaged/MicrodadosNovoCagedMunicio)\n",
      "2024-10-10 15:01:27,213 - INFO - View criada com sucesso\n"
     ]
    }
   ],
   "source": [
    "df = extrator_bronze.criar_view_temporaria('bronze/NovoCaged/MicrodadosNovoCagedMunicio','compliance_municipio')"
   ]
  },
  {
   "cell_type": "markdown",
   "id": "e4a0913e-4c46-487d-bdf9-a431b0996be2",
   "metadata": {},
   "source": [
    "# Tratamentos na tabela "
   ]
  },
  {
   "cell_type": "code",
   "execution_count": 4,
   "id": "6a126d1f-18d8-4742-bcfb-f10badc3f223",
   "metadata": {},
   "outputs": [],
   "source": [
    "sql_query = \"\"\"\n",
    "    SELECT \n",
    "        CAST(`Código` AS INT) AS codigo, \n",
    "        `Descrição` AS descricao \n",
    "    FROM compliance_municipio\n",
    "\"\"\""
   ]
  },
  {
   "cell_type": "code",
   "execution_count": 5,
   "id": "02646189-0935-4bd1-a22d-064e029c5453",
   "metadata": {},
   "outputs": [
    {
     "name": "stderr",
     "output_type": "stream",
     "text": [
      "2024-10-10 15:01:27,229 - INFO - Aguarde... Executando Query (Delta)\n",
      "2024-10-10 15:01:27,230 - INFO - \n",
      "    SELECT \n",
      "        CAST(`Código` AS INT) AS codigo, \n",
      "        `Descrição` AS descricao \n",
      "    FROM compliance_municipio\n",
      "\n",
      "2024-10-10 15:01:27,353 - INFO - Query (Delta) executada com sucesso\n"
     ]
    }
   ],
   "source": [
    "df = extrator_bronze.carregar_dados_delta(sql_query)"
   ]
  },
  {
   "cell_type": "markdown",
   "id": "2e013f6c-336f-41df-8d69-bb79216e66f1",
   "metadata": {},
   "source": [
    "# Gravação no datalake"
   ]
  },
  {
   "cell_type": "code",
   "execution_count": 6,
   "id": "4ee559f7-5ec9-463f-affe-8c65af8d03ff",
   "metadata": {},
   "outputs": [],
   "source": [
    "extrator_bronze.caminho_tabela_delta = 's3a://silver/NovoCaged/MicrodadosNovoCagedMunicio'"
   ]
  },
  {
   "cell_type": "code",
   "execution_count": 7,
   "id": "afb20946-6a0e-4cb7-9a99-940375d68089",
   "metadata": {},
   "outputs": [
    {
     "name": "stderr",
     "output_type": "stream",
     "text": [
      "2024-09-25 19:02:34,671 - INFO - Aguarde... Persistindo dados (overwrite)\n",
      "2024-09-25 19:02:43,016 - INFO - Dados persistidos com sucesso\n",
      "2024-09-25 19:02:43,017 - INFO - s3a://silver/NovoCaged/MicrodadosNovoCagedMunicio\n",
      "2024-09-25 19:02:43,018 - INFO - Aguarde... Realizando optimize\n",
      "2024-09-25 19:02:46,866 - INFO - Optimize executado com sucesso.\n",
      "2024-09-25 19:02:46,867 - INFO - Aguarde... Realizando vacuum\n",
      "2024-09-25 19:03:09,795 - INFO - Vacuum executado com sucesso.\n"
     ]
    }
   ],
   "source": [
    "extrator_bronze.salvar_delta(df, 'overwrite')"
   ]
  },
  {
   "cell_type": "markdown",
   "id": "622f5577-1566-4764-900c-ddd0c0730a2d",
   "metadata": {},
   "source": [
    "# Encerra sessão spark"
   ]
  },
  {
   "cell_type": "code",
   "execution_count": 7,
   "id": "eb909129-dd70-46da-a2eb-0eb681aa0c21",
   "metadata": {},
   "outputs": [
    {
     "name": "stderr",
     "output_type": "stream",
     "text": [
      "2024-10-10 15:01:49,901 - INFO - Sessão Spark finalizada.\n"
     ]
    }
   ],
   "source": [
    "extrator_bronze.parar_sessao()"
   ]
  }
 ],
 "metadata": {
  "kernelspec": {
   "display_name": "Python 3 (ipykernel)",
   "language": "python",
   "name": "python3"
  },
  "language_info": {
   "codemirror_mode": {
    "name": "ipython",
    "version": 3
   },
   "file_extension": ".py",
   "mimetype": "text/x-python",
   "name": "python",
   "nbconvert_exporter": "python",
   "pygments_lexer": "ipython3",
   "version": "3.11.9"
  }
 },
 "nbformat": 4,
 "nbformat_minor": 5
}
