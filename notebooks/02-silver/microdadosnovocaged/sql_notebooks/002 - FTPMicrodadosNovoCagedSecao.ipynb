{
 "cells": [
  {
   "cell_type": "markdown",
   "id": "c0576a2d-9241-4107-ae76-57ad91c4bdd3",
   "metadata": {},
   "source": [
    "# Importação das bibliotecas necessárias"
   ]
  },
  {
   "cell_type": "code",
   "execution_count": 1,
   "id": "dab8b8dc-67ba-4ca1-8775-61b08adb510f",
   "metadata": {},
   "outputs": [],
   "source": [
    "import sys\n",
    "import os\n",
    "sys.path.append('/home/jovyan/work')\n",
    "\n",
    "from utils.AlinharETL import AlinharETL"
   ]
  },
  {
   "cell_type": "markdown",
   "id": "726a9b6c-176f-49e3-b1be-e32d1892aaf5",
   "metadata": {},
   "source": [
    "# Crie uma instância da classe AlinharETL"
   ]
  },
  {
   "cell_type": "code",
   "execution_count": 2,
   "id": "2163db01-79e7-4bab-86d0-686ea5dae3e9",
   "metadata": {},
   "outputs": [
    {
     "name": "stderr",
     "output_type": "stream",
     "text": [
      "2024-09-25 19:03:50,068 - INFO - Iniciando Sessão Spark.\n"
     ]
    }
   ],
   "source": [
    "# Crie uma instância da classe\n",
    "bucket = \"bronze\"\n",
    "datamart = \"FTPMicrodadosNovoCaged\"\n",
    "extrator_bronze = AlinharETL(bucket,datamart)"
   ]
  },
  {
   "cell_type": "markdown",
   "id": "fc55b65b-b0f1-42b2-96bd-18751b83912b",
   "metadata": {},
   "source": [
    "# Leitura da tabela"
   ]
  },
  {
   "cell_type": "code",
   "execution_count": 3,
   "id": "eb2a856a-cd4f-4d99-93e5-b957403470d5",
   "metadata": {},
   "outputs": [
    {
     "name": "stderr",
     "output_type": "stream",
     "text": [
      "2024-09-25 19:03:53,057 - INFO - Aguarde... Criando View (bronze/NovoCaged/MicrodadosNovoCagedSecao)\n",
      "2024-09-25 19:04:00,922 - INFO - View criada com sucesso\n"
     ]
    }
   ],
   "source": [
    "df = extrator_bronze.criar_view_temporaria('bronze/NovoCaged/MicrodadosNovoCagedSecao','compliance_secao')"
   ]
  },
  {
   "cell_type": "markdown",
   "id": "b0e70134-7b80-4e26-8c5f-d440dec40298",
   "metadata": {},
   "source": [
    "# Tratamentos na tabela "
   ]
  },
  {
   "cell_type": "code",
   "execution_count": 4,
   "id": "e6217a51-cd25-4347-bcd9-b01db32bdefd",
   "metadata": {},
   "outputs": [],
   "source": [
    "sql_query = \"\"\"\n",
    "    SELECT \n",
    "        CAST(`Código` AS STRING) AS codigo, \n",
    "        `Descrição` AS descricao \n",
    "    FROM compliance_secao\n",
    "\"\"\""
   ]
  },
  {
   "cell_type": "code",
   "execution_count": 5,
   "id": "3650ae87-dd23-4de2-87fe-d212de69a621",
   "metadata": {},
   "outputs": [
    {
     "name": "stderr",
     "output_type": "stream",
     "text": [
      "2024-09-25 19:04:00,938 - INFO - Aguarde... Executando Query (Delta)\n",
      "2024-09-25 19:04:00,940 - INFO - \n",
      "    SELECT \n",
      "        CAST(`Código` AS STRING) AS codigo, \n",
      "        `Descrição` AS descricao \n",
      "    FROM compliance_secao\n",
      "\n",
      "2024-09-25 19:04:01,083 - INFO - Query (Delta) executada com sucesso\n"
     ]
    }
   ],
   "source": [
    "df = extrator_bronze.carregar_dados_delta(sql_query)"
   ]
  },
  {
   "cell_type": "markdown",
   "id": "adec2b06-5dd3-4953-8db2-83bc6bb15986",
   "metadata": {},
   "source": [
    "# Gravação no datalake"
   ]
  },
  {
   "cell_type": "code",
   "execution_count": 6,
   "id": "4ee559f7-5ec9-463f-affe-8c65af8d03ff",
   "metadata": {},
   "outputs": [],
   "source": [
    "extrator_bronze.caminho_tabela_delta = 's3a://silver/NovoCaged/MicrodadosNovoCagedSecao'"
   ]
  },
  {
   "cell_type": "code",
   "execution_count": 7,
   "id": "afb20946-6a0e-4cb7-9a99-940375d68089",
   "metadata": {},
   "outputs": [
    {
     "name": "stderr",
     "output_type": "stream",
     "text": [
      "2024-09-25 19:04:01,103 - INFO - Aguarde... Persistindo dados (overwrite)\n",
      "2024-09-25 19:04:10,847 - INFO - Dados persistidos com sucesso\n",
      "2024-09-25 19:04:10,848 - INFO - s3a://silver/NovoCaged/MicrodadosNovoCagedSecao\n",
      "2024-09-25 19:04:10,849 - INFO - Aguarde... Realizando optimize\n",
      "2024-09-25 19:04:13,952 - INFO - Optimize executado com sucesso.\n",
      "2024-09-25 19:04:13,952 - INFO - Aguarde... Realizando vacuum\n",
      "2024-09-25 19:04:40,940 - INFO - Vacuum executado com sucesso.\n"
     ]
    }
   ],
   "source": [
    "extrator_bronze.salvar_delta(df, 'overwrite')"
   ]
  },
  {
   "cell_type": "markdown",
   "id": "1dba45d9-b80e-4380-aef6-9d0d2c1be688",
   "metadata": {},
   "source": [
    "# Encerra sessão spark"
   ]
  },
  {
   "cell_type": "code",
   "execution_count": 8,
   "id": "eb909129-dd70-46da-a2eb-0eb681aa0c21",
   "metadata": {},
   "outputs": [
    {
     "name": "stderr",
     "output_type": "stream",
     "text": [
      "2024-09-25 19:04:41,417 - INFO - Sessão Spark finalizada.\n"
     ]
    }
   ],
   "source": [
    "extrator_bronze.parar_sessao()"
   ]
  }
 ],
 "metadata": {
  "kernelspec": {
   "display_name": "Python 3 (ipykernel)",
   "language": "python",
   "name": "python3"
  },
  "language_info": {
   "codemirror_mode": {
    "name": "ipython",
    "version": 3
   },
   "file_extension": ".py",
   "mimetype": "text/x-python",
   "name": "python",
   "nbconvert_exporter": "python",
   "pygments_lexer": "ipython3",
   "version": "3.11.10"
  }
 },
 "nbformat": 4,
 "nbformat_minor": 5
}
