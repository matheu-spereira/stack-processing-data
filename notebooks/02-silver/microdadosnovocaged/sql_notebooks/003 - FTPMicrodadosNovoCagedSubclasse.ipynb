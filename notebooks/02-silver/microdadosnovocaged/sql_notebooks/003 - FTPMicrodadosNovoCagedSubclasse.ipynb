{
 "cells": [
  {
   "cell_type": "markdown",
   "id": "cdf256ce-dc7e-47c4-baec-f078650245ec",
   "metadata": {},
   "source": [
    "# Importação das bibliotecas necessárias"
   ]
  },
  {
   "cell_type": "code",
   "execution_count": 1,
   "id": "dab8b8dc-67ba-4ca1-8775-61b08adb510f",
   "metadata": {},
   "outputs": [],
   "source": [
    "import sys\n",
    "import os\n",
    "sys.path.append('/home/jovyan/work')\n",
    "\n",
    "from utils.AlinharETL import AlinharETL"
   ]
  },
  {
   "cell_type": "markdown",
   "id": "dc220b82-a887-4141-937b-78f12c9a37ed",
   "metadata": {},
   "source": [
    "# Crie uma instância da classe AlinharETL"
   ]
  },
  {
   "cell_type": "code",
   "execution_count": 2,
   "id": "2163db01-79e7-4bab-86d0-686ea5dae3e9",
   "metadata": {},
   "outputs": [
    {
     "name": "stderr",
     "output_type": "stream",
     "text": [
      "2024-09-25 19:03:53,205 - INFO - Iniciando Sessão Spark.\n"
     ]
    }
   ],
   "source": [
    "# Crie uma instância da classe\n",
    "bucket = \"bronze\"\n",
    "datamart = \"FTPMicrodadosNovoCaged\"\n",
    "extrator_bronze = AlinharETL(bucket,datamart)"
   ]
  },
  {
   "cell_type": "markdown",
   "id": "fc55b65b-b0f1-42b2-96bd-18751b83912b",
   "metadata": {},
   "source": [
    "# Leitura da tabela"
   ]
  },
  {
   "cell_type": "code",
   "execution_count": 3,
   "id": "eb2a856a-cd4f-4d99-93e5-b957403470d5",
   "metadata": {},
   "outputs": [
    {
     "name": "stderr",
     "output_type": "stream",
     "text": [
      "2024-09-25 19:03:57,257 - INFO - Aguarde... Criando View (bronze/NovoCaged/MicrodadosNovoCagedSubClasse)\n",
      "2024-09-25 19:04:06,125 - INFO - View criada com sucesso\n"
     ]
    }
   ],
   "source": [
    "df = extrator_bronze.criar_view_temporaria('bronze/NovoCaged/MicrodadosNovoCagedSubClasse','compliance_subclasse')"
   ]
  },
  {
   "cell_type": "markdown",
   "id": "d138add7-42c4-4268-ad65-2c63cd1fbef2",
   "metadata": {},
   "source": [
    "# Tratamentos na tabela "
   ]
  },
  {
   "cell_type": "code",
   "execution_count": 4,
   "id": "ecfa141f-5cd1-492c-a958-f0e7c25b83bf",
   "metadata": {},
   "outputs": [],
   "source": [
    "sql_query = \"\"\"\n",
    "    SELECT \n",
    "        CAST(`Código` AS INT) AS codigo, \n",
    "        `Descrição` AS descricao \n",
    "    FROM compliance_subclasse\n",
    "\"\"\""
   ]
  },
  {
   "cell_type": "code",
   "execution_count": 5,
   "id": "b6d00f18-a203-4b82-93a1-de13b605b80f",
   "metadata": {},
   "outputs": [
    {
     "name": "stderr",
     "output_type": "stream",
     "text": [
      "2024-09-25 19:04:06,138 - INFO - Aguarde... Executando Query (Delta)\n",
      "2024-09-25 19:04:06,140 - INFO - \n",
      "    SELECT \n",
      "        CAST(`Código` AS INT) AS codigo, \n",
      "        `Descrição` AS descricao \n",
      "    FROM compliance_subclasse\n",
      "\n",
      "2024-09-25 19:04:06,234 - INFO - Query (Delta) executada com sucesso\n"
     ]
    }
   ],
   "source": [
    "df = extrator_bronze.carregar_dados_delta(sql_query)"
   ]
  },
  {
   "cell_type": "markdown",
   "id": "4c8ba313-95f6-4318-9342-9efbadd50d65",
   "metadata": {},
   "source": [
    "# Gravação no datalake"
   ]
  },
  {
   "cell_type": "code",
   "execution_count": 6,
   "id": "4ee559f7-5ec9-463f-affe-8c65af8d03ff",
   "metadata": {},
   "outputs": [],
   "source": [
    "extrator_bronze.caminho_tabela_delta = 's3a://silver/NovoCaged/MicrodadosNovoCagedSubClasse'"
   ]
  },
  {
   "cell_type": "code",
   "execution_count": 7,
   "id": "afb20946-6a0e-4cb7-9a99-940375d68089",
   "metadata": {},
   "outputs": [
    {
     "name": "stderr",
     "output_type": "stream",
     "text": [
      "2024-09-25 19:04:06,250 - INFO - Aguarde... Persistindo dados (overwrite)\n",
      "2024-09-25 19:04:16,407 - INFO - Dados persistidos com sucesso\n",
      "2024-09-25 19:04:16,409 - INFO - s3a://silver/NovoCaged/MicrodadosNovoCagedSubClasse\n",
      "2024-09-25 19:04:16,409 - INFO - Aguarde... Realizando optimize\n",
      "2024-09-25 19:04:19,057 - INFO - Optimize executado com sucesso.\n",
      "2024-09-25 19:04:19,058 - INFO - Aguarde... Realizando vacuum\n",
      "2024-09-25 19:04:47,032 - INFO - Vacuum executado com sucesso.\n"
     ]
    }
   ],
   "source": [
    "extrator_bronze.salvar_delta(df, 'overwrite')"
   ]
  },
  {
   "cell_type": "markdown",
   "id": "7a3a5967-4076-428e-9cfd-72e0c5a92294",
   "metadata": {},
   "source": [
    "# Encerra sessão spark"
   ]
  },
  {
   "cell_type": "code",
   "execution_count": 8,
   "id": "eb909129-dd70-46da-a2eb-0eb681aa0c21",
   "metadata": {},
   "outputs": [
    {
     "name": "stderr",
     "output_type": "stream",
     "text": [
      "2024-09-25 19:04:47,562 - INFO - Sessão Spark finalizada.\n"
     ]
    }
   ],
   "source": [
    "extrator_bronze.parar_sessao()"
   ]
  }
 ],
 "metadata": {
  "kernelspec": {
   "display_name": "Python 3 (ipykernel)",
   "language": "python",
   "name": "python3"
  },
  "language_info": {
   "codemirror_mode": {
    "name": "ipython",
    "version": 3
   },
   "file_extension": ".py",
   "mimetype": "text/x-python",
   "name": "python",
   "nbconvert_exporter": "python",
   "pygments_lexer": "ipython3",
   "version": "3.11.10"
  }
 },
 "nbformat": 4,
 "nbformat_minor": 5
}
