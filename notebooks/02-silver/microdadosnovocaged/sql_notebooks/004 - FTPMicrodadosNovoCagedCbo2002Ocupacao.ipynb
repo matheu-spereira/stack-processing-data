{
 "cells": [
  {
   "cell_type": "markdown",
   "id": "c3a081c3-6b02-4b8c-8768-6efc0c49be51",
   "metadata": {},
   "source": [
    "# Importação das bibliotecas necessárias"
   ]
  },
  {
   "cell_type": "code",
   "execution_count": 1,
   "id": "dab8b8dc-67ba-4ca1-8775-61b08adb510f",
   "metadata": {},
   "outputs": [],
   "source": [
    "import sys\n",
    "import os\n",
    "sys.path.append('/home/jovyan/work')\n",
    "\n",
    "from utils.AlinharETL import AlinharETL"
   ]
  },
  {
   "cell_type": "markdown",
   "id": "9a9bfc29-a261-4afb-8625-abfc81a7045f",
   "metadata": {},
   "source": [
    "# Crie uma instância da classe AlinharETL"
   ]
  },
  {
   "cell_type": "code",
   "execution_count": 2,
   "id": "2163db01-79e7-4bab-86d0-686ea5dae3e9",
   "metadata": {},
   "outputs": [
    {
     "name": "stderr",
     "output_type": "stream",
     "text": [
      "2024-09-25 19:03:56,134 - INFO - Iniciando Sessão Spark.\n"
     ]
    }
   ],
   "source": [
    "# Crie uma instância da classe\n",
    "bucket = \"bronze\"\n",
    "datamart = \"FTPMicrodadosNovoCaged\"\n",
    "extrator_bronze = AlinharETL(bucket,datamart)"
   ]
  },
  {
   "cell_type": "markdown",
   "id": "fc55b65b-b0f1-42b2-96bd-18751b83912b",
   "metadata": {},
   "source": [
    "# Leitura da tabela"
   ]
  },
  {
   "cell_type": "code",
   "execution_count": 3,
   "id": "eb2a856a-cd4f-4d99-93e5-b957403470d5",
   "metadata": {},
   "outputs": [
    {
     "name": "stderr",
     "output_type": "stream",
     "text": [
      "2024-09-25 19:04:00,931 - INFO - Aguarde... Criando View (bronze/NovoCaged/MicrodadosNovoCagedCbo2002Ocupacao)\n",
      "2024-09-25 19:04:49,601 - INFO - View criada com sucesso\n"
     ]
    }
   ],
   "source": [
    "df = extrator_bronze.criar_view_temporaria('bronze/NovoCaged/MicrodadosNovoCagedCbo2002Ocupacao','compliance_cbo2002ocupacao')"
   ]
  },
  {
   "cell_type": "markdown",
   "id": "569c84d9-3a6c-4393-831a-c0209618795c",
   "metadata": {},
   "source": [
    "# Tratamentos na tabela "
   ]
  },
  {
   "cell_type": "code",
   "execution_count": 4,
   "id": "bb45ae5c-d6f6-498f-9edb-414a85e3d511",
   "metadata": {},
   "outputs": [],
   "source": [
    "sql_query = \"\"\"\n",
    "    SELECT \n",
    "        CAST(`Código` AS INT) AS codigo, \n",
    "        `Descrição` AS descricao \n",
    "    FROM compliance_cbo2002ocupacao\n",
    "\"\"\""
   ]
  },
  {
   "cell_type": "code",
   "execution_count": 5,
   "id": "283e43b5-c5a5-4e16-a18e-6a199e73ea11",
   "metadata": {},
   "outputs": [
    {
     "name": "stderr",
     "output_type": "stream",
     "text": [
      "2024-09-25 19:04:49,614 - INFO - Aguarde... Executando Query (Delta)\n",
      "2024-09-25 19:04:49,615 - INFO - \n",
      "    SELECT \n",
      "        CAST(`Código` AS INT) AS codigo, \n",
      "        `Descrição` AS descricao \n",
      "    FROM compliance_cbo2002ocupacao\n",
      "\n",
      "2024-09-25 19:04:49,701 - INFO - Query (Delta) executada com sucesso\n"
     ]
    }
   ],
   "source": [
    "df = extrator_bronze.carregar_dados_delta(sql_query)"
   ]
  },
  {
   "cell_type": "markdown",
   "id": "d2c81905-c491-4f99-ae1f-31bd728bbcf3",
   "metadata": {},
   "source": [
    "# Gravação no datalake"
   ]
  },
  {
   "cell_type": "code",
   "execution_count": 6,
   "id": "4ee559f7-5ec9-463f-affe-8c65af8d03ff",
   "metadata": {},
   "outputs": [],
   "source": [
    "extrator_bronze.caminho_tabela_delta = 's3a://silver/NovoCaged/MicrodadosNovoCagedCbo2002Ocupacao'"
   ]
  },
  {
   "cell_type": "code",
   "execution_count": 7,
   "id": "afb20946-6a0e-4cb7-9a99-940375d68089",
   "metadata": {},
   "outputs": [
    {
     "name": "stderr",
     "output_type": "stream",
     "text": [
      "2024-09-25 19:04:49,717 - INFO - Aguarde... Persistindo dados (overwrite)\n",
      "2024-09-25 19:04:58,181 - INFO - Dados persistidos com sucesso\n",
      "2024-09-25 19:04:58,182 - INFO - s3a://silver/NovoCaged/MicrodadosNovoCagedCbo2002Ocupacao\n",
      "2024-09-25 19:04:58,182 - INFO - Aguarde... Realizando optimize\n",
      "2024-09-25 19:05:01,108 - INFO - Optimize executado com sucesso.\n",
      "2024-09-25 19:05:01,109 - INFO - Aguarde... Realizando vacuum\n",
      "2024-09-25 19:05:28,651 - INFO - Vacuum executado com sucesso.\n"
     ]
    }
   ],
   "source": [
    "extrator_bronze.salvar_delta(df, 'overwrite')"
   ]
  },
  {
   "cell_type": "markdown",
   "id": "0b395c4a-2aba-4e27-9cb3-ba4c5341531f",
   "metadata": {},
   "source": [
    "# Encerra sessão spark"
   ]
  },
  {
   "cell_type": "code",
   "execution_count": 8,
   "id": "eb909129-dd70-46da-a2eb-0eb681aa0c21",
   "metadata": {},
   "outputs": [
    {
     "name": "stderr",
     "output_type": "stream",
     "text": [
      "2024-09-25 19:05:28,777 - INFO - Sessão Spark finalizada.\n"
     ]
    }
   ],
   "source": [
    "extrator_bronze.parar_sessao()"
   ]
  }
 ],
 "metadata": {
  "kernelspec": {
   "display_name": "Python 3 (ipykernel)",
   "language": "python",
   "name": "python3"
  },
  "language_info": {
   "codemirror_mode": {
    "name": "ipython",
    "version": 3
   },
   "file_extension": ".py",
   "mimetype": "text/x-python",
   "name": "python",
   "nbconvert_exporter": "python",
   "pygments_lexer": "ipython3",
   "version": "3.11.10"
  }
 },
 "nbformat": 4,
 "nbformat_minor": 5
}
