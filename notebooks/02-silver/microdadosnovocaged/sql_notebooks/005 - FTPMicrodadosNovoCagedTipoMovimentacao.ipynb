{
 "cells": [
  {
   "cell_type": "markdown",
   "id": "243fb9b8-85e8-47dc-857c-92dc158cd508",
   "metadata": {},
   "source": [
    "# Importação das bibliotecas necessárias"
   ]
  },
  {
   "cell_type": "code",
   "execution_count": 1,
   "id": "efac6011-4a5c-4f9c-abb7-e8b3c3e8c1f7",
   "metadata": {},
   "outputs": [],
   "source": [
    "import sys\n",
    "import os\n",
    "sys.path.append('/home/jovyan/work')\n",
    "\n",
    "from utils.AlinharETL import AlinharETL"
   ]
  },
  {
   "cell_type": "markdown",
   "id": "b062c480-1855-4a03-bc99-912f0b2130c3",
   "metadata": {},
   "source": [
    "# Crie uma instância da classe AlinharETL"
   ]
  },
  {
   "cell_type": "code",
   "execution_count": 2,
   "id": "2163db01-79e7-4bab-86d0-686ea5dae3e9",
   "metadata": {},
   "outputs": [
    {
     "name": "stderr",
     "output_type": "stream",
     "text": [
      "2024-09-25 19:03:59,314 - INFO - Iniciando Sessão Spark.\n"
     ]
    }
   ],
   "source": [
    "# Crie uma instância da classe\n",
    "bucket = \"bronze\"\n",
    "datamart = \"FTPMicrodadosNovoCaged\"\n",
    "extrator_bronze = AlinharETL(bucket,datamart)"
   ]
  },
  {
   "cell_type": "markdown",
   "id": "fc55b65b-b0f1-42b2-96bd-18751b83912b",
   "metadata": {},
   "source": [
    "# Leitura da tabela"
   ]
  },
  {
   "cell_type": "code",
   "execution_count": 3,
   "id": "eb2a856a-cd4f-4d99-93e5-b957403470d5",
   "metadata": {},
   "outputs": [
    {
     "name": "stderr",
     "output_type": "stream",
     "text": [
      "2024-09-25 19:04:04,581 - INFO - Aguarde... Criando View (bronze/NovoCaged/MicrodadosNovoCagedTipoMovimentacao)\n",
      "2024-09-25 19:04:53,521 - INFO - View criada com sucesso\n"
     ]
    }
   ],
   "source": [
    "df = extrator_bronze.criar_view_temporaria('bronze/NovoCaged/MicrodadosNovoCagedTipoMovimentacao','compliance_tipomovimentacao')"
   ]
  },
  {
   "cell_type": "markdown",
   "id": "d2ac0aee-84f1-4bad-b533-9365054ecca9",
   "metadata": {},
   "source": [
    "# Tratamentos na tabela"
   ]
  },
  {
   "cell_type": "code",
   "execution_count": 4,
   "id": "b0eaa01e-f4a0-41d8-bb99-77543f341747",
   "metadata": {},
   "outputs": [],
   "source": [
    "sql_query = \"\"\"\n",
    "    SELECT \n",
    "        CAST(`Código` AS INT) AS codigo, \n",
    "        `Descrição` AS descricao \n",
    "    FROM compliance_tipomovimentacao\n",
    "\"\"\""
   ]
  },
  {
   "cell_type": "code",
   "execution_count": 5,
   "id": "194a947d-b301-4a4c-84c7-c69931b1336e",
   "metadata": {},
   "outputs": [
    {
     "name": "stderr",
     "output_type": "stream",
     "text": [
      "2024-09-25 19:04:53,536 - INFO - Aguarde... Executando Query (Delta)\n",
      "2024-09-25 19:04:53,537 - INFO - \n",
      "    SELECT \n",
      "        CAST(`Código` AS INT) AS codigo, \n",
      "        `Descrição` AS descricao \n",
      "    FROM compliance_tipomovimentacao\n",
      "\n",
      "2024-09-25 19:04:53,611 - INFO - Query (Delta) executada com sucesso\n"
     ]
    }
   ],
   "source": [
    "df = extrator_bronze.carregar_dados_delta(sql_query)"
   ]
  },
  {
   "cell_type": "markdown",
   "id": "966f6eb0-e39f-4c3d-a496-6bfc164c3f1a",
   "metadata": {},
   "source": [
    "# Gravação no datalake"
   ]
  },
  {
   "cell_type": "code",
   "execution_count": 6,
   "id": "4ee559f7-5ec9-463f-affe-8c65af8d03ff",
   "metadata": {},
   "outputs": [],
   "source": [
    "extrator_bronze.caminho_tabela_delta = 's3a://silver/NovoCaged/MicrodadosNovoCagedTipoMovimentacao'"
   ]
  },
  {
   "cell_type": "code",
   "execution_count": 7,
   "id": "afb20946-6a0e-4cb7-9a99-940375d68089",
   "metadata": {},
   "outputs": [
    {
     "name": "stderr",
     "output_type": "stream",
     "text": [
      "2024-09-25 19:04:53,625 - INFO - Aguarde... Persistindo dados (overwrite)\n",
      "2024-09-25 19:05:03,370 - INFO - Dados persistidos com sucesso\n",
      "2024-09-25 19:05:03,371 - INFO - s3a://silver/NovoCaged/MicrodadosNovoCagedTipoMovimentacao\n",
      "2024-09-25 19:05:03,372 - INFO - Aguarde... Realizando optimize\n",
      "2024-09-25 19:05:06,259 - INFO - Optimize executado com sucesso.\n",
      "2024-09-25 19:05:06,260 - INFO - Aguarde... Realizando vacuum\n",
      "2024-09-25 19:05:33,449 - INFO - Vacuum executado com sucesso.\n"
     ]
    }
   ],
   "source": [
    "extrator_bronze.salvar_delta(df, 'overwrite')"
   ]
  },
  {
   "cell_type": "markdown",
   "id": "0eea719a-5b89-4494-bd3a-689b7b279dad",
   "metadata": {},
   "source": [
    "# Encerra sessão spark"
   ]
  },
  {
   "cell_type": "code",
   "execution_count": 8,
   "id": "eb909129-dd70-46da-a2eb-0eb681aa0c21",
   "metadata": {},
   "outputs": [
    {
     "name": "stderr",
     "output_type": "stream",
     "text": [
      "2024-09-25 19:05:33,904 - INFO - Sessão Spark finalizada.\n"
     ]
    }
   ],
   "source": [
    "extrator_bronze.parar_sessao()"
   ]
  }
 ],
 "metadata": {
  "kernelspec": {
   "display_name": "Python 3 (ipykernel)",
   "language": "python",
   "name": "python3"
  },
  "language_info": {
   "codemirror_mode": {
    "name": "ipython",
    "version": 3
   },
   "file_extension": ".py",
   "mimetype": "text/x-python",
   "name": "python",
   "nbconvert_exporter": "python",
   "pygments_lexer": "ipython3",
   "version": "3.11.10"
  }
 },
 "nbformat": 4,
 "nbformat_minor": 5
}
