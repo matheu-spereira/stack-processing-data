{
 "cells": [
  {
   "cell_type": "markdown",
   "id": "f9498cee-3944-4226-85de-8794e40ae959",
   "metadata": {},
   "source": [
    "# Importação das bibliotecas necessárias"
   ]
  },
  {
   "cell_type": "code",
   "execution_count": 1,
   "id": "dab8b8dc-67ba-4ca1-8775-61b08adb510f",
   "metadata": {},
   "outputs": [],
   "source": [
    "import sys\n",
    "import os\n",
    "sys.path.append('/home/jovyan/work')\n",
    "\n",
    "from utils.AlinharETL import AlinharETL"
   ]
  },
  {
   "cell_type": "markdown",
   "id": "25dddbb2-f867-49aa-af8a-dc6b685b436e",
   "metadata": {},
   "source": [
    "# Crie uma instância da classe AlinharETL"
   ]
  },
  {
   "cell_type": "code",
   "execution_count": 2,
   "id": "2163db01-79e7-4bab-86d0-686ea5dae3e9",
   "metadata": {},
   "outputs": [
    {
     "name": "stderr",
     "output_type": "stream",
     "text": [
      "2024-09-25 19:04:03,774 - INFO - Iniciando Sessão Spark.\n"
     ]
    }
   ],
   "source": [
    "# Crie uma instância da classe\n",
    "bucket = \"bronze\"\n",
    "datamart = \"FTPMicrodadosNovoCaged\"\n",
    "extrator_bronze = AlinharETL(bucket,datamart)"
   ]
  },
  {
   "cell_type": "markdown",
   "id": "fc55b65b-b0f1-42b2-96bd-18751b83912b",
   "metadata": {},
   "source": [
    "# Leitura da tabela"
   ]
  },
  {
   "cell_type": "code",
   "execution_count": 3,
   "id": "eb2a856a-cd4f-4d99-93e5-b957403470d5",
   "metadata": {},
   "outputs": [
    {
     "name": "stderr",
     "output_type": "stream",
     "text": [
      "2024-09-25 19:04:08,527 - INFO - Aguarde... Criando View (bronze/NovoCaged/MicrodadosNovoCagedIndicadorAprendiz)\n",
      "2024-09-25 19:05:36,232 - INFO - View criada com sucesso\n"
     ]
    }
   ],
   "source": [
    "df = extrator_bronze.criar_view_temporaria('bronze/NovoCaged/MicrodadosNovoCagedIndicadorAprendiz','compliance_indicadoraprendiz')"
   ]
  },
  {
   "cell_type": "markdown",
   "id": "93239222-04eb-4027-a6ac-659e9fe80424",
   "metadata": {},
   "source": [
    "# Tratamentos na tabela "
   ]
  },
  {
   "cell_type": "code",
   "execution_count": 4,
   "id": "6b320cd7-32a2-4a63-ad44-2d94c080568b",
   "metadata": {},
   "outputs": [],
   "source": [
    "sql_query = \"\"\"\n",
    "    SELECT \n",
    "        CAST(`Código` AS INT) AS codigo, \n",
    "        `Descrição` AS descricao \n",
    "    FROM compliance_indicadoraprendiz\n",
    "\"\"\""
   ]
  },
  {
   "cell_type": "code",
   "execution_count": 5,
   "id": "5c8a477a-60ec-4e00-b90d-55c249b69522",
   "metadata": {},
   "outputs": [
    {
     "name": "stderr",
     "output_type": "stream",
     "text": [
      "2024-09-25 19:05:36,244 - INFO - Aguarde... Executando Query (Delta)\n",
      "2024-09-25 19:05:36,244 - INFO - \n",
      "    SELECT \n",
      "        CAST(`Código` AS INT) AS codigo, \n",
      "        `Descrição` AS descricao \n",
      "    FROM compliance_indicadoraprendiz\n",
      "\n",
      "2024-09-25 19:05:36,324 - INFO - Query (Delta) executada com sucesso\n"
     ]
    }
   ],
   "source": [
    "df = extrator_bronze.carregar_dados_delta(sql_query)"
   ]
  },
  {
   "cell_type": "markdown",
   "id": "58d0b166-4c36-48e6-aad3-47630649e8fb",
   "metadata": {},
   "source": [
    "# Gravação no datalake"
   ]
  },
  {
   "cell_type": "code",
   "execution_count": 6,
   "id": "4ee559f7-5ec9-463f-affe-8c65af8d03ff",
   "metadata": {},
   "outputs": [],
   "source": [
    "extrator_bronze.caminho_tabela_delta = 's3a://silver/NovoCaged/MicrodadosNovoCagedIndicadorAprendiz'"
   ]
  },
  {
   "cell_type": "code",
   "execution_count": 7,
   "id": "afb20946-6a0e-4cb7-9a99-940375d68089",
   "metadata": {},
   "outputs": [
    {
     "name": "stderr",
     "output_type": "stream",
     "text": [
      "2024-09-25 19:05:36,341 - INFO - Aguarde... Persistindo dados (overwrite)\n",
      "2024-09-25 19:05:45,252 - INFO - Dados persistidos com sucesso\n",
      "2024-09-25 19:05:45,252 - INFO - s3a://silver/NovoCaged/MicrodadosNovoCagedIndicadorAprendiz\n",
      "2024-09-25 19:05:45,253 - INFO - Aguarde... Realizando optimize\n",
      "2024-09-25 19:05:49,887 - INFO - Optimize executado com sucesso.\n",
      "2024-09-25 19:05:49,888 - INFO - Aguarde... Realizando vacuum\n",
      "2024-09-25 19:06:07,410 - INFO - Vacuum executado com sucesso.\n"
     ]
    }
   ],
   "source": [
    "extrator_bronze.salvar_delta(df, 'overwrite')"
   ]
  },
  {
   "cell_type": "markdown",
   "id": "c19ee3cd-3d4c-4fb2-a927-decb0aebc85c",
   "metadata": {},
   "source": [
    "# Encerra sessão spark"
   ]
  },
  {
   "cell_type": "code",
   "execution_count": 8,
   "id": "eb909129-dd70-46da-a2eb-0eb681aa0c21",
   "metadata": {},
   "outputs": [
    {
     "name": "stderr",
     "output_type": "stream",
     "text": [
      "2024-09-25 19:06:07,883 - INFO - Sessão Spark finalizada.\n"
     ]
    }
   ],
   "source": [
    "extrator_bronze.parar_sessao()"
   ]
  }
 ],
 "metadata": {
  "kernelspec": {
   "display_name": "Python 3 (ipykernel)",
   "language": "python",
   "name": "python3"
  },
  "language_info": {
   "codemirror_mode": {
    "name": "ipython",
    "version": 3
   },
   "file_extension": ".py",
   "mimetype": "text/x-python",
   "name": "python",
   "nbconvert_exporter": "python",
   "pygments_lexer": "ipython3",
   "version": "3.11.10"
  }
 },
 "nbformat": 4,
 "nbformat_minor": 5
}
