{
 "cells": [
  {
   "cell_type": "markdown",
   "id": "5da360c8-2b46-4a97-8444-c6d086f07ca3",
   "metadata": {},
   "source": [
    "# Importação das bibliotecas necessárias"
   ]
  },
  {
   "cell_type": "code",
   "execution_count": 1,
   "id": "dab8b8dc-67ba-4ca1-8775-61b08adb510f",
   "metadata": {},
   "outputs": [],
   "source": [
    "import sys\n",
    "import os\n",
    "sys.path.append('/home/jovyan/work')\n",
    "\n",
    "from utils.AlinharETL import AlinharETL"
   ]
  },
  {
   "cell_type": "markdown",
   "id": "d7c75424-b85d-4fc4-8b41-5e143561d3c6",
   "metadata": {},
   "source": [
    "# Crie uma instância da classe AlinharETL"
   ]
  },
  {
   "cell_type": "code",
   "execution_count": 5,
   "id": "2163db01-79e7-4bab-86d0-686ea5dae3e9",
   "metadata": {},
   "outputs": [
    {
     "name": "stderr",
     "output_type": "stream",
     "text": [
      "2024-10-25 11:56:33,938 - INFO - Iniciando Sessão Spark.\n"
     ]
    }
   ],
   "source": [
    "# Crie uma instância da classe\n",
    "bucket = \"silver\"\n",
    "datamart = \"mtecbo\"\n",
    "extrator_bronze = AlinharETL(bucket,datamart)"
   ]
  },
  {
   "cell_type": "markdown",
   "id": "88dd5677-01d8-4930-80ef-c337cb2f5481",
   "metadata": {},
   "source": [
    "# Gravação no datalake"
   ]
  },
  {
   "cell_type": "code",
   "execution_count": 6,
   "id": "afb20946-6a0e-4cb7-9a99-940375d68089",
   "metadata": {},
   "outputs": [
    {
     "name": "stderr",
     "output_type": "stream",
     "text": [
      "2024-10-25 11:56:34,776 - INFO - Aguarde... Atualizando tabela (Delta)\n",
      "2024-10-25 11:56:34,778 - INFO - Arquivo yaml carregada com sucesso\n",
      "2024-10-25 11:56:34,779 - INFO - ['/home/jovyan/work/yaml/silver/mtecbo/dim_cbo_familia.yaml']\n",
      "2024-10-25 11:56:34,784 - INFO - Aguarde... Preparando tabela (Delta)\n",
      "2024-10-25 11:56:34,785 - INFO - Arquivo yaml carregada com sucesso\n",
      "2024-10-25 11:56:34,785 - INFO - ['/home/jovyan/work/yaml/silver/mtecbo/dim_cbo_familia.yaml']\n",
      "2024-10-25 11:56:34,789 - INFO - Aguarde... Criando View (bronze/mte/cbofamilia)\n",
      "2024-10-25 11:56:37,298 - INFO - View criada com sucesso\n",
      "2024-10-25 11:56:37,299 - INFO - Aguarde... Executando Query (Delta)\n",
      "2024-10-25 11:56:37,299 - INFO - SELECT\n",
      "    *\n",
      "FROM compliance_cbo_familia \n",
      " \n",
      "2024-10-25 11:56:37,306 - INFO - Query (Delta) executada com sucesso\n",
      "2024-10-25 11:56:37,306 - INFO - Tabela (Delta) preparada com sucesso.\n",
      "2024-10-25 11:56:37,456 - INFO - Aguarde... Persistindo dados (upsert)\n",
      "2024-10-25 11:56:37,457 - INFO - Aguarde... Persistindo dados (Merge)\n",
      "2024-10-25 11:56:46,500 - INFO - Dados persistidos (Merge) com sucesso\n",
      "2024-10-25 11:56:46,500 - INFO - s3a://silver/mte/dim_cbo_familia\n",
      "2024-10-25 11:56:46,501 - INFO - Aguarde... Realizando optimize\n",
      "2024-10-25 11:56:49,478 - INFO - Optimize executado com sucesso.\n",
      "2024-10-25 11:56:49,479 - INFO - Aguarde... Realizando vacuum\n",
      "2024-10-25 11:57:02,454 - INFO - Vacuum executado com sucesso.\n",
      "2024-10-25 11:57:02,455 - INFO - Tabela (Delta) atualizado com sucesso\n"
     ]
    }
   ],
   "source": [
    "extrator_bronze.atualizar_tabela_delta('dim_cbo_familia')"
   ]
  },
  {
   "cell_type": "code",
   "execution_count": 7,
   "id": "cb7f0004-ec03-4106-9b5c-36806e9d4dcf",
   "metadata": {},
   "outputs": [
    {
     "name": "stderr",
     "output_type": "stream",
     "text": [
      "2024-10-25 11:57:03,169 - INFO - Histórico da tabela Delta exibido.\n"
     ]
    },
    {
     "name": "stdout",
     "output_type": "stream",
     "text": [
      "+-------+-------------------+---------+-------------------------------------------------------------------------------------------------------------------------------------------------------------------------------------------------------------------------------------------------------------------------------------------------------------------------------------------------------------------------------------------------------------------------------------------------------------------------------------------------------------------------------------------------------------------------------------------------------------------------------------------------------------------+\n",
      "|version|timestamp          |operation|operationMetrics                                                                                                                                                                                                                                                                                                                                                                                                                                                                                                                                                                                                                                                   |\n",
      "+-------+-------------------+---------+-------------------------------------------------------------------------------------------------------------------------------------------------------------------------------------------------------------------------------------------------------------------------------------------------------------------------------------------------------------------------------------------------------------------------------------------------------------------------------------------------------------------------------------------------------------------------------------------------------------------------------------------------------------------+\n",
      "|2      |2024-10-25 11:56:44|MERGE    |{numTargetRowsCopied -> 0, numTargetRowsDeleted -> 0, numTargetFilesAdded -> 1, numTargetBytesAdded -> 19853, numTargetBytesRemoved -> 19853, numTargetDeletionVectorsAdded -> 0, numTargetRowsMatchedUpdated -> 626, executionTimeMs -> 7277, numTargetRowsInserted -> 0, numTargetRowsMatchedDeleted -> 0, numTargetDeletionVectorsUpdated -> 0, scanTimeMs -> 2005, numTargetRowsUpdated -> 626, numOutputRows -> 626, numTargetDeletionVectorsRemoved -> 0, numTargetRowsNotMatchedBySourceUpdated -> 0, numTargetChangeFilesAdded -> 0, numSourceRows -> 626, numTargetFilesRemoved -> 1, numTargetRowsNotMatchedBySourceDeleted -> 0, rewriteTimeMs -> 645}  |\n",
      "|1      |2024-10-25 11:56:14|MERGE    |{numTargetRowsCopied -> 0, numTargetRowsDeleted -> 0, numTargetFilesAdded -> 1, numTargetBytesAdded -> 19853, numTargetBytesRemoved -> 19853, numTargetDeletionVectorsAdded -> 0, numTargetRowsMatchedUpdated -> 626, executionTimeMs -> 12791, numTargetRowsInserted -> 0, numTargetRowsMatchedDeleted -> 0, numTargetDeletionVectorsUpdated -> 0, scanTimeMs -> 5242, numTargetRowsUpdated -> 626, numOutputRows -> 626, numTargetDeletionVectorsRemoved -> 0, numTargetRowsNotMatchedBySourceUpdated -> 0, numTargetChangeFilesAdded -> 0, numSourceRows -> 626, numTargetFilesRemoved -> 1, numTargetRowsNotMatchedBySourceDeleted -> 0, rewriteTimeMs -> 1731}|\n",
      "|0      |2024-10-25 11:55:21|WRITE    |{numFiles -> 1, numOutputRows -> 626, numOutputBytes -> 19853}                                                                                                                                                                                                                                                                                                                                                                                                                                                                                                                                                                                                     |\n",
      "+-------+-------------------+---------+-------------------------------------------------------------------------------------------------------------------------------------------------------------------------------------------------------------------------------------------------------------------------------------------------------------------------------------------------------------------------------------------------------------------------------------------------------------------------------------------------------------------------------------------------------------------------------------------------------------------------------------------------------------------+\n",
      "\n"
     ]
    }
   ],
   "source": [
    "extrator_bronze.historico_tabela()"
   ]
  },
  {
   "cell_type": "markdown",
   "id": "d713c31f-5100-405a-8078-20edd1f7b00f",
   "metadata": {},
   "source": [
    "# Encerra sessão spark"
   ]
  },
  {
   "cell_type": "code",
   "execution_count": 4,
   "id": "eb909129-dd70-46da-a2eb-0eb681aa0c21",
   "metadata": {},
   "outputs": [
    {
     "name": "stderr",
     "output_type": "stream",
     "text": [
      "2024-10-25 11:56:32,131 - INFO - Sessão Spark finalizada.\n"
     ]
    }
   ],
   "source": [
    "extrator_bronze.parar_sessao()"
   ]
  }
 ],
 "metadata": {
  "kernelspec": {
   "display_name": "Python 3 (ipykernel)",
   "language": "python",
   "name": "python3"
  },
  "language_info": {
   "codemirror_mode": {
    "name": "ipython",
    "version": 3
   },
   "file_extension": ".py",
   "mimetype": "text/x-python",
   "name": "python",
   "nbconvert_exporter": "python",
   "pygments_lexer": "ipython3",
   "version": "3.11.9"
  }
 },
 "nbformat": 4,
 "nbformat_minor": 5
}
