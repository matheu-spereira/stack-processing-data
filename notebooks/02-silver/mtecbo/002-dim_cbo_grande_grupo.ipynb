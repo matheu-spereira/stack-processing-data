{
 "cells": [
  {
   "cell_type": "markdown",
   "id": "a3be227f-0014-428e-834d-95e60fa32916",
   "metadata": {},
   "source": [
    "# Importação das bibliotecas necessárias"
   ]
  },
  {
   "cell_type": "code",
   "execution_count": 1,
   "id": "dab8b8dc-67ba-4ca1-8775-61b08adb510f",
   "metadata": {},
   "outputs": [],
   "source": [
    "import sys\n",
    "import os\n",
    "sys.path.append('/home/jovyan/work')\n",
    "\n",
    "from utils.AlinharETL import AlinharETL"
   ]
  },
  {
   "cell_type": "markdown",
   "id": "86211586-06c4-4a07-8816-9f1881d5c509",
   "metadata": {},
   "source": [
    "# Crie uma instância da classe AlinharETL"
   ]
  },
  {
   "cell_type": "code",
   "execution_count": 2,
   "id": "2163db01-79e7-4bab-86d0-686ea5dae3e9",
   "metadata": {},
   "outputs": [
    {
     "name": "stderr",
     "output_type": "stream",
     "text": [
      "2024-10-15 11:54:05,837 - INFO - Iniciando Sessão Spark.\n"
     ]
    }
   ],
   "source": [
    "# Crie uma instância da classe\n",
    "bucket = \"silver\"\n",
    "datamart = \"mtecbo\"\n",
    "extrator_bronze = AlinharETL(bucket,datamart)"
   ]
  },
  {
   "cell_type": "markdown",
   "id": "6d80a692-415d-4646-ad2d-4faf1fa193f5",
   "metadata": {},
   "source": [
    "# Gravação no datalake"
   ]
  },
  {
   "cell_type": "code",
   "execution_count": 3,
   "id": "afb20946-6a0e-4cb7-9a99-940375d68089",
   "metadata": {},
   "outputs": [
    {
     "name": "stderr",
     "output_type": "stream",
     "text": [
      "2024-10-15 11:54:09,924 - INFO - Aguarde... Atualizando tabela (Delta)\n",
      "2024-10-15 11:54:09,926 - INFO - Arquivo yaml carregada com sucesso\n",
      "2024-10-15 11:54:09,927 - INFO - ['/home/jovyan/work/yaml/silver/mtecbo/dim_cbo_grande_grupo.yaml']\n",
      "2024-10-15 11:54:09,937 - INFO - Aguarde... Preparando tabela (Delta)\n",
      "2024-10-15 11:54:09,938 - INFO - Arquivo yaml carregada com sucesso\n",
      "2024-10-15 11:54:09,938 - INFO - ['/home/jovyan/work/yaml/silver/mtecbo/dim_cbo_grande_grupo.yaml']\n",
      "2024-10-15 11:54:09,943 - INFO - Aguarde... Criando View (bronze/mte/cbograndegrupo)\n",
      "2024-10-15 11:54:21,550 - INFO - View criada com sucesso\n",
      "2024-10-15 11:54:21,551 - INFO - Aguarde... Executando Query (Delta)\n",
      "2024-10-15 11:54:21,552 - INFO - SELECT *\n",
      "FROM compliance_cbo_grande_grupo\n",
      " \n",
      "2024-10-15 11:54:21,733 - INFO - Query (Delta) executada com sucesso\n",
      "2024-10-15 11:54:21,734 - INFO - Tabela (Delta) preparada com sucesso.\n",
      "2024-10-15 11:54:21,734 - INFO - Aguarde... Persistindo dados (overwrite)\n",
      "2024-10-15 11:54:35,248 - INFO - Dados persistidos com sucesso\n",
      "2024-10-15 11:54:35,250 - INFO - s3a://silver/mte/dim_cbo_grande_grupo\n",
      "2024-10-15 11:54:35,250 - INFO - Aguarde... Realizando optimize\n",
      "2024-10-15 11:54:48,172 - INFO - Optimize executado com sucesso.\n",
      "2024-10-15 11:54:48,173 - INFO - Aguarde... Realizando vacuum\n",
      "2024-10-15 11:55:10,486 - INFO - Vacuum executado com sucesso.\n",
      "2024-10-15 11:55:10,486 - INFO - Tabela (Delta) atualizado com sucesso\n"
     ]
    }
   ],
   "source": [
    "extrator_bronze.atualizar_tabela_delta('dim_cbo_grande_grupo')"
   ]
  },
  {
   "cell_type": "markdown",
   "id": "2ce193b3-8ed8-4640-849d-a468de3b540d",
   "metadata": {},
   "source": [
    "# Encerra sessão spark"
   ]
  },
  {
   "cell_type": "code",
   "execution_count": 4,
   "id": "eb909129-dd70-46da-a2eb-0eb681aa0c21",
   "metadata": {},
   "outputs": [
    {
     "name": "stderr",
     "output_type": "stream",
     "text": [
      "2024-10-15 11:55:10,850 - INFO - Sessão Spark finalizada.\n"
     ]
    }
   ],
   "source": [
    "extrator_bronze.parar_sessao()"
   ]
  }
 ],
 "metadata": {
  "kernelspec": {
   "display_name": "Python 3 (ipykernel)",
   "language": "python",
   "name": "python3"
  },
  "language_info": {
   "codemirror_mode": {
    "name": "ipython",
    "version": 3
   },
   "file_extension": ".py",
   "mimetype": "text/x-python",
   "name": "python",
   "nbconvert_exporter": "python",
   "pygments_lexer": "ipython3",
   "version": "3.11.9"
  }
 },
 "nbformat": 4,
 "nbformat_minor": 5
}
