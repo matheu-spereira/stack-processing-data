{
 "cells": [
  {
   "cell_type": "markdown",
   "id": "48f399c5-3d77-4a00-a451-eb7c7ee124e0",
   "metadata": {},
   "source": [
    "# Importação das bibliotecas necessárias"
   ]
  },
  {
   "cell_type": "code",
   "execution_count": 1,
   "id": "dab8b8dc-67ba-4ca1-8775-61b08adb510f",
   "metadata": {},
   "outputs": [],
   "source": [
    "import sys\n",
    "import os\n",
    "sys.path.append('/home/jovyan/work')\n",
    "\n",
    "from utils.AlinharETL import AlinharETL"
   ]
  },
  {
   "cell_type": "markdown",
   "id": "8d13c90b-c775-49bc-b88e-17a639f0a3a6",
   "metadata": {},
   "source": [
    "# Crie uma instância da classe AlinharETL"
   ]
  },
  {
   "cell_type": "code",
   "execution_count": 2,
   "id": "2163db01-79e7-4bab-86d0-686ea5dae3e9",
   "metadata": {},
   "outputs": [
    {
     "name": "stderr",
     "output_type": "stream",
     "text": [
      "2024-10-15 11:54:10,522 - INFO - Iniciando Sessão Spark.\n"
     ]
    }
   ],
   "source": [
    "# Crie uma instância da classe\n",
    "bucket = \"silver\"\n",
    "datamart = \"mtecbo\"\n",
    "extrator_bronze = AlinharETL(bucket,datamart)"
   ]
  },
  {
   "cell_type": "markdown",
   "id": "5b18044f-5244-4435-b6e6-3336cfa1a30f",
   "metadata": {},
   "source": [
    "# Gravação no datalake"
   ]
  },
  {
   "cell_type": "code",
   "execution_count": 3,
   "id": "afb20946-6a0e-4cb7-9a99-940375d68089",
   "metadata": {},
   "outputs": [
    {
     "name": "stderr",
     "output_type": "stream",
     "text": [
      "2024-10-15 11:54:15,620 - INFO - Aguarde... Atualizando tabela (Delta)\n",
      "2024-10-15 11:54:15,623 - INFO - Arquivo yaml carregada com sucesso\n",
      "2024-10-15 11:54:15,623 - INFO - ['/home/jovyan/work/yaml/silver/mtecbo/dim_cbo_ocupacao.yaml']\n",
      "2024-10-15 11:54:15,633 - INFO - Aguarde... Preparando tabela (Delta)\n",
      "2024-10-15 11:54:15,634 - INFO - Arquivo yaml carregada com sucesso\n",
      "2024-10-15 11:54:15,635 - INFO - ['/home/jovyan/work/yaml/silver/mtecbo/dim_cbo_ocupacao.yaml']\n",
      "2024-10-15 11:54:15,640 - INFO - Aguarde... Criando View (bronze/mte/cboocupacao)\n",
      "2024-10-15 11:54:27,695 - INFO - View criada com sucesso\n",
      "2024-10-15 11:54:27,720 - INFO - Aguarde... Executando Query (Delta)\n",
      "2024-10-15 11:54:27,720 - INFO - SELECT\n",
      "    *\n",
      "FROM compliance_cbo_ocupacao\n",
      " \n",
      "2024-10-15 11:54:27,868 - INFO - Query (Delta) executada com sucesso\n",
      "2024-10-15 11:54:27,869 - INFO - Tabela (Delta) preparada com sucesso.\n",
      "2024-10-15 11:54:27,869 - INFO - Aguarde... Persistindo dados (overwrite)\n",
      "2024-10-15 11:54:40,668 - INFO - Dados persistidos com sucesso\n",
      "2024-10-15 11:54:40,669 - INFO - s3a://silver/mte/dim_cbo_ocupacao\n",
      "2024-10-15 11:54:40,669 - INFO - Aguarde... Realizando optimize\n",
      "2024-10-15 11:54:44,506 - INFO - Optimize executado com sucesso.\n",
      "2024-10-15 11:54:44,507 - INFO - Aguarde... Realizando vacuum\n",
      "2024-10-15 11:55:19,724 - INFO - Vacuum executado com sucesso.\n",
      "2024-10-15 11:55:19,725 - INFO - Tabela (Delta) atualizado com sucesso\n"
     ]
    }
   ],
   "source": [
    "extrator_bronze.atualizar_tabela_delta('dim_cbo_ocupacao')"
   ]
  },
  {
   "cell_type": "markdown",
   "id": "eb0e7923-ff23-49ba-b71c-18b3414debe9",
   "metadata": {},
   "source": [
    "# Encerra sessão spark"
   ]
  },
  {
   "cell_type": "code",
   "execution_count": 4,
   "id": "eb909129-dd70-46da-a2eb-0eb681aa0c21",
   "metadata": {},
   "outputs": [
    {
     "name": "stderr",
     "output_type": "stream",
     "text": [
      "2024-10-15 11:55:19,993 - INFO - Sessão Spark finalizada.\n"
     ]
    }
   ],
   "source": [
    "extrator_bronze.parar_sessao()"
   ]
  }
 ],
 "metadata": {
  "kernelspec": {
   "display_name": "Python 3 (ipykernel)",
   "language": "python",
   "name": "python3"
  },
  "language_info": {
   "codemirror_mode": {
    "name": "ipython",
    "version": 3
   },
   "file_extension": ".py",
   "mimetype": "text/x-python",
   "name": "python",
   "nbconvert_exporter": "python",
   "pygments_lexer": "ipython3",
   "version": "3.11.9"
  }
 },
 "nbformat": 4,
 "nbformat_minor": 5
}
