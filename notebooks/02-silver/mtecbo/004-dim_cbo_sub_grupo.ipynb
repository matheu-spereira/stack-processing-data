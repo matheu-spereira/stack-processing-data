{
 "cells": [
  {
   "cell_type": "markdown",
   "id": "0750305e-7ded-47bc-80f2-27b5b04ed3d7",
   "metadata": {},
   "source": [
    "# Importação das bibliotecas necessárias"
   ]
  },
  {
   "cell_type": "code",
   "execution_count": 1,
   "id": "dab8b8dc-67ba-4ca1-8775-61b08adb510f",
   "metadata": {},
   "outputs": [],
   "source": [
    "import sys\n",
    "import os\n",
    "sys.path.append('/home/jovyan/work')\n",
    "\n",
    "from utils.AlinharETL import AlinharETL"
   ]
  },
  {
   "cell_type": "markdown",
   "id": "05a6707a-0f07-4f1a-9744-aa246248703b",
   "metadata": {},
   "source": [
    "# Crie uma instância da classe AlinharETL"
   ]
  },
  {
   "cell_type": "code",
   "execution_count": 2,
   "id": "2163db01-79e7-4bab-86d0-686ea5dae3e9",
   "metadata": {},
   "outputs": [
    {
     "name": "stderr",
     "output_type": "stream",
     "text": [
      "2024-10-15 11:55:52,950 - INFO - Iniciando Sessão Spark.\n"
     ]
    }
   ],
   "source": [
    "# Crie uma instância da classe\n",
    "bucket = \"silver\"\n",
    "datamart = \"mtecbo\"\n",
    "extrator_bronze = AlinharETL(bucket,datamart)"
   ]
  },
  {
   "cell_type": "markdown",
   "id": "2364e580-8448-4e9a-b743-964d9572bc72",
   "metadata": {},
   "source": [
    "# Gravação no datalake"
   ]
  },
  {
   "cell_type": "code",
   "execution_count": 3,
   "id": "afb20946-6a0e-4cb7-9a99-940375d68089",
   "metadata": {},
   "outputs": [
    {
     "name": "stderr",
     "output_type": "stream",
     "text": [
      "2024-10-15 11:55:56,991 - INFO - Aguarde... Atualizando tabela (Delta)\n",
      "2024-10-15 11:55:56,993 - INFO - Arquivo yaml carregada com sucesso\n",
      "2024-10-15 11:55:56,993 - INFO - ['/home/jovyan/work/yaml/silver/mtecbo/dim_cbo_sub_grupo.yaml']\n",
      "2024-10-15 11:55:57,003 - INFO - Aguarde... Preparando tabela (Delta)\n",
      "2024-10-15 11:55:57,004 - INFO - Arquivo yaml carregada com sucesso\n",
      "2024-10-15 11:55:57,004 - INFO - ['/home/jovyan/work/yaml/silver/mtecbo/dim_cbo_sub_grupo.yaml']\n",
      "2024-10-15 11:55:57,009 - INFO - Aguarde... Criando View (bronze/mte/cbosubgrupo)\n",
      "2024-10-15 11:56:08,247 - INFO - View criada com sucesso\n",
      "2024-10-15 11:56:08,248 - INFO - Aguarde... Executando Query (Delta)\n",
      "2024-10-15 11:56:08,248 - INFO - SELECT\n",
      "    *\n",
      "FROM compliance_cbo_sub_grupo \n",
      " \n",
      "2024-10-15 11:56:08,374 - INFO - Query (Delta) executada com sucesso\n",
      "2024-10-15 11:56:08,375 - INFO - Tabela (Delta) preparada com sucesso.\n",
      "2024-10-15 11:56:08,419 - INFO - Aguarde... Persistindo dados (overwrite)\n",
      "2024-10-15 11:56:22,250 - INFO - Dados persistidos com sucesso\n",
      "2024-10-15 11:56:22,251 - INFO - s3a://silver/mte/dim_cbo_sub_grupo\n",
      "2024-10-15 11:56:22,252 - INFO - Aguarde... Realizando optimize\n",
      "2024-10-15 11:56:35,046 - INFO - Optimize executado com sucesso.\n",
      "2024-10-15 11:56:35,047 - INFO - Aguarde... Realizando vacuum\n",
      "2024-10-15 11:56:57,272 - INFO - Vacuum executado com sucesso.\n",
      "2024-10-15 11:56:57,273 - INFO - Tabela (Delta) atualizado com sucesso\n"
     ]
    }
   ],
   "source": [
    "extrator_bronze.atualizar_tabela_delta('dim_cbo_sub_grupo')"
   ]
  },
  {
   "cell_type": "markdown",
   "id": "f98e1eb3-38f5-47e9-b2ce-776c8da7cbd7",
   "metadata": {},
   "source": [
    "# Encerra sessão spark"
   ]
  },
  {
   "cell_type": "code",
   "execution_count": 4,
   "id": "eb909129-dd70-46da-a2eb-0eb681aa0c21",
   "metadata": {},
   "outputs": [
    {
     "name": "stderr",
     "output_type": "stream",
     "text": [
      "2024-10-15 11:56:57,936 - INFO - Sessão Spark finalizada.\n"
     ]
    }
   ],
   "source": [
    "extrator_bronze.parar_sessao()"
   ]
  }
 ],
 "metadata": {
  "kernelspec": {
   "display_name": "Python 3 (ipykernel)",
   "language": "python",
   "name": "python3"
  },
  "language_info": {
   "codemirror_mode": {
    "name": "ipython",
    "version": 3
   },
   "file_extension": ".py",
   "mimetype": "text/x-python",
   "name": "python",
   "nbconvert_exporter": "python",
   "pygments_lexer": "ipython3",
   "version": "3.11.9"
  }
 },
 "nbformat": 4,
 "nbformat_minor": 5
}
