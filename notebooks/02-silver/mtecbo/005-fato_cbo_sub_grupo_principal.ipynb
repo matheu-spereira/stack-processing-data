{
 "cells": [
  {
   "cell_type": "markdown",
   "id": "7cf6eb90-4541-4b51-9ebf-88f8c40cee87",
   "metadata": {},
   "source": [
    "# Importação das bibliotecas necessárias"
   ]
  },
  {
   "cell_type": "code",
   "execution_count": 1,
   "id": "dab8b8dc-67ba-4ca1-8775-61b08adb510f",
   "metadata": {},
   "outputs": [],
   "source": [
    "import sys\n",
    "import os\n",
    "sys.path.append('/home/jovyan/work')\n",
    "\n",
    "from utils.AlinharETL import AlinharETL"
   ]
  },
  {
   "cell_type": "markdown",
   "id": "ae33bcc4-f957-4843-9ad9-f0cc6780dc04",
   "metadata": {},
   "source": [
    "# Crie uma instância da classe AlinharETL"
   ]
  },
  {
   "cell_type": "code",
   "execution_count": 2,
   "id": "2163db01-79e7-4bab-86d0-686ea5dae3e9",
   "metadata": {},
   "outputs": [
    {
     "name": "stderr",
     "output_type": "stream",
     "text": [
      "2024-10-15 11:55:58,859 - INFO - Iniciando Sessão Spark.\n"
     ]
    }
   ],
   "source": [
    "# Crie uma instância da classe\n",
    "bucket = \"silver\"\n",
    "datamart = \"mtecbo\"\n",
    "extrator_bronze = AlinharETL(bucket,datamart)"
   ]
  },
  {
   "cell_type": "markdown",
   "id": "09cb732b-c804-4c3d-afe1-609c909d972b",
   "metadata": {},
   "source": [
    "# Gravação no datalake"
   ]
  },
  {
   "cell_type": "code",
   "execution_count": 3,
   "id": "afb20946-6a0e-4cb7-9a99-940375d68089",
   "metadata": {},
   "outputs": [
    {
     "name": "stderr",
     "output_type": "stream",
     "text": [
      "2024-10-15 11:56:03,901 - INFO - Aguarde... Atualizando tabela (Delta)\n",
      "2024-10-15 11:56:03,903 - INFO - Arquivo yaml carregada com sucesso\n",
      "2024-10-15 11:56:03,903 - INFO - ['/home/jovyan/work/yaml/silver/mtecbo/fato_cbo_sub_grupo_principal.yaml']\n",
      "2024-10-15 11:56:03,914 - INFO - Aguarde... Preparando tabela (Delta)\n",
      "2024-10-15 11:56:03,914 - INFO - Arquivo yaml carregada com sucesso\n",
      "2024-10-15 11:56:03,915 - INFO - ['/home/jovyan/work/yaml/silver/mtecbo/fato_cbo_sub_grupo_principal.yaml']\n",
      "2024-10-15 11:56:03,920 - INFO - Aguarde... Criando View (bronze/mte/cbosubgrupoprincipal)\n",
      "2024-10-15 11:56:15,169 - INFO - View criada com sucesso\n",
      "2024-10-15 11:56:15,170 - INFO - Aguarde... Criando View (bronze/mte/cbograndegrupo)\n",
      "2024-10-15 11:56:15,613 - INFO - View criada com sucesso\n",
      "2024-10-15 11:56:15,614 - INFO - Aguarde... Executando Query (Delta)\n",
      "2024-10-15 11:56:15,615 - INFO - SELECT\n",
      "    sp.cd AS codigo,\n",
      "    g.demanda_formacao,\n",
      "    g.grande_grupo,\n",
      "    sp.TITULO AS subgrupo_principal,\n",
      "    g.subgrupo,\n",
      "    g.familia,\n",
      "    g.ocupacao,\n",
      "    'SUBGRUPO PRINCIPAL' AS nivel,\n",
      "    g.industrial_uniepro\n",
      "FROM compliance_cbo_sub_grupo_principal sp\n",
      "LEFT OUTER JOIN compliance_cbo_grande_grupo g\n",
      "ON sp.cd_grande_grupo = g.cd\n",
      " \n",
      "2024-10-15 11:56:15,769 - INFO - Query (Delta) executada com sucesso\n",
      "2024-10-15 11:56:15,770 - INFO - Tabela (Delta) preparada com sucesso.\n",
      "2024-10-15 11:56:15,771 - INFO - Aguarde... Persistindo dados (overwrite)\n",
      "2024-10-15 11:56:33,429 - INFO - Dados persistidos com sucesso\n",
      "2024-10-15 11:56:33,430 - INFO - s3a://silver/mte/fato_cbo_sub_grupo_principal\n",
      "2024-10-15 11:56:33,430 - INFO - Aguarde... Realizando optimize\n",
      "2024-10-15 11:56:37,562 - INFO - Optimize executado com sucesso.\n",
      "2024-10-15 11:56:37,563 - INFO - Aguarde... Realizando vacuum\n",
      "2024-10-15 11:57:11,983 - INFO - Vacuum executado com sucesso.\n",
      "2024-10-15 11:57:11,984 - INFO - Tabela (Delta) atualizado com sucesso\n"
     ]
    }
   ],
   "source": [
    "extrator_bronze.atualizar_tabela_delta('fato_cbo_sub_grupo_principal')"
   ]
  },
  {
   "cell_type": "markdown",
   "id": "79e17696-824a-4b82-a872-6e2c4f3d515e",
   "metadata": {},
   "source": [
    "# Encerra sessão spark"
   ]
  },
  {
   "cell_type": "code",
   "execution_count": 4,
   "id": "eb909129-dd70-46da-a2eb-0eb681aa0c21",
   "metadata": {},
   "outputs": [
    {
     "name": "stderr",
     "output_type": "stream",
     "text": [
      "2024-10-15 11:57:12,288 - INFO - Sessão Spark finalizada.\n"
     ]
    }
   ],
   "source": [
    "extrator_bronze.parar_sessao()"
   ]
  }
 ],
 "metadata": {
  "kernelspec": {
   "display_name": "Python 3 (ipykernel)",
   "language": "python",
   "name": "python3"
  },
  "language_info": {
   "codemirror_mode": {
    "name": "ipython",
    "version": 3
   },
   "file_extension": ".py",
   "mimetype": "text/x-python",
   "name": "python",
   "nbconvert_exporter": "python",
   "pygments_lexer": "ipython3",
   "version": "3.11.9"
  }
 },
 "nbformat": 4,
 "nbformat_minor": 5
}
