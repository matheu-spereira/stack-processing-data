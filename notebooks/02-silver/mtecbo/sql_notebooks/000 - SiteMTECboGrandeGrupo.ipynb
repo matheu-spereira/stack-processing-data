{
 "cells": [
  {
   "cell_type": "markdown",
   "id": "a3be227f-0014-428e-834d-95e60fa32916",
   "metadata": {},
   "source": [
    "# Importação das bibliotecas necessárias"
   ]
  },
  {
   "cell_type": "code",
   "execution_count": 1,
   "id": "dab8b8dc-67ba-4ca1-8775-61b08adb510f",
   "metadata": {},
   "outputs": [],
   "source": [
    "import sys\n",
    "import os\n",
    "sys.path.append('/home/jovyan/work')\n",
    "\n",
    "from utils.AlinharETL import AlinharETL"
   ]
  },
  {
   "cell_type": "markdown",
   "id": "86211586-06c4-4a07-8816-9f1881d5c509",
   "metadata": {},
   "source": [
    "# Crie uma instância da classe AlinharETL"
   ]
  },
  {
   "cell_type": "code",
   "execution_count": 2,
   "id": "2163db01-79e7-4bab-86d0-686ea5dae3e9",
   "metadata": {},
   "outputs": [
    {
     "name": "stderr",
     "output_type": "stream",
     "text": [
      "2024-09-25 19:14:37,977 - INFO - Iniciando Sessão Spark.\n"
     ]
    }
   ],
   "source": [
    "# Crie uma instância da classe\n",
    "bucket = \"silver\"\n",
    "datamart = \"SiteMTECbo\"\n",
    "extrator_bronze = AlinharETL(bucket,datamart)"
   ]
  },
  {
   "cell_type": "markdown",
   "id": "db5269d5-c729-451e-b82b-abeb03b1c16e",
   "metadata": {},
   "source": [
    "# Leitura da tabela"
   ]
  },
  {
   "cell_type": "code",
   "execution_count": 3,
   "id": "eb2a856a-cd4f-4d99-93e5-b957403470d5",
   "metadata": {},
   "outputs": [
    {
     "name": "stderr",
     "output_type": "stream",
     "text": [
      "2024-09-25 19:14:41,124 - INFO - Aguarde... Criando View (bronze/Mte/MteCBOGrandeGrupo)\n",
      "2024-09-25 19:14:47,582 - INFO - View criada com sucesso\n"
     ]
    }
   ],
   "source": [
    "df_compliance_cbo_grande_grupo  = extrator_bronze.criar_view_temporaria('bronze/Mte/MteCBOGrandeGrupo','compliance_cbo_grande_grupo')"
   ]
  },
  {
   "cell_type": "markdown",
   "id": "6d80a692-415d-4646-ad2d-4faf1fa193f5",
   "metadata": {},
   "source": [
    "# Gravação no datalake"
   ]
  },
  {
   "cell_type": "code",
   "execution_count": 4,
   "id": "4ee559f7-5ec9-463f-affe-8c65af8d03ff",
   "metadata": {},
   "outputs": [],
   "source": [
    "extrator_bronze.caminho_tabela_delta = 's3a://silver/Mte/MteCBOGrandeGrupo'"
   ]
  },
  {
   "cell_type": "code",
   "execution_count": 5,
   "id": "afb20946-6a0e-4cb7-9a99-940375d68089",
   "metadata": {},
   "outputs": [
    {
     "name": "stderr",
     "output_type": "stream",
     "text": [
      "2024-09-25 19:14:52,598 - INFO - Aguarde... Persistindo dados (overwrite)\n"
     ]
    },
    {
     "name": "stdout",
     "output_type": "stream",
     "text": [
      "The history saving thread hit an unexpected error (OperationalError('database is locked')).History will not be written to the database.\n"
     ]
    },
    {
     "name": "stderr",
     "output_type": "stream",
     "text": [
      "2024-09-25 19:15:14,787 - INFO - Dados persistidos com sucesso\n",
      "2024-09-25 19:15:14,788 - INFO - s3a://silver/Mte/MteCBOGrandeGrupo\n",
      "2024-09-25 19:15:14,788 - INFO - Aguarde... Realizando optimize\n",
      "2024-09-25 19:15:17,741 - INFO - Optimize executado com sucesso.\n",
      "2024-09-25 19:15:17,742 - INFO - Aguarde... Realizando vacuum\n",
      "2024-09-25 19:15:45,227 - INFO - Vacuum executado com sucesso.\n"
     ]
    }
   ],
   "source": [
    "extrator_bronze.salvar_delta(df_compliance_cbo_grande_grupo, 'overwrite')"
   ]
  },
  {
   "cell_type": "markdown",
   "id": "2ce193b3-8ed8-4640-849d-a468de3b540d",
   "metadata": {},
   "source": [
    "# Encerra sessão spark"
   ]
  },
  {
   "cell_type": "code",
   "execution_count": 6,
   "id": "eb909129-dd70-46da-a2eb-0eb681aa0c21",
   "metadata": {},
   "outputs": [
    {
     "name": "stderr",
     "output_type": "stream",
     "text": [
      "2024-09-25 19:15:45,544 - INFO - Sessão Spark finalizada.\n"
     ]
    }
   ],
   "source": [
    "extrator_bronze.parar_sessao()"
   ]
  }
 ],
 "metadata": {
  "kernelspec": {
   "display_name": "Python 3 (ipykernel)",
   "language": "python",
   "name": "python3"
  },
  "language_info": {
   "codemirror_mode": {
    "name": "ipython",
    "version": 3
   },
   "file_extension": ".py",
   "mimetype": "text/x-python",
   "name": "python",
   "nbconvert_exporter": "python",
   "pygments_lexer": "ipython3",
   "version": "3.11.10"
  }
 },
 "nbformat": 4,
 "nbformat_minor": 5
}
