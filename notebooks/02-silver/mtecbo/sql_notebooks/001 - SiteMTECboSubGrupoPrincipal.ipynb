{
 "cells": [
  {
   "cell_type": "markdown",
   "id": "7cf6eb90-4541-4b51-9ebf-88f8c40cee87",
   "metadata": {},
   "source": [
    "# Importação das bibliotecas necessárias"
   ]
  },
  {
   "cell_type": "code",
   "execution_count": 1,
   "id": "dab8b8dc-67ba-4ca1-8775-61b08adb510f",
   "metadata": {},
   "outputs": [],
   "source": [
    "import sys\n",
    "import os\n",
    "sys.path.append('/home/jovyan/work')\n",
    "\n",
    "from utils.AlinharETL import AlinharETL"
   ]
  },
  {
   "cell_type": "markdown",
   "id": "ae33bcc4-f957-4843-9ad9-f0cc6780dc04",
   "metadata": {},
   "source": [
    "# Crie uma instância da classe AlinharETL"
   ]
  },
  {
   "cell_type": "code",
   "execution_count": 2,
   "id": "2163db01-79e7-4bab-86d0-686ea5dae3e9",
   "metadata": {},
   "outputs": [
    {
     "name": "stderr",
     "output_type": "stream",
     "text": [
      "2024-09-25 19:14:45,640 - INFO - Iniciando Sessão Spark.\n"
     ]
    }
   ],
   "source": [
    "# Crie uma instância da classe\n",
    "bucket = \"silver\"\n",
    "datamart = \"SiteMTECbo\"\n",
    "extrator_bronze = AlinharETL(bucket,datamart)"
   ]
  },
  {
   "cell_type": "markdown",
   "id": "32d65f31-0df0-4201-96f5-590f0292cfa0",
   "metadata": {},
   "source": [
    "# Leitura da tabela"
   ]
  },
  {
   "cell_type": "code",
   "execution_count": 3,
   "id": "eb2a856a-cd4f-4d99-93e5-b957403470d5",
   "metadata": {},
   "outputs": [
    {
     "name": "stderr",
     "output_type": "stream",
     "text": [
      "2024-09-25 19:14:51,431 - INFO - Aguarde... Criando View (bronze/Mte/MteCBOSubGrupoPrincipal)\n",
      "2024-09-25 19:15:18,518 - INFO - View criada com sucesso\n"
     ]
    }
   ],
   "source": [
    "df_compliance_cbo_sub_grupo= extrator_bronze.criar_view_temporaria('bronze/Mte/MteCBOSubGrupoPrincipal','compliance_cbo_sub_grupo_principal')"
   ]
  },
  {
   "cell_type": "code",
   "execution_count": 4,
   "id": "b2a24448-1c60-4bcb-983b-9064417abd3d",
   "metadata": {},
   "outputs": [
    {
     "name": "stderr",
     "output_type": "stream",
     "text": [
      "2024-09-25 19:15:18,526 - INFO - Aguarde... Criando View (bronze/Mte/MteCBOGrandeGrupo)\n"
     ]
    },
    {
     "name": "stdout",
     "output_type": "stream",
     "text": [
      "The history saving thread hit an unexpected error (OperationalError('attempt to write a readonly database')).History will not be written to the database.\n"
     ]
    },
    {
     "name": "stderr",
     "output_type": "stream",
     "text": [
      "2024-09-25 19:15:19,217 - INFO - View criada com sucesso\n"
     ]
    }
   ],
   "source": [
    "df_compliance_cbo_grande_grupo = extrator_bronze.criar_view_temporaria('bronze/Mte/MteCBOGrandeGrupo','compliance_cbo_grande_grupo')"
   ]
  },
  {
   "cell_type": "markdown",
   "id": "0ff5dc5b-0437-4e99-9875-5194ea0c7246",
   "metadata": {},
   "source": [
    "# Tratamentos na tabela "
   ]
  },
  {
   "cell_type": "code",
   "execution_count": 5,
   "id": "78fa5444-bca5-4cdf-a041-2809dce5c196",
   "metadata": {},
   "outputs": [],
   "source": [
    "sql_query = \"\"\"\n",
    "    SELECT\n",
    "        sp.cd AS codigo,\n",
    "        g.demanda_formacao,\n",
    "        g.grande_grupo,\n",
    "        sp.TITULO AS subgrupo_principal,\n",
    "        g.subgrupo,\n",
    "        g.familia,\n",
    "        g.ocupacao,\n",
    "        'SUBGRUPO PRINCIPAL' AS nivel,\n",
    "        g.industrial_uniepro\n",
    "    FROM compliance_cbo_sub_grupo_principal sp\n",
    "    LEFT OUTER JOIN compliance_cbo_grande_grupo g\n",
    "    ON sp.cd_grande_grupo = g.cd\n",
    "\"\"\""
   ]
  },
  {
   "cell_type": "code",
   "execution_count": 6,
   "id": "8e7602e2-8b59-45a3-985e-cea5119dac42",
   "metadata": {},
   "outputs": [
    {
     "name": "stderr",
     "output_type": "stream",
     "text": [
      "2024-09-25 19:15:19,233 - INFO - Aguarde... Executando Query (Delta)\n",
      "2024-09-25 19:15:19,234 - INFO - \n",
      "    SELECT\n",
      "        sp.cd AS codigo,\n",
      "        g.demanda_formacao,\n",
      "        g.grande_grupo,\n",
      "        sp.TITULO AS subgrupo_principal,\n",
      "        g.subgrupo,\n",
      "        g.familia,\n",
      "        g.ocupacao,\n",
      "        'SUBGRUPO PRINCIPAL' AS nivel,\n",
      "        g.industrial_uniepro\n",
      "    FROM compliance_cbo_sub_grupo_principal sp\n",
      "    LEFT OUTER JOIN compliance_cbo_grande_grupo g\n",
      "    ON sp.cd_grande_grupo = g.cd\n",
      "\n",
      "2024-09-25 19:15:19,402 - INFO - Query (Delta) executada com sucesso\n"
     ]
    }
   ],
   "source": [
    "compliance_flat_ibge_cnae = extrator_bronze.carregar_dados_delta(sql_query)"
   ]
  },
  {
   "cell_type": "markdown",
   "id": "09cb732b-c804-4c3d-afe1-609c909d972b",
   "metadata": {},
   "source": [
    "# Gravação no datalake"
   ]
  },
  {
   "cell_type": "code",
   "execution_count": 7,
   "id": "4ee559f7-5ec9-463f-affe-8c65af8d03ff",
   "metadata": {},
   "outputs": [],
   "source": [
    "extrator_bronze.caminho_tabela_delta = 's3a://silver/Mte/MteCBOSubGrupoPrincipal'"
   ]
  },
  {
   "cell_type": "code",
   "execution_count": 8,
   "id": "afb20946-6a0e-4cb7-9a99-940375d68089",
   "metadata": {},
   "outputs": [
    {
     "name": "stderr",
     "output_type": "stream",
     "text": [
      "2024-09-25 19:15:19,418 - INFO - Aguarde... Persistindo dados (overwrite)\n",
      "2024-09-25 19:15:35,080 - INFO - Dados persistidos com sucesso\n",
      "2024-09-25 19:15:35,081 - INFO - s3a://silver/Mte/MteCBOSubGrupoPrincipal\n",
      "2024-09-25 19:15:35,082 - INFO - Aguarde... Realizando optimize\n",
      "2024-09-25 19:15:37,089 - INFO - Optimize executado com sucesso.\n",
      "2024-09-25 19:15:37,090 - INFO - Aguarde... Realizando vacuum\n",
      "2024-09-25 19:16:00,374 - INFO - Vacuum executado com sucesso.\n"
     ]
    }
   ],
   "source": [
    "extrator_bronze.salvar_delta(compliance_flat_ibge_cnae, 'overwrite')"
   ]
  },
  {
   "cell_type": "markdown",
   "id": "79e17696-824a-4b82-a872-6e2c4f3d515e",
   "metadata": {},
   "source": [
    "# Encerra sessão spark"
   ]
  },
  {
   "cell_type": "code",
   "execution_count": 9,
   "id": "eb909129-dd70-46da-a2eb-0eb681aa0c21",
   "metadata": {},
   "outputs": [
    {
     "name": "stderr",
     "output_type": "stream",
     "text": [
      "2024-09-25 19:16:00,766 - INFO - Sessão Spark finalizada.\n"
     ]
    }
   ],
   "source": [
    "extrator_bronze.parar_sessao()"
   ]
  }
 ],
 "metadata": {
  "kernelspec": {
   "display_name": "Python 3 (ipykernel)",
   "language": "python",
   "name": "python3"
  },
  "language_info": {
   "codemirror_mode": {
    "name": "ipython",
    "version": 3
   },
   "file_extension": ".py",
   "mimetype": "text/x-python",
   "name": "python",
   "nbconvert_exporter": "python",
   "pygments_lexer": "ipython3",
   "version": "3.11.10"
  }
 },
 "nbformat": 4,
 "nbformat_minor": 5
}
