{
 "cells": [
  {
   "cell_type": "markdown",
   "id": "5da360c8-2b46-4a97-8444-c6d086f07ca3",
   "metadata": {},
   "source": [
    "# Importação das bibliotecas necessárias"
   ]
  },
  {
   "cell_type": "code",
   "execution_count": 1,
   "id": "dab8b8dc-67ba-4ca1-8775-61b08adb510f",
   "metadata": {},
   "outputs": [],
   "source": [
    "import sys\n",
    "import os\n",
    "sys.path.append('/home/jovyan/work')\n",
    "\n",
    "from utils.AlinharETL import AlinharETL"
   ]
  },
  {
   "cell_type": "markdown",
   "id": "d7c75424-b85d-4fc4-8b41-5e143561d3c6",
   "metadata": {},
   "source": [
    "# Crie uma instância da classe AlinharETL"
   ]
  },
  {
   "cell_type": "code",
   "execution_count": 2,
   "id": "2163db01-79e7-4bab-86d0-686ea5dae3e9",
   "metadata": {},
   "outputs": [
    {
     "name": "stderr",
     "output_type": "stream",
     "text": [
      "2024-09-25 19:15:06,050 - INFO - Iniciando Sessão Spark.\n"
     ]
    }
   ],
   "source": [
    "# Crie uma instância da classe\n",
    "bucket = \"silver\"\n",
    "datamart = \"SiteMTECbo\"\n",
    "extrator_bronze = AlinharETL(bucket,datamart)"
   ]
  },
  {
   "cell_type": "markdown",
   "id": "a7ffa5d7-6b80-4196-a3b0-3c2818fc1b31",
   "metadata": {},
   "source": [
    "# Leitura da tabela"
   ]
  },
  {
   "cell_type": "code",
   "execution_count": 3,
   "id": "eb2a856a-cd4f-4d99-93e5-b957403470d5",
   "metadata": {},
   "outputs": [
    {
     "name": "stderr",
     "output_type": "stream",
     "text": [
      "2024-09-25 19:15:19,932 - INFO - Aguarde... Criando View (bronze/Mte/MteCBOFamilia)\n",
      "2024-09-25 19:16:06,900 - INFO - View criada com sucesso\n"
     ]
    }
   ],
   "source": [
    "df_compliance_cbo_familia= extrator_bronze.criar_view_temporaria('bronze/Mte/MteCBOFamilia','compliance_cbo_familia')"
   ]
  },
  {
   "cell_type": "markdown",
   "id": "88dd5677-01d8-4930-80ef-c337cb2f5481",
   "metadata": {},
   "source": [
    "# Gravação no datalake"
   ]
  },
  {
   "cell_type": "code",
   "execution_count": 4,
   "id": "4ee559f7-5ec9-463f-affe-8c65af8d03ff",
   "metadata": {},
   "outputs": [],
   "source": [
    "extrator_bronze.caminho_tabela_delta = 's3a://silver/Mte/MteCBOFamilia'"
   ]
  },
  {
   "cell_type": "code",
   "execution_count": 5,
   "id": "afb20946-6a0e-4cb7-9a99-940375d68089",
   "metadata": {},
   "outputs": [
    {
     "name": "stderr",
     "output_type": "stream",
     "text": [
      "2024-09-25 19:16:06,911 - INFO - Aguarde... Persistindo dados (overwrite)\n",
      "2024-09-25 19:16:17,344 - INFO - Dados persistidos com sucesso\n",
      "2024-09-25 19:16:17,345 - INFO - s3a://silver/Mte/MteCBOFamilia\n",
      "2024-09-25 19:16:17,346 - INFO - Aguarde... Realizando optimize\n",
      "2024-09-25 19:16:19,588 - INFO - Optimize executado com sucesso.\n",
      "2024-09-25 19:16:19,589 - INFO - Aguarde... Realizando vacuum\n",
      "2024-09-25 19:16:45,783 - INFO - Vacuum executado com sucesso.\n"
     ]
    }
   ],
   "source": [
    "extrator_bronze.salvar_delta(df_compliance_cbo_familia, 'overwrite')"
   ]
  },
  {
   "cell_type": "markdown",
   "id": "d713c31f-5100-405a-8078-20edd1f7b00f",
   "metadata": {},
   "source": [
    "# Encerra sessão spark"
   ]
  },
  {
   "cell_type": "code",
   "execution_count": 6,
   "id": "eb909129-dd70-46da-a2eb-0eb681aa0c21",
   "metadata": {},
   "outputs": [
    {
     "name": "stderr",
     "output_type": "stream",
     "text": [
      "2024-09-25 19:16:46,158 - INFO - Sessão Spark finalizada.\n"
     ]
    }
   ],
   "source": [
    "extrator_bronze.parar_sessao()"
   ]
  }
 ],
 "metadata": {
  "kernelspec": {
   "display_name": "Python 3 (ipykernel)",
   "language": "python",
   "name": "python3"
  },
  "language_info": {
   "codemirror_mode": {
    "name": "ipython",
    "version": 3
   },
   "file_extension": ".py",
   "mimetype": "text/x-python",
   "name": "python",
   "nbconvert_exporter": "python",
   "pygments_lexer": "ipython3",
   "version": "3.11.10"
  }
 },
 "nbformat": 4,
 "nbformat_minor": 5
}
