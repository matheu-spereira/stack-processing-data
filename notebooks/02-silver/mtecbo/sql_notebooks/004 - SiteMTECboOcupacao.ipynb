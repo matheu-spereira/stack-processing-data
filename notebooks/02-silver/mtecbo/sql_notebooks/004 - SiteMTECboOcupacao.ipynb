{
 "cells": [
  {
   "cell_type": "markdown",
   "id": "48f399c5-3d77-4a00-a451-eb7c7ee124e0",
   "metadata": {},
   "source": [
    "# Importação das bibliotecas necessárias"
   ]
  },
  {
   "cell_type": "code",
   "execution_count": 1,
   "id": "dab8b8dc-67ba-4ca1-8775-61b08adb510f",
   "metadata": {},
   "outputs": [],
   "source": [
    "import sys\n",
    "import os\n",
    "sys.path.append('/home/jovyan/work')\n",
    "\n",
    "from utils.AlinharETL import AlinharETL"
   ]
  },
  {
   "cell_type": "markdown",
   "id": "8d13c90b-c775-49bc-b88e-17a639f0a3a6",
   "metadata": {},
   "source": [
    "# Crie uma instância da classe AlinharETL"
   ]
  },
  {
   "cell_type": "code",
   "execution_count": 2,
   "id": "2163db01-79e7-4bab-86d0-686ea5dae3e9",
   "metadata": {},
   "outputs": [
    {
     "name": "stderr",
     "output_type": "stream",
     "text": [
      "2024-09-25 19:15:15,427 - INFO - Iniciando Sessão Spark.\n"
     ]
    }
   ],
   "source": [
    "# Crie uma instância da classe\n",
    "bucket = \"silver\"\n",
    "datamart = \"SiteMTECbo\"\n",
    "extrator_bronze = AlinharETL(bucket,datamart)"
   ]
  },
  {
   "cell_type": "markdown",
   "id": "97b6b384-dbbb-42ee-b8f2-5eeff7e775ff",
   "metadata": {},
   "source": [
    "# Leitura da tabela"
   ]
  },
  {
   "cell_type": "code",
   "execution_count": 3,
   "id": "eb2a856a-cd4f-4d99-93e5-b957403470d5",
   "metadata": {},
   "outputs": [
    {
     "name": "stderr",
     "output_type": "stream",
     "text": [
      "2024-09-25 19:15:22,428 - INFO - Aguarde... Criando View (bronze/Mte/MteCBOOcupacao)\n",
      "2024-09-25 19:16:50,939 - INFO - View criada com sucesso\n"
     ]
    }
   ],
   "source": [
    "df_compliance_cbo_ocupacao= extrator_bronze.criar_view_temporaria('bronze/Mte/MteCBOOcupacao','compliance_cbo_ocupacao')"
   ]
  },
  {
   "cell_type": "markdown",
   "id": "5b18044f-5244-4435-b6e6-3336cfa1a30f",
   "metadata": {},
   "source": [
    "# Gravação no datalake"
   ]
  },
  {
   "cell_type": "code",
   "execution_count": 4,
   "id": "4ee559f7-5ec9-463f-affe-8c65af8d03ff",
   "metadata": {},
   "outputs": [],
   "source": [
    "extrator_bronze.caminho_tabela_delta = 's3a://silver/Mte/MteCBOOcupacao'"
   ]
  },
  {
   "cell_type": "code",
   "execution_count": 5,
   "id": "afb20946-6a0e-4cb7-9a99-940375d68089",
   "metadata": {},
   "outputs": [
    {
     "name": "stderr",
     "output_type": "stream",
     "text": [
      "2024-09-25 19:16:51,060 - INFO - Aguarde... Persistindo dados (overwrite)\n",
      "2024-09-25 19:16:59,744 - INFO - Dados persistidos com sucesso\n",
      "2024-09-25 19:16:59,745 - INFO - s3a://silver/Mte/MteCBOOcupacao\n",
      "2024-09-25 19:16:59,746 - INFO - Aguarde... Realizando optimize\n",
      "2024-09-25 19:17:03,965 - INFO - Optimize executado com sucesso.\n",
      "2024-09-25 19:17:03,966 - INFO - Aguarde... Realizando vacuum\n",
      "2024-09-25 19:17:19,597 - INFO - Vacuum executado com sucesso.\n"
     ]
    }
   ],
   "source": [
    "extrator_bronze.salvar_delta(df_compliance_cbo_ocupacao, 'overwrite')"
   ]
  },
  {
   "cell_type": "markdown",
   "id": "eb0e7923-ff23-49ba-b71c-18b3414debe9",
   "metadata": {},
   "source": [
    "# Encerra sessão spark"
   ]
  },
  {
   "cell_type": "code",
   "execution_count": 6,
   "id": "eb909129-dd70-46da-a2eb-0eb681aa0c21",
   "metadata": {},
   "outputs": [
    {
     "name": "stderr",
     "output_type": "stream",
     "text": [
      "2024-09-25 19:17:20,033 - INFO - Sessão Spark finalizada.\n"
     ]
    }
   ],
   "source": [
    "extrator_bronze.parar_sessao()"
   ]
  }
 ],
 "metadata": {
  "kernelspec": {
   "display_name": "Python 3 (ipykernel)",
   "language": "python",
   "name": "python3"
  },
  "language_info": {
   "codemirror_mode": {
    "name": "ipython",
    "version": 3
   },
   "file_extension": ".py",
   "mimetype": "text/x-python",
   "name": "python",
   "nbconvert_exporter": "python",
   "pygments_lexer": "ipython3",
   "version": "3.11.10"
  }
 },
 "nbformat": 4,
 "nbformat_minor": 5
}
