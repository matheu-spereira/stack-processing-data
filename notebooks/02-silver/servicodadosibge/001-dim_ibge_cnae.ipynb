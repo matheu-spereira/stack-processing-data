{
 "cells": [
  {
   "cell_type": "markdown",
   "id": "029bc083-8c9d-44b8-9f8d-36b9510969cd",
   "metadata": {},
   "source": [
    "# Importação das bibliotecas necessárias"
   ]
  },
  {
   "cell_type": "code",
   "execution_count": 1,
   "id": "dab8b8dc-67ba-4ca1-8775-61b08adb510f",
   "metadata": {},
   "outputs": [],
   "source": [
    "import sys\n",
    "import os\n",
    "sys.path.append('/home/jovyan/work')\n",
    "\n",
    "from utils.AlinharETL import AlinharETL"
   ]
  },
  {
   "cell_type": "markdown",
   "id": "4ea3d3fe-59c9-41ab-abd7-480c5d0b5832",
   "metadata": {},
   "source": [
    "# Crie uma instância da classe AlinharETL"
   ]
  },
  {
   "cell_type": "code",
   "execution_count": 2,
   "id": "2163db01-79e7-4bab-86d0-686ea5dae3e9",
   "metadata": {},
   "outputs": [
    {
     "name": "stderr",
     "output_type": "stream",
     "text": [
      "2024-12-14 21:43:37,310 - INFO - Iniciando Sessão Spark.\n"
     ]
    }
   ],
   "source": [
    "# Crie uma instância da classe\n",
    "bucket = \"silver\"\n",
    "datamart = \"servicodadosibge\"\n",
    "extrator_bronze = AlinharETL(bucket,datamart)"
   ]
  },
  {
   "cell_type": "markdown",
   "id": "a2c52dd7-9f86-48b3-8334-4b8acc5fb55b",
   "metadata": {},
   "source": [
    "# Gravação no datalake"
   ]
  },
  {
   "cell_type": "code",
   "execution_count": 3,
   "id": "4ee559f7-5ec9-463f-affe-8c65af8d03ff",
   "metadata": {},
   "outputs": [
    {
     "name": "stderr",
     "output_type": "stream",
     "text": [
      "2024-12-14 21:43:39,355 - INFO - Aguarde... Atualizando tabela (Delta)\n",
      "2024-12-14 21:43:39,356 - INFO - Arquivo yaml carregada com sucesso\n",
      "2024-12-14 21:43:39,357 - INFO - ['/home/jovyan/work/yaml/silver/servicodadosibge/dim_ibge_cnae.yaml']\n",
      "2024-12-14 21:43:39,367 - INFO - Aguarde... Preparando tabela (Delta)\n",
      "2024-12-14 21:43:39,368 - INFO - Arquivo yaml carregada com sucesso\n",
      "2024-12-14 21:43:39,368 - INFO - ['/home/jovyan/work/yaml/silver/servicodadosibge/dim_ibge_cnae.yaml']\n",
      "2024-12-14 21:43:39,373 - INFO - Aguarde... Criando View (bronze/servicodadosibge/cnaeclasses)\n",
      "2024-12-14 21:43:44,220 - INFO - View criada com sucesso\n",
      "2024-12-14 21:43:44,220 - INFO - Aguarde... Criando View (bronze/servicodadosibge/cnaedivisoes)\n",
      "2024-12-14 21:43:44,428 - INFO - View criada com sucesso\n",
      "2024-12-14 21:43:44,429 - INFO - Aguarde... Criando View (bronze/servicodadosibge/cnaegrupos)\n",
      "2024-12-14 21:43:44,625 - INFO - View criada com sucesso\n",
      "2024-12-14 21:43:44,626 - INFO - Aguarde... Criando View (bronze/servicodadosibge/cnaesecoes)\n",
      "2024-12-14 21:43:44,809 - INFO - View criada com sucesso\n",
      "2024-12-14 21:43:44,810 - INFO - Aguarde... Criando View (bronze/servicodadosibge/cnaesubclasses)\n",
      "2024-12-14 21:43:44,991 - INFO - View criada com sucesso\n",
      "2024-12-14 21:43:44,992 - INFO - Aguarde... Executando Query (Delta)\n",
      "2024-12-14 21:43:44,992 - INFO - SELECT *\n",
      "FROM (\n",
      "    SELECT DISTINCT\n",
      "        id AS sk_cnae,\n",
      "        INITCAP(descricao) AS dsc_classe,\n",
      "        grupo.descricao AS dsc_grupo,\n",
      "        grupo.divisao.descricao AS dsc_divisao,\n",
      "        grupo.divisao.secao.descricao AS dsc_secao,\n",
      "        '' AS dsc_subclasse,\n",
      "        'CLASSE' AS dsc_nivel,\n",
      "        '' AS sk_cnae_longo,\n",
      "        '' AS dsc_contribuinte,\n",
      "        '' AS dsc_industria\n",
      "    FROM \n",
      "        compliance_cnae_classes\n",
      "    \n",
      "    UNION ALL\n",
      "    \n",
      "    SELECT DISTINCT\n",
      "        id AS sk_cnae,\n",
      "        '' AS dsc_classe,\n",
      "        '' AS dsc_grupo,\n",
      "        descricao AS dsc_divisao,\n",
      "        secao.descricao AS dsc_secao,\n",
      "        '' AS dsc_subclasse,\n",
      "        'DIVISÃO' AS dsc_nivel,\n",
      "        '' AS sk_cnae_longo,\n",
      "        '' AS dsc_contribuinte,\n",
      "        '' AS dsc_industria\n",
      "    FROM \n",
      "        compliance_cnae_divisoes\n",
      "    \n",
      "    UNION ALL\n",
      "    \n",
      "    SELECT DISTINCT\n",
      "        id AS sk_cnae,\n",
      "        '' AS dsc_classe,\n",
      "        descricao AS dsc_grupo,\n",
      "        divisao.descricao AS dsc_divisao,\n",
      "        divisao.secao.descricao AS dsc_secao,\n",
      "        '' AS dsc_subclasse,\n",
      "        'GRUPO' AS dsc_nivel,\n",
      "        '' AS sk_cnae_longo,\n",
      "        '' AS dsc_contribuinte,\n",
      "        '' AS dsc_industria\n",
      "    FROM \n",
      "        compliance_cnae_grupos\n",
      "    \n",
      "    UNION ALL\n",
      "    \n",
      "    SELECT DISTINCT\n",
      "        id AS sk_cnae,\n",
      "        '' AS dsc_classe,\n",
      "        '' AS dsc_grupo,\n",
      "        '' AS dsc_divisao,\n",
      "        descricao AS dsc_secao,\n",
      "        '' AS dsc_subclasse,\n",
      "        'SECAO' AS dsc_nivel,\n",
      "        '' AS sk_cnae_longo,\n",
      "        '' AS dsc_contribuinte,\n",
      "        '' AS dsc_industria\n",
      "    FROM \n",
      "        compliance_cnae_secoes\n",
      "    \n",
      "    UNION ALL\n",
      "    \n",
      "    SELECT DISTINCT\n",
      "        id AS sk_cnae,\n",
      "        INITCAP(classe.descricao) AS dsc_classe,\n",
      "        classe.grupo.descricao AS dsc_grupo,\n",
      "        classe.grupo.divisao.descricao AS dsc_divisao,\n",
      "        classe.grupo.divisao.secao.descricao AS dsc_secao,\n",
      "        INITCAP(descricao) AS dsc_subclasse,\n",
      "        'SUBCLASSE' AS dsc_nivel,\n",
      "        '' AS sk_cnae_longo,\n",
      "        '' AS dsc_contribuinte,\n",
      "        '' AS dsc_industria\n",
      "    FROM \n",
      "        compliance_cnae_subclasses     \n",
      "\n",
      "    UNION ALL\n",
      "    SELECT\n",
      "    1 AS sk_cnae,\n",
      "    '1' AS dsc_classe,\n",
      "    '1' AS dsc_grupo,\n",
      "    '1' AS dsc_divisao,\n",
      "    '1' AS dsc_secao,\n",
      "    '1' AS dsc_subclasse,\n",
      "    '1' AS dsc_nivel,\n",
      "    '1' AS sk_cnae_longo,\n",
      "    '1' AS dsc_contribuinte,\n",
      "    '1' AS dsc_industria\n",
      "    \n",
      ") AS combined_results\n",
      "WHERE sk_cnae IS NOT NULL;\n",
      " \n",
      "2024-12-14 21:43:45,155 - INFO - Query (Delta) executada com sucesso\n",
      "2024-12-14 21:43:45,156 - INFO - Tabela (Delta) preparada com sucesso.\n",
      "2024-12-14 21:43:45,157 - INFO - Aguarde... Persistindo dados (overwrite)\n",
      "2024-12-14 21:44:00,380 - INFO - Dados persistidos com sucesso\n",
      "2024-12-14 21:44:00,381 - INFO - s3a://silver/servicodadosibge/dim_ibge_cnae\n",
      "2024-12-14 21:44:00,381 - INFO - Aguarde... Realizando optimize\n",
      "2024-12-14 21:44:02,247 - INFO - Optimize executado com sucesso.\n",
      "2024-12-14 21:44:02,247 - INFO - Aguarde... Realizando vacuum\n",
      "2024-12-14 21:44:13,574 - INFO - Vacuum executado com sucesso.\n",
      "2024-12-14 21:44:13,574 - INFO - Tabela (Delta) atualizado com sucesso\n"
     ]
    }
   ],
   "source": [
    "extrator_bronze.atualizar_tabela_delta('dim_ibge_cnae')"
   ]
  },
  {
   "cell_type": "markdown",
   "id": "88138443-befa-4c12-9ecf-9d2b08fe3ab3",
   "metadata": {},
   "source": [
    "# Encerra sessão spark"
   ]
  },
  {
   "cell_type": "code",
   "execution_count": 4,
   "id": "eb909129-dd70-46da-a2eb-0eb681aa0c21",
   "metadata": {},
   "outputs": [
    {
     "name": "stderr",
     "output_type": "stream",
     "text": [
      "2024-12-14 21:44:13,782 - INFO - Sessão Spark finalizada.\n"
     ]
    }
   ],
   "source": [
    "extrator_bronze.parar_sessao()"
   ]
  }
 ],
 "metadata": {
  "kernelspec": {
   "display_name": "Python 3 (ipykernel)",
   "language": "python",
   "name": "python3"
  },
  "language_info": {
   "codemirror_mode": {
    "name": "ipython",
    "version": 3
   },
   "file_extension": ".py",
   "mimetype": "text/x-python",
   "name": "python",
   "nbconvert_exporter": "python",
   "pygments_lexer": "ipython3",
   "version": "3.11.9"
  }
 },
 "nbformat": 4,
 "nbformat_minor": 5
}
