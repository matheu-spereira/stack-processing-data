{
 "cells": [
  {
   "cell_type": "markdown",
   "id": "029bc083-8c9d-44b8-9f8d-36b9510969cd",
   "metadata": {},
   "source": [
    "# Importação das bibliotecas necessárias"
   ]
  },
  {
   "cell_type": "code",
   "execution_count": 1,
   "id": "dab8b8dc-67ba-4ca1-8775-61b08adb510f",
   "metadata": {},
   "outputs": [],
   "source": [
    "import sys\n",
    "import os\n",
    "sys.path.append('/home/jovyan/work')\n",
    "\n",
    "from utils.AlinharETL import AlinharETL"
   ]
  },
  {
   "cell_type": "markdown",
   "id": "4ea3d3fe-59c9-41ab-abd7-480c5d0b5832",
   "metadata": {},
   "source": [
    "# Crie uma instância da classe AlinharETL"
   ]
  },
  {
   "cell_type": "code",
   "execution_count": 2,
   "id": "2163db01-79e7-4bab-86d0-686ea5dae3e9",
   "metadata": {},
   "outputs": [
    {
     "name": "stderr",
     "output_type": "stream",
     "text": [
      "2025-01-12 15:00:52,789 - INFO - Iniciando Sessão Spark.\n"
     ]
    }
   ],
   "source": [
    "# Crie uma instância da classe\n",
    "bucket = \"silver\"\n",
    "datamart = \"ApiServicoDadosIBGE\"\n",
    "extrator_bronze = AlinharETL(bucket,datamart)"
   ]
  },
  {
   "cell_type": "markdown",
   "id": "c6721ad3-17f5-448b-b59b-3b750e63b869",
   "metadata": {},
   "source": [
    "# Leitura das tabelas"
   ]
  },
  {
   "cell_type": "code",
   "execution_count": 3,
   "id": "eb2a856a-cd4f-4d99-93e5-b957403470d5",
   "metadata": {},
   "outputs": [
    {
     "name": "stderr",
     "output_type": "stream",
     "text": [
      "2025-01-12 15:01:04,906 - INFO - Aguarde... Criando View (bronze/servicodadosibge/cnaeclasses)\n",
      "2025-01-12 15:01:09,526 - INFO - View criada com sucesso\n"
     ]
    }
   ],
   "source": [
    "cnaeclasses = extrator_bronze.criar_view_temporaria('bronze/servicodadosibge/cnaeclasses','cnaeclasses')"
   ]
  },
  {
   "cell_type": "code",
   "execution_count": 5,
   "id": "aa4da375-8aac-45f0-a9ed-a87801ef5398",
   "metadata": {},
   "outputs": [
    {
     "data": {
      "text/plain": [
       "673"
      ]
     },
     "execution_count": 5,
     "metadata": {},
     "output_type": "execute_result"
    }
   ],
   "source": [
    "cnaeclasses.count()"
   ]
  },
  {
   "cell_type": "code",
   "execution_count": 4,
   "id": "b2a24448-1c60-4bcb-983b-9064417abd3d",
   "metadata": {},
   "outputs": [
    {
     "name": "stderr",
     "output_type": "stream",
     "text": [
      "2024-09-26 12:15:08,438 - INFO - Aguarde... Criando View (bronze/ServicoDadosIBGE/CnaeDivisoes)\n",
      "2024-09-26 12:15:08,678 - INFO - View criada com sucesso\n"
     ]
    }
   ],
   "source": [
    "df_compliance_cnae_divisoes = extrator_bronze.criar_view_temporaria('bronze/ServicoDadosIBGE/CnaeDivisoes','compliance_cnae_divisoes')"
   ]
  },
  {
   "cell_type": "code",
   "execution_count": 5,
   "id": "d8e99f2f-28c3-45ac-8d8a-9d9365ee57c6",
   "metadata": {},
   "outputs": [
    {
     "name": "stderr",
     "output_type": "stream",
     "text": [
      "2024-09-26 12:15:08,682 - INFO - Aguarde... Criando View (bronze/ServicoDadosIBGE/CnaeGrupos)\n",
      "2024-09-26 12:15:08,881 - INFO - View criada com sucesso\n"
     ]
    }
   ],
   "source": [
    "df_compliance_cnae_grupos = extrator_bronze.criar_view_temporaria('bronze/ServicoDadosIBGE/CnaeGrupos','compliance_cnae_grupos')"
   ]
  },
  {
   "cell_type": "code",
   "execution_count": 6,
   "id": "eb8ee734-b630-44a6-9342-cb9bd93f48ed",
   "metadata": {},
   "outputs": [
    {
     "name": "stderr",
     "output_type": "stream",
     "text": [
      "2024-09-26 12:15:08,885 - INFO - Aguarde... Criando View (bronze/ServicoDadosIBGE/CnaeSecoes)\n",
      "2024-09-26 12:15:09,085 - INFO - View criada com sucesso\n"
     ]
    }
   ],
   "source": [
    "df_compliance_cnae_secoes = extrator_bronze.criar_view_temporaria('bronze/ServicoDadosIBGE/CnaeSecoes','compliance_cnae_secoes')"
   ]
  },
  {
   "cell_type": "code",
   "execution_count": 7,
   "id": "32ceb318-71d3-4311-bd20-378c969fae1c",
   "metadata": {},
   "outputs": [
    {
     "name": "stderr",
     "output_type": "stream",
     "text": [
      "2024-09-26 12:15:09,090 - INFO - Aguarde... Criando View (bronze/ServicoDadosIBGE/CnaeSubclasses)\n",
      "2024-09-26 12:15:09,264 - INFO - View criada com sucesso\n"
     ]
    }
   ],
   "source": [
    "df_compliance_cnae_subclasses = extrator_bronze.criar_view_temporaria('bronze/ServicoDadosIBGE/CnaeSubclasses','compliance_cnae_subclasses')"
   ]
  },
  {
   "cell_type": "markdown",
   "id": "c434129c-cbaa-43ca-bcb0-364ad21c7bd9",
   "metadata": {},
   "source": [
    "# Tratamentos na tabela "
   ]
  },
  {
   "cell_type": "code",
   "execution_count": 8,
   "id": "78fa5444-bca5-4cdf-a041-2809dce5c196",
   "metadata": {},
   "outputs": [],
   "source": [
    "sql_query = \"\"\"\n",
    "\n",
    "SELECT *\n",
    "FROM (\n",
    "    SELECT DISTINCT\n",
    "        id AS sk_cnae,\n",
    "        descricao AS dsc_classe,\n",
    "        grupo.descricao AS dsc_grupo,\n",
    "        grupo.divisao.descricao AS dsc_divisao,\n",
    "        grupo.divisao.secao.descricao AS dsc_secao,\n",
    "        '' AS dsc_subclasse,\n",
    "        'CLASSE' AS dsc_nivel,\n",
    "        '' AS sk_cnae_longo,\n",
    "        '' AS dsc_contribuinte,\n",
    "        '' AS dsc_industria\n",
    "    FROM \n",
    "        compliance_cnae_classes\n",
    "    \n",
    "    UNION ALL\n",
    "    \n",
    "    SELECT DISTINCT\n",
    "        id AS sk_cnae,\n",
    "        '' AS dsc_classe,\n",
    "        '' AS dsc_grupo,\n",
    "        descricao AS dsc_divisao,\n",
    "        secao.descricao AS dsc_secao,\n",
    "        '' AS dsc_subclasse,\n",
    "        'DIVISÃO' AS dsc_nivel,\n",
    "        '' AS sk_cnae_longo,\n",
    "        '' AS dsc_contribuinte,\n",
    "        '' AS dsc_industria\n",
    "    FROM \n",
    "        compliance_cnae_divisoes\n",
    "    \n",
    "    UNION ALL\n",
    "    \n",
    "    SELECT DISTINCT\n",
    "        id AS sk_cnae,\n",
    "        '' AS dsc_classe,\n",
    "        descricao AS dsc_grupo,\n",
    "        divisao.descricao AS dsc_divisao,\n",
    "        divisao.secao.descricao AS dsc_secao,\n",
    "        '' AS dsc_subclasse,\n",
    "        'GRUPO' AS dsc_nivel,\n",
    "        '' AS sk_cnae_longo,\n",
    "        '' AS dsc_contribuinte,\n",
    "        '' AS dsc_industria\n",
    "    FROM \n",
    "        compliance_cnae_grupos\n",
    "    \n",
    "    UNION ALL\n",
    "    \n",
    "    SELECT DISTINCT\n",
    "        id AS sk_cnae,\n",
    "        '' AS dsc_classe,\n",
    "        '' AS dsc_grupo,\n",
    "        '' AS dsc_divisao,\n",
    "        descricao AS dsc_secao,\n",
    "        '' AS dsc_subclasse,\n",
    "        'SECAO' AS dsc_nivel,\n",
    "        '' AS sk_cnae_longo,\n",
    "        '' AS dsc_contribuinte,\n",
    "        '' AS dsc_industria\n",
    "    FROM \n",
    "        compliance_cnae_secoes\n",
    "    \n",
    "    UNION ALL\n",
    "    \n",
    "    SELECT DISTINCT\n",
    "        id AS sk_cnae,\n",
    "        classe.descricao AS dsc_classe,\n",
    "        classe.grupo.descricao AS dsc_grupo,\n",
    "        classe.grupo.divisao.descricao AS dsc_divisao,\n",
    "        classe.grupo.divisao.secao.descricao AS dsc_secao,\n",
    "        descricao AS dsc_subclasse,\n",
    "        'SUBCLASSE' AS dsc_nivel,\n",
    "        '' AS sk_cnae_longo,\n",
    "        '' AS dsc_contribuinte,\n",
    "        '' AS dsc_industria\n",
    "    FROM \n",
    "        compliance_cnae_subclasses     \n",
    ") AS combined_results\n",
    "WHERE sk_cnae IS NOT NULL;\n",
    "\n",
    "\n",
    "\"\"\""
   ]
  },
  {
   "cell_type": "code",
   "execution_count": 9,
   "id": "8e7602e2-8b59-45a3-985e-cea5119dac42",
   "metadata": {},
   "outputs": [
    {
     "name": "stderr",
     "output_type": "stream",
     "text": [
      "2024-09-26 12:15:09,276 - INFO - Aguarde... Executando Query (Delta)\n",
      "2024-09-26 12:15:09,276 - INFO - \n",
      "\n",
      "SELECT *\n",
      "FROM (\n",
      "    SELECT DISTINCT\n",
      "        id AS sk_cnae,\n",
      "        descricao AS dsc_classe,\n",
      "        grupo.descricao AS dsc_grupo,\n",
      "        grupo.divisao.descricao AS dsc_divisao,\n",
      "        grupo.divisao.secao.descricao AS dsc_secao,\n",
      "        '' AS dsc_subclasse,\n",
      "        'CLASSE' AS dsc_nivel,\n",
      "        '' AS sk_cnae_longo,\n",
      "        '' AS dsc_contribuinte,\n",
      "        '' AS dsc_industria\n",
      "    FROM \n",
      "        compliance_cnae_classes\n",
      "    \n",
      "    UNION ALL\n",
      "    \n",
      "    SELECT DISTINCT\n",
      "        id AS sk_cnae,\n",
      "        '' AS dsc_classe,\n",
      "        '' AS dsc_grupo,\n",
      "        descricao AS dsc_divisao,\n",
      "        secao.descricao AS dsc_secao,\n",
      "        '' AS dsc_subclasse,\n",
      "        'DIVISÃO' AS dsc_nivel,\n",
      "        '' AS sk_cnae_longo,\n",
      "        '' AS dsc_contribuinte,\n",
      "        '' AS dsc_industria\n",
      "    FROM \n",
      "        compliance_cnae_divisoes\n",
      "    \n",
      "    UNION ALL\n",
      "    \n",
      "    SELECT DISTINCT\n",
      "        id AS sk_cnae,\n",
      "        '' AS dsc_classe,\n",
      "        descricao AS dsc_grupo,\n",
      "        divisao.descricao AS dsc_divisao,\n",
      "        divisao.secao.descricao AS dsc_secao,\n",
      "        '' AS dsc_subclasse,\n",
      "        'GRUPO' AS dsc_nivel,\n",
      "        '' AS sk_cnae_longo,\n",
      "        '' AS dsc_contribuinte,\n",
      "        '' AS dsc_industria\n",
      "    FROM \n",
      "        compliance_cnae_grupos\n",
      "    \n",
      "    UNION ALL\n",
      "    \n",
      "    SELECT DISTINCT\n",
      "        id AS sk_cnae,\n",
      "        '' AS dsc_classe,\n",
      "        '' AS dsc_grupo,\n",
      "        '' AS dsc_divisao,\n",
      "        descricao AS dsc_secao,\n",
      "        '' AS dsc_subclasse,\n",
      "        'SECAO' AS dsc_nivel,\n",
      "        '' AS sk_cnae_longo,\n",
      "        '' AS dsc_contribuinte,\n",
      "        '' AS dsc_industria\n",
      "    FROM \n",
      "        compliance_cnae_secoes\n",
      "    \n",
      "    UNION ALL\n",
      "    \n",
      "    SELECT DISTINCT\n",
      "        id AS sk_cnae,\n",
      "        classe.descricao AS dsc_classe,\n",
      "        classe.grupo.descricao AS dsc_grupo,\n",
      "        classe.grupo.divisao.descricao AS dsc_divisao,\n",
      "        classe.grupo.divisao.secao.descricao AS dsc_secao,\n",
      "        descricao AS dsc_subclasse,\n",
      "        'SUBCLASSE' AS dsc_nivel,\n",
      "        '' AS sk_cnae_longo,\n",
      "        '' AS dsc_contribuinte,\n",
      "        '' AS dsc_industria\n",
      "    FROM \n",
      "        compliance_cnae_subclasses     \n",
      ") AS combined_results\n",
      "WHERE sk_cnae IS NOT NULL;\n",
      "\n",
      "\n",
      "\n",
      "2024-09-26 12:15:09,385 - INFO - Query (Delta) executada com sucesso\n"
     ]
    }
   ],
   "source": [
    "compliance_flat_ibge_cnae = extrator_bronze.carregar_dados_delta(sql_query)"
   ]
  },
  {
   "cell_type": "code",
   "execution_count": 10,
   "id": "2cb7795f-3ec5-4d11-9b8b-8a5c5a76e89c",
   "metadata": {},
   "outputs": [
    {
     "data": {
      "text/plain": [
       "2398"
      ]
     },
     "execution_count": 10,
     "metadata": {},
     "output_type": "execute_result"
    }
   ],
   "source": [
    "compliance_flat_ibge_cnae.count()"
   ]
  },
  {
   "cell_type": "code",
   "execution_count": 11,
   "id": "021e2f67-5d4f-453c-a03f-7cabf7b838e8",
   "metadata": {},
   "outputs": [
    {
     "data": {
      "text/plain": [
       "2398"
      ]
     },
     "execution_count": 11,
     "metadata": {},
     "output_type": "execute_result"
    }
   ],
   "source": [
    "compliance_flat_ibge_cnae.select('sk_cnae').distinct().count()"
   ]
  },
  {
   "cell_type": "markdown",
   "id": "a2c52dd7-9f86-48b3-8334-4b8acc5fb55b",
   "metadata": {},
   "source": [
    "# Gravação no datalake"
   ]
  },
  {
   "cell_type": "code",
   "execution_count": 10,
   "id": "4ee559f7-5ec9-463f-affe-8c65af8d03ff",
   "metadata": {},
   "outputs": [],
   "source": [
    "extrator_bronze.caminho_tabela_delta = 's3a://silver/ServicoDadosIBGE/ServicoDadosIBGECnae'"
   ]
  },
  {
   "cell_type": "code",
   "execution_count": 11,
   "id": "afb20946-6a0e-4cb7-9a99-940375d68089",
   "metadata": {},
   "outputs": [
    {
     "name": "stderr",
     "output_type": "stream",
     "text": [
      "2024-09-25 18:51:07,455 - INFO - Aguarde... Persistindo dados (overwrite)\n",
      "2024-09-25 18:51:26,086 - INFO - Dados persistidos com sucesso\n",
      "2024-09-25 18:51:26,086 - INFO - s3a://silver/ServicoDadosIBGE/ServicoDadosIBGECnae\n",
      "2024-09-25 18:51:26,087 - INFO - Aguarde... Realizando optimize\n",
      "2024-09-25 18:51:28,817 - INFO - Optimize executado com sucesso.\n",
      "2024-09-25 18:51:28,818 - INFO - Aguarde... Realizando vacuum\n",
      "2024-09-25 18:51:47,979 - INFO - Vacuum executado com sucesso.\n"
     ]
    }
   ],
   "source": [
    "extrator_bronze.salvar_delta(compliance_flat_ibge_cnae, 'overwrite')"
   ]
  },
  {
   "cell_type": "markdown",
   "id": "88138443-befa-4c12-9ecf-9d2b08fe3ab3",
   "metadata": {},
   "source": [
    "# Encerra sessão spark"
   ]
  },
  {
   "cell_type": "code",
   "execution_count": 12,
   "id": "eb909129-dd70-46da-a2eb-0eb681aa0c21",
   "metadata": {},
   "outputs": [
    {
     "name": "stderr",
     "output_type": "stream",
     "text": [
      "2024-09-25 18:51:48,390 - INFO - Sessão Spark finalizada.\n"
     ]
    }
   ],
   "source": [
    "extrator_bronze.parar_sessao()"
   ]
  }
 ],
 "metadata": {
  "kernelspec": {
   "display_name": "Python 3 (ipykernel)",
   "language": "python",
   "name": "python3"
  },
  "language_info": {
   "codemirror_mode": {
    "name": "ipython",
    "version": 3
   },
   "file_extension": ".py",
   "mimetype": "text/x-python",
   "name": "python",
   "nbconvert_exporter": "python",
   "pygments_lexer": "ipython3",
   "version": "3.11.9"
  }
 },
 "nbformat": 4,
 "nbformat_minor": 5
}
