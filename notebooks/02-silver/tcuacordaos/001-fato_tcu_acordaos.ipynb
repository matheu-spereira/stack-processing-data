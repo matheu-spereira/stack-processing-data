{
 "cells": [
  {
   "cell_type": "markdown",
   "id": "f358e7a8-02fc-4757-8853-83c06ca8c3e1",
   "metadata": {},
   "source": [
    "# Importação das bibliotecas necessárias"
   ]
  },
  {
   "cell_type": "code",
   "execution_count": 1,
   "id": "dab8b8dc-67ba-4ca1-8775-61b08adb510f",
   "metadata": {},
   "outputs": [],
   "source": [
    "import sys\n",
    "import os\n",
    "sys.path.append('/home/jovyan/work')\n",
    "\n",
    "from utils.AlinharETL import AlinharETL"
   ]
  },
  {
   "cell_type": "markdown",
   "id": "0eab7c52-14fa-4bcd-a389-c6bedeac283c",
   "metadata": {},
   "source": [
    "# Crie uma instância da classe AlinharETL"
   ]
  },
  {
   "cell_type": "code",
   "execution_count": 2,
   "id": "2163db01-79e7-4bab-86d0-686ea5dae3e9",
   "metadata": {},
   "outputs": [
    {
     "name": "stderr",
     "output_type": "stream",
     "text": [
      "2024-10-15 13:36:08,575 - INFO - Iniciando Sessão Spark.\n"
     ]
    }
   ],
   "source": [
    "# Crie uma instância da classe\n",
    "bucket = \"silver\"\n",
    "datamart = \"tcuacordaos\"\n",
    "extrator_bronze = AlinharETL(bucket,datamart)"
   ]
  },
  {
   "cell_type": "markdown",
   "id": "c1eac0e1-8ac7-4325-8310-d24786cca61b",
   "metadata": {},
   "source": [
    "# Gravação no datalake"
   ]
  },
  {
   "cell_type": "code",
   "execution_count": 3,
   "id": "afb20946-6a0e-4cb7-9a99-940375d68089",
   "metadata": {},
   "outputs": [
    {
     "name": "stderr",
     "output_type": "stream",
     "text": [
      "2024-10-15 13:36:12,449 - INFO - Aguarde... Atualizando tabela (Delta)\n",
      "2024-10-15 13:36:12,450 - INFO - Arquivo yaml carregada com sucesso\n",
      "2024-10-15 13:36:12,450 - INFO - ['/home/jovyan/work/yaml/silver/tcuacordaos/fato_tcu_acordaos.yaml']\n",
      "2024-10-15 13:36:12,462 - INFO - Aguarde... Preparando tabela (Delta)\n",
      "2024-10-15 13:36:12,463 - INFO - Arquivo yaml carregada com sucesso\n",
      "2024-10-15 13:36:12,463 - INFO - ['/home/jovyan/work/yaml/silver/tcuacordaos/fato_tcu_acordaos.yaml']\n",
      "2024-10-15 13:36:12,469 - INFO - Aguarde... Criando View (bronze/tcu/acordaos)\n",
      "2024-10-15 13:36:21,559 - INFO - View criada com sucesso\n",
      "2024-10-15 13:36:21,560 - INFO - Aguarde... Executando Query (Delta)\n",
      "2024-10-15 13:36:21,561 - INFO - select \n",
      "    ROW_NUMBER() OVER (ORDER BY KEY) AS id,\n",
      "    KEY as key_acordao,\n",
      "    NUMACORDAO as numacordao,\n",
      "    to_date(DATASESSAO, 'dd/MM/yyyy') AS datasessao,\n",
      "    COLEGIADO as colegiado,\n",
      "    ASSUNTO as assunto,\n",
      "    NUMATA as numata,\n",
      "    PROC as proc,\n",
      "    CONCAT('https://pesquisa.apps.tcu.gov.br/push/processo?numero=', TRANSLATE(SUBSTRING_INDEX(IFNULL(TRIM(PROC), '00000000000'), ' ', 1), '.-/','')) as proc_acordao,\n",
      "    INITCAP(RELATOR) as relator,\n",
      "    SUMARIO as sumario, \n",
      "    'Não Informado' as sistema_s,\n",
      "    ENTIDADE as entidade,\n",
      "    ANOACORDAO as anoacordao,\n",
      "    INITCAP(TIPO) as tipo\n",
      "from compliance_tcu \n",
      " \n",
      "2024-10-15 13:36:21,807 - INFO - Query (Delta) executada com sucesso\n",
      "2024-10-15 13:36:21,808 - INFO - Tabela (Delta) preparada com sucesso.\n",
      "2024-10-15 13:36:21,808 - INFO - Aguarde... Persistindo dados (overwrite)\n",
      "2024-10-15 13:36:47,145 - INFO - Dados persistidos com sucesso\n",
      "2024-10-15 13:36:47,146 - INFO - s3a://silver/tcu/fato_tcu_acordaos\n",
      "2024-10-15 13:36:47,146 - INFO - Aguarde... Realizando optimize\n",
      "2024-10-15 13:36:55,616 - INFO - Optimize executado com sucesso.\n",
      "2024-10-15 13:36:55,616 - INFO - Aguarde... Realizando vacuum\n",
      "2024-10-15 13:37:11,938 - INFO - Vacuum executado com sucesso.\n",
      "2024-10-15 13:37:11,939 - INFO - Tabela (Delta) atualizado com sucesso\n"
     ]
    }
   ],
   "source": [
    "extrator_bronze.atualizar_tabela_delta('fato_tcu_acordaos')"
   ]
  },
  {
   "cell_type": "markdown",
   "id": "5932f885-3cca-4de6-bce1-0628bbdb05df",
   "metadata": {},
   "source": [
    "# Encerra sessão spark"
   ]
  },
  {
   "cell_type": "code",
   "execution_count": 4,
   "id": "eb909129-dd70-46da-a2eb-0eb681aa0c21",
   "metadata": {},
   "outputs": [
    {
     "name": "stderr",
     "output_type": "stream",
     "text": [
      "2024-10-15 13:37:12,312 - INFO - Sessão Spark finalizada.\n"
     ]
    }
   ],
   "source": [
    "extrator_bronze.parar_sessao()"
   ]
  }
 ],
 "metadata": {
  "kernelspec": {
   "display_name": "Python 3 (ipykernel)",
   "language": "python",
   "name": "python3"
  },
  "language_info": {
   "codemirror_mode": {
    "name": "ipython",
    "version": 3
   },
   "file_extension": ".py",
   "mimetype": "text/x-python",
   "name": "python",
   "nbconvert_exporter": "python",
   "pygments_lexer": "ipython3",
   "version": "3.11.9"
  }
 },
 "nbformat": 4,
 "nbformat_minor": 5
}
