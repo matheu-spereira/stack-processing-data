{
 "cells": [
  {
   "cell_type": "markdown",
   "id": "f358e7a8-02fc-4757-8853-83c06ca8c3e1",
   "metadata": {},
   "source": [
    "# Importação das bibliotecas necessárias"
   ]
  },
  {
   "cell_type": "code",
   "execution_count": 17,
   "id": "dab8b8dc-67ba-4ca1-8775-61b08adb510f",
   "metadata": {},
   "outputs": [],
   "source": [
    "import sys\n",
    "import os\n",
    "sys.path.append('/home/jovyan/work')\n",
    "\n",
    "from utils.AlinharETL import AlinharETL"
   ]
  },
  {
   "cell_type": "markdown",
   "id": "0eab7c52-14fa-4bcd-a389-c6bedeac283c",
   "metadata": {},
   "source": [
    "# Crie uma instância da classe AlinharETL"
   ]
  },
  {
   "cell_type": "code",
   "execution_count": 18,
   "id": "2163db01-79e7-4bab-86d0-686ea5dae3e9",
   "metadata": {},
   "outputs": [
    {
     "name": "stderr",
     "output_type": "stream",
     "text": [
      "2024-10-09 11:02:13,481 - INFO - Iniciando Sessão Spark.\n"
     ]
    }
   ],
   "source": [
    "# Crie uma instância da classe\n",
    "bucket = \"bronze\"\n",
    "datamart = \"SiteTCUAcordaos\"\n",
    "extrator_bronze = AlinharETL(bucket,datamart)"
   ]
  },
  {
   "cell_type": "markdown",
   "id": "b5f0dac8-d02c-412d-bec7-dac4bba7ce4e",
   "metadata": {},
   "source": [
    "# Leitura da tabela"
   ]
  },
  {
   "cell_type": "code",
   "execution_count": 19,
   "id": "eb2a856a-cd4f-4d99-93e5-b957403470d5",
   "metadata": {},
   "outputs": [
    {
     "name": "stderr",
     "output_type": "stream",
     "text": [
      "2024-10-09 11:02:14,162 - INFO - Aguarde... Criando View (bronze/TCU/Acordaos)\n",
      "2024-10-09 11:02:19,611 - INFO - View criada com sucesso\n"
     ]
    }
   ],
   "source": [
    "df_compliance_tcu  = extrator_bronze.criar_view_temporaria('bronze/TCU/Acordaos','compliance_tcu')"
   ]
  },
  {
   "cell_type": "markdown",
   "id": "ec6a7dbe-6455-49e6-8044-ab08edf685cc",
   "metadata": {},
   "source": [
    "# Tratamentos na tabela"
   ]
  },
  {
   "cell_type": "code",
   "execution_count": 20,
   "id": "8e388920-8b82-4555-9a33-79fa34f2696a",
   "metadata": {},
   "outputs": [],
   "source": [
    "sql_query = \"\"\"\n",
    "    select \n",
    "        ROW_NUMBER() OVER (ORDER BY KEY) AS id,\n",
    "        KEY as key_acordao,\n",
    "        NUMACORDAO as numacordao,\n",
    "        to_date(DATASESSAO, 'dd/MM/yyyy') AS datasessao,\n",
    "        COLEGIADO as colegiado,\n",
    "        ASSUNTO as assunto,\n",
    "        NUMATA as numata,\n",
    "        PROC as proc,\n",
    "        CONCAT('https://pesquisa.apps.tcu.gov.br/push/processo?numero=', TRANSLATE(SUBSTRING_INDEX(IFNULL(TRIM(PROC), '00000000000'), ' ', 1), '.-/','')) as proc_acordao,\n",
    "        RELATOR as relator,\n",
    "        SUMARIO as sumario, \n",
    "        'Não Informado' as sistema_s,\n",
    "        ENTIDADE as entidade,\n",
    "        ANOACORDAO as anoacordao,\n",
    "        TIPO as tipo  \n",
    "    from compliance_tcu\n",
    "\"\"\""
   ]
  },
  {
   "cell_type": "code",
   "execution_count": 21,
   "id": "42324bc3-d2bc-44cf-94d7-b572037ea6d0",
   "metadata": {},
   "outputs": [
    {
     "name": "stderr",
     "output_type": "stream",
     "text": [
      "2024-10-09 11:02:26,259 - INFO - Aguarde... Executando Query (Delta)\n",
      "2024-10-09 11:02:26,260 - INFO - \n",
      "    select \n",
      "        ROW_NUMBER() OVER (ORDER BY KEY) AS id,\n",
      "        KEY as key_acordao,\n",
      "        NUMACORDAO as numacordao,\n",
      "        to_date(DATASESSAO, 'dd/MM/yyyy') AS datasessao,\n",
      "        COLEGIADO as colegiado,\n",
      "        ASSUNTO as assunto,\n",
      "        NUMATA as numata,\n",
      "        PROC as proc,\n",
      "        CONCAT('https://pesquisa.apps.tcu.gov.br/push/processo?numero=', TRANSLATE(SUBSTRING_INDEX(IFNULL(TRIM(PROC), '00000000000'), ' ', 1), '.-/','')) as proc_acordao,\n",
      "        RELATOR as relator,\n",
      "        SUMARIO as sumario, \n",
      "        'Não Informado' as sistema_s,\n",
      "        ENTIDADE as entidade,\n",
      "        ANOACORDAO as anoacordao,\n",
      "        TIPO as tipo  \n",
      "    from compliance_tcu\n",
      "\n",
      "2024-10-09 11:02:26,316 - INFO - Query (Delta) executada com sucesso\n"
     ]
    }
   ],
   "source": [
    "df_compliance_tcu = extrator_bronze.carregar_dados_delta(sql_query)"
   ]
  },
  {
   "cell_type": "code",
   "execution_count": 22,
   "id": "eb359cd9-ffc4-471d-a938-9e583230e664",
   "metadata": {},
   "outputs": [
    {
     "name": "stdout",
     "output_type": "stream",
     "text": [
      "+---+--------------------+----------+----------+--------------+--------------------+-------+--------------------+--------------------+--------------------+--------------------+-------------+--------------------+----------+-------+--------------------+\n",
      "| id|         key_acordao|numacordao|datasessao|     colegiado|             assunto| numata|                proc|        proc_acordao|             relator|             sumario|    sistema_s|            entidade|anoacordao|   tipo|      dt_atualizacao|\n",
      "+---+--------------------+----------+----------+--------------+--------------------+-------+--------------------+--------------------+--------------------+--------------------+-------------+--------------------+----------+-------+--------------------+\n",
      "|  1|  ACORDAO-COMPLETO-1|        98|1992-03-12|Segunda Câmara|Tomada  de  Conta...|08/1992|      349.005/1991-5|https://pesquisa....|  BENTO JOSÉ BUGARIN|Tomada de Contas ...|Não Informado|                NULL|      1992|DECISÃO|2024-10-09 11:02:...|\n",
      "|  2| ACORDAO-COMPLETO-10|        98|1998-04-23|Segunda Câmara|      Aposentadoria.|11/1998|      019.637/1994-2|https://pesquisa....|  BENTO JOSÉ BUGARIN|Aposentadoria. Pr...|Não Informado|                NULL|      1998|DECISÃO|2024-10-09 11:02:...|\n",
      "|  3|ACORDAO-COMPLETO-100|        80|1998-06-03|      Plenário|Tomada de Contas ...|20/1998| 275.129/1993-4 2...|https://pesquisa....|      VALMIR CAMPELO|Tomada de Contas ...|Não Informado|                NULL|      1998|ACÓRDÃO|2024-10-09 11:02:...|\n",
      "|  4|ACORDAO-COMPLETO-...|       701|1997-10-30|Segunda Câmara|Tomada   de   Con...|35/1997|      350.344/1995-7|https://pesquisa....|LINCOLN MAGALHÃES...|Tomada de Contas ...|Não Informado|                NULL|      1997|ACÓRDÃO|2024-10-09 11:02:...|\n",
      "|  5|ACORDAO-COMPLETO-...|       675|2003-06-11|      Plenário|Relatório de Leva...|21/2003|      005.540/2003-0|https://pesquisa....|       ADYLSON MOTTA|Fiscobras 2003. L...|Não Informado|Entidade: Departa...|      2003|ACÓRDÃO|2024-10-09 11:02:...|\n",
      "+---+--------------------+----------+----------+--------------+--------------------+-------+--------------------+--------------------+--------------------+--------------------+-------------+--------------------+----------+-------+--------------------+\n",
      "only showing top 5 rows\n",
      "\n"
     ]
    }
   ],
   "source": [
    "df_compliance_tcu.printSchem"
   ]
  },
  {
   "cell_type": "markdown",
   "id": "c1eac0e1-8ac7-4325-8310-d24786cca61b",
   "metadata": {},
   "source": [
    "# Gravação no datalake"
   ]
  },
  {
   "cell_type": "code",
   "execution_count": 6,
   "id": "4ee559f7-5ec9-463f-affe-8c65af8d03ff",
   "metadata": {},
   "outputs": [],
   "source": [
    "extrator_bronze.caminho_tabela_delta = 's3a://silver/Tcu/TcuAcordaos'"
   ]
  },
  {
   "cell_type": "code",
   "execution_count": 7,
   "id": "afb20946-6a0e-4cb7-9a99-940375d68089",
   "metadata": {},
   "outputs": [
    {
     "name": "stderr",
     "output_type": "stream",
     "text": [
      "2024-09-25 19:17:52,615 - INFO - Aguarde... Persistindo dados (overwrite)\n",
      "2024-09-25 19:18:32,809 - INFO - Dados persistidos com sucesso\n",
      "2024-09-25 19:18:32,809 - INFO - s3a://silver/Tcu/TcuAcordaos\n",
      "2024-09-25 19:18:32,810 - INFO - Aguarde... Realizando optimize\n",
      "2024-09-25 19:18:36,553 - INFO - Optimize executado com sucesso.\n",
      "2024-09-25 19:18:36,554 - INFO - Aguarde... Realizando vacuum\n",
      "2024-09-25 19:18:50,045 - INFO - Vacuum executado com sucesso.\n"
     ]
    }
   ],
   "source": [
    "extrator_bronze.salvar_delta(df_compliance_tcu, 'overwrite')"
   ]
  },
  {
   "cell_type": "markdown",
   "id": "5932f885-3cca-4de6-bce1-0628bbdb05df",
   "metadata": {},
   "source": [
    "# Encerra sessão spark"
   ]
  },
  {
   "cell_type": "code",
   "execution_count": 8,
   "id": "eb909129-dd70-46da-a2eb-0eb681aa0c21",
   "metadata": {},
   "outputs": [
    {
     "name": "stderr",
     "output_type": "stream",
     "text": [
      "2024-09-25 19:18:50,605 - INFO - Sessão Spark finalizada.\n"
     ]
    }
   ],
   "source": [
    "extrator_bronze.parar_sessao()"
   ]
  }
 ],
 "metadata": {
  "kernelspec": {
   "display_name": "Python 3 (ipykernel)",
   "language": "python",
   "name": "python3"
  },
  "language_info": {
   "codemirror_mode": {
    "name": "ipython",
    "version": 3
   },
   "file_extension": ".py",
   "mimetype": "text/x-python",
   "name": "python",
   "nbconvert_exporter": "python",
   "pygments_lexer": "ipython3",
   "version": "3.11.9"
  }
 },
 "nbformat": 4,
 "nbformat_minor": 5
}
