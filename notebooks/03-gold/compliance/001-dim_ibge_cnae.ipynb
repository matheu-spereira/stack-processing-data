{
 "cells": [
  {
   "cell_type": "markdown",
   "id": "385f7fea-6818-4697-837d-b7a3d29b393c",
   "metadata": {},
   "source": [
    "# Importação das bibliotecas necessárias"
   ]
  },
  {
   "cell_type": "code",
   "execution_count": 1,
   "id": "dab8b8dc-67ba-4ca1-8775-61b08adb510f",
   "metadata": {},
   "outputs": [],
   "source": [
    "import sys\n",
    "import os\n",
    "sys.path.append('/home/jovyan/work')\n",
    "\n",
    "from utils.AlinharETL import AlinharETL"
   ]
  },
  {
   "cell_type": "markdown",
   "id": "c08e7c9a-2b70-4c10-8374-2549fe21c01c",
   "metadata": {},
   "source": [
    "# Crie uma instância da classe AlinharETL"
   ]
  },
  {
   "cell_type": "code",
   "execution_count": 2,
   "id": "2163db01-79e7-4bab-86d0-686ea5dae3e9",
   "metadata": {},
   "outputs": [
    {
     "name": "stderr",
     "output_type": "stream",
     "text": [
      "2024-12-14 21:48:44,754 - INFO - Iniciando Sessão Spark.\n"
     ]
    }
   ],
   "source": [
    "# Crie uma instância da classe\n",
    "bucket = \"gold\"\n",
    "datamart = \"compliance\"\n",
    "extrator_bronze = AlinharETL(bucket,datamart)"
   ]
  },
  {
   "cell_type": "markdown",
   "id": "205a84ab-1298-45f6-a5c7-2d86d747abd3",
   "metadata": {},
   "source": [
    "# Gravação no datalake"
   ]
  },
  {
   "cell_type": "code",
   "execution_count": 3,
   "id": "afb20946-6a0e-4cb7-9a99-940375d68089",
   "metadata": {},
   "outputs": [
    {
     "name": "stderr",
     "output_type": "stream",
     "text": [
      "2024-12-14 21:48:46,771 - INFO - Aguarde... Atualizando tabela (Delta)\n",
      "2024-12-14 21:48:46,771 - INFO - Arquivo yaml carregada com sucesso\n",
      "2024-12-14 21:48:46,772 - INFO - ['/home/jovyan/work/yaml/gold/compliance/dim_ibge_cnae.yaml']\n",
      "2024-12-14 21:48:46,778 - INFO - Aguarde... Preparando tabela (Delta)\n",
      "2024-12-14 21:48:46,779 - INFO - Arquivo yaml carregada com sucesso\n",
      "2024-12-14 21:48:46,780 - INFO - ['/home/jovyan/work/yaml/gold/compliance/dim_ibge_cnae.yaml']\n",
      "2024-12-14 21:48:46,783 - INFO - Aguarde... Criando View (silver/servicodadosibge/dim_ibge_cnae)\n",
      "2024-12-14 21:48:51,619 - INFO - View criada com sucesso\n",
      "2024-12-14 21:48:51,620 - INFO - Aguarde... Executando Query (Delta)\n",
      "2024-12-14 21:48:51,621 - INFO - SELECT \n",
      "    sk_cnae,\n",
      "    dsc_classe,\n",
      "    dsc_subclasse,   \n",
      "    dsc_industria\n",
      "FROM  compliance_dim_ibge_cnae\n",
      " \n",
      "2024-12-14 21:48:51,685 - INFO - Query (Delta) executada com sucesso\n",
      "2024-12-14 21:48:51,685 - INFO - Tabela (Delta) preparada com sucesso.\n",
      "2024-12-14 21:48:51,686 - INFO - Aguarde... Persistindo dados (overwrite)\n",
      "2024-12-14 21:48:59,297 - INFO - Dados persistidos com sucesso\n",
      "2024-12-14 21:48:59,297 - INFO - s3a://gold/compliance/dim_ibge_cnae\n",
      "2024-12-14 21:48:59,298 - INFO - Aguarde... Realizando optimize\n",
      "2024-12-14 21:49:01,964 - INFO - Optimize executado com sucesso.\n",
      "2024-12-14 21:49:01,965 - INFO - Aguarde... Realizando vacuum\n",
      "2024-12-14 21:49:14,769 - INFO - Vacuum executado com sucesso.\n",
      "2024-12-14 21:49:14,769 - INFO - Tabela (Delta) atualizado com sucesso\n"
     ]
    }
   ],
   "source": [
    "extrator_bronze.atualizar_tabela_delta('dim_ibge_cnae')"
   ]
  },
  {
   "cell_type": "markdown",
   "id": "7ade5ed8-294b-43b7-b5f7-e174abdfe74b",
   "metadata": {},
   "source": [
    "# Encerra sessão spark"
   ]
  },
  {
   "cell_type": "code",
   "execution_count": 4,
   "id": "4e250a4c-7ec4-45ae-a43e-88493bd36411",
   "metadata": {},
   "outputs": [
    {
     "name": "stderr",
     "output_type": "stream",
     "text": [
      "2024-12-14 21:49:15,191 - INFO - Sessão Spark finalizada.\n"
     ]
    }
   ],
   "source": [
    "extrator_bronze.parar_sessao()"
   ]
  }
 ],
 "metadata": {
  "kernelspec": {
   "display_name": "Python 3 (ipykernel)",
   "language": "python",
   "name": "python3"
  },
  "language_info": {
   "codemirror_mode": {
    "name": "ipython",
    "version": 3
   },
   "file_extension": ".py",
   "mimetype": "text/x-python",
   "name": "python",
   "nbconvert_exporter": "python",
   "pygments_lexer": "ipython3",
   "version": "3.11.9"
  }
 },
 "nbformat": 4,
 "nbformat_minor": 5
}
