{
 "cells": [
  {
   "cell_type": "markdown",
   "id": "0bcc79f0-940d-4554-a057-8e9b21f538aa",
   "metadata": {},
   "source": [
    "# Importação das bibliotecas necessárias"
   ]
  },
  {
   "cell_type": "code",
   "execution_count": 1,
   "id": "dab8b8dc-67ba-4ca1-8775-61b08adb510f",
   "metadata": {},
   "outputs": [],
   "source": [
    "import sys\n",
    "import os\n",
    "sys.path.append('/home/jovyan/work')\n",
    "\n",
    "from utils.AlinharETL import AlinharETL"
   ]
  },
  {
   "cell_type": "markdown",
   "id": "a684dd40-d280-44fa-a7c2-f91c0cf6d5d3",
   "metadata": {},
   "source": [
    "# Crie uma instância da classe AlinharETL"
   ]
  },
  {
   "cell_type": "code",
   "execution_count": 2,
   "id": "c1f6936f-fbe6-446a-b169-77242a4c786e",
   "metadata": {},
   "outputs": [
    {
     "name": "stderr",
     "output_type": "stream",
     "text": [
      "2024-10-15 13:45:35,578 - INFO - Iniciando Sessão Spark.\n"
     ]
    }
   ],
   "source": [
    "# Crie uma instância da classe\n",
    "bucket = \"gold\"\n",
    "datamart = \"compliance\"\n",
    "extrator_bronze = AlinharETL(bucket,datamart)"
   ]
  },
  {
   "cell_type": "markdown",
   "id": "48c1f113-a339-40c5-b8f2-925b36d11dd4",
   "metadata": {},
   "source": [
    "# Gravação no datalake"
   ]
  },
  {
   "cell_type": "code",
   "execution_count": 3,
   "id": "7e500284-b988-423e-a802-e488c7745871",
   "metadata": {},
   "outputs": [
    {
     "name": "stderr",
     "output_type": "stream",
     "text": [
      "2024-10-15 13:45:42,827 - INFO - Aguarde... Atualizando tabela (Delta)\n",
      "2024-10-15 13:45:42,829 - INFO - Arquivo yaml carregada com sucesso\n",
      "2024-10-15 13:45:42,829 - INFO - ['/home/jovyan/work/yaml/gold/compliance/fato_cni_rlc.yaml']\n",
      "2024-10-15 13:45:42,840 - INFO - Aguarde... Preparando tabela (Delta)\n",
      "2024-10-15 13:45:42,841 - INFO - Arquivo yaml carregada com sucesso\n",
      "2024-10-15 13:45:42,841 - INFO - ['/home/jovyan/work/yaml/gold/compliance/fato_cni_rlc.yaml']\n",
      "2024-10-15 13:45:42,846 - INFO - Aguarde... Criando View (silver/caravelal/fato_cni_rlc)\n",
      "2024-10-15 13:45:53,134 - INFO - View criada com sucesso\n",
      "2024-10-15 13:45:53,142 - INFO - Aguarde... Executando Query (Delta)\n",
      "2024-10-15 13:45:53,143 - INFO - SELECT\n",
      "   *\n",
      "FROM compliance_flat_cni_rlc\n",
      " \n",
      "2024-10-15 13:45:53,257 - INFO - Query (Delta) executada com sucesso\n",
      "2024-10-15 13:45:53,257 - INFO - Tabela (Delta) preparada com sucesso.\n",
      "2024-10-15 13:45:53,258 - INFO - Aguarde... Persistindo dados (overwrite)\n",
      "2024-10-15 13:46:04,623 - INFO - Dados persistidos com sucesso\n",
      "2024-10-15 13:46:04,625 - INFO - s3a://gold/compliance/fato_cni_rlc\n",
      "2024-10-15 13:46:04,625 - INFO - Aguarde... Realizando optimize\n",
      "2024-10-15 13:46:07,759 - INFO - Optimize executado com sucesso.\n",
      "2024-10-15 13:46:07,760 - INFO - Aguarde... Realizando vacuum\n",
      "2024-10-15 13:46:28,235 - INFO - Vacuum executado com sucesso.\n",
      "2024-10-15 13:46:28,237 - INFO - Tabela (Delta) atualizado com sucesso\n"
     ]
    }
   ],
   "source": [
    "extrator_bronze.atualizar_tabela_delta('fato_cni_rlc')"
   ]
  },
  {
   "cell_type": "markdown",
   "id": "59c7c732-5727-4ca0-9bc7-1fef673cad8b",
   "metadata": {},
   "source": [
    "# Encerra sessão spark"
   ]
  },
  {
   "cell_type": "code",
   "execution_count": 4,
   "id": "2168a1f2-217f-4c00-a42b-054c191c7f2f",
   "metadata": {},
   "outputs": [
    {
     "name": "stderr",
     "output_type": "stream",
     "text": [
      "2024-10-15 13:46:28,509 - INFO - Sessão Spark finalizada.\n"
     ]
    }
   ],
   "source": [
    "extrator_bronze.parar_sessao()"
   ]
  }
 ],
 "metadata": {
  "kernelspec": {
   "display_name": "Python 3 (ipykernel)",
   "language": "python",
   "name": "python3"
  },
  "language_info": {
   "codemirror_mode": {
    "name": "ipython",
    "version": 3
   },
   "file_extension": ".py",
   "mimetype": "text/x-python",
   "name": "python",
   "nbconvert_exporter": "python",
   "pygments_lexer": "ipython3",
   "version": "3.11.9"
  }
 },
 "nbformat": 4,
 "nbformat_minor": 5
}
