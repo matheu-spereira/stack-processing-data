{
 "cells": [
  {
   "cell_type": "markdown",
   "id": "df12eadd-79f6-4992-8ff2-447a22aa5024",
   "metadata": {},
   "source": [
    "# Importação das bibliotecas necessárias"
   ]
  },
  {
   "cell_type": "code",
   "execution_count": 1,
   "id": "dab8b8dc-67ba-4ca1-8775-61b08adb510f",
   "metadata": {},
   "outputs": [],
   "source": [
    "import sys\n",
    "import os\n",
    "sys.path.append('/home/jovyan/work')\n",
    "\n",
    "from utils.AlinharETL import AlinharETL"
   ]
  },
  {
   "cell_type": "markdown",
   "id": "4ee93152-b53f-4568-9bf6-d61208298d4d",
   "metadata": {},
   "source": [
    "# Crie uma instância da classe AlinharETL"
   ]
  },
  {
   "cell_type": "code",
   "execution_count": 2,
   "id": "2163db01-79e7-4bab-86d0-686ea5dae3e9",
   "metadata": {},
   "outputs": [
    {
     "name": "stderr",
     "output_type": "stream",
     "text": [
      "2024-10-15 13:52:35,427 - INFO - Iniciando Sessão Spark.\n"
     ]
    }
   ],
   "source": [
    "# Crie uma instância da classe\n",
    "bucket = \"gold\"\n",
    "datamart = \"compliance\"\n",
    "extrator_bronze = AlinharETL(bucket,datamart)"
   ]
  },
  {
   "cell_type": "markdown",
   "id": "02dbd28f-79b2-4e77-b220-0c6d26009281",
   "metadata": {},
   "source": [
    "# Gravação no datalake"
   ]
  },
  {
   "cell_type": "code",
   "execution_count": 3,
   "id": "4ee559f7-5ec9-463f-affe-8c65af8d03ff",
   "metadata": {},
   "outputs": [
    {
     "name": "stderr",
     "output_type": "stream",
     "text": [
      "2024-10-15 13:52:41,417 - INFO - Aguarde... Atualizando tabela (Delta)\n",
      "2024-10-15 13:52:41,419 - INFO - Arquivo yaml carregada com sucesso\n",
      "2024-10-15 13:52:41,420 - INFO - ['/home/jovyan/work/yaml/gold/compliance/fato_mte_cbo.yaml']\n",
      "2024-10-15 13:52:41,438 - INFO - Aguarde... Preparando tabela (Delta)\n",
      "2024-10-15 13:52:41,439 - INFO - Arquivo yaml carregada com sucesso\n",
      "2024-10-15 13:52:41,440 - INFO - ['/home/jovyan/work/yaml/gold/compliance/fato_mte_cbo.yaml']\n",
      "2024-10-15 13:52:41,448 - INFO - Aguarde... Criando View (silver/mte/dim_cbo_sub_grupo)\n",
      "2024-10-15 13:52:51,032 - INFO - View criada com sucesso\n",
      "2024-10-15 13:52:51,033 - INFO - Aguarde... Criando View (silver/mte/fato_cbo_sub_grupo_principal)\n",
      "2024-10-15 13:52:51,420 - INFO - View criada com sucesso\n",
      "2024-10-15 13:52:51,421 - INFO - Aguarde... Criando View (silver/mte/dim_cbo_familia)\n",
      "2024-10-15 13:52:51,768 - INFO - View criada com sucesso\n",
      "2024-10-15 13:52:51,769 - INFO - Aguarde... Criando View (silver/mte/dim_cbo_grande_grupo)\n",
      "2024-10-15 13:52:52,089 - INFO - View criada com sucesso\n",
      "2024-10-15 13:52:52,090 - INFO - Aguarde... Criando View (silver/mte/dim_cbo_ocupacao)\n",
      "2024-10-15 13:52:52,393 - INFO - View criada com sucesso\n",
      "2024-10-15 13:52:52,394 - INFO - Aguarde... Executando Query (Delta)\n",
      "2024-10-15 13:52:52,395 - INFO - SELECT \n",
      "    s.cd AS cd,\n",
      "    p.demanda_formacao,\n",
      "    INITCAP(p.grande_grupo) AS dsc_grande_grupo,\n",
      "    INITCAP(p.subgrupo_principal) AS dsc_subgrupo_principal,\n",
      "    INITCAP(s.TITULO) AS dsc_subgrupo,\n",
      "    INITCAP(p.familia) AS dsc_formacao,\n",
      "    INITCAP(p.ocupacao) AS dsc_ocupacao,\n",
      "    'Subgrupo' AS dsc_nivel,\n",
      "    p.industrial_uniepro AS dsc_industrial_uniepro\n",
      "FROM \n",
      "    compliance_cbo_sub_grupo s\n",
      "LEFT OUTER JOIN \n",
      "    compliance_flat_sub_grupo_principal p ON s.cd_subgrupo_principal = p.codigo\n",
      "\n",
      "UNION ALL\n",
      "\n",
      "SELECT \n",
      "    f.CODIGO AS cd,\n",
      "    s.demanda_formacao,\n",
      "    INITCAP(s.grande_grupo) AS dsc_grande_grupo,\n",
      "    INITCAP(s.subgrupo_principal) AS dsc_subgrupo_principal,\n",
      "    INITCAP(s.subgrupo) AS dsc_subgrupo,\n",
      "    INITCAP(f.TITULO) AS dsc_formacao,\n",
      "    INITCAP(s.ocupacao) AS dsc_ocupacao,\n",
      "    'Família' AS dsc_nivel,\n",
      "    s.industrial_uniepro AS dsc_industrial_uniepro\n",
      "FROM \n",
      "    compliance_cbo_familia f\n",
      "LEFT JOIN \n",
      "    (SELECT \n",
      "        s.cd AS codigo,\n",
      "        p.demanda_formacao,\n",
      "        p.grande_grupo,\n",
      "        p.subgrupo_principal,\n",
      "        s.TITULO AS subgrupo,\n",
      "        p.familia,\n",
      "        p.ocupacao,\n",
      "        p.industrial_uniepro\n",
      "     FROM \n",
      "        compliance_cbo_sub_grupo s\n",
      "     LEFT OUTER JOIN \n",
      "        compliance_flat_sub_grupo_principal p ON s.cd_subgrupo_principal = p.codigo) AS s\n",
      "ON \n",
      "    f.cd_subgrupo = s.codigo\n",
      "\n",
      "UNION ALL\n",
      "\n",
      "SELECT \n",
      "    o.CODIGO AS cd,\n",
      "    f.demanda_formacao,\n",
      "    INITCAP(f.grande_grupo) AS dsc_grande_grupo,\n",
      "    INITCAP(f.subgrupo_principal) AS dsc_subgrupo_principal,\n",
      "    INITCAP(f.subgrupo) AS dsc_subgrupo,\n",
      "    INITCAP(f.familia) AS dsc_formacao,\n",
      "    INITCAP(o.TITULO) AS dsc_ocupacao,\n",
      "    'Ocupação' AS dsc_nivel,\n",
      "    f.industrial_uniepro AS dsc_industrial_uniepro\n",
      "FROM \n",
      "    compliance_cbo_ocupacao o\n",
      "LEFT JOIN \n",
      "    (SELECT \n",
      "        f.CODIGO AS cd,\n",
      "        s.demanda_formacao,\n",
      "        s.grande_grupo,\n",
      "        s.subgrupo_principal,\n",
      "        s.subgrupo,\n",
      "        f.TITULO AS familia,\n",
      "        s.ocupacao,\n",
      "        s.industrial_uniepro\n",
      "     FROM \n",
      "        compliance_cbo_familia f\n",
      "     LEFT JOIN \n",
      "        (SELECT \n",
      "            s.cd AS codigo,\n",
      "            p.demanda_formacao,\n",
      "            p.grande_grupo,\n",
      "            p.subgrupo_principal,\n",
      "            s.TITULO AS subgrupo,\n",
      "            p.familia,\n",
      "            p.ocupacao,\n",
      "            p.industrial_uniepro\n",
      "         FROM \n",
      "            compliance_cbo_sub_grupo s\n",
      "         LEFT OUTER JOIN \n",
      "            compliance_flat_sub_grupo_principal p ON s.cd_subgrupo_principal = p.codigo) AS s\n",
      "     ON \n",
      "        f.cd_subgrupo = s.codigo) AS f\n",
      "ON \n",
      "    o.cd_familia = f.cd\n",
      "\n",
      "UNION ALL\n",
      "\n",
      "SELECT \n",
      "    cd AS cd,\n",
      "    demanda_formacao,\n",
      "    INITCAP(grande_grupo) AS dsc_grande_grupo,\n",
      "    INITCAP(subgrupo_principal) AS dsc_subgrupo_principal,\n",
      "    INITCAP(subgrupo) AS dsc_subgrupo,\n",
      "    INITCAP(familia) AS dsc_formacao,\n",
      "    INITCAP(ocupacao) AS dsc_ocupacao,\n",
      "    'Grande Grupo' AS dsc_nivel,\n",
      "    industrial_uniepro AS dsc_industrial_uniepro\n",
      "FROM \n",
      "    compliance_cbo_grande_grupo\n",
      "\n",
      "UNION ALL\n",
      "\n",
      "SELECT \n",
      "    codigo AS cd,\n",
      "    demanda_formacao,\n",
      "    INITCAP(grande_grupo) AS dsc_grande_grupo,\n",
      "    INITCAP(subgrupo_principal) AS dsc_subgrupo_principal,\n",
      "    INITCAP(subgrupo) AS dsc_subgrupo,\n",
      "    INITCAP(familia) AS dsc_formacao,\n",
      "    INITCAP(ocupacao) AS dsc_ocupacao,     \n",
      "    'Subgrupo Principal' AS dsc_nivel,\n",
      "    industrial_uniepro AS dsc_industrial_uniepro\n",
      "FROM \n",
      "    compliance_flat_sub_grupo_principal;\n",
      " \n",
      "2024-10-15 13:52:52,613 - INFO - Query (Delta) executada com sucesso\n",
      "2024-10-15 13:52:52,614 - INFO - Tabela (Delta) preparada com sucesso.\n",
      "2024-10-15 13:52:52,615 - INFO - Aguarde... Persistindo dados (overwrite)\n",
      "2024-10-15 13:53:29,982 - INFO - Dados persistidos com sucesso\n",
      "2024-10-15 13:53:29,984 - INFO - s3a://gold/compliance/fato_mte_cbo\n",
      "2024-10-15 13:53:29,984 - INFO - Aguarde... Realizando optimize\n",
      "2024-10-15 13:53:33,461 - INFO - Optimize executado com sucesso.\n",
      "2024-10-15 13:53:33,462 - INFO - Aguarde... Realizando vacuum\n",
      "2024-10-15 13:53:45,958 - INFO - Vacuum executado com sucesso.\n",
      "2024-10-15 13:53:45,959 - INFO - Tabela (Delta) atualizado com sucesso\n"
     ]
    }
   ],
   "source": [
    "extrator_bronze.atualizar_tabela_delta('fato_mte_cbo')"
   ]
  },
  {
   "cell_type": "markdown",
   "id": "34d22cbf-23cd-4c7e-96cc-892024567776",
   "metadata": {},
   "source": [
    "# Encerra sessão spark"
   ]
  },
  {
   "cell_type": "code",
   "execution_count": 4,
   "id": "eb909129-dd70-46da-a2eb-0eb681aa0c21",
   "metadata": {},
   "outputs": [
    {
     "name": "stderr",
     "output_type": "stream",
     "text": [
      "2024-10-15 13:53:46,152 - INFO - Sessão Spark finalizada.\n"
     ]
    }
   ],
   "source": [
    "extrator_bronze.parar_sessao()"
   ]
  }
 ],
 "metadata": {
  "kernelspec": {
   "display_name": "Python 3 (ipykernel)",
   "language": "python",
   "name": "python3"
  },
  "language_info": {
   "codemirror_mode": {
    "name": "ipython",
    "version": 3
   },
   "file_extension": ".py",
   "mimetype": "text/x-python",
   "name": "python",
   "nbconvert_exporter": "python",
   "pygments_lexer": "ipython3",
   "version": "3.11.9"
  }
 },
 "nbformat": 4,
 "nbformat_minor": 5
}
