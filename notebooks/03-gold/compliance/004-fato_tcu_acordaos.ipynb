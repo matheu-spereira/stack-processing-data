{
 "cells": [
  {
   "cell_type": "markdown",
   "id": "a001425a-3df4-4aef-978f-37174bd36ee7",
   "metadata": {},
   "source": [
    "# Importação das bibliotecas necessárias"
   ]
  },
  {
   "cell_type": "code",
   "execution_count": 1,
   "id": "dab8b8dc-67ba-4ca1-8775-61b08adb510f",
   "metadata": {},
   "outputs": [],
   "source": [
    "import sys\n",
    "import os\n",
    "sys.path.append('/home/jovyan/work')\n",
    "\n",
    "from utils.AlinharETL import AlinharETL"
   ]
  },
  {
   "cell_type": "markdown",
   "id": "d0a5e00b-7698-4581-918a-9e66fc503228",
   "metadata": {},
   "source": [
    "# Crie uma instância da classe AlinharETL"
   ]
  },
  {
   "cell_type": "code",
   "execution_count": 2,
   "id": "2163db01-79e7-4bab-86d0-686ea5dae3e9",
   "metadata": {},
   "outputs": [
    {
     "name": "stderr",
     "output_type": "stream",
     "text": [
      "2024-10-15 13:54:10,733 - INFO - Iniciando Sessão Spark.\n"
     ]
    }
   ],
   "source": [
    "# Crie uma instância da classe\n",
    "bucket = \"gold\"\n",
    "datamart = \"compliance\"\n",
    "extrator_bronze = AlinharETL(bucket,datamart)"
   ]
  },
  {
   "cell_type": "markdown",
   "id": "7350ec1b-2f0f-42cf-bf58-8e6f03f342ab",
   "metadata": {},
   "source": [
    "# Gravação no datalake"
   ]
  },
  {
   "cell_type": "code",
   "execution_count": 3,
   "id": "afb20946-6a0e-4cb7-9a99-940375d68089",
   "metadata": {},
   "outputs": [
    {
     "name": "stderr",
     "output_type": "stream",
     "text": [
      "2024-10-15 13:54:15,279 - INFO - Aguarde... Atualizando tabela (Delta)\n",
      "2024-10-15 13:54:15,281 - INFO - Arquivo yaml carregada com sucesso\n",
      "2024-10-15 13:54:15,282 - INFO - ['/home/jovyan/work/yaml/gold/compliance/fato_tcu_acordaos.yaml']\n",
      "2024-10-15 13:54:15,294 - INFO - Aguarde... Preparando tabela (Delta)\n",
      "2024-10-15 13:54:15,295 - INFO - Arquivo yaml carregada com sucesso\n",
      "2024-10-15 13:54:15,296 - INFO - ['/home/jovyan/work/yaml/gold/compliance/fato_tcu_acordaos.yaml']\n",
      "2024-10-15 13:54:15,301 - INFO - Aguarde... Criando View (silver/tcu/fato_tcu_acordaos)\n",
      "2024-10-15 13:54:25,465 - INFO - View criada com sucesso\n",
      "2024-10-15 13:54:25,466 - INFO - Aguarde... Executando Query (Delta)\n",
      "2024-10-15 13:54:25,466 - INFO - SELECT \n",
      "   *\n",
      "FROM  compliance_flat_tcu\n",
      " \n",
      "2024-10-15 13:54:25,577 - INFO - Query (Delta) executada com sucesso\n",
      "2024-10-15 13:54:25,578 - INFO - Tabela (Delta) preparada com sucesso.\n",
      "2024-10-15 13:54:25,578 - INFO - Aguarde... Persistindo dados (overwrite)\n",
      "2024-10-15 13:54:43,539 - INFO - Dados persistidos com sucesso\n",
      "2024-10-15 13:54:43,541 - INFO - s3a://gold/compliance/fato_tcu_acordaos\n",
      "2024-10-15 13:54:43,541 - INFO - Aguarde... Realizando optimize\n",
      "2024-10-15 13:54:54,391 - INFO - Optimize executado com sucesso.\n",
      "2024-10-15 13:54:54,392 - INFO - Aguarde... Realizando vacuum\n",
      "2024-10-15 13:55:09,840 - INFO - Vacuum executado com sucesso.\n",
      "2024-10-15 13:55:09,841 - INFO - Tabela (Delta) atualizado com sucesso\n"
     ]
    }
   ],
   "source": [
    "extrator_bronze.atualizar_tabela_delta('fato_tcu_acordaos')"
   ]
  },
  {
   "cell_type": "markdown",
   "id": "4820520f-1b6c-4066-9e15-b752c5960d99",
   "metadata": {},
   "source": [
    "# Encerra sessão spark"
   ]
  },
  {
   "cell_type": "code",
   "execution_count": 4,
   "id": "eb909129-dd70-46da-a2eb-0eb681aa0c21",
   "metadata": {},
   "outputs": [
    {
     "name": "stderr",
     "output_type": "stream",
     "text": [
      "2024-10-15 13:55:10,078 - INFO - Sessão Spark finalizada.\n"
     ]
    }
   ],
   "source": [
    "extrator_bronze.parar_sessao()"
   ]
  }
 ],
 "metadata": {
  "kernelspec": {
   "display_name": "Python 3 (ipykernel)",
   "language": "python",
   "name": "python3"
  },
  "language_info": {
   "codemirror_mode": {
    "name": "ipython",
    "version": 3
   },
   "file_extension": ".py",
   "mimetype": "text/x-python",
   "name": "python",
   "nbconvert_exporter": "python",
   "pygments_lexer": "ipython3",
   "version": "3.11.9"
  }
 },
 "nbformat": 4,
 "nbformat_minor": 5
}
