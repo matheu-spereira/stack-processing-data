{
 "cells": [
  {
   "cell_type": "markdown",
   "id": "358f29a4-e93f-4eed-9f6a-dfb92712f8a2",
   "metadata": {},
   "source": [
    "# Importação das bibliotecas necessárias"
   ]
  },
  {
   "cell_type": "code",
   "execution_count": 1,
   "id": "dab8b8dc-67ba-4ca1-8775-61b08adb510f",
   "metadata": {},
   "outputs": [],
   "source": [
    "import sys\n",
    "import os\n",
    "sys.path.append('/home/jovyan/work')\n",
    "\n",
    "from utils.AlinharETL import AlinharETL"
   ]
  },
  {
   "cell_type": "markdown",
   "id": "b64108dc-c2dd-46bd-8f70-931ee7c286af",
   "metadata": {},
   "source": [
    "# Crie uma instância da classe AlinharETL"
   ]
  },
  {
   "cell_type": "code",
   "execution_count": 2,
   "id": "c1f6936f-fbe6-446a-b169-77242a4c786e",
   "metadata": {},
   "outputs": [
    {
     "name": "stderr",
     "output_type": "stream",
     "text": [
      "2024-10-15 13:46:26,940 - INFO - Iniciando Sessão Spark.\n"
     ]
    }
   ],
   "source": [
    "# Crie uma instância da classe\n",
    "bucket = \"gold\"\n",
    "datamart = \"compliance\"\n",
    "extrator_bronze = AlinharETL(bucket,datamart)"
   ]
  },
  {
   "cell_type": "markdown",
   "id": "faf8f070-2dd7-4109-ad7a-224eae82a640",
   "metadata": {},
   "source": [
    "# Gravação no datalake"
   ]
  },
  {
   "cell_type": "code",
   "execution_count": 3,
   "id": "5ad98943-225d-408a-a6de-dafc7f1c503a",
   "metadata": {},
   "outputs": [
    {
     "name": "stderr",
     "output_type": "stream",
     "text": [
      "2024-10-15 13:46:33,067 - INFO - Aguarde... Atualizando tabela (Delta)\n",
      "2024-10-15 13:46:33,069 - INFO - Arquivo yaml carregada com sucesso\n",
      "2024-10-15 13:46:33,069 - INFO - ['/home/jovyan/work/yaml/gold/compliance/fato_tcu_rlc_acordaos.yaml']\n",
      "2024-10-15 13:46:33,080 - INFO - Aguarde... Preparando tabela (Delta)\n",
      "2024-10-15 13:46:33,081 - INFO - Arquivo yaml carregada com sucesso\n",
      "2024-10-15 13:46:33,081 - INFO - ['/home/jovyan/work/yaml/gold/compliance/fato_tcu_rlc_acordaos.yaml']\n",
      "2024-10-15 13:46:33,086 - INFO - Aguarde... Criando View (silver/caravelal/fato_tcu_rlc_acordaos)\n",
      "2024-10-15 13:46:43,118 - INFO - View criada com sucesso\n",
      "2024-10-15 13:46:43,119 - INFO - Aguarde... Executando Query (Delta)\n",
      "2024-10-15 13:46:43,120 - INFO - SELECT\n",
      "   *\n",
      "FROM compliance_flat_tcu_rlc_acordaos\n",
      " \n",
      "2024-10-15 13:46:43,223 - INFO - Query (Delta) executada com sucesso\n",
      "2024-10-15 13:46:43,223 - INFO - Tabela (Delta) preparada com sucesso.\n",
      "2024-10-15 13:46:43,224 - INFO - Aguarde... Persistindo dados (overwrite)\n",
      "2024-10-15 13:46:57,027 - INFO - Dados persistidos com sucesso\n",
      "2024-10-15 13:46:57,027 - INFO - s3a://gold/compliance/fato_tcu_rlc_acordaos\n",
      "2024-10-15 13:46:57,028 - INFO - Aguarde... Realizando optimize\n",
      "2024-10-15 13:47:09,193 - INFO - Optimize executado com sucesso.\n",
      "2024-10-15 13:47:09,194 - INFO - Aguarde... Realizando vacuum\n",
      "2024-10-15 13:47:23,429 - INFO - Vacuum executado com sucesso.\n",
      "2024-10-15 13:47:23,431 - INFO - Tabela (Delta) atualizado com sucesso\n"
     ]
    }
   ],
   "source": [
    "extrator_bronze.atualizar_tabela_delta('fato_tcu_rlc_acordaos')"
   ]
  },
  {
   "cell_type": "markdown",
   "id": "b6540447-a172-41bb-89aa-9fea0961cc8f",
   "metadata": {},
   "source": [
    "# Encerra sessão spark"
   ]
  },
  {
   "cell_type": "code",
   "execution_count": 4,
   "id": "2168a1f2-217f-4c00-a42b-054c191c7f2f",
   "metadata": {},
   "outputs": [
    {
     "name": "stderr",
     "output_type": "stream",
     "text": [
      "2024-10-15 13:47:23,782 - INFO - Sessão Spark finalizada.\n"
     ]
    }
   ],
   "source": [
    "extrator_bronze.parar_sessao()"
   ]
  }
 ],
 "metadata": {
  "kernelspec": {
   "display_name": "Python 3 (ipykernel)",
   "language": "python",
   "name": "python3"
  },
  "language_info": {
   "codemirror_mode": {
    "name": "ipython",
    "version": 3
   },
   "file_extension": ".py",
   "mimetype": "text/x-python",
   "name": "python",
   "nbconvert_exporter": "python",
   "pygments_lexer": "ipython3",
   "version": "3.11.9"
  }
 },
 "nbformat": 4,
 "nbformat_minor": 5
}
