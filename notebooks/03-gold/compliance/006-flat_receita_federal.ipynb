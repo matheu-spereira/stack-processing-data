{
 "cells": [
  {
   "cell_type": "markdown",
   "id": "6f272c9b-90c4-4f48-817d-ddd166899a83",
   "metadata": {},
   "source": [
    "# Importação das bibliotecas necessárias"
   ]
  },
  {
   "cell_type": "code",
   "execution_count": 1,
   "id": "dab8b8dc-67ba-4ca1-8775-61b08adb510f",
   "metadata": {},
   "outputs": [],
   "source": [
    "import sys\n",
    "import os\n",
    "sys.path.append('/home/jovyan/work')\n",
    "\n",
    "from utils.AlinharETL import AlinharETL"
   ]
  },
  {
   "cell_type": "markdown",
   "id": "f1fa271d-7699-4477-89cd-4123c099487e",
   "metadata": {},
   "source": [
    "# Crie uma instância da classe AlinharETL"
   ]
  },
  {
   "cell_type": "code",
   "execution_count": 2,
   "id": "2163db01-79e7-4bab-86d0-686ea5dae3e9",
   "metadata": {},
   "outputs": [
    {
     "name": "stderr",
     "output_type": "stream",
     "text": [
      "2024-10-18 06:52:19,198 - INFO - Iniciando Sessão Spark.\n"
     ]
    }
   ],
   "source": [
    "# Crie uma instância da classe\n",
    "bucket = \"gold\"\n",
    "datamart = \"compliance\"\n",
    "extrator_bronze = AlinharETL(bucket,datamart)"
   ]
  },
  {
   "cell_type": "markdown",
   "id": "61367ef5-e743-46e5-a9b8-f557f00a0071",
   "metadata": {},
   "source": [
    "# Gravação no datalake"
   ]
  },
  {
   "cell_type": "code",
   "execution_count": 3,
   "id": "afb20946-6a0e-4cb7-9a99-940375d68089",
   "metadata": {},
   "outputs": [
    {
     "name": "stderr",
     "output_type": "stream",
     "text": [
      "2024-10-18 06:52:23,293 - INFO - Aguarde... Atualizando tabela (Delta)\n",
      "2024-10-18 06:52:23,295 - INFO - Arquivo yaml carregada com sucesso\n",
      "2024-10-18 06:52:23,296 - INFO - ['/home/jovyan/work/yaml/gold/compliance/flat_receita_federal.yaml']\n",
      "2024-10-18 06:52:23,310 - INFO - Aguarde... Preparando tabela (Delta)\n",
      "2024-10-18 06:52:23,310 - INFO - Arquivo yaml carregada com sucesso\n",
      "2024-10-18 06:52:23,311 - INFO - ['/home/jovyan/work/yaml/gold/compliance/flat_receita_federal.yaml']\n",
      "2024-10-18 06:52:23,318 - INFO - Aguarde... Criando View (silver/dadosabertosreceita/flat_estabelecimentos)\n",
      "2024-10-18 06:52:33,107 - INFO - View criada com sucesso\n",
      "2024-10-18 06:52:33,108 - INFO - Aguarde... Criando View (silver/dadosabertosreceita/dim_empresas)\n",
      "2024-10-18 06:52:33,489 - INFO - View criada com sucesso\n",
      "2024-10-18 06:52:33,490 - INFO - Aguarde... Criando View (silver/dadosabertosreceita/dim_motivos)\n",
      "2024-10-18 06:52:33,934 - INFO - View criada com sucesso\n",
      "2024-10-18 06:52:33,935 - INFO - Aguarde... Criando View (silver/dadosabertosreceita/dim_paises)\n",
      "2024-10-18 06:52:34,259 - INFO - View criada com sucesso\n",
      "2024-10-18 06:52:34,261 - INFO - Aguarde... Criando View (silver/dadosabertosreceita/dim_cnaes)\n",
      "2024-10-18 06:52:34,555 - INFO - View criada com sucesso\n",
      "2024-10-18 06:52:34,556 - INFO - Aguarde... Criando View (silver/dadosabertosreceita/dim_municipios)\n",
      "2024-10-18 06:52:34,839 - INFO - View criada com sucesso\n",
      "2024-10-18 06:52:34,840 - INFO - Aguarde... Executando Query (Delta)\n",
      "2024-10-18 06:52:34,841 - INFO - SELECT \n",
      "    CONCAT(\n",
      "        e.dsc_cnpj_basico,\n",
      "        e.dsc_cnpj_ordem,\n",
      "        e.dsc_cnpj_dv\n",
      "    ) AS cnpj,\n",
      "    e.dsc_situacao_cadastral,\n",
      "    e.cd_cnae_fiscal_principal,\n",
      "    e.cd_cnae_fiscal_secundaria,\n",
      "    j.nm_razao_social,\n",
      "    j.dsc_porte_empresa,\n",
      "    c.descricao AS dsc_cnae_fiscal_principal,\n",
      "    m.descricao AS dsc_municipio,\n",
      "    e.nm_fantasia, \n",
      "    mot.descricao AS dsc_motivo_situacao_cadastral,\n",
      "    e.dsc_telefone_1,\n",
      "    e.dsc_telefone_2,\n",
      "    e.dsc_matriz_filial\n",
      "FROM compliance_receita_estabelecimentos e\n",
      "LEFT JOIN compliance_receita_empresas j\n",
      "    ON e.dsc_cnpj_basico = j.cd_cnpj_basico\n",
      "LEFT JOIN compliance_receita_motivos mot\n",
      "    ON e.cd_motivo_situacao_cadastral = mot.codigo\n",
      "LEFT JOIN compliance_receita_paises p\n",
      "    ON e.cd_pais = p.codigo\n",
      "LEFT JOIN compliance_receita_cnaes c\n",
      "    ON e.cd_cnae_fiscal_principal = c.codigo\n",
      "LEFT JOIN compliance_receita_municipios m\n",
      "    ON e.cd_municipio = m.codigo\n",
      "WHERE e.uf = 'ES';\n",
      " \n",
      "2024-10-18 06:52:35,021 - INFO - Query (Delta) executada com sucesso\n",
      "2024-10-18 06:52:35,022 - INFO - Tabela (Delta) preparada com sucesso.\n",
      "2024-10-18 06:52:35,023 - INFO - Aguarde... Persistindo dados (overwrite)\n",
      "2024-10-18 06:53:38,528 - INFO - Dados persistidos com sucesso\n",
      "2024-10-18 06:53:38,530 - INFO - s3a://gold/compliance/flat_receita_federal\n",
      "2024-10-18 06:53:38,532 - INFO - Aguarde... Realizando optimize\n",
      "2024-10-18 06:53:55,101 - INFO - Optimize executado com sucesso.\n",
      "2024-10-18 06:53:55,102 - INFO - Aguarde... Realizando vacuum\n",
      "2024-10-18 06:54:08,957 - INFO - Vacuum executado com sucesso.\n",
      "2024-10-18 06:54:08,959 - INFO - Tabela (Delta) atualizado com sucesso\n"
     ]
    }
   ],
   "source": [
    "extrator_bronze.atualizar_tabela_delta('flat_receita_federal')"
   ]
  },
  {
   "cell_type": "markdown",
   "id": "74cdebc8-1cea-46ab-bd0e-62eaffaed68e",
   "metadata": {},
   "source": [
    "# Encerra sessão spark"
   ]
  },
  {
   "cell_type": "code",
   "execution_count": 4,
   "id": "eb909129-dd70-46da-a2eb-0eb681aa0c21",
   "metadata": {},
   "outputs": [
    {
     "name": "stderr",
     "output_type": "stream",
     "text": [
      "2024-10-18 06:54:09,225 - INFO - Sessão Spark finalizada.\n"
     ]
    }
   ],
   "source": [
    "extrator_bronze.parar_sessao()"
   ]
  }
 ],
 "metadata": {
  "kernelspec": {
   "display_name": "Python 3 (ipykernel)",
   "language": "python",
   "name": "python3"
  },
  "language_info": {
   "codemirror_mode": {
    "name": "ipython",
    "version": 3
   },
   "file_extension": ".py",
   "mimetype": "text/x-python",
   "name": "python",
   "nbconvert_exporter": "python",
   "pygments_lexer": "ipython3",
   "version": "3.11.9"
  }
 },
 "nbformat": 4,
 "nbformat_minor": 5
}
