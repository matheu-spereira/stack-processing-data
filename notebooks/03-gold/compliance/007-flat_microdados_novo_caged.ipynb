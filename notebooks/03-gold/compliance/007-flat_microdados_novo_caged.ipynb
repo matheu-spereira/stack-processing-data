{
 "cells": [
  {
   "cell_type": "markdown",
   "id": "84fe45dd-181d-4610-b11f-652b6ce03cf1",
   "metadata": {},
   "source": [
    "# Importação das bibliotecas necessárias"
   ]
  },
  {
   "cell_type": "code",
   "execution_count": 1,
   "id": "dab8b8dc-67ba-4ca1-8775-61b08adb510f",
   "metadata": {},
   "outputs": [],
   "source": [
    "import sys\n",
    "import os\n",
    "sys.path.append('/home/jovyan/work')\n",
    "\n",
    "from utils.AlinharETL import AlinharETL"
   ]
  },
  {
   "cell_type": "markdown",
   "id": "1c2785c7-c474-46c2-9c35-6fee6bdd3d31",
   "metadata": {},
   "source": [
    "# Crie uma instância da classe AlinharETL"
   ]
  },
  {
   "cell_type": "code",
   "execution_count": 2,
   "id": "2163db01-79e7-4bab-86d0-686ea5dae3e9",
   "metadata": {},
   "outputs": [
    {
     "name": "stderr",
     "output_type": "stream",
     "text": [
      "2024-10-15 14:10:59,659 - INFO - Iniciando Sessão Spark.\n"
     ]
    }
   ],
   "source": [
    "bucket = \"gold\"\n",
    "datamart = \"compliance\"\n",
    "extrator_bronze = AlinharETL(bucket,datamart)"
   ]
  },
  {
   "cell_type": "markdown",
   "id": "1374eeb8-aa15-4cd8-a28a-72c47d296720",
   "metadata": {},
   "source": [
    "# Gravação no datalake"
   ]
  },
  {
   "cell_type": "code",
   "execution_count": 3,
   "id": "5ad98943-225d-408a-a6de-dafc7f1c503a",
   "metadata": {},
   "outputs": [
    {
     "name": "stderr",
     "output_type": "stream",
     "text": [
      "2024-10-15 14:11:03,664 - INFO - Aguarde... Atualizando tabela (Delta)\n",
      "2024-10-15 14:11:03,666 - INFO - Arquivo yaml carregada com sucesso\n",
      "2024-10-15 14:11:03,666 - INFO - ['/home/jovyan/work/yaml/gold/compliance/flat_microdados_novo_caged.yaml']\n",
      "2024-10-15 14:11:03,683 - INFO - Aguarde... Preparando tabela (Delta)\n",
      "2024-10-15 14:11:03,684 - INFO - Arquivo yaml carregada com sucesso\n",
      "2024-10-15 14:11:03,684 - INFO - ['/home/jovyan/work/yaml/gold/compliance/flat_microdados_novo_caged.yaml']\n",
      "2024-10-15 14:11:03,693 - INFO - Aguarde... Criando View (silver/novocaged/flat_novo_caged)\n",
      "2024-10-15 14:11:13,534 - INFO - View criada com sucesso\n",
      "2024-10-15 14:11:13,536 - INFO - Aguarde... Criando View (silver/servicodadosibge/dim_ibge_cnae)\n",
      "2024-10-15 14:11:13,952 - INFO - View criada com sucesso\n",
      "2024-10-15 14:11:13,953 - INFO - Aguarde... Criando View (gold/compliance/fato_mte_cbo)\n",
      "2024-10-15 14:11:14,339 - INFO - View criada com sucesso\n",
      "2024-10-15 14:11:14,340 - INFO - Aguarde... Criando View (silver/novocaged/dim_novo_caged_municio)\n",
      "2024-10-15 14:11:14,829 - INFO - View criada com sucesso\n",
      "2024-10-15 14:11:14,830 - INFO - Aguarde... Criando View (silver/novocaged/dim_novo_caged_secao)\n",
      "2024-10-15 14:11:15,144 - INFO - View criada com sucesso\n",
      "2024-10-15 14:11:15,145 - INFO - Aguarde... Criando View (silver/novocaged/dim_novo_caged_subclasse)\n",
      "2024-10-15 14:11:15,464 - INFO - View criada com sucesso\n",
      "2024-10-15 14:11:15,465 - INFO - Aguarde... Criando View (silver/novocaged/dim_novo_caged_cbo_2002_ocupacao)\n",
      "2024-10-15 14:11:15,788 - INFO - View criada com sucesso\n",
      "2024-10-15 14:11:15,789 - INFO - Aguarde... Criando View (silver/novocaged/dim_novo_caged_tipo_movimentacao)\n",
      "2024-10-15 14:11:16,088 - INFO - View criada com sucesso\n",
      "2024-10-15 14:11:16,089 - INFO - Aguarde... Criando View (silver/novocaged/dim_novo_caged_indicador_aprendiz)\n",
      "2024-10-15 14:11:16,327 - INFO - View criada com sucesso\n",
      "2024-10-15 14:11:16,328 - INFO - Aguarde... Executando Query (Delta)\n",
      "2024-10-15 14:11:16,329 - INFO - SELECT\n",
      "    to_date(concat_ws('-', substring(caged.dsc_competencia_mov, 1, 4), substring(caged.dsc_competencia_mov, 5, 2), '01'), 'yyyy-MM-dd') AS dsc_competencia_mov,\n",
      "    compliance_caged_municipio.descricao AS dsc_municipio,\n",
      "    compliance_caged_secao.descricao AS dsc_secao,\n",
      "    compliance_caged_subclasse.descricao AS dsc_subclasse,\n",
      "    caged.dsc_saldo_movimentacao,\n",
      "    compliance_caged_cbo2002ocupacao.descricao AS dsc_cbo_ocupacao,\n",
      "    caged.vl_horas_contratuais,\n",
      "    compliance_caged_tipomovimentacao.descricao AS dsc_tipo_movimentacao,\n",
      "    caged.vl_salario,\n",
      "    compliance_caged_indicadoraprendiz.descricao AS dsc_indicador_aprendiz,\n",
      "    caged.vl_salario_fixo,\n",
      "    compliance_cnae.dsc_divisao,\n",
      "    compliance_cnae.dsc_grupo,\n",
      "    compliance_cnae.dsc_classe, \n",
      "    compliance_cbo.dsc_grande_grupo,\n",
      "    compliance_cbo.dsc_subgrupo_principal,\n",
      "    compliance_cbo.dsc_subgrupo,\n",
      "    compliance_cbo.demanda_formacao as dsc_demanda_formacao,\n",
      "    compliance_cbo.dsc_industrial_uniepro\n",
      "FROM compliance_caged caged\n",
      "LEFT JOIN compliance_caged_municipio ON caged.cd_municipio = compliance_caged_municipio.codigo \n",
      "LEFT JOIN compliance_caged_secao ON caged.cd_secao = compliance_caged_secao.codigo \n",
      "LEFT JOIN compliance_caged_subclasse ON caged.cd_subclasse = compliance_caged_subclasse.codigo \n",
      "LEFT JOIN compliance_caged_cbo2002ocupacao ON caged.cd_cbo_ocupacao = compliance_caged_cbo2002ocupacao.codigo \n",
      "LEFT JOIN compliance_caged_tipomovimentacao ON caged.cd_tipo_movimentacao = compliance_caged_tipomovimentacao.codigo \n",
      "LEFT JOIN compliance_caged_indicadoraprendiz ON caged.cd_indicador_aprendiz = compliance_caged_indicadoraprendiz.codigo \n",
      "LEFT JOIN compliance_cnae ON caged.cd_subclasse = compliance_cnae.sk_cnae\n",
      "LEFT JOIN compliance_cbo ON caged.cd_cbo_ocupacao = compliance_cbo.cd\n",
      " \n",
      "2024-10-15 14:11:16,586 - INFO - Query (Delta) executada com sucesso\n",
      "2024-10-15 14:11:16,587 - INFO - Tabela (Delta) preparada com sucesso.\n",
      "2024-10-15 14:11:16,587 - INFO - Aguarde... Persistindo dados (overwrite)\n",
      "2024-10-15 14:12:12,836 - INFO - Dados persistidos com sucesso\n",
      "2024-10-15 14:12:12,837 - INFO - s3a://gold/compliance/flat_microdados_novo_caged\n",
      "2024-10-15 14:12:12,838 - INFO - Aguarde... Realizando optimize\n",
      "2024-10-15 14:12:15,003 - INFO - Optimize executado com sucesso.\n",
      "2024-10-15 14:12:15,005 - INFO - Aguarde... Realizando vacuum\n",
      "2024-10-15 14:12:31,695 - INFO - Vacuum executado com sucesso.\n",
      "2024-10-15 14:12:31,697 - INFO - Tabela (Delta) atualizado com sucesso\n"
     ]
    }
   ],
   "source": [
    "extrator_bronze.atualizar_tabela_delta('flat_microdados_novo_caged')"
   ]
  },
  {
   "cell_type": "markdown",
   "id": "d9b19d66-7587-49e8-8bbb-ce2801ed772b",
   "metadata": {},
   "source": [
    "# Encerra sessão spark"
   ]
  },
  {
   "cell_type": "code",
   "execution_count": 4,
   "id": "2168a1f2-217f-4c00-a42b-054c191c7f2f",
   "metadata": {},
   "outputs": [
    {
     "name": "stderr",
     "output_type": "stream",
     "text": [
      "2024-10-15 14:12:32,040 - INFO - Sessão Spark finalizada.\n"
     ]
    }
   ],
   "source": [
    "extrator_bronze.parar_sessao()"
   ]
  }
 ],
 "metadata": {
  "kernelspec": {
   "display_name": "Python 3 (ipykernel)",
   "language": "python",
   "name": "python3"
  },
  "language_info": {
   "codemirror_mode": {
    "name": "ipython",
    "version": 3
   },
   "file_extension": ".py",
   "mimetype": "text/x-python",
   "name": "python",
   "nbconvert_exporter": "python",
   "pygments_lexer": "ipython3",
   "version": "3.11.9"
  }
 },
 "nbformat": 4,
 "nbformat_minor": 5
}
