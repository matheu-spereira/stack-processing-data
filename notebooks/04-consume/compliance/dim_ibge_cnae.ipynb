{
 "cells": [
  {
   "cell_type": "markdown",
   "id": "e80acc0e-fffe-4152-b246-361e00775189",
   "metadata": {},
   "source": [
    "# Importação das bibliotecas necessárias"
   ]
  },
  {
   "cell_type": "code",
   "execution_count": 1,
   "id": "dab8b8dc-67ba-4ca1-8775-61b08adb510f",
   "metadata": {},
   "outputs": [],
   "source": [
    "import sys\n",
    "import os\n",
    "sys.path.append('/home/jovyan/work')\n",
    "\n",
    "from utils.AlinharETL import AlinharETL"
   ]
  },
  {
   "cell_type": "markdown",
   "id": "8b26ef43-d49c-4227-bde5-a37abcd42ee7",
   "metadata": {},
   "source": [
    "# Crie uma instância da classe AlinharETL"
   ]
  },
  {
   "cell_type": "code",
   "execution_count": 2,
   "id": "2163db01-79e7-4bab-86d0-686ea5dae3e9",
   "metadata": {},
   "outputs": [
    {
     "name": "stderr",
     "output_type": "stream",
     "text": [
      "2024-10-18 07:07:04,882 - INFO - Iniciando Sessão Spark.\n"
     ]
    }
   ],
   "source": [
    "# Crie uma instância da classe\n",
    "bucket = \"gold\"\n",
    "datamart = \"compliance\"\n",
    "extrator = AlinharETL(bucket,datamart)"
   ]
  },
  {
   "cell_type": "markdown",
   "id": "19b7d609-0743-408b-8acf-bf293a02160c",
   "metadata": {},
   "source": [
    "# Carrega tabela Delta"
   ]
  },
  {
   "cell_type": "code",
   "execution_count": 3,
   "id": "f6820aec-0eb7-4859-bee6-5a1a4bc52e65",
   "metadata": {},
   "outputs": [
    {
     "name": "stderr",
     "output_type": "stream",
     "text": [
      "2024-10-18 07:07:12,345 - INFO - Arquivo yaml carregada com sucesso\n",
      "2024-10-18 07:07:12,346 - INFO - ['/home/jovyan/work/yaml/gold/compliance/dim_ibge_cnae.yaml']\n",
      "2024-10-18 07:07:12,358 - INFO - Aguarde... Carregando dados\n",
      "2024-10-18 07:07:27,000 - INFO - Dados carregado com sucesso\n"
     ]
    },
    {
     "data": {
      "text/plain": [
       "DataFrame[sk_cnae: string, dsc_classe: string, dsc_subclasse: string, dsc_industria: string, dt_atualizacao: timestamp]"
      ]
     },
     "execution_count": 3,
     "metadata": {},
     "output_type": "execute_result"
    }
   ],
   "source": [
    "extrator.carrega_dados_delta('dim_ibge_cnae')"
   ]
  },
  {
   "cell_type": "code",
   "execution_count": 4,
   "id": "4bd1dec9-aed4-40d4-9b13-a81c4bb03c2d",
   "metadata": {},
   "outputs": [
    {
     "name": "stderr",
     "output_type": "stream",
     "text": [
      "2024-10-18 07:07:27,046 - INFO - Aguarde... Configurando conexao banco de dados\n"
     ]
    }
   ],
   "source": [
    "extrator.conexao_banco_de_dados('sqlserver',os.getenv('DB_DESTINO_HOST'),os.getenv('DB_DESTINO_PORT'),os.getenv('DB_DESTINO_USER'),os.getenv('DB_DESTINO_PASSWORD'),os.getenv('DB_DESTINO_DATABASE'),os.getenv('DB_DESTINO_SCHEMA'))"
   ]
  },
  {
   "cell_type": "markdown",
   "id": "3db9f0d5-5bfd-4ccf-8819-ac9c2e8470b9",
   "metadata": {},
   "source": [
    "# Gravação no banco de dados"
   ]
  },
  {
   "cell_type": "code",
   "execution_count": 5,
   "id": "cad47feb-9c38-42d8-83a8-ff3795ae5e7b",
   "metadata": {},
   "outputs": [
    {
     "name": "stderr",
     "output_type": "stream",
     "text": [
      "2024-10-18 07:07:27,055 - INFO - Aguarde... Persistindo os dados camada Consume\n",
      "2024-10-18 07:07:40,849 - INFO - Camada Consume persistida com sucesso\n",
      "2024-10-18 07:07:40,851 - INFO - dw.compliance_dim_ibge_cnae\n"
     ]
    }
   ],
   "source": [
    "extrator.persistencia_consume('compliance_dim_ibge_cnae')"
   ]
  },
  {
   "cell_type": "markdown",
   "id": "8d2493cc-beae-423c-aa4e-dd3c0352987a",
   "metadata": {},
   "source": [
    "# Encerra sessão spark"
   ]
  },
  {
   "cell_type": "code",
   "execution_count": 6,
   "id": "dd25077a-b942-4244-b8b5-54e14fe2ff97",
   "metadata": {},
   "outputs": [
    {
     "name": "stderr",
     "output_type": "stream",
     "text": [
      "2024-10-18 07:07:41,048 - INFO - Sessão Spark finalizada.\n"
     ]
    }
   ],
   "source": [
    "extrator.parar_sessao()"
   ]
  }
 ],
 "metadata": {
  "kernelspec": {
   "display_name": "Python 3 (ipykernel)",
   "language": "python",
   "name": "python3"
  },
  "language_info": {
   "codemirror_mode": {
    "name": "ipython",
    "version": 3
   },
   "file_extension": ".py",
   "mimetype": "text/x-python",
   "name": "python",
   "nbconvert_exporter": "python",
   "pygments_lexer": "ipython3",
   "version": "3.11.9"
  }
 },
 "nbformat": 4,
 "nbformat_minor": 5
}
