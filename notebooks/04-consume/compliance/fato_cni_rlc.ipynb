{
 "cells": [
  {
   "cell_type": "markdown",
   "id": "0b94a002-039c-42c7-8104-a73755628c2e",
   "metadata": {},
   "source": [
    "# Importação das bibliotecas necessárias"
   ]
  },
  {
   "cell_type": "code",
   "execution_count": 1,
   "id": "dab8b8dc-67ba-4ca1-8775-61b08adb510f",
   "metadata": {},
   "outputs": [],
   "source": [
    "import sys\n",
    "import os\n",
    "sys.path.append('/home/jovyan/work')\n",
    "\n",
    "from utils.AlinharETL import AlinharETL"
   ]
  },
  {
   "cell_type": "markdown",
   "id": "2d3d0f83-2b85-44e6-bb23-d59bbb4e2f9a",
   "metadata": {},
   "source": [
    "# Crie uma instância da classe AlinharETL"
   ]
  },
  {
   "cell_type": "code",
   "execution_count": 2,
   "id": "2163db01-79e7-4bab-86d0-686ea5dae3e9",
   "metadata": {},
   "outputs": [
    {
     "name": "stderr",
     "output_type": "stream",
     "text": [
      "2024-10-18 07:07:00,436 - INFO - Iniciando Sessão Spark.\n"
     ]
    }
   ],
   "source": [
    "# Crie uma instância da classe\n",
    "bucket = \"gold\"\n",
    "datamart = \"compliance\"\n",
    "extrator = AlinharETL(bucket,datamart)"
   ]
  },
  {
   "cell_type": "markdown",
   "id": "11568826-92b4-4e1d-99d4-9b69a790d649",
   "metadata": {},
   "source": [
    "# Carrega tabela Delta"
   ]
  },
  {
   "cell_type": "code",
   "execution_count": 3,
   "id": "f6820aec-0eb7-4859-bee6-5a1a4bc52e65",
   "metadata": {},
   "outputs": [
    {
     "name": "stderr",
     "output_type": "stream",
     "text": [
      "2024-10-18 07:07:06,654 - INFO - Arquivo yaml carregada com sucesso\n",
      "2024-10-18 07:07:06,656 - INFO - ['/home/jovyan/work/yaml/gold/compliance/fato_cni_rlc.yaml']\n",
      "2024-10-18 07:07:06,667 - INFO - Aguarde... Carregando dados\n",
      "2024-10-18 07:07:23,236 - INFO - Dados carregado com sucesso\n"
     ]
    },
    {
     "data": {
      "text/plain": [
       "DataFrame[titulo_capitulo: string, id: string, titulo_secao: string, num_art: string, num_inci: string, texto: string, dt_carga: string, instituição: string, tipo: string, num_capitulo: string, num_secao: string, num_para: string, num_alin: string, comentario: string, dt_atualizacao: timestamp]"
      ]
     },
     "execution_count": 3,
     "metadata": {},
     "output_type": "execute_result"
    }
   ],
   "source": [
    "extrator.carrega_dados_delta('fato_cni_rlc')"
   ]
  },
  {
   "cell_type": "code",
   "execution_count": 4,
   "id": "4bd1dec9-aed4-40d4-9b13-a81c4bb03c2d",
   "metadata": {},
   "outputs": [
    {
     "name": "stderr",
     "output_type": "stream",
     "text": [
      "2024-10-18 07:07:23,277 - INFO - Aguarde... Configurando conexao banco de dados\n"
     ]
    }
   ],
   "source": [
    "extrator.conexao_banco_de_dados('sqlserver',os.getenv('DB_DESTINO_HOST'),os.getenv('DB_DESTINO_PORT'),os.getenv('DB_DESTINO_USER'),os.getenv('DB_DESTINO_PASSWORD'),os.getenv('DB_DESTINO_DATABASE'),os.getenv('DB_DESTINO_SCHEMA'))"
   ]
  },
  {
   "cell_type": "markdown",
   "id": "b07dc08d-97fd-49de-937a-81e8df16aa2e",
   "metadata": {},
   "source": [
    "# Gravação no banco de dados"
   ]
  },
  {
   "cell_type": "code",
   "execution_count": 5,
   "id": "cad47feb-9c38-42d8-83a8-ff3795ae5e7b",
   "metadata": {},
   "outputs": [
    {
     "name": "stderr",
     "output_type": "stream",
     "text": [
      "2024-10-18 07:07:23,323 - INFO - Aguarde... Persistindo os dados camada Consume\n",
      "2024-10-18 07:07:38,361 - INFO - Camada Consume persistida com sucesso\n",
      "2024-10-18 07:07:38,362 - INFO - dw.compliance_fato_cni_rlc\n"
     ]
    }
   ],
   "source": [
    "extrator.persistencia_consume('compliance_fato_cni_rlc')"
   ]
  },
  {
   "cell_type": "markdown",
   "id": "cf4c26f8-13c9-4bdd-8bb7-24fda8f8008a",
   "metadata": {},
   "source": [
    "# Encerra sessão spark"
   ]
  },
  {
   "cell_type": "code",
   "execution_count": 6,
   "id": "dd25077a-b942-4244-b8b5-54e14fe2ff97",
   "metadata": {},
   "outputs": [
    {
     "name": "stderr",
     "output_type": "stream",
     "text": [
      "2024-10-18 07:07:38,735 - INFO - Sessão Spark finalizada.\n"
     ]
    }
   ],
   "source": [
    "extrator.parar_sessao()"
   ]
  }
 ],
 "metadata": {
  "kernelspec": {
   "display_name": "Python 3 (ipykernel)",
   "language": "python",
   "name": "python3"
  },
  "language_info": {
   "codemirror_mode": {
    "name": "ipython",
    "version": 3
   },
   "file_extension": ".py",
   "mimetype": "text/x-python",
   "name": "python",
   "nbconvert_exporter": "python",
   "pygments_lexer": "ipython3",
   "version": "3.11.9"
  }
 },
 "nbformat": 4,
 "nbformat_minor": 5
}
