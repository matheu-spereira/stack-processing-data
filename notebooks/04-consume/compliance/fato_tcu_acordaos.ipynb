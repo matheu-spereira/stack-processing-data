{
 "cells": [
  {
   "cell_type": "markdown",
   "id": "f2b95733-c0f4-4693-9bf5-86acd810d65d",
   "metadata": {},
   "source": [
    "# Importação das bibliotecas necessárias"
   ]
  },
  {
   "cell_type": "code",
   "execution_count": 1,
   "id": "dab8b8dc-67ba-4ca1-8775-61b08adb510f",
   "metadata": {},
   "outputs": [],
   "source": [
    "import sys\n",
    "import os\n",
    "sys.path.append('/home/jovyan/work')\n",
    "\n",
    "from utils.AlinharETL import AlinharETL"
   ]
  },
  {
   "cell_type": "markdown",
   "id": "4ad98abe-45eb-4ebd-a184-69cad2a5183e",
   "metadata": {},
   "source": [
    "# Crie uma instância da classe AlinharETL"
   ]
  },
  {
   "cell_type": "code",
   "execution_count": 2,
   "id": "2163db01-79e7-4bab-86d0-686ea5dae3e9",
   "metadata": {},
   "outputs": [
    {
     "name": "stderr",
     "output_type": "stream",
     "text": [
      "2024-10-18 07:05:03,884 - INFO - Iniciando Sessão Spark.\n"
     ]
    }
   ],
   "source": [
    "# Crie uma instância da classe\n",
    "bucket = \"gold\"\n",
    "datamart = \"compliance\"\n",
    "extrator = AlinharETL(bucket,datamart)"
   ]
  },
  {
   "cell_type": "markdown",
   "id": "8d643bff-bcaa-4004-822a-67b66b3d1b79",
   "metadata": {},
   "source": [
    "# Carrega tabela Delta"
   ]
  },
  {
   "cell_type": "code",
   "execution_count": 3,
   "id": "f6820aec-0eb7-4859-bee6-5a1a4bc52e65",
   "metadata": {},
   "outputs": [
    {
     "name": "stderr",
     "output_type": "stream",
     "text": [
      "2024-10-18 07:05:07,877 - INFO - Arquivo yaml carregada com sucesso\n",
      "2024-10-18 07:05:07,879 - INFO - ['/home/jovyan/work/yaml/gold/compliance/fato_tcu_acordaos.yaml']\n",
      "2024-10-18 07:05:07,888 - INFO - Aguarde... Carregando dados\n",
      "2024-10-18 07:05:16,997 - INFO - Dados carregado com sucesso\n"
     ]
    },
    {
     "data": {
      "text/plain": [
       "DataFrame[id: int, key_acordao: string, numacordao: string, datasessao: date, colegiado: string, assunto: string, numata: string, proc: string, proc_acordao: string, relator: string, sumario: string, sistema_s: string, entidade: string, anoacordao: string, tipo: string, dt_atualizacao: timestamp]"
      ]
     },
     "execution_count": 3,
     "metadata": {},
     "output_type": "execute_result"
    }
   ],
   "source": [
    "extrator.carrega_dados_delta('fato_tcu_acordaos')"
   ]
  },
  {
   "cell_type": "code",
   "execution_count": 4,
   "id": "4bd1dec9-aed4-40d4-9b13-a81c4bb03c2d",
   "metadata": {},
   "outputs": [
    {
     "name": "stderr",
     "output_type": "stream",
     "text": [
      "2024-10-18 07:05:17,038 - INFO - Aguarde... Configurando conexao banco de dados\n"
     ]
    }
   ],
   "source": [
    "extrator.conexao_banco_de_dados('sqlserver',os.getenv('DB_DESTINO_HOST'),os.getenv('DB_DESTINO_PORT'),os.getenv('DB_DESTINO_USER'),os.getenv('DB_DESTINO_PASSWORD'),os.getenv('DB_DESTINO_DATABASE'),os.getenv('DB_DESTINO_SCHEMA'))"
   ]
  },
  {
   "cell_type": "markdown",
   "id": "c1190c8c-f013-4a4f-bb29-a25a6780ad85",
   "metadata": {},
   "source": [
    "# Gravação no banco de dados"
   ]
  },
  {
   "cell_type": "code",
   "execution_count": 5,
   "id": "cad47feb-9c38-42d8-83a8-ff3795ae5e7b",
   "metadata": {},
   "outputs": [
    {
     "name": "stderr",
     "output_type": "stream",
     "text": [
      "2024-10-18 07:05:17,044 - INFO - Aguarde... Persistindo os dados camada Consume\n",
      "2024-10-18 07:06:09,092 - INFO - Camada Consume persistida com sucesso\n",
      "2024-10-18 07:06:09,094 - INFO - dw.compliance_fato_tcu_acordaos\n"
     ]
    }
   ],
   "source": [
    "extrator.persistencia_consume('compliance_fato_tcu_acordaos')"
   ]
  },
  {
   "cell_type": "markdown",
   "id": "cc654e49-dde8-4381-8b37-24d68e1480e4",
   "metadata": {},
   "source": [
    "# Encerra sessão spark"
   ]
  },
  {
   "cell_type": "code",
   "execution_count": 6,
   "id": "dd25077a-b942-4244-b8b5-54e14fe2ff97",
   "metadata": {},
   "outputs": [
    {
     "name": "stderr",
     "output_type": "stream",
     "text": [
      "2024-10-18 07:06:09,209 - INFO - Sessão Spark finalizada.\n"
     ]
    }
   ],
   "source": [
    "extrator.parar_sessao()"
   ]
  }
 ],
 "metadata": {
  "kernelspec": {
   "display_name": "Python 3 (ipykernel)",
   "language": "python",
   "name": "python3"
  },
  "language_info": {
   "codemirror_mode": {
    "name": "ipython",
    "version": 3
   },
   "file_extension": ".py",
   "mimetype": "text/x-python",
   "name": "python",
   "nbconvert_exporter": "python",
   "pygments_lexer": "ipython3",
   "version": "3.11.9"
  }
 },
 "nbformat": 4,
 "nbformat_minor": 5
}
