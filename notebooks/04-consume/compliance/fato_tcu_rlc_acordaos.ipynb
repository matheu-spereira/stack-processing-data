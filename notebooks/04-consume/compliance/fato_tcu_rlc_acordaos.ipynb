{
 "cells": [
  {
   "cell_type": "markdown",
   "id": "9434f69b-3132-4baa-9cba-879685a106b8",
   "metadata": {},
   "source": [
    "# Importação das bibliotecas necessárias"
   ]
  },
  {
   "cell_type": "code",
   "execution_count": 1,
   "id": "dab8b8dc-67ba-4ca1-8775-61b08adb510f",
   "metadata": {},
   "outputs": [],
   "source": [
    "import sys\n",
    "import os\n",
    "sys.path.append('/home/jovyan/work')\n",
    "\n",
    "from utils.AlinharETL import AlinharETL"
   ]
  },
  {
   "cell_type": "markdown",
   "id": "f26315ad-e014-4e9e-bddd-dcfcf4e4bd35",
   "metadata": {},
   "source": [
    "# Crie uma instância da classe AlinharETL"
   ]
  },
  {
   "cell_type": "code",
   "execution_count": 2,
   "id": "2163db01-79e7-4bab-86d0-686ea5dae3e9",
   "metadata": {},
   "outputs": [
    {
     "name": "stderr",
     "output_type": "stream",
     "text": [
      "2024-10-18 07:02:05,923 - INFO - Iniciando Sessão Spark.\n"
     ]
    }
   ],
   "source": [
    "# Crie uma instância da classe\n",
    "bucket = \"gold\"\n",
    "datamart = \"compliance\"\n",
    "extrator = AlinharETL(bucket,datamart)"
   ]
  },
  {
   "cell_type": "markdown",
   "id": "9e878ad6-99c8-4e51-ae61-b33f75e0b799",
   "metadata": {},
   "source": [
    "# Carrega tabela Delta"
   ]
  },
  {
   "cell_type": "code",
   "execution_count": 3,
   "id": "f6820aec-0eb7-4859-bee6-5a1a4bc52e65",
   "metadata": {},
   "outputs": [
    {
     "name": "stderr",
     "output_type": "stream",
     "text": [
      "2024-10-18 07:02:09,832 - INFO - Arquivo yaml carregada com sucesso\n",
      "2024-10-18 07:02:09,833 - INFO - ['/home/jovyan/work/yaml/gold/compliance/fato_tcu_rlc_acordaos.yaml']\n",
      "2024-10-18 07:02:09,843 - INFO - Aguarde... Carregando dados\n",
      "2024-10-18 07:02:19,158 - INFO - Dados carregado com sucesso\n"
     ]
    },
    {
     "data": {
      "text/plain": [
       "DataFrame[id: string, posicao: string, numacordao: string, proc_acordao: string, sistema_s: string, id_rlc: string, similaridade: string, key_acordao: string, datasessao: string, entidade: string, dt_carga: string, dt_atualizacao: timestamp]"
      ]
     },
     "execution_count": 3,
     "metadata": {},
     "output_type": "execute_result"
    }
   ],
   "source": [
    "extrator.carrega_dados_delta('fato_tcu_rlc_acordaos')"
   ]
  },
  {
   "cell_type": "code",
   "execution_count": 4,
   "id": "4bd1dec9-aed4-40d4-9b13-a81c4bb03c2d",
   "metadata": {},
   "outputs": [
    {
     "name": "stderr",
     "output_type": "stream",
     "text": [
      "2024-10-18 07:02:19,200 - INFO - Aguarde... Configurando conexao banco de dados\n"
     ]
    }
   ],
   "source": [
    "extrator.conexao_banco_de_dados('sqlserver',os.getenv('DB_DESTINO_HOST'),os.getenv('DB_DESTINO_PORT'),os.getenv('DB_DESTINO_USER'),os.getenv('DB_DESTINO_PASSWORD'),os.getenv('DB_DESTINO_DATABASE'),os.getenv('DB_DESTINO_SCHEMA'))"
   ]
  },
  {
   "cell_type": "markdown",
   "id": "3ff6592b-e805-40da-acde-f742c4b75f61",
   "metadata": {},
   "source": [
    "# Gravação no banco de dados"
   ]
  },
  {
   "cell_type": "code",
   "execution_count": 5,
   "id": "cad47feb-9c38-42d8-83a8-ff3795ae5e7b",
   "metadata": {},
   "outputs": [
    {
     "name": "stderr",
     "output_type": "stream",
     "text": [
      "2024-10-18 07:02:19,206 - INFO - Aguarde... Persistindo os dados camada Consume\n",
      "2024-10-18 07:02:30,114 - INFO - Camada Consume persistida com sucesso\n",
      "2024-10-18 07:02:30,115 - INFO - dw.compliance_fato_tcu_rlc_acordaos\n"
     ]
    }
   ],
   "source": [
    "extrator.persistencia_consume('compliance_fato_tcu_rlc_acordaos')"
   ]
  },
  {
   "cell_type": "markdown",
   "id": "0e4a4a55-8cbf-4b0f-8616-fccbf9c35cb0",
   "metadata": {},
   "source": [
    "# Encerra sessão spark"
   ]
  },
  {
   "cell_type": "code",
   "execution_count": 6,
   "id": "dd25077a-b942-4244-b8b5-54e14fe2ff97",
   "metadata": {},
   "outputs": [
    {
     "name": "stderr",
     "output_type": "stream",
     "text": [
      "2024-10-18 07:02:30,602 - INFO - Sessão Spark finalizada.\n"
     ]
    }
   ],
   "source": [
    "extrator.parar_sessao()"
   ]
  }
 ],
 "metadata": {
  "kernelspec": {
   "display_name": "Python 3 (ipykernel)",
   "language": "python",
   "name": "python3"
  },
  "language_info": {
   "codemirror_mode": {
    "name": "ipython",
    "version": 3
   },
   "file_extension": ".py",
   "mimetype": "text/x-python",
   "name": "python",
   "nbconvert_exporter": "python",
   "pygments_lexer": "ipython3",
   "version": "3.11.9"
  }
 },
 "nbformat": 4,
 "nbformat_minor": 5
}
