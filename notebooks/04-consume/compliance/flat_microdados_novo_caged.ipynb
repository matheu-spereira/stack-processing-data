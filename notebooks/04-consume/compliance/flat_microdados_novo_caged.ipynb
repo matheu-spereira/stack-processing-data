{
 "cells": [
  {
   "cell_type": "markdown",
   "id": "7932b4d4-9bc2-4e80-a3bd-308a3269daaa",
   "metadata": {},
   "source": [
    "# Importação das bibliotecas necessárias"
   ]
  },
  {
   "cell_type": "code",
   "execution_count": 1,
   "id": "dab8b8dc-67ba-4ca1-8775-61b08adb510f",
   "metadata": {},
   "outputs": [],
   "source": [
    "import sys\n",
    "import os\n",
    "sys.path.append('/home/jovyan/work')\n",
    "\n",
    "from utils.AlinharETL import AlinharETL"
   ]
  },
  {
   "cell_type": "markdown",
   "id": "1f3e722b-42c4-4bc7-aa44-a81350063b9a",
   "metadata": {},
   "source": [
    "# Crie uma instância da classe AlinharETL"
   ]
  },
  {
   "cell_type": "code",
   "execution_count": 2,
   "id": "2163db01-79e7-4bab-86d0-686ea5dae3e9",
   "metadata": {},
   "outputs": [
    {
     "name": "stderr",
     "output_type": "stream",
     "text": [
      "2024-10-18 06:58:26,920 - INFO - Iniciando Sessão Spark.\n"
     ]
    }
   ],
   "source": [
    "# Crie uma instância da classe\n",
    "bucket = \"gold\"\n",
    "datamart = \"compliance\"\n",
    "extrator = AlinharETL(bucket,datamart)"
   ]
  },
  {
   "cell_type": "markdown",
   "id": "b190cc08-da36-43ae-8b58-59f2e815b236",
   "metadata": {},
   "source": [
    "# Carrega tabela Delta"
   ]
  },
  {
   "cell_type": "code",
   "execution_count": 3,
   "id": "f6820aec-0eb7-4859-bee6-5a1a4bc52e65",
   "metadata": {},
   "outputs": [
    {
     "name": "stderr",
     "output_type": "stream",
     "text": [
      "2024-10-18 06:58:30,908 - INFO - Arquivo yaml carregada com sucesso\n",
      "2024-10-18 06:58:30,909 - INFO - ['/home/jovyan/work/yaml/gold/compliance/flat_microdados_novo_caged.yaml']\n",
      "2024-10-18 06:58:30,927 - INFO - Aguarde... Carregando dados\n",
      "2024-10-18 06:58:40,421 - INFO - Dados carregado com sucesso\n"
     ]
    },
    {
     "data": {
      "text/plain": [
       "DataFrame[dsc_competencia_mov: date, dsc_municipio: string, dsc_secao: string, dsc_subclasse: string, dsc_saldo_movimentacao: string, dsc_cbo_ocupacao: string, vl_horas_contratuais: string, dsc_tipo_movimentacao: string, vl_salario: string, dsc_indicador_aprendiz: string, vl_salario_fixo: string, dsc_divisao: string, dsc_grupo: string, dsc_classe: string, dsc_grande_grupo: string, dsc_subgrupo_principal: string, dsc_subgrupo: string, dsc_demanda_formacao: string, dsc_industrial_uniepro: string, dt_atualizacao: timestamp]"
      ]
     },
     "execution_count": 3,
     "metadata": {},
     "output_type": "execute_result"
    }
   ],
   "source": [
    "extrator.carrega_dados_delta('flat_microdados_novo_caged')"
   ]
  },
  {
   "cell_type": "code",
   "execution_count": 4,
   "id": "4bd1dec9-aed4-40d4-9b13-a81c4bb03c2d",
   "metadata": {},
   "outputs": [
    {
     "name": "stderr",
     "output_type": "stream",
     "text": [
      "2024-10-18 06:58:40,468 - INFO - Aguarde... Configurando conexao banco de dados\n"
     ]
    }
   ],
   "source": [
    "extrator.conexao_banco_de_dados('sqlserver',os.getenv('DB_DESTINO_HOST'),os.getenv('DB_DESTINO_PORT'),os.getenv('DB_DESTINO_USER'),os.getenv('DB_DESTINO_PASSWORD'),os.getenv('DB_DESTINO_DATABASE'),os.getenv('DB_DESTINO_SCHEMA'))"
   ]
  },
  {
   "cell_type": "markdown",
   "id": "58393331-a6e2-4aca-a5bc-8088b12c26e1",
   "metadata": {},
   "source": [
    "# Gravação no banco de dados"
   ]
  },
  {
   "cell_type": "code",
   "execution_count": 5,
   "id": "cad47feb-9c38-42d8-83a8-ff3795ae5e7b",
   "metadata": {},
   "outputs": [
    {
     "name": "stderr",
     "output_type": "stream",
     "text": [
      "2024-10-18 06:58:40,473 - INFO - Aguarde... Persistindo os dados camada Consume\n",
      "2024-10-18 07:01:51,782 - INFO - Camada Consume persistida com sucesso\n",
      "2024-10-18 07:01:51,784 - INFO - dw.compliance_flat_microdados_novo_caged\n"
     ]
    }
   ],
   "source": [
    "extrator.persistencia_consume('compliance_flat_microdados_novo_caged')"
   ]
  },
  {
   "cell_type": "markdown",
   "id": "df321c17-8ee9-46dc-806b-2a2bcb2f6e07",
   "metadata": {},
   "source": [
    "# Encerra sessão spark"
   ]
  },
  {
   "cell_type": "code",
   "execution_count": 6,
   "id": "dd25077a-b942-4244-b8b5-54e14fe2ff97",
   "metadata": {},
   "outputs": [
    {
     "name": "stderr",
     "output_type": "stream",
     "text": [
      "2024-10-18 07:01:51,904 - INFO - Sessão Spark finalizada.\n"
     ]
    }
   ],
   "source": [
    "extrator.parar_sessao()"
   ]
  }
 ],
 "metadata": {
  "kernelspec": {
   "display_name": "Python 3 (ipykernel)",
   "language": "python",
   "name": "python3"
  },
  "language_info": {
   "codemirror_mode": {
    "name": "ipython",
    "version": 3
   },
   "file_extension": ".py",
   "mimetype": "text/x-python",
   "name": "python",
   "nbconvert_exporter": "python",
   "pygments_lexer": "ipython3",
   "version": "3.11.9"
  }
 },
 "nbformat": 4,
 "nbformat_minor": 5
}
